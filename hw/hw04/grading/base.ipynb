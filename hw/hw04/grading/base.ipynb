{
 "cells": [
  {
   "cell_type": "code",
   "execution_count": null,
   "metadata": {
    "collapsed": true
   },
   "outputs": [],
   "source": [
    "# SETUP\n",
    "\n",
    "import numpy as np\n",
    "from datascience import *\n",
    "from prob140 import *\n",
    "\n",
    "# These lines do some fancy plotting magic\n",
    "import matplotlib\n",
    "%matplotlib inline\n",
    "import matplotlib.pyplot as plt\n",
    "plt.style.use('fivethirtyeight')\n",
    "\n",
    "# These lines make warnings look nicer\n",
    "import warnings\n",
    "warnings.simplefilter('ignore', FutureWarning)\n",
    "\n",
    "# To save you a lot of time\n",
    "from scipy import stats\n",
    "from client.api.assignment import load_assignment\n",
    "autograder = load_assignment('main.ok')\n",
    "from client.api.assignment import load_assignment\n",
    "autograder = load_assignment('main.ok')"
   ]
  },
  {
   "cell_type": "markdown",
   "metadata": {},
   "source": [
    "# Homework 4 #\n",
    "\n",
    "A few notes:\n",
    "- Please do not delete cells or text in cells that contain questions as this could cause errors when you submit.\n",
    "- Please format your code so that it can be seen in the cell without having to use the scroll bar"
   ]
  },
  {
   "cell_type": "markdown",
   "metadata": {},
   "source": [
    "&zwnj;\n",
    "\n",
    "#QUESTION\n",
    "\n",
    "### 1. Repeated Suit ###\n",
    "A standard deck consists of 52 cards; there are 13 cards in each of four suits.\n",
    "\n",
    "I draw cards at random without replacement from a standard deck till I see a suit I have seen on an earlier draw. Let $X$ be the number of cards I deal.\n",
    "\n",
    "(a) Complete the code in the cell below to create an array `x` consisting of the possible values of $X$; an array `probs` consisting of the corresponding probabilities in the distribution of $X$; a number `exp_X` equal to $E(X)$; and a number `sd_X` equal to $SD(X)$."
   ]
  },
  {
   "cell_type": "code",
   "execution_count": null,
   "metadata": {
    "collapsed": true,
    "purpose": "solution"
   },
   "outputs": [],
   "source": [
    "\n",
    "x = np.arange(...)\n",
    "probs = make_array(...)\n",
    "exp_X = sum(... * ...)\n",
    "sd_X = (sum( ((...)**2) * ... ))**0.5\n",
    "exp_X, sd_X"
   ]
  },
  {
   "cell_type": "markdown",
   "metadata": {},
   "source": [
    "&zwnj;\n",
    "\n",
    "(b) Let $Y = 52 - X$. Find $E(Y)$ and $SD(Y)$."
   ]
  },
  {
   "cell_type": "code",
   "execution_count": null,
   "metadata": {
    "collapsed": true,
    "purpose": "solution"
   },
   "outputs": [],
   "source": [
    "\n",
    "exp_Y = ...\n",
    "sd_Y = ...\n",
    "exp_Y, sd_Y"
   ]
  },
  {
   "cell_type": "markdown",
   "metadata": {},
   "source": [
    "&zwnj;\n",
    "\n",
    "(c) Let $W = |X - 3|$. Find $E(W)$."
   ]
  },
  {
   "cell_type": "code",
   "execution_count": null,
   "metadata": {
    "collapsed": true,
    "purpose": "solution"
   },
   "outputs": [],
   "source": [
    "\n",
    "exp_W = ...(np.abs(...) * ...)\n",
    "exp_W"
   ]
  },
  {
   "cell_type": "markdown",
   "metadata": {},
   "source": [
    "&zwnj;\n",
    "\n",
    "(d) Let $M = \\max(X, 3)$. Find $E(M)$."
   ]
  },
  {
   "cell_type": "code",
   "execution_count": null,
   "metadata": {
    "collapsed": true,
    "purpose": "solution"
   },
   "outputs": [],
   "source": [
    "\n",
    "exp_M = ...\n",
    "exp_M"
   ]
  },
  {
   "cell_type": "markdown",
   "metadata": {},
   "source": [
    "&zwnj;\n",
    "\n",
    "#QUESTION\n",
    "\n",
    "### 2. Bounds ###\n",
    "A random variable $X$, not necessarily non-negative, has $E(X) = 20$ and $SD(X) = 4$. For the bounds below, use 0 and 1 only if you feel you can't do better than those.\n",
    "\n",
    "(a) Find upper and lower bounds for $P(0 < X < 40)$.\n"
   ]
  },
  {
   "cell_type": "markdown",
   "metadata": {
    "purpose": "solution"
   },
   "source": [
    "*Provide your answer and reasoning in this Markdown cell.*"
   ]
  },
  {
   "cell_type": "markdown",
   "metadata": {},
   "source": [
    "&zwnj;\n",
    "\n",
    "(b) Find upper and lower bounds for $P(10 < X < 40)$.\n",
    "\n"
   ]
  },
  {
   "cell_type": "markdown",
   "metadata": {
    "purpose": "solution"
   },
   "source": [
    "*Provide your answer and reasoning in this Markdown cell.*"
   ]
  },
  {
   "cell_type": "markdown",
   "metadata": {},
   "source": [
    "&zwnj;\n",
    "\n",
    "(c) Find a lower bound for $P(X \\ge 40)$.\n"
   ]
  },
  {
   "cell_type": "markdown",
   "metadata": {
    "purpose": "solution"
   },
   "source": [
    "*Provide your answer and reasoning in this Markdown cell.*"
   ]
  },
  {
   "cell_type": "markdown",
   "metadata": {},
   "source": [
    "&zwnj;\n",
    "\n",
    "(d) Find an upper bound for $P(X^2 \\ge 900)$."
   ]
  },
  {
   "cell_type": "markdown",
   "metadata": {
    "purpose": "solution"
   },
   "source": [
    "*Provide your answer and reasoning in this Markdown cell.*"
   ]
  },
  {
   "cell_type": "markdown",
   "metadata": {},
   "source": [
    "&zwnj;\n",
    "\n",
    "#QUESTION\n",
    "\n",
    "### 3. Aces and Face Cards ###\n",
    "A standard deck consists of 52 cards of which 4 are aces, 4 are kings, and 12 (including the four kings) are \"face cards\" (Jacks, Queens, and Kings)\n",
    "\n",
    "Cards are dealt at random without replacement from a standard deck till all the cards have been dealt. \n",
    "\n",
    "Find the expectation of the following. Each can be done with almost no calculation if you use symmetry. \n",
    "\n",
    "(a) the number of aces among the first 5 cards\n",
    "\n"
   ]
  },
  {
   "cell_type": "markdown",
   "metadata": {
    "purpose": "solution"
   },
   "source": [
    "*Provide your answer and reasoning in this Markdown cell.*"
   ]
  },
  {
   "cell_type": "markdown",
   "metadata": {},
   "source": [
    "&zwnj;\n",
    "\n",
    "(b) the number of face cards that *do not* appear among the first 13 cards\n",
    "\n"
   ]
  },
  {
   "cell_type": "markdown",
   "metadata": {
    "purpose": "solution"
   },
   "source": [
    "*Provide your answer and reasoning in this Markdown cell.*"
   ]
  },
  {
   "cell_type": "markdown",
   "metadata": {},
   "source": [
    "&zwnj;\n",
    "\n",
    "(c) the number of aces among the first 5 cards minus the number of kings among the first 5 cards\n",
    "\n"
   ]
  },
  {
   "cell_type": "markdown",
   "metadata": {
    "purpose": "solution"
   },
   "source": [
    "*Provide your answer and reasoning in this Markdown cell.*"
   ]
  },
  {
   "cell_type": "markdown",
   "metadata": {},
   "source": [
    "&zwnj;\n",
    "\n",
    "(d) the number of aces among the first 5 cards and the number of kings among the last 5 cards\n",
    "\n"
   ]
  },
  {
   "cell_type": "markdown",
   "metadata": {
    "purpose": "solution"
   },
   "source": [
    "*Provide your answer and reasoning in this Markdown cell.*"
   ]
  },
  {
   "cell_type": "markdown",
   "metadata": {},
   "source": [
    "&zwnj;\n",
    "\n",
    "(e) the number of cards before the first ace \n",
    "\n"
   ]
  },
  {
   "cell_type": "markdown",
   "metadata": {
    "purpose": "solution"
   },
   "source": [
    "*Provide your answer and reasoning in this Markdown cell.*"
   ]
  },
  {
   "cell_type": "markdown",
   "metadata": {},
   "source": [
    "&zwnj;\n",
    "\n",
    "(f) the number of cards strictly in between the first ace and the last ace\n",
    "\n"
   ]
  },
  {
   "cell_type": "markdown",
   "metadata": {
    "purpose": "solution"
   },
   "source": [
    "*Provide your answer and reasoning in this Markdown cell.*"
   ]
  },
  {
   "cell_type": "markdown",
   "metadata": {},
   "source": [
    "&zwnj;\n",
    "\n",
    "(g) the number of face cards before the first ace"
   ]
  },
  {
   "cell_type": "markdown",
   "metadata": {
    "purpose": "solution"
   },
   "source": [
    "*Provide your answer and reasoning in this Markdown cell.*"
   ]
  },
  {
   "cell_type": "markdown",
   "metadata": {},
   "source": [
    "&zwnj;\n",
    "\n",
    "#QUESTION\n",
    "\n",
    "### 4. Geometric Distribution ###\n",
    "Consider an infinite sequence of i.i.d. Bernoulli $(p)$ trials, where $0 < p < 1$. To fix ideas, imagine rolling a die over and over again and keeping track of whether or not you see the face with six spots; but solve the problem for a general $p$.\n",
    "\n",
    "Let $T$ be the index of the first trial that results in a success. Then the possible values of $T$ are $1, 2, 3, \\ldots $. In the case of rolling a die till you see a six, if the rolls come out 23346 then the value of $T$ is 5.\n",
    "\n",
    "(a) Find the distribution of $T$. For reasons that will be clear when you look at the probabilities, this is called the *geometric distribution with parameter $p$ on $\\{1, 2, 3, \\ldots \\}$*.\n",
    "\n",
    "\n"
   ]
  },
  {
   "cell_type": "markdown",
   "metadata": {
    "purpose": "solution"
   },
   "source": [
    "*Provide your answer and reasoning in this Markdown cell.*"
   ]
  },
  {
   "cell_type": "markdown",
   "metadata": {},
   "source": [
    "&zwnj;\n",
    "\n",
    "(b) For a positive integer $k$, let $N_k$ be the number of successes in trials 1 through $k$. Fill in the blanks in the equation below, by replacing the $ \\underline{ ~~~~~~~~~~~~~ }$ in the LaTex with a number. \n",
    "\n",
    "$$\n",
    "P(T > k) = P(N_k = \\underline{ ~~~~~~~~~~~~~ })\n",
    "$$\n",
    "\n"
   ]
  },
  {
   "cell_type": "markdown",
   "metadata": {
    "purpose": "solution"
   },
   "source": [
    "*Provide your answer and reasoning in this Markdown cell.*"
   ]
  },
  {
   "cell_type": "markdown",
   "metadata": {},
   "source": [
    "&zwnj;\n",
    "\n",
    "(c) Use (b) to find $P(T > k)$ with no calculation (without summing terms).\n"
   ]
  },
  {
   "cell_type": "markdown",
   "metadata": {
    "purpose": "solution"
   },
   "source": [
    "*Provide your answer and reasoning in this Markdown cell.*"
   ]
  },
  {
   "cell_type": "markdown",
   "metadata": {},
   "source": [
    "&zwnj;\n",
    "\n",
    "(d) Use (c) and what you discovered in Lab 4 to show that $E(T) = 1/p$."
   ]
  },
  {
   "cell_type": "markdown",
   "metadata": {
    "purpose": "solution"
   },
   "source": [
    "*Provide your answer and reasoning in this Markdown cell.*"
   ]
  },
  {
   "cell_type": "markdown",
   "metadata": {},
   "source": [
    "&zwnj;\n",
    "\n",
    "#QUESTION\n",
    "\n",
    "### 5. Collecting Distinct Values ###\n",
    "This problem is a workout in finding expectations by using all the tools at your disposal. Some of them have been developed in this Homework. If an answer doesn't appear to fit into a formula that has already been proved, it's a very good idea to try to write the variable as a sum of simpler variables.\n",
    "\n",
    "(a) A die is rolled $n$ times. Find the expected number of times the face with six spots appears.\n",
    "\n"
   ]
  },
  {
   "cell_type": "markdown",
   "metadata": {
    "purpose": "solution"
   },
   "source": [
    "*Provide your answer and reasoning in this Markdown cell.*"
   ]
  },
  {
   "cell_type": "markdown",
   "metadata": {},
   "source": [
    "&zwnj;\n",
    "\n",
    "(b) A die is rolled $n$ times. Find the expected number of faces that *do not* appear, and say what happens to this expectation as $n$ increases.\n",
    "\n",
    "\n"
   ]
  },
  {
   "cell_type": "markdown",
   "metadata": {
    "purpose": "solution"
   },
   "source": [
    "*Provide your answer and reasoning in this Markdown cell.*"
   ]
  },
  {
   "cell_type": "markdown",
   "metadata": {},
   "source": [
    "&zwnj;\n",
    "\n",
    "\n",
    "(c) Use your answer to (b) to find the expected number of distinct faces that *do* appear in $n$ rolls of a die.\n",
    "\n"
   ]
  },
  {
   "cell_type": "markdown",
   "metadata": {
    "purpose": "solution"
   },
   "source": [
    "*Provide your answer and reasoning in this Markdown cell.*"
   ]
  },
  {
   "cell_type": "markdown",
   "metadata": {},
   "source": [
    "&zwnj;\n",
    "\n",
    "(d) Find the expected number of times you have to roll a die till you have seen all of the faces."
   ]
  },
  {
   "cell_type": "markdown",
   "metadata": {
    "purpose": "solution"
   },
   "source": [
    "*Provide your answer and reasoning in this Markdown cell.*"
   ]
  },
  {
   "cell_type": "markdown",
   "metadata": {},
   "source": [
    "&zwnj;\n",
    "\n",
    "#QUESTION\n",
    "\n",
    "### 6. Number of Matches ###\n",
    "In the familiar setting of the matching problems, there are $n$ letters labeled 1 through $n$ and $n$ envelopes labeled 1 through $n$. The letters are distributed at random into the envelopes, one letter per envelope, such that all $n!$ permutations are equally likely.\n",
    "\n",
    "Let $M$ be the number of letters that fall into envelopes with the corresponding label. That is, $M$ is the number of \"matches\" or fixed points of the permutation.\n",
    "\n",
    "(a) Fill in the blank:\n",
    "\n",
    "$$M = I_1 + I_2 + \\ldots + I_n$$ \n",
    "\n",
    "where for each $j$ in the range 1 through $n$, $I_j = 1$ if $\\underline{~~~~~~~~~~~~~~~~~~~~~~~~~~~~~~~~~~~~~~~~~~~~~~~~~~~~~~~~~~~~~~~~~~}$, and $I_j = 0$ otherwise.\n",
    "\n",
    "\n",
    "\n"
   ]
  },
  {
   "cell_type": "markdown",
   "metadata": {
    "purpose": "solution"
   },
   "source": [
    "*Provide your answer and reasoning in this Markdown cell.*"
   ]
  },
  {
   "cell_type": "markdown",
   "metadata": {},
   "source": [
    "&zwnj;\n",
    "\n",
    "(b) Use (a) to find the numerical value of $E(M)$.\n",
    "\n"
   ]
  },
  {
   "cell_type": "markdown",
   "metadata": {
    "purpose": "solution"
   },
   "source": [
    "*Provide your answer and reasoning in this Markdown cell.*"
   ]
  },
  {
   "cell_type": "markdown",
   "metadata": {},
   "source": [
    "&zwnj;\n",
    "\n",
    "(c) Let $I$ be the indicator of an event $A$. Show that $I^2 = I$ and hence $E(I^2) = P(A)$.\n",
    "\n"
   ]
  },
  {
   "cell_type": "markdown",
   "metadata": {
    "purpose": "solution"
   },
   "source": [
    "*Provide your answer and reasoning in this Markdown cell.*"
   ]
  },
  {
   "cell_type": "markdown",
   "metadata": {},
   "source": [
    "&zwnj;\n",
    "\n",
    "(d) For any two events $A$ and $B$, let $I_A$ be the indicator of $A$ and $I_B$ the indicator of $B$. Then the product of the two indicators is $I_AI_B$. For which event $C$ is $I_AI_B = I_C$ and hence $E(I_AI_B) = P(C)$?\n",
    "\n"
   ]
  },
  {
   "cell_type": "markdown",
   "metadata": {
    "purpose": "solution"
   },
   "source": [
    "*Provide your answer and reasoning in this Markdown cell.*"
   ]
  },
  {
   "cell_type": "markdown",
   "metadata": {},
   "source": [
    "&zwnj;\n",
    "\n",
    "(e) Back to $M$, the number of matches. Use the fact that\n",
    "\n",
    "$$\n",
    "M^2 = \\sum_{j=1}^n I_j^2 + \\mathop{\\sum \\sum}_{1 \\le j \\ne k \\le n} I_jI_k\n",
    "$$\n",
    "to find $E(M^2)$ and hence $SD(M)$.\n",
    "\n"
   ]
  },
  {
   "cell_type": "markdown",
   "metadata": {
    "purpose": "solution"
   },
   "source": [
    "*Provide your answer and reasoning in this Markdown cell.*"
   ]
  },
  {
   "cell_type": "markdown",
   "metadata": {},
   "source": [
    "&zwnj;\n",
    "\n",
    "(f) In Lab 2 you found the limit distribution of $M$. Are your answers to (b) and (d) consistent with the limit?"
   ]
  },
  {
   "cell_type": "markdown",
   "metadata": {
    "purpose": "solution"
   },
   "source": [
    "*Provide your answer and reasoning in this Markdown cell.*"
   ]
  },
  {
   "cell_type": "code",
   "execution_count": null,
   "metadata": {
    "collapsed": false
   },
   "outputs": [],
   "source": [
    "_ = autograder.grade('q1')"
   ]
  },
  {
   "cell_type": "markdown",
   "metadata": {},
   "source": [
    "# Save before exporting!"
   ]
  },
  {
   "cell_type": "code",
   "execution_count": null,
   "metadata": {
    "collapsed": false
   },
   "outputs": [],
   "source": [
    "# For your convenience, you can run this cell to run all the tests at once!\n",
    "import os\n",
    "_ = [autograder.grade(q[:-3]) for q in os.listdir(\"tests\") if q.startswith('q')]"
   ]
  },
  {
   "cell_type": "code",
   "execution_count": null,
   "metadata": {
    "collapsed": true
   },
   "outputs": [],
   "source": [
    "import gsExport\n",
    "gsExport.generateSubmission()"
   ]
  }
 ],
 "metadata": {
  "anaconda-cloud": {},
  "kernelspec": {
   "display_name": "Python 3",
   "language": "python",
   "name": "python3"
  },
  "language_info": {
   "codemirror_mode": {
    "name": "ipython",
    "version": 3
   },
   "file_extension": ".py",
   "mimetype": "text/x-python",
   "name": "python",
   "nbconvert_exporter": "python",
   "pygments_lexer": "ipython3",
   "version": "3.5.2"
  }
 },
 "nbformat": 4,
 "nbformat_minor": 0
}

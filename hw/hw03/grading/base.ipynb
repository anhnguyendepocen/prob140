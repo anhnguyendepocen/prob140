{
 "cells": [
  {
   "cell_type": "code",
   "execution_count": 1,
   "metadata": {
    "collapsed": false,
    "specialcell_type": "setup"
   },
   "outputs": [],
   "source": [
    "# SETUP\n",
    "\n",
    "import numpy as np\n",
    "from datascience import *\n",
    "from prob140 import *\n",
    "\n",
    "# These lines do some fancy plotting magic\n",
    "import matplotlib\n",
    "%matplotlib inline\n",
    "import matplotlib.pyplot as plt\n",
    "plt.style.use('fivethirtyeight')\n",
    "\n",
    "# These lines make warnings look nicer\n",
    "import warnings\n",
    "warnings.simplefilter('ignore', FutureWarning)\n",
    "\n",
    "# To save you a lot of time\n",
    "from scipy import stats\n",
    "from client.api.assignment import load_assignment\n",
    "autograder = load_assignment('main.ok')\n",
    "from client.api.assignment import load_assignment\n",
    "autograder = load_assignment('main.ok')"
   ]
  },
  {
   "cell_type": "markdown",
   "metadata": {},
   "source": [
    "# Homework 3\n",
    "\n",
    "You are now used to doing homework in Prob140 notebooks, so we won't trouble you with a long list of information you already know. We also haven't put Markdown and Code labels on each answer cell; by now you can tell which is which. But please note:\n",
    "\n",
    "- Run all answer cells before you submit.\n",
    "- Submission instructions are included at the end of the Homework.\n",
    "- Reasoning and explanations don't have to be long. Often, calculations will suffice as reasoning, but if you've done any mental calculation please make sure you write it down as part of your reasoning.\n",
    "\n",
    "Not all the questions will take the same amount of time. Some are very short. Some will take longer. You will be writing all the code yourself. If you have trouble, please go through the Course Notes to find models you can follow.\n",
    "\n",
    "Useful Links:\n",
    "\n",
    "- [LaTeX tutorial](http://prob140.org/latex/)\n",
    "- [Prob140 documentation](http://probability.gitlab.io/prob140/html/)"
   ]
  },
  {
   "cell_type": "markdown",
   "metadata": {},
   "source": [
    "**Caution: Please do not delete cells or text in cells that contain questions as this could cause errors when you submit.**"
   ]
  },
  {
   "cell_type": "markdown",
   "metadata": {},
   "source": [
    "&zwnj;\n",
    "\n",
    "#QUESTION\n",
    "\n",
    "## 1. Categories in a Sample ###\n",
    "In a population, 30% of the individuals are red, 50% are green, and 20% are blue. I draw a random sample of size 20 with replacement from this population. Let $N_r$ be the number of red individuals drawn, $N_g$ the number green, and $N_b$ the number blue, so that $N_r + N_g + N_b = 20$.\n",
    "\n",
    "In parts (a)-(d) provide the name of the distribution as well as all the numerical parameters. In part (e), write code so that the last line evaluates to the answer."
   ]
  },
  {
   "cell_type": "markdown",
   "metadata": {},
   "source": [
    "&zwnj;\n",
    "\n",
    "### 1a) \n",
    "What is the distribution of $N_r$?"
   ]
  },
  {
   "cell_type": "markdown",
   "metadata": {
    "purpose": "solution"
   },
   "source": [
    "*Provide your answer and reasoning in this Markdown cell.*"
   ]
  },
  {
   "cell_type": "markdown",
   "metadata": {},
   "source": [
    "&zwnj;\n",
    "\n",
    "### 1b) \n",
    "What is the distribution of $N_r + N_g$?"
   ]
  },
  {
   "cell_type": "markdown",
   "metadata": {
    "purpose": "solution"
   },
   "source": [
    "*Provide your answer and reasoning in this Markdown cell.*"
   ]
  },
  {
   "cell_type": "markdown",
   "metadata": {},
   "source": [
    "&zwnj;\n",
    "\n",
    "### 1c) \n",
    "What is the joint distribution of $N_r$, $N_g$, and $N_b$?"
   ]
  },
  {
   "cell_type": "markdown",
   "metadata": {
    "purpose": "solution"
   },
   "source": [
    "*Provide your answer and reasoning in this Markdown cell.*"
   ]
  },
  {
   "cell_type": "markdown",
   "metadata": {},
   "source": [
    "&zwnj;\n",
    "\n",
    "### 1d) \n",
    "What is the conditional distribution of $N_r$ given $N_r + N_g = 15$? "
   ]
  },
  {
   "cell_type": "markdown",
   "metadata": {
    "purpose": "solution"
   },
   "source": [
    "*Provide your answer and reasoning in this Markdown cell.*"
   ]
  },
  {
   "cell_type": "markdown",
   "metadata": {},
   "source": [
    "&zwnj;\n",
    "\n",
    "### 1e) \n",
    "Find a numerical value for $P(N_r = 4, N_g = 11)$."
   ]
  },
  {
   "cell_type": "code",
   "execution_count": 42,
   "metadata": {
    "collapsed": true,
    "purpose": "solution"
   },
   "outputs": [],
   "source": [
    "..."
   ]
  },
  {
   "cell_type": "markdown",
   "metadata": {},
   "source": [
    "&zwnj;\n",
    "\n",
    "#QUESTION\n",
    "\n",
    "## 2. Classification ###\n",
    "In a population of four classes of individuals, the proportion of individuals of Class $i$ is $p_i$ for $i = 1, 2, 3, 4$. Suppose you sample independently from this population, and suppose the sample size is a Poisson random variable with parameter $n$ for a fixed positive integer $n$. "
   ]
  },
  {
   "cell_type": "markdown",
   "metadata": {},
   "source": [
    "&zwnj;\n",
    "\n",
    "### 2a) \n",
    "What is the probability that the sample contains at least one individual from each class?"
   ]
  },
  {
   "cell_type": "markdown",
   "metadata": {
    "purpose": "solution"
   },
   "source": [
    "*Provide your answer and reasoning in this Markdown cell.*"
   ]
  },
  {
   "cell_type": "markdown",
   "metadata": {},
   "source": [
    "&zwnj;\n",
    "\n",
    "### 2b) \n",
    "Let $p_i = i/10$ for $i = 1, 2, 3, 4$. Plot a graph of your answer as a function of $n$ for $n$ in the range 1 through 60. For an example of a calculation of probabilities accompanied by such a graph, see Course Notes Section 1.4."
   ]
  },
  {
   "cell_type": "code",
   "execution_count": 44,
   "metadata": {
    "collapsed": false,
    "purpose": "solution"
   },
   "outputs": [],
   "source": [
    "..."
   ]
  },
  {
   "cell_type": "markdown",
   "metadata": {},
   "source": [
    "&zwnj;\n",
    "\n",
    "### 2c) \n",
    "Still assuming $p_i = i/10$ for $i = 1, 2, 3, 4$, find a decimal value for the chance that in 50 trials you get at least two of each kind of individual."
   ]
  },
  {
   "cell_type": "code",
   "execution_count": 46,
   "metadata": {
    "collapsed": true,
    "purpose": "solution"
   },
   "outputs": [],
   "source": [
    "..."
   ]
  },
  {
   "cell_type": "markdown",
   "metadata": {},
   "source": [
    "&zwnj;\n",
    "\n",
    "#QUESTION\n",
    "\n",
    "## 3. Gold or Silver ##\n",
    "There are three boxes. Box I contains two gold coins, Box II contains a gold and a silver coin, and Box III contains two silver coins. A box is picked at random and then a coin is picked at random from that box. "
   ]
  },
  {
   "cell_type": "markdown",
   "metadata": {},
   "source": [
    "&zwnj;\n",
    "\n",
    "### 3a) \n",
    "What is the prior distribution of the three boxes?"
   ]
  },
  {
   "cell_type": "markdown",
   "metadata": {
    "purpose": "solution"
   },
   "source": [
    "*Provide your answer and reasoning in this Markdown cell.*"
   ]
  },
  {
   "cell_type": "markdown",
   "metadata": {},
   "source": [
    "&zwnj;\n",
    "\n",
    "### 3b) \n",
    "What is the posterior distribution of the three boxes given that the coin picked is gold?"
   ]
  },
  {
   "cell_type": "markdown",
   "metadata": {
    "purpose": "solution"
   },
   "source": [
    "*Provide your answer and reasoning in this Markdown cell.*"
   ]
  },
  {
   "cell_type": "markdown",
   "metadata": {},
   "source": [
    "&zwnj;\n",
    "\n",
    "#QUESTION\n",
    "\n",
    "## 4. Two Independent Sets of Bernoulli Trials ##\n",
    "Let $X$ be the number of successes in $n$ i.i.d. Bernoulli $(p_n)$ trials,\n",
    "and let $Y$ be the number of successes in $m$ i.i.d. Bernoulli $(p_m)$ trials that are independent of the trials that generate $X$. Assume $0 < p_n, p_m < 1$ and $p_n \\ne p_m$.\n",
    "\n",
    "Let $S = X+Y$. \n",
    "\n",
    "We will confirm next week that $S$ is *not* binomial; you can try to establish that directly in the simple case $n=m=1$ but you don't have to turn that in."
   ]
  },
  {
   "cell_type": "markdown",
   "metadata": {},
   "source": [
    "&zwnj;\n",
    "\n",
    "### Q4 \n",
    "Explain why the distribution of $S$ is approximately Poisson if $n$ and $m$ are large and $p_n$ and $p_m$ are small, and provide the parameter of the Poisson."
   ]
  },
  {
   "cell_type": "markdown",
   "metadata": {
    "purpose": "solution"
   },
   "source": [
    "*Provide your answer and reasoning in this Markdown cell.*"
   ]
  },
  {
   "cell_type": "markdown",
   "metadata": {},
   "source": [
    "&zwnj;\n",
    "\n",
    "#QUESTION\n",
    "\n",
    "## 5. Treatment and Control ##\n",
    "\n",
    "Eighteen men and 12 women have agreed to participate in a randomized controlled experiment. A simple random sample of 15 of these 30 people is chosen as the treatment group; the others form the control group."
   ]
  },
  {
   "cell_type": "markdown",
   "metadata": {},
   "source": [
    "&zwnj;\n",
    "\n",
    "### 5a) \n",
    "Find a decimal value for the chance that the treatment group contains more women than men."
   ]
  },
  {
   "cell_type": "code",
   "execution_count": 48,
   "metadata": {
    "collapsed": true,
    "purpose": "solution"
   },
   "outputs": [],
   "source": [
    "..."
   ]
  },
  {
   "cell_type": "markdown",
   "metadata": {},
   "source": [
    "&zwnj;\n",
    "\n",
    "### 5b) \n",
    "Find the chance that all the women are in the same group."
   ]
  },
  {
   "cell_type": "code",
   "execution_count": 50,
   "metadata": {
    "collapsed": true,
    "purpose": "solution"
   },
   "outputs": [],
   "source": [
    "..."
   ]
  },
  {
   "cell_type": "markdown",
   "metadata": {},
   "source": [
    "&zwnj;\n",
    "\n",
    "#QUESTION\n",
    "\n",
    "## 6. Exchangeable Spacings ##\n",
    "I have 10 cards, 4 of which are golden and 6 silver. I am going to draw the 10 cards one by one at random without replacement.\n",
    "\n",
    "Let $S_1$ be the number of silver cards drawn before the first golden card appears. Let $S_2$ be the number of silver cards drawn between the first and second golden cards. For example, if the sequence of draws were \"silver, silver, gold, silver, silver, silver, gold, ...\" then $S_1$ would be 2 and $S_2$ would be 3. If the sequence started \"gold, gold, ...\" then $S_1$ and $S_2$ would both be 0."
   ]
  },
  {
   "cell_type": "markdown",
   "metadata": {},
   "source": [
    "&zwnj;\n",
    "\n",
    "### 6a) \n",
    "Display a joint distribution table for $S_1$ and $S_2$. This will take several lines of code as you will have to start by defining a function to compute the joint probabilities and then proceed towards `toJoint()` and the display."
   ]
  },
  {
   "cell_type": "code",
   "execution_count": 52,
   "metadata": {
    "collapsed": true,
    "purpose": "solution"
   },
   "outputs": [],
   "source": [
    "..."
   ]
  },
  {
   "cell_type": "markdown",
   "metadata": {},
   "source": [
    "&zwnj;\n",
    "\n",
    "### 6b) \n",
    "For any $n$ and $m$, what does your table say about the relation between $P(S_1 = n, S_2 = m)$ and $P(S_1 = m, S_2 = n)$?"
   ]
  },
  {
   "cell_type": "markdown",
   "metadata": {
    "purpose": "solution"
   },
   "source": [
    "*Provide your answer and reasoning in this Markdown cell.*"
   ]
  },
  {
   "cell_type": "markdown",
   "metadata": {},
   "source": [
    "&zwnj;\n",
    "\n",
    "### 6c) \n",
    "Based on your answer to 6b, what can you say about the marginals of $S_1$ and $S_2$? Enter your answer by completing the comment in the cell below, and then confirm the comment by computing the marginals in the same cell."
   ]
  },
  {
   "cell_type": "code",
   "execution_count": 40,
   "metadata": {
    "collapsed": false,
    "purpose": "solution"
   },
   "outputs": [],
   "source": [
    "\"\"\"\n",
    "The marginals of S_1 and S_2 are ...\n",
    "\n",
    "\"\"\"\n",
    "# Now write the code to display the marginals.\n",
    "..."
   ]
  },
  {
   "cell_type": "markdown",
   "metadata": {},
   "source": [
    "Another free doctest!"
   ]
  },
  {
   "cell_type": "code",
   "execution_count": 16,
   "metadata": {
    "collapsed": false
   },
   "outputs": [],
   "source": [
    "_ = autograder.grade('q1')"
   ]
  },
  {
   "cell_type": "markdown",
   "metadata": {},
   "source": [
    "**Make sure you save the homework before exporting**"
   ]
  },
  {
   "cell_type": "code",
   "execution_count": null,
   "metadata": {
    "collapsed": false
   },
   "outputs": [],
   "source": [
    "# For your convenience, you can run this cell to run all the tests at once!\n",
    "import os\n",
    "_ = [autograder.grade(q[:-3]) for q in os.listdir(\"tests\") if q.startswith('q')]"
   ]
  },
  {
   "cell_type": "code",
   "execution_count": null,
   "metadata": {
    "collapsed": true
   },
   "outputs": [],
   "source": [
    "import gsExport\n",
    "gsExport.generateSubmission()"
   ]
  }
 ],
 "metadata": {
  "anaconda-cloud": {},
  "kernelspec": {
   "display_name": "Python 3",
   "language": "python",
   "name": "python3"
  },
  "language_info": {
   "codemirror_mode": {
    "name": "ipython",
    "version": 3
   },
   "file_extension": ".py",
   "mimetype": "text/x-python",
   "name": "python",
   "nbconvert_exporter": "python",
   "pygments_lexer": "ipython3",
   "version": "3.5.2"
  }
 },
 "nbformat": 4,
 "nbformat_minor": 0
}

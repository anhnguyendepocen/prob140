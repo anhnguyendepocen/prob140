{
 "cells": [
  {
   "cell_type": "code",
   "execution_count": null,
   "metadata": {
    "collapsed": false,
    "specialcell_type": "setup"
   },
   "outputs": [],
   "source": [
    "# SETUP\n",
    "\n",
    "import numpy as np\n",
    "from datascience import *\n",
    "from prob140 import *\n",
    "\n",
    "from scipy.special import comb,perm # Combinations and Permutations\n",
    "\n",
    "# These lines do some fancy plotting magic\n",
    "import matplotlib\n",
    "%matplotlib inline\n",
    "import matplotlib.pyplot as plt\n",
    "plt.style.use('fivethirtyeight')\n",
    "\n",
    "# These lines make warnings look nicer\n",
    "import warnings\n",
    "warnings.simplefilter('ignore', FutureWarning)\n",
    "from client.api.assignment import load_assignment\n",
    "autograder = load_assignment('main.ok')\n",
    "from client.api.assignment import load_assignment\n",
    "autograder = load_assignment('main.ok')"
   ]
  },
  {
   "cell_type": "markdown",
   "metadata": {},
   "source": [
    "# Homework 1 \n",
    "\n",
    "Welcome to homework in Prob140! We are looking forward to reading your answers. As this is the first Homework, here are some logistical details.\n",
    "- Each part of each question is followed by an answer cell in which you will enter your answer. \n",
    "- Run all answer cells before you submit.\n",
    "- Submission instructions are included at the end of the Homework.\n",
    "- Some answer cells are Code cells and others are Markdown. In this Homework each cell has a label saying what kind of cell it is. But soon you will be able to tell from looking at the cell or the menubar, and you won't need the label.\n",
    "- Markdown cells are for text and LaTex. Fancy formatting isn't required. Just make sure your answer is comprehensible. We've given you some examples in 1a.\n",
    "- Reasoning and explanations don't have to be long. Often, calculations will suffice as reasoning, but if you've done any mental calculation please make sure you write it down as part of your reasoning.\n",
    "\n",
    "**Suggestion about using LaTex:**\n",
    "For problems that don't involved code, we advise you to do them with paper-and-pencil first, confirm that you've done them correctly, and then do the LaTex."
   ]
  },
  {
   "cell_type": "markdown",
   "metadata": {},
   "source": [
    "## 1. Warmup\n",
    "\n",
    "We've done the first part for you."
   ]
  },
  {
   "cell_type": "markdown",
   "metadata": {},
   "source": [
    "### 1a) \n",
    "An $n$-sided die has one blue face. The die is rolled twice. What is the chance that the blue face appears both times?"
   ]
  },
  {
   "cell_type": "markdown",
   "metadata": {},
   "source": [
    "*Provide your answer and reasoning in this Markdown cell.*\n",
    "\n",
    "(1/n)^2 is a fine answer, though it looks nicer when you use the math delimiters: $(1/n)^2$\n",
    "\n",
    "You could also try these (each squiggle creates a space):\n",
    "$$\n",
    "\\frac{1}{n} \\cdot \\frac{1}{n}\n",
    "~~~~ \\text{or} ~~~~\n",
    "\\frac{1}{n} \\times \\frac{1}{n}\n",
    "~~~~ \\text{or} ~~~~\n",
    "(\\frac{1}{n})^2\n",
    "$$\n",
    "\n",
    "If you want to get fancy you can go with\n",
    "$$\n",
    "\\big{(} \\frac{1}{n} \\big{)}^2\n",
    "$$\n",
    "\n",
    "\n",
    "You can also create delimiters that automatically scale to the size of the text like this\n",
    "$$\n",
    "\\left( \\frac{1}{n} \\right) ^2\n",
    "$$"
   ]
  },
  {
   "cell_type": "markdown",
   "metadata": {},
   "source": [
    "&zwnj;\n",
    "\n",
    "### 1b)\n",
    "A standard deck consists of 13 cards in each of four suits. A poker hand of five cards is dealt at random without replacement. Consider the two events $A$ and $B$ defined as follows:\n",
    "\n",
    "$A$: all five cards are hearts\n",
    "\n",
    "$B$: all five cards are of the same suit\n",
    "\n",
    "Find $P(A)$ and $P(B)$."
   ]
  },
  {
   "cell_type": "markdown",
   "metadata": {},
   "source": [
    "1b i) Write a Python expression for P(A) and evaluate it.\n"
   ]
  },
  {
   "cell_type": "code",
   "execution_count": 4,
   "metadata": {
    "collapsed": false,
    "purpose": "solution"
   },
   "outputs": [],
   "source": [
    "PA = ...\n",
    "PA"
   ]
  },
  {
   "cell_type": "markdown",
   "metadata": {},
   "source": [
    "1b ii) Write a Python expression for P(B) and evaluate it"
   ]
  },
  {
   "cell_type": "code",
   "execution_count": 2,
   "metadata": {
    "collapsed": false,
    "purpose": "solution"
   },
   "outputs": [],
   "source": [
    "PB = ...\n",
    "PB"
   ]
  },
  {
   "cell_type": "markdown",
   "metadata": {},
   "source": [
    "&zwnj;\n",
    "\n",
    "### 1c) \n",
    "A bag contains $m$ M&M's, of which $g$ are green, $r$ red, and $b$ brown. There are no other colors, so $m = g+r+b$. I pick three M&M's at random without replacement. Find the chance that I get all three colors."
   ]
  },
  {
   "cell_type": "markdown",
   "metadata": {
    "purpose": "solution"
   },
   "source": [
    "*Provide your answer and reasoning in this Markdown cell.*"
   ]
  },
  {
   "cell_type": "markdown",
   "metadata": {},
   "source": [
    "&zwnj;\n",
    "\n",
    "### 1d)\n",
    "A procedure for estimating a parameter is based on random sampling and has a 95% chance of producing a good estimate. Suppose I run this procedure $n$ times such that the results of all the different runs have no effect on each other. What is the chance that at least one of the $n$ estimates is **not** good?"
   ]
  },
  {
   "cell_type": "markdown",
   "metadata": {
    "purpose": "solution"
   },
   "source": [
    "*Provide your answer and reasoning in this Markdown cell.*"
   ]
  },
  {
   "cell_type": "markdown",
   "metadata": {},
   "source": [
    "## Question 2: Bootstrap Samples"
   ]
  },
  {
   "cell_type": "markdown",
   "metadata": {},
   "source": [
    "A sample consists of $n$ people. As you know from Data 8, a bootstrap sample consists of $n$ people drawn at random with replacement from the original sample."
   ]
  },
  {
   "cell_type": "markdown",
   "metadata": {},
   "source": [
    "&zwnj;\n",
    "### 2a) \n",
    "Find the chance that the bootstrap sample is exactly the same as the original sample."
   ]
  },
  {
   "cell_type": "markdown",
   "metadata": {
    "purpose": "solution"
   },
   "source": [
    "*Provide your answer and reasoning in this Markdown cell.*"
   ]
  },
  {
   "cell_type": "markdown",
   "metadata": {},
   "source": [
    "&zwnj;\n",
    "\n",
    "### 2b)\n",
    "\n",
    "There is one Prob140 student in the original sample. Find the chance that the student is not selected in the bootstrap sample."
   ]
  },
  {
   "cell_type": "markdown",
   "metadata": {
    "collapsed": true,
    "purpose": "solution"
   },
   "source": [
    "*Provide your answer and reasoning in this Markdown cell.*"
   ]
  },
  {
   "cell_type": "markdown",
   "metadata": {},
   "source": [
    "&zwnj;\n",
    "\n",
    "### 2c)\n",
    "Assume that $n$ is large, and find an exponential approximation to the answer in 2b)."
   ]
  },
  {
   "cell_type": "markdown",
   "metadata": {
    "collapsed": false,
    "purpose": "solution"
   },
   "source": [
    "*Provide your answer and reasoning in this Markdown cell.*"
   ]
  },
  {
   "cell_type": "markdown",
   "metadata": {},
   "source": [
    "## Question 3: Cards From A Deck\n",
    "\n",
    "A standard deck consists of 52 cards, of which 26 are red and 26 black. The black cards consist of 13 clubs and 13 spades. The red cards consist of 13 diamonds and 13 hearts. \n",
    "\n",
    "Two cards are dealt at random without replacement."
   ]
  },
  {
   "cell_type": "markdown",
   "metadata": {},
   "source": [
    "&zwnj;\n",
    "\n",
    "### 3a)\n",
    "Find the chance that the second card is black."
   ]
  },
  {
   "cell_type": "code",
   "execution_count": null,
   "metadata": {
    "collapsed": true,
    "purpose": "solution"
   },
   "outputs": [],
   "source": [
    "\n",
    "p_2black = ...\n",
    "p_2black"
   ]
  },
  {
   "cell_type": "markdown",
   "metadata": {},
   "source": [
    "&zwnj;\n",
    "\n",
    "### 3b)\n",
    "\n",
    "Find the chance that the second card is red given that the first card is black."
   ]
  },
  {
   "cell_type": "code",
   "execution_count": 1,
   "metadata": {
    "collapsed": false,
    "purpose": "solution"
   },
   "outputs": [],
   "source": [
    "\n",
    "p_2red_given_1black = ...\n",
    "p_2red_given_1black"
   ]
  },
  {
   "cell_type": "markdown",
   "metadata": {},
   "source": [
    "&zwnj;\n",
    "\n",
    "### 3c)\n",
    "\n",
    "Find the chance that the first card is red given that the second card is black."
   ]
  },
  {
   "cell_type": "code",
   "execution_count": 3,
   "metadata": {
    "collapsed": false,
    "purpose": "solution"
   },
   "outputs": [],
   "source": [
    "\n",
    "p_1red_given_2black = ...\n",
    "p_1red_given_2black"
   ]
  },
  {
   "cell_type": "markdown",
   "metadata": {},
   "source": [
    "### 3d)\n",
    "\n",
    "Find the chance that the first card is a club given that the second card is black. "
   ]
  },
  {
   "cell_type": "code",
   "execution_count": 5,
   "metadata": {
    "collapsed": false,
    "purpose": "solution"
   },
   "outputs": [],
   "source": [
    "\n",
    "p_1club_given_2black = ...\n",
    "p_1club_given_2black"
   ]
  },
  {
   "cell_type": "markdown",
   "metadata": {},
   "source": [
    "### 3e)\n",
    "\n",
    "Explain why the answer in 3d is **slightly less** than 25%."
   ]
  },
  {
   "cell_type": "markdown",
   "metadata": {
    "purpose": "solution"
   },
   "source": [
    "*Provide your answer and reasoning in this Markdown cell.*"
   ]
  },
  {
   "cell_type": "markdown",
   "metadata": {},
   "source": [
    "## Question 4: Same, Same, or Different\n",
    "\n",
    "A die is rolled twice. \n",
    "\n",
    "- $X$ is the first number rolled and $Y$ is the second.\n",
    "- $S = X+Y$\n",
    "- $M = \\max(X, Y)$ and $N = \\min(X, Y)$\n",
    "- $T = M + N$\n",
    "\n",
    "Each of parts (a)-(c) is about a pair of variables. In each part, describe the relation between the pair by picking the correct option from among (i), (ii), and (iii), and explain your choice.\n",
    "\n",
    "(i) equal\n",
    "\n",
    "(ii) not equal, but equal in distribution\n",
    "\n",
    "(iii) not equal in distribution"
   ]
  },
  {
   "cell_type": "markdown",
   "metadata": {},
   "source": [
    "&zwnj;\n",
    "### 4a)\n",
    "\n",
    "$X$ and $Y$"
   ]
  },
  {
   "cell_type": "markdown",
   "metadata": {
    "collapsed": true,
    "purpose": "solution"
   },
   "source": [
    "*Provide your answer and reasoning in this Markdown cell.*"
   ]
  },
  {
   "cell_type": "markdown",
   "metadata": {
    "collapsed": false
   },
   "source": [
    "&zwnj;\n",
    "### 4b)\n",
    "\n",
    "$S$ and $2X$"
   ]
  },
  {
   "cell_type": "markdown",
   "metadata": {
    "purpose": "solution"
   },
   "source": [
    "*Provide your answer and reasoning in this Markdown cell.*"
   ]
  },
  {
   "cell_type": "markdown",
   "metadata": {},
   "source": [
    "&zwnj;\n",
    "### 4c)\n",
    "\n",
    "$S$ and $T$"
   ]
  },
  {
   "cell_type": "markdown",
   "metadata": {
    "purpose": "solution"
   },
   "source": [
    "*Provide your answer and reasoning in this Markdown cell.*"
   ]
  },
  {
   "cell_type": "markdown",
   "metadata": {},
   "source": [
    "## Question 5: Maximum of Uniform Random Variables\n",
    "\n",
    "Two draws are made at random with replacement from the integers $1, 2, \\ldots, n$. Let $X$ be the first number drawn and $Y$ the second. Let $M = \\max(X, Y)$\n",
    "and let $N = \\min(X, Y)$.\n",
    "\n"
   ]
  },
  {
   "cell_type": "markdown",
   "metadata": {},
   "source": [
    "&zwnj;\n",
    "\n",
    "### 5a)\n",
    "List all the possible values of $M$, and show that if $k$ is any of the possible values, then $P(M \\le k) = k^2/n^2$.\n"
   ]
  },
  {
   "cell_type": "markdown",
   "metadata": {
    "purpose": "solution"
   },
   "source": [
    "*Provide your answer and reasoning in this Markdown cell.*"
   ]
  },
  {
   "cell_type": "markdown",
   "metadata": {},
   "source": [
    "&zwnj;\n",
    "\n",
    "### 5b) ####\n",
    "Use 5a to show that the distribution of $M$ is given by $P(M = k) = (2k-1)/n^2$\n",
    "for all $k$ in the set of possible values of $M$. \n"
   ]
  },
  {
   "cell_type": "markdown",
   "metadata": {
    "purpose": "solution"
   },
   "source": [
    "*Provide your answer and reasoning in this Markdown cell.*"
   ]
  },
  {
   "cell_type": "markdown",
   "metadata": {},
   "source": [
    "&zwnj;\n",
    "\n",
    "### 5c) ####\n",
    "Show that the probabilities in the distribution in 5b sum to 1.\n"
   ]
  },
  {
   "cell_type": "markdown",
   "metadata": {
    "purpose": "solution"
   },
   "source": [
    "*Provide your answer and reasoning in this Markdown cell.*"
   ]
  },
  {
   "cell_type": "markdown",
   "metadata": {},
   "source": [
    "&zwnj;\n",
    "\n",
    "### 5d) ####\n",
    "Use the `domain` and `probability_function` methods to display a distribution table for $M$ in the case where $n$ = 6.\n"
   ]
  },
  {
   "cell_type": "code",
   "execution_count": 6,
   "metadata": {
    "collapsed": false,
    "purpose": "solution"
   },
   "outputs": [],
   "source": [
    "\n",
    "def prob_max_is(k):\n",
    "    return ... # Enter your probabilility function here\n",
    "\n",
    "\n",
    "possible_values = ... # What are the possible values?\n",
    "prob_table = Table().values(possible_values).probability_function(prob_max_is)"
   ]
  },
  {
   "cell_type": "markdown",
   "metadata": {},
   "source": [
    "&zwnj;\n",
    "\n",
    "### 5e) ####\n",
    "Use the `Plot` method to draw a probability histogram for $M$, with $n$ = 6 as in 5d."
   ]
  },
  {
   "cell_type": "code",
   "execution_count": null,
   "metadata": {
    "collapsed": true
   },
   "outputs": [],
   "source": [
    "Plot(...)"
   ]
  },
  {
   "cell_type": "markdown",
   "metadata": {},
   "source": [
    "## Question 6: Extrema and Mirror Images\n",
    "A die is rolled twice. Let $D_1$ be the first number rolled, and $D_2$ the second. Let $M = \\max(D_1, D_2)$ and $N = \\min(D_1, D_2)$.\n",
    "\n"
   ]
  },
  {
   "cell_type": "markdown",
   "metadata": {},
   "source": [
    "&zwnj;\n",
    "### 6a)\n",
    "Use the `values`, `probability_function`, and `toJoint` methods to display a joint distribution table for $M$ and $N$.\n"
   ]
  },
  {
   "cell_type": "code",
   "execution_count": 13,
   "metadata": {
    "collapsed": false,
    "purpose": "solution"
   },
   "outputs": [],
   "source": [
    "\n",
    "def p(maximum, minimum):\n",
    "    return ...\n",
    "    \n",
    "prob_table = Table().values(\"Max\", ..., \"Min\", ...).probability_function(p)\n",
    "prob_table"
   ]
  },
  {
   "cell_type": "markdown",
   "metadata": {},
   "source": [
    "&zwnj;\n",
    "### 6b) \n",
    "Use the joint distribution to display the marginal distributions of both variables. The results should be consistent with your answer to 5d.\n",
    "\n"
   ]
  },
  {
   "cell_type": "code",
   "execution_count": 16,
   "metadata": {
    "collapsed": true,
    "purpose": "solution"
   },
   "outputs": [],
   "source": [
    "jointTable = ...\n"
   ]
  },
  {
   "cell_type": "markdown",
   "metadata": {},
   "source": [
    "&zwnj;\n",
    "### 6c)\n",
    "Fill in the blank with a number and explain your choice.\n",
    "\n",
    "$N \\stackrel{d}{=} \\underline{~~~~~~~~~~~~~~~~~} - M$\n",
    "\n"
   ]
  },
  {
   "cell_type": "markdown",
   "metadata": {
    "purpose": "solution"
   },
   "source": [
    "*Provide your answer and reasoning in this Markdown cell.*"
   ]
  },
  {
   "cell_type": "markdown",
   "metadata": {},
   "source": [
    "&zwnj;\n",
    "### 6d)\n",
    "Display the conditional distribution of $M$ given $N=k$, for each possible value $k$ of $N$.\n",
    "\n"
   ]
  },
  {
   "cell_type": "code",
   "execution_count": 9,
   "metadata": {
    "collapsed": false,
    "purpose": "solution"
   },
   "outputs": [],
   "source": [
    "jointTable.conditional_dist(...)"
   ]
  },
  {
   "cell_type": "markdown",
   "metadata": {},
   "source": [
    "&zwnj;\n",
    "### 6e)\n",
    "The conditional distribution of $M$ given $N=5$ has only two bars. Why only two, and why is one of the bars twice as large as the other?"
   ]
  },
  {
   "cell_type": "markdown",
   "metadata": {
    "purpose": "solution"
   },
   "source": [
    "*Provide your answer and reasoning in this Markdown cell.*"
   ]
  },
  {
   "cell_type": "markdown",
   "metadata": {},
   "source": [
    "### OK Tests\n",
    "\n",
    "We'll typically have OK tests to verify that you're going in the right track; For this assignment, there is none, so here's a freebie OK test on the house"
   ]
  },
  {
   "cell_type": "code",
   "execution_count": 12,
   "metadata": {
    "collapsed": false
   },
   "outputs": [],
   "source": [
    "_ = autograder.grade('q1')"
   ]
  },
  {
   "cell_type": "code",
   "execution_count": null,
   "metadata": {
    "collapsed": false
   },
   "outputs": [],
   "source": [
    "# For your convenience, you can run this cell to run all the tests at once!\n",
    "import os\n",
    "_ = [autograder.grade(q[:-3]) for q in os.listdir(\"tests\") if q.startswith('q')]"
   ]
  },
  {
   "cell_type": "code",
   "execution_count": null,
   "metadata": {
    "collapsed": true
   },
   "outputs": [],
   "source": [
    "import gsExport\n",
    "gsExport.generateSubmission()"
   ]
  }
 ],
 "metadata": {
  "kernelspec": {
   "display_name": "Python 3",
   "language": "python",
   "name": "python3"
  },
  "language_info": {
   "codemirror_mode": {
    "name": "ipython",
    "version": 3
   },
   "file_extension": ".py",
   "mimetype": "text/x-python",
   "name": "python",
   "nbconvert_exporter": "python",
   "pygments_lexer": "ipython3",
   "version": "3.6.0"
  }
 },
 "nbformat": 4,
 "nbformat_minor": 0
}

{
 "cells": [
  {
   "cell_type": "code",
   "execution_count": null,
   "metadata": {
    "collapsed": false,
    "specialcell_type": "setup"
   },
   "outputs": [],
   "source": [
    "# SETUP\n",
    "\n",
    "import numpy as np\n",
    "from datascience import *\n",
    "from prob140 import *\n",
    "\n",
    "# These lines do some fancy plotting magic\n",
    "import matplotlib\n",
    "%matplotlib inline\n",
    "import matplotlib.pyplot as plt\n",
    "plt.style.use('fivethirtyeight')\n",
    "\n",
    "# These lines make warnings look nicer\n",
    "import warnings\n",
    "warnings.simplefilter('ignore', FutureWarning)\n",
    "\n",
    "# To save you a lot of time\n",
    "from scipy import stats\n",
    "from client.api.assignment import load_assignment\n",
    "autograder = load_assignment('main.ok')\n"
   ]
  },
  {
   "cell_type": "markdown",
   "metadata": {},
   "source": [
    "# Homework 2\n",
    "\n",
    "Welcome to the second homework. You know the drill:\n",
    "\n",
    "- Each part of each question is followed by an answer cell in which you will enter your answer. \n",
    "- Run all answer cells before you submit.\n",
    "- Submission instructions are included at the end of the Homework.\n",
    "- Some answer cells are Code cells and others are Markdown. In this Homework each cell has a label saying what kind of cell it is. But soon you will be able to tell from looking at the cell or the menubar, and you won't need the label.\n",
    "- Markdown cells are for text and LaTex. Fancy formatting isn't required. Just make sure your answer is comprehensible. We've given you some examples in 1a.\n",
    "- Reasoning and explanations don't have to be long. Often, calculations will suffice as reasoning, but if you've done any mental calculation please make sure you write it down as part of your reasoning.\n",
    "\n",
    "**Suggestion about using LaTex:**\n",
    "For problems that don't involved code, we advise you to do them with paper-and-pencil first, confirm that you've done them correctly, and then do the LaTex.\n",
    "\n",
    "Useful Links:\n",
    "\n",
    "- [LaTeX tutorial](http://prob140.org/latex/)\n",
    "- [Prob140 documentation](http://probability.gitlab.io/prob140/html/)"
   ]
  },
  {
   "cell_type": "markdown",
   "metadata": {},
   "source": [
    "&zwnj;\n",
    "\n",
    "## Question 1: Female Births"
   ]
  },
  {
   "cell_type": "markdown",
   "metadata": {},
   "source": [
    "In the U.S., 49% of births are female. Assume the sexes of babies are independent of each other. In each part below, find the chance using `stats.binom.pmf` and `stats.binom.cdf`.\n",
    "\n"
   ]
  },
  {
   "cell_type": "markdown",
   "metadata": {
    "purpose": "solution"
   },
   "source": [
    "### 1a) \n",
    "Find the chance that 4 out of 10 births are female."
   ]
  },
  {
   "cell_type": "code",
   "execution_count": null,
   "metadata": {
    "collapsed": true,
    "purpose": "solution"
   },
   "outputs": [],
   "source": [
    "\n",
    "p_4_females = ...\n",
    "p_4_females"
   ]
  },
  {
   "cell_type": "markdown",
   "metadata": {
    "purpose": "solution"
   },
   "source": [
    "\n",
    "### 1b)\n",
    "\n",
    "Find the chance that among 15 births, the majority are female."
   ]
  },
  {
   "cell_type": "code",
   "execution_count": null,
   "metadata": {
    "collapsed": true,
    "purpose": "solution"
   },
   "outputs": [],
   "source": [
    "\n",
    "p_majority_females = ...\n",
    "p_majority_females"
   ]
  },
  {
   "cell_type": "markdown",
   "metadata": {
    "purpose": "solution"
   },
   "source": [
    "\n",
    "### 1c)\n",
    "Suppose you record each birth until you have recorded 10 female births, and then you stop. What is the chance that you stop when you have recorded 25 births?"
   ]
  },
  {
   "cell_type": "code",
   "execution_count": null,
   "metadata": {
    "collapsed": true,
    "purpose": "solution"
   },
   "outputs": [],
   "source": [
    "\n",
    "p_25_births = ...\n",
    "p_25_births\n"
   ]
  },
  {
   "cell_type": "markdown",
   "metadata": {
    "purpose": "solution"
   },
   "source": [
    "\n",
    "### 1d)\n",
    "As in (c), suppose you record each birth until you have recorded 10 female births, and then you stop. What is the chance that you record more than 30 births?"
   ]
  },
  {
   "cell_type": "code",
   "execution_count": null,
   "metadata": {
    "collapsed": true,
    "purpose": "solution"
   },
   "outputs": [],
   "source": [
    "\n",
    "p_30_births = ...\n",
    "p_30_births\n"
   ]
  },
  {
   "cell_type": "markdown",
   "metadata": {
    "purpose": "solution"
   },
   "source": [
    "\n",
    "### 1e)\n",
    "You and I each record 10 births. What is the chance that you record more female births than I do?"
   ]
  },
  {
   "cell_type": "code",
   "execution_count": null,
   "metadata": {
    "collapsed": true,
    "purpose": "solution"
   },
   "outputs": [],
   "source": [
    "p_more_females = ...\n",
    "p_more_females"
   ]
  },
  {
   "cell_type": "markdown",
   "metadata": {},
   "source": [
    "&zwnj;\n",
    "\n",
    "## Question 2: Poisson Approximations at Both Ends\n",
    "\n",
    "Consider $n$ independent Bernoulli $(p)$ trials."
   ]
  },
  {
   "cell_type": "markdown",
   "metadata": {
    "purpose": "solution"
   },
   "source": [
    "\n",
    "### 2a)\n",
    "\n",
    "Fill in the blanks with names of distributions along with parameters in parentheses: If $n = 1000$ and $p=0.003$, the distribution of the number of successes is exactly $\\underline{~~~~~~~~~~~~~~~~~~~~~~~~~~~}$ $(\\underline{~~~~~~~~~~~~ })$ and approximately $\\underline{~~~~~~~~~~~~~~~~~~~~~~ }$ $(\\underline{~~~~~~~~~~~~ })$."
   ]
  },
  {
   "cell_type": "markdown",
   "metadata": {
    "collapsed": false,
    "purpose": "solution"
   },
   "source": [
    "*Provide your answer and reasoning in this Markdown cell.*"
   ]
  },
  {
   "cell_type": "markdown",
   "metadata": {
    "purpose": "solution"
   },
   "source": [
    "\n",
    "### 2b)\n",
    "Let $X$ be binomial with a large $n$ and let $p$ be close to 1. Derive a Poisson approximation to $X$ by an appropriate use of the Poisson approximation to the binomial derived in class."
   ]
  },
  {
   "cell_type": "markdown",
   "metadata": {
    "collapsed": true,
    "purpose": "solution"
   },
   "source": [
    "*Provide your answer and reasoning in this Markdown cell.*"
   ]
  },
  {
   "cell_type": "markdown",
   "metadata": {
    "purpose": "solution"
   },
   "source": [
    "\n",
    "### 2c)\n",
    "Plot the probability histogram of the binomial (1000, 0.997) distribution, and overlay your Poisson approximation from part (b). Please don't plot the entire range. Choose an informative range of values on the horizontal axis."
   ]
  },
  {
   "cell_type": "code",
   "execution_count": null,
   "metadata": {
    "collapsed": false,
    "purpose": "solution"
   },
   "outputs": [],
   "source": [
    "\n",
    "n = 1000\n",
    "p = 0.997\n",
    "\n",
    "def poisson_approximation_pmf(k):\n",
    "    return ...\n",
    "    \n",
    "binomial_large_n_p = Table().values(...).probability_function(...)\n",
    "poisson_approximation = Table().values(...).probability_function(...)\n",
    "\n",
    "Plots(...)\n",
    "plt.xlim(..., ...)"
   ]
  },
  {
   "cell_type": "markdown",
   "metadata": {},
   "source": [
    "&zwnj;\n",
    "\n",
    "## Question 3: Conditioning on the Number of Successes\n"
   ]
  },
  {
   "cell_type": "markdown",
   "metadata": {
    "purpose": "solution"
   },
   "source": [
    "\n",
    "### 3a)\n",
    "\n",
    " Complete the comment in the cell below, by describing the random variable $X$."
   ]
  },
  {
   "cell_type": "code",
   "execution_count": null,
   "metadata": {
    "collapsed": true,
    "purpose": "solution"
   },
   "outputs": [],
   "source": [
    "\n",
    "def prob(x, y):\n",
    "    \"\"\"\n",
    "    Assumes pre-specified positive integers n and m \n",
    "    satifsying n < m.\n",
    "    Also assumes pre-specified p satisfying 0 < p < 1.\n",
    "    Returns P(X=x, Y=y), where \n",
    "    Y is the number of successes in \n",
    "    m independent Bernoulli (p) trials\n",
    "    and\n",
    "    X is .........                                    \n",
    "    \"\"\"\n",
    "    if x <= y:\n",
    "        return stats.binom.pmf(x, n, p)*stats.binom.pmf(y-x, m-n, p)\n",
    "    else:\n",
    "        return 0"
   ]
  },
  {
   "cell_type": "markdown",
   "metadata": {},
   "source": [
    "&zwnj;\n",
    "\n",
    "\n",
    "### 3b)\n",
    "Create two joint distribution tables `dist` and `dist2` using the parameters given in the three cells below and the `probability_function` given by `prob`. Explain why one of them puts more probability on higher values of $X$ and $Y$ than the other."
   ]
  },
  {
   "cell_type": "code",
   "execution_count": null,
   "metadata": {
    "collapsed": false,
    "purpose": "solution"
   },
   "outputs": [],
   "source": [
    "n = 3\n",
    "m = 7\n",
    "v_X = np.arange(...) # values of X\n",
    "v_Y = np.arange(...) # values of Y"
   ]
  },
  {
   "cell_type": "code",
   "execution_count": null,
   "metadata": {
    "collapsed": false,
    "purpose": "solution"
   },
   "outputs": [],
   "source": [
    "p = 0.5\n",
    "\n",
    "...\n",
    "\n",
    "dist1"
   ]
  },
  {
   "cell_type": "code",
   "execution_count": null,
   "metadata": {
    "collapsed": false,
    "purpose": "solution"
   },
   "outputs": [],
   "source": [
    "p = 0.8\n",
    "\n",
    "...\n",
    "\n",
    "dist2"
   ]
  },
  {
   "cell_type": "markdown",
   "metadata": {
    "purpose": "solution"
   },
   "source": [
    "*Provide your answer and reasoning in this Markdown cell.*"
   ]
  },
  {
   "cell_type": "markdown",
   "metadata": {},
   "source": [
    "&zwnj;\n",
    "\n",
    "\n",
    "### 3c)\n",
    "In each of the two cells below, write a line of code to display the conditional distributions of `X` given values of `Y`, one based on `dist1` and the other on `dist2`. What do you notice in the two displays?"
   ]
  },
  {
   "cell_type": "code",
   "execution_count": null,
   "metadata": {
    "collapsed": true,
    "purpose": "solution"
   },
   "outputs": [],
   "source": [
    "dist1...."
   ]
  },
  {
   "cell_type": "code",
   "execution_count": null,
   "metadata": {
    "collapsed": true,
    "purpose": "solution"
   },
   "outputs": [],
   "source": [
    "dist2...."
   ]
  },
  {
   "cell_type": "markdown",
   "metadata": {
    "purpose": "solution"
   },
   "source": [
    "*Provide your answer and reasoning in this Markdown cell.*"
   ]
  },
  {
   "cell_type": "markdown",
   "metadata": {},
   "source": [
    "&zwnj;\n",
    "\n",
    "### 3d)\n",
    "For each possible value $x$ of $X$ and $y$ of $Y$, find $P(X = x \\mid Y = y)$\n",
    "and show that the answer doesn't depend on $p$."
   ]
  },
  {
   "cell_type": "code",
   "execution_count": null,
   "metadata": {
    "collapsed": true,
    "purpose": "solution"
   },
   "outputs": [],
   "source": [
    ""
   ]
  },
  {
   "cell_type": "markdown",
   "metadata": {
    "purpose": "solution"
   },
   "source": [
    "*Provide your answer and reasoning in this Markdown cell.*"
   ]
  },
  {
   "cell_type": "markdown",
   "metadata": {},
   "source": [
    "&zwnj;\n",
    "\n",
    "## Question 4: Odd and Even\n",
    "\n",
    "Let $X$ have the Poisson distribution with parameter $\\mu$. For the purposes of this exercise, define 0 to be an even number.\n"
   ]
  },
  {
   "cell_type": "markdown",
   "metadata": {
    "purpose": "solution"
   },
   "source": [
    "\n",
    "### 4a)\n",
    "\n",
    "First, a warm-up: write $P(X \\in \\{0, 2, 4\\})$ as a sum of terms."
   ]
  },
  {
   "cell_type": "markdown",
   "metadata": {
    "collapsed": true,
    "purpose": "solution"
   },
   "source": [
    "*Provide your answer and reasoning in this Markdown cell.*"
   ]
  },
  {
   "cell_type": "markdown",
   "metadata": {
    "purpose": "solution"
   },
   "source": [
    "\n",
    "### 4b)\n",
    "Now write $P(X \\text{ is even})$ as a sum. For what follows, it might help to write this one out term by term and use \"$\\ldots$\", though of course you can use sigma notation if you prefer."
   ]
  },
  {
   "cell_type": "markdown",
   "metadata": {
    "purpose": "solution"
   },
   "source": [
    "*Provide your answer and reasoning in this Markdown cell.*"
   ]
  },
  {
   "cell_type": "markdown",
   "metadata": {
    "purpose": "solution"
   },
   "source": [
    "\n",
    "### 4c)\n",
    "As in part (b), but for $P(X \\text{ is odd})$."
   ]
  },
  {
   "cell_type": "markdown",
   "metadata": {
    "purpose": "solution"
   },
   "source": [
    "*Provide your answer and reasoning in this Markdown cell.*"
   ]
  },
  {
   "cell_type": "markdown",
   "metadata": {},
   "source": [
    "&zwnj;\n",
    "\n",
    "### 4d)\n",
    "Next, a bit of algebra. Write $e^{\\mu}$ and $e^{-\\mu}$ as infinite sums, and hence write $e^{\\mu} + e^{-\\mu}$ as an infinite sum."
   ]
  },
  {
   "cell_type": "markdown",
   "metadata": {
    "purpose": "solution"
   },
   "source": [
    "*Provide your answer and reasoning in this Markdown cell.*"
   ]
  },
  {
   "cell_type": "markdown",
   "metadata": {
    "purpose": "solution"
   },
   "source": [
    "\n",
    "### 4e)\n",
    "Find a formula for $P(X \\text{is even})$ that involves no infinite sums."
   ]
  },
  {
   "cell_type": "markdown",
   "metadata": {
    "purpose": "solution"
   },
   "source": [
    "*Provide your answer and reasoning in this Markdown cell.*"
   ]
  },
  {
   "cell_type": "markdown",
   "metadata": {
    "purpose": "solution"
   },
   "source": [
    "\n",
    "### 4f)\n",
    "As in part (e) but for $P(X \\text{is odd})$."
   ]
  },
  {
   "cell_type": "markdown",
   "metadata": {
    "purpose": "solution"
   },
   "source": [
    "*Provide your answer and reasoning in this Markdown cell.*"
   ]
  },
  {
   "cell_type": "markdown",
   "metadata": {},
   "source": [
    "&zwnj;\n",
    "\n",
    "## Question 5: Boole's Inequality\n"
   ]
  },
  {
   "cell_type": "markdown",
   "metadata": {
    "purpose": "solution"
   },
   "source": [
    "\n",
    "### 5a)\n",
    "\n",
    "Boole's Inequality says that if for all events $A_1, A_2, \\ldots , A_n$,\n",
    "$$\n",
    "P(\\bigcup_{i=1}^n A_i) \\leq \\sum_{i=1}^n P(A_i)\n",
    "$$ That is, the chance that at least one of $n$ events occurs is at most the sum of the chances of the events. Prove Boole's Inequality by induction on $n$.\n"
   ]
  },
  {
   "cell_type": "markdown",
   "metadata": {
    "purpose": "solution"
   },
   "source": [
    "*Provide your answer and reasoning in this Markdown cell.*"
   ]
  },
  {
   "cell_type": "markdown",
   "metadata": {},
   "source": [
    "&zwnj;\n",
    "\n",
    "### 5b)\n",
    "Use Boole's Inequality to find a numerical value of $k$ that makes the following statement true:\n",
    "\n",
    "In $k$ rolls of a die, there is at least 99% chance that all six faces will appear.\n",
    "\n",
    "Some guidance: \n",
    "\n",
    "- The complement is a union; of which events?\n",
    "- Use Boole's Inequality to bound the chance of the complement.\n",
    "- According to the question, what is the condition that this chance must satisfy?\n",
    "- Solve for a value of $k$.\n",
    "\n",
    "Hint: You can take the natural log with `np.log`"
   ]
  },
  {
   "cell_type": "code",
   "execution_count": null,
   "metadata": {
    "collapsed": true,
    "purpose": "solution"
   },
   "outputs": [],
   "source": [
    "k = ...\n",
    "k"
   ]
  },
  {
   "cell_type": "markdown",
   "metadata": {},
   "source": [
    "&zwnj;\n",
    "\n",
    "\n",
    "## Question 6: A Complete Set of Coupons\n"
   ]
  },
  {
   "cell_type": "markdown",
   "metadata": {},
   "source": [
    "\n",
    "Each box of a cereal contains one of $n$ different coupons. Once you collect all $n$ coupons, you get a prize. Assume that each box is equally likely to contain any of the $n$ coupons, indpendently of all the other boxes. What is the chance that you get the prize if you buy $b$ boxes? Of course $b \\ge n$.\n",
    "\n",
    "Before you start calculations, notice that if $n=6$ you can replace \"box\" with \"roll of a die\" and \"coupon\" with \"face\", and the question is asking for the chance that all six faces appear in the $b$ rolls. You bounded this chance in an earlier problem; here you will find it exactly.\n",
    "\n",
    "If $n$ is 365 and a \"coupon\" is a person's birthday, the question is asking for the chance that you see all 365 days of the year among $b$ birthdays, under the usual assumptions of the birthday problem.\n",
    "\n",
    "In terms of classification, if each individual is equally likely to belong to one of $n$ classes independently of all other individuals, then the question is asking for the chance that you see all the $n$ classes among $b$ individuals."
   ]
  },
  {
   "cell_type": "markdown",
   "metadata": {
    "purpose": "solution"
   },
   "source": [
    "\n",
    "### 6a)\n",
    "\n",
    "For $n=2$ faces, the answer is the chance of getting at least one head and at least one tail in $b$ tosses of a coin. That's worked out in the Course Notes (with different notation) in Chapter 1. Find the example, notice that the solution used the complement rule, and enter the answer below."
   ]
  },
  {
   "cell_type": "markdown",
   "metadata": {
    "purpose": "solution"
   },
   "source": [
    "*Provide your answer and reasoning in this Markdown cell.*"
   ]
  },
  {
   "cell_type": "markdown",
   "metadata": {
    "purpose": "solution"
   },
   "source": [
    "\n",
    "### 6b)\n",
    "Take $n=3$ next. The key observation is that the complement of the event \"get all $n$ coupons\" is a union; you made this observation about dice earlier. Write the complement as a union and use the inclusion-exclusion formula. At the end, don't forget that you've been working with a complement."
   ]
  },
  {
   "cell_type": "markdown",
   "metadata": {
    "purpose": "solution"
   },
   "source": [
    "*Provide your answer and reasoning in this Markdown cell.*"
   ]
  },
  {
   "cell_type": "markdown",
   "metadata": {},
   "source": [
    "&zwnj;\n",
    "\n",
    "\n",
    "### 6c)\n",
    "Jump to $n=6$ and $b$ rolls of a die. Follow the same plan as in part (b) but with more terms. It will help to think about the number of different pairs of faces, the number of different triples of faces, and so on."
   ]
  },
  {
   "cell_type": "markdown",
   "metadata": {
    "purpose": "solution"
   },
   "source": [
    "*Provide your answer and reasoning in this Markdown cell.*"
   ]
  },
  {
   "cell_type": "markdown",
   "metadata": {
    "purpose": "solution"
   },
   "source": [
    "\n",
    "### 6d)\n",
    "Write the answer for general $n$ and $b$."
   ]
  },
  {
   "cell_type": "markdown",
   "metadata": {
    "purpose": "solution"
   },
   "source": [
    "*Provide your answer and reasoning in this Markdown cell.*"
   ]
  },
  {
   "cell_type": "markdown",
   "metadata": {},
   "source": [
    "This doesn't test any of your code, but we need it for submission. Run the cell below"
   ]
  },
  {
   "cell_type": "code",
   "execution_count": null,
   "metadata": {
    "collapsed": false
   },
   "outputs": [],
   "source": [
    "_ = autograder.grade('q1')"
   ]
  },
  {
   "cell_type": "code",
   "execution_count": null,
   "metadata": {
    "collapsed": false
   },
   "outputs": [],
   "source": [
    "# For your convenience, you can run this cell to run all the tests at once!\n",
    "import os\n",
    "_ = [autograder.grade(q[:-3]) for q in os.listdir(\"tests\") if q.startswith('q')]"
   ]
  },
  {
   "cell_type": "code",
   "execution_count": null,
   "metadata": {
    "collapsed": false
   },
   "outputs": [],
   "source": [
    "import gsExport\n",
    "gsExport.generateSubmission()"
   ]
  }
 ],
 "metadata": {
  "kernelspec": {
   "display_name": "Python 3",
   "language": "python",
   "name": "python3"
  },
  "language_info": {
   "codemirror_mode": {
    "name": "ipython",
    "version": 3
   },
   "file_extension": ".py",
   "mimetype": "text/x-python",
   "name": "python",
   "nbconvert_exporter": "python",
   "pygments_lexer": "ipython3",
   "version": "3.5.2"
  }
 },
 "nbformat": 4,
 "nbformat_minor": 0
}

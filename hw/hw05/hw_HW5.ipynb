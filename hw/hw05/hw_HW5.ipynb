{
 "cells": [
  {
   "cell_type": "code",
   "execution_count": null,
   "metadata": {
    "collapsed": false,
    "specialcell_type": "setup"
   },
   "outputs": [],
   "source": [
    "# SETUP\n",
    "\n",
    "import numpy as np\n",
    "from datascience import *\n",
    "from prob140 import *\n",
    "\n",
    "# These lines do some fancy plotting magic\n",
    "import matplotlib\n",
    "%matplotlib inline\n",
    "import matplotlib.pyplot as plt\n",
    "plt.style.use('fivethirtyeight')\n",
    "\n",
    "# These lines make warnings look nicer\n",
    "import warnings\n",
    "warnings.simplefilter('ignore', FutureWarning)\n",
    "\n",
    "# To save you a lot of time\n",
    "from scipy import stats\n",
    "from client.api.assignment import load_assignment\n",
    "autograder = load_assignment('main.ok')"
   ]
  },
  {
   "cell_type": "markdown",
   "metadata": {},
   "source": [
    "# Homework 5# \n",
    "\n",
    "A few notes:\n",
    "\n",
    "- Please do not delete cells or text in cells that contain questions as this could cause errors when you submit.\n",
    "- Please format your code so that it can be seen in the cell without having to use the scroll bar"
   ]
  },
  {
   "cell_type": "markdown",
   "metadata": {
    "collapsed": true
   },
   "source": [
    "# Homework 5 #"
   ]
  },
  {
   "cell_type": "markdown",
   "metadata": {},
   "source": [
    "&zwnj;\n",
    "\n",
    "#QUESTION\n",
    "\n",
    "### 1. Comparing Waiting Times ###\n",
    "A $p$-coin is tossed repeatedly. Let $W_H$ be the number of tosses till the first H, $W_{HH}$ the number of tosses till the first time the pattern HH appears, and $W_{HT}$ the number of tosses till the first time the pattern HT appears."
   ]
  },
  {
   "cell_type": "markdown",
   "metadata": {},
   "source": [
    "&zwnj;\n",
    "\n",
    "a) Let $p = 1/2$. Explain *without calculation* why $E(W_{HH})$ must be different from $E(W_{HT})$, and say which of the two values is smaller. [Think about what happens when the pattern is *not* completed on the toss following $W_H$.]"
   ]
  },
  {
   "cell_type": "markdown",
   "metadata": {
    "purpose": "solution"
   },
   "source": [
    "*Provide your answer and reasoning in this Markdown cell.*"
   ]
  },
  {
   "cell_type": "markdown",
   "metadata": {},
   "source": [
    "&zwnj;\n",
    "\n",
    "b) Now let $0 < p < 1$. By conditioning appropriately, find $E(W_{HT})$ in terms of $p$."
   ]
  },
  {
   "cell_type": "markdown",
   "metadata": {
    "purpose": "solution"
   },
   "source": [
    "*Provide your answer and reasoning in this Markdown cell.*"
   ]
  },
  {
   "cell_type": "markdown",
   "metadata": {},
   "source": [
    "&zwnj;\n",
    "\n",
    "c) Confirm by numerical calculation that your answer in Part b is consistent with your answer in Part a. As you know, $E(W_{HH})$ is calculated in the Course Notes."
   ]
  },
  {
   "cell_type": "code",
   "execution_count": null,
   "metadata": {
    "collapsed": true,
    "purpose": "solution"
   },
   "outputs": [],
   "source": [
    "\n",
    "p = 0.5\n",
    "ev_W_HH = ...\n",
    "ev_W_HT = ...\n",
    "ev_W_HH, ev_W_HT ..."
   ]
  },
  {
   "cell_type": "markdown",
   "metadata": {},
   "source": [
    "&zwnj;\n",
    "\n",
    "#QUESTION\n",
    "\n",
    "### 2. Jump Up, Fall Down ###\n",
    "Consider a Markov Chain with state space $0, 1, 2, \\ldots, 12$ and transition behavior given by:\n",
    "- For $0 \\le i \\le 11$, the distribution of $X_{n+1}$ given $X_n = i$ is uniform on $i+1, i+2, \\ldots , 12$.\n",
    "- $P(12, 0) = 1$."
   ]
  },
  {
   "cell_type": "markdown",
   "metadata": {},
   "source": [
    "&zwnj;\n",
    "\n",
    "a) Construct the transition matrix of this chain and assign it to the name `jump_fall`."
   ]
  },
  {
   "cell_type": "code",
   "execution_count": null,
   "metadata": {
    "collapsed": true,
    "purpose": "solution"
   },
   "outputs": [],
   "source": [
    "\n",
    "s = np.arange(...)\n",
    "def transition_probs(i, j):\n",
    "    ...\n",
    "jump_fall_tbl = Table().states...\n",
    "jump_fall = ....toMarkovChain()\n",
    "jump_fall"
   ]
  },
  {
   "cell_type": "markdown",
   "metadata": {},
   "source": [
    "&zwnj;\n",
    "\n",
    "b) Explain why this chain is irreducible and aperiodic."
   ]
  },
  {
   "cell_type": "markdown",
   "metadata": {
    "purpose": "solution"
   },
   "source": [
    "*Provide your answer and reasoning in this Markdown cell.*"
   ]
  },
  {
   "cell_type": "markdown",
   "metadata": {},
   "source": [
    "&zwnj;\n",
    "\n",
    "c) Write code that uses `jump_fall` and `prob140` methods so that the final line evaluates to the expected long run proportion of time the chain spends at 0."
   ]
  },
  {
   "cell_type": "code",
   "execution_count": null,
   "metadata": {
    "collapsed": true,
    "purpose": "solution"
   },
   "outputs": [],
   "source": []
  },
  {
   "cell_type": "markdown",
   "metadata": {},
   "source": [
    "&zwnj;\n",
    "\n",
    "#QUESTION\n",
    "\n",
    "### 3. Panda's Problem ###\n",
    "\n",
    "Every day, Panda the black-and-white cat comes to our house for food.\n",
    "Assume that every day:\n",
    "\n",
    "- We put the food out at the front door or at the back door, according to whether a $p$-coin lands heads or tails.\n",
    "\n",
    "- Panda arrives at the door at which it found the food the previous day; if the food is not there, Panda is disappointed and trudges to the other door to eat."
   ]
  },
  {
   "cell_type": "markdown",
   "metadata": {},
   "source": [
    "&zwnj;\n",
    "\n",
    "a) Set up a four-state Markov Chain and find the long run expected proportion of days when Panda is disappointed."
   ]
  },
  {
   "cell_type": "markdown",
   "metadata": {
    "purpose": "solution"
   },
   "source": [
    "*Provide your answer and reasoning in this Markdown cell.*"
   ]
  },
  {
   "cell_type": "markdown",
   "metadata": {},
   "source": [
    "&zwnj;\n",
    "\n",
    "b) Suppose that yesterday Panda arrived at the front door and was not disappointed. What is the chance of the same thing happening today? What is your best guess for the chance of the same thing happening (Panda arriving at the front door and not being disappointed) one year from now, assuming that the process continues as described?"
   ]
  },
  {
   "cell_type": "markdown",
   "metadata": {
    "purpose": "solution"
   },
   "source": [
    "*Provide your answer and reasoning in this Markdown cell.*"
   ]
  },
  {
   "cell_type": "markdown",
   "metadata": {},
   "source": [
    "&zwnj;\n",
    "\n",
    "c) Panda's strategy is to remember where the food was the previous day, and go to that door. Here are three other strategies that Panda might use:\n",
    "\n",
    "- Always go to the front door.\n",
    "\n",
    "- Always go to the back door.\n",
    "\n",
    "- Remember where the food was the previous day, and go to the other door.\n",
    "\n",
    "Compare each of these strategies to the strategy Panda uses: for what values of $p$ do these result in a lower expected proportion of days of disappointment?"
   ]
  },
  {
   "cell_type": "markdown",
   "metadata": {
    "purpose": "solution"
   },
   "source": [
    "*Provide your answer and reasoning in this Markdown cell.*"
   ]
  },
  {
   "cell_type": "markdown",
   "metadata": {},
   "source": [
    "&zwnj;\n",
    "\n",
    "#QUESTION\n",
    "\n",
    "### 4. Switching Chain ###\n",
    "Consider a Markov Chain $X_0, X_1, \\ldots $ with the transition matrix given below, for some $0 < p < 1$ and $q = 1-p$.\n",
    "\n",
    "|     | $~~0~~$ | $~~1~~$ |\n",
    "|-----|-----|-----|\n",
    "| $~~0~~$ | $~~p~~$ | $~~q~~$ |\n",
    "| $~~1~~$ | $~~q~~$ | $~~p~~$ |"
   ]
  },
  {
   "cell_type": "markdown",
   "metadata": {},
   "source": [
    "&zwnj;\n",
    "\n",
    "a) For $n \\ge 1$, let $C_n$ be the number of *switches* up to time $n$. That is, $C_n$ is the number of times the chain changes state up to and including time $n$. For example, if the path is 0 0 0 1 0 0 0 1 1, then $C_8 = 3$ (remember that the path starts at $X_0$). What is the distribution of $C_n$, and why?"
   ]
  },
  {
   "cell_type": "markdown",
   "metadata": {
    "purpose": "solution"
   },
   "source": [
    "*Provide your answer and reasoning in this Markdown cell.*"
   ]
  },
  {
   "cell_type": "markdown",
   "metadata": {},
   "source": [
    "&zwnj;\n",
    "\n",
    "b) Fill in the blank with a word:\n",
    "\n",
    "For $n \\ge 1$, \n",
    "$$\n",
    "P_n(0, 0) ~ = ~ P(C_n \\text{ is } \\underline{ ~~~~~~~~~~~~~~~ })\n",
    "$$"
   ]
  },
  {
   "cell_type": "markdown",
   "metadata": {
    "purpose": "solution"
   },
   "source": [
    "*Provide your answer and reasoning in this Markdown cell.*"
   ]
  },
  {
   "cell_type": "markdown",
   "metadata": {},
   "source": [
    "&zwnj;\n",
    "\n",
    "c) Now find $P_n(0, 0)$ using Part b. You did something similar for Poisson distributions in an earlier homework. Use the same idea, this time comparing the terms in $(p+q)^n$ and $(p-q)^n$."
   ]
  },
  {
   "cell_type": "markdown",
   "metadata": {
    "purpose": "solution"
   },
   "source": [
    "*Provide your answer and reasoning in this Markdown cell.*"
   ]
  },
  {
   "cell_type": "markdown",
   "metadata": {},
   "source": [
    "&zwnj;\n",
    "\n",
    "d) Use Part c to find the stationary distribution of the chain."
   ]
  },
  {
   "cell_type": "markdown",
   "metadata": {
    "purpose": "solution"
   },
   "source": [
    "*Provide your answer and reasoning in this Markdown cell.*"
   ]
  },
  {
   "cell_type": "markdown",
   "metadata": {},
   "source": [
    "&zwnj;\n",
    "\n",
    "#QUESTION\n",
    "\n",
    "### 5. Absorption ###\n",
    "Consider a Markov Chain with transition matrix\n",
    "\n",
    "|       | **a** | **b** | **c** | **d** | **e** |\n",
    "|-------|-------|-------|-------|-------|-------|\n",
    "| **a** | 1/5   | 4/5   |   0   |   0   |   0   |\n",
    "| **b** | 1/2   | 1/2   |   0   |   0   |   0   |\n",
    "| **c** | 1/5   | 1/5   |  1/5  |  1/5  |  1/5  |\n",
    "| **d** | 0     | 1/3   |  1/3  |  1/3  |  0    |\n",
    "| **e** | 0     | 0     |  0    |   0   |   1   |"
   ]
  },
  {
   "cell_type": "markdown",
   "metadata": {},
   "source": [
    "&zwnj;\n",
    "\n",
    "a) A subset $C$ of the state space is called a *communicating class* if for all $i$ in $C$, $i$ leads to every state in $C$ and to no state outside $C$. Thus once the chain enters $C$, it stays there; we say that it gets *absorbed* in $C$. Identify all the communicating classes of this chain."
   ]
  },
  {
   "cell_type": "markdown",
   "metadata": {
    "purpose": "solution"
   },
   "source": [
    "*Provide your answer and reasoning in this Markdown cell.*"
   ]
  },
  {
   "cell_type": "markdown",
   "metadata": {},
   "source": [
    "&zwnj;\n",
    "\n",
    "b) Find the expected long run proportion of time the chain spends at $a$, given that it starts at $b$."
   ]
  },
  {
   "cell_type": "markdown",
   "metadata": {
    "purpose": "solution"
   },
   "source": [
    "*Provide your answer and reasoning in this Markdown cell.*"
   ]
  },
  {
   "cell_type": "markdown",
   "metadata": {},
   "source": [
    "&zwnj;\n",
    "\n",
    "c) Find the expected long run proportion of time the chain spends at $a$, given that it starts at $c$. [Set equations about the chance of the chain getting absorbed in a particular communicating class, for different initial states.]"
   ]
  },
  {
   "cell_type": "markdown",
   "metadata": {
    "purpose": "solution"
   },
   "source": [
    "*Provide your answer and reasoning in this Markdown cell.*"
   ]
  },
  {
   "cell_type": "markdown",
   "metadata": {},
   "source": [
    "&zwnj;\n",
    "\n",
    "d) Find the expected time till absorption into a communicating class, given that the chain starts at $d$."
   ]
  },
  {
   "cell_type": "markdown",
   "metadata": {
    "purpose": "solution"
   },
   "source": [
    "*Provide your answer and reasoning in this Markdown cell.*"
   ]
  },
  {
   "cell_type": "markdown",
   "metadata": {},
   "source": [
    "&zwnj;\n",
    "\n",
    "#QUESTION\n",
    "\n",
    "### 6. Doubly Stochastic Matrices ###\n",
    "As you know, transition matrices are stochastic: each row sums to 1. A transition matrix is *doubly stochastic* if each of its columns also sums to 1. That is, for every $j$ in the state space $S$,\n",
    "\n",
    "$$\n",
    "\\sum_{i \\in S} P(i, j) = 1\n",
    "$$"
   ]
  },
  {
   "cell_type": "markdown",
   "metadata": {},
   "source": [
    "&zwnj;\n",
    "\n",
    "a) An irreducible, aperiodic Markov Chain with state space $0, 1, 2, \\ldots, N$ has a doubly stochastic transition matrix. What is the stationary distribution of the chain? Prove your answer. [Your answer to 4d) should be helpful.]"
   ]
  },
  {
   "cell_type": "markdown",
   "metadata": {
    "purpose": "solution"
   },
   "source": [
    "*Provide your answer and reasoning in this Markdown cell.*"
   ]
  },
  {
   "cell_type": "markdown",
   "metadata": {},
   "source": [
    "&zwnj;\n",
    "\n",
    "b) For $n \\ge 1$, let $S_n$ be the total number of spots on $n$ rolls of a die. For large $n$, approximately what is the probability that $S_n$ is a multiple of 7? [Think about remainders.]"
   ]
  },
  {
   "cell_type": "markdown",
   "metadata": {
    "collapsed": true,
    "purpose": "solution"
   },
   "source": [
    "*Provide your answer and reasoning in this Markdown cell.*"
   ]
  },
  {
   "cell_type": "code",
   "execution_count": null,
   "metadata": {
    "collapsed": false
   },
   "outputs": [],
   "source": [
    "_ = autograder.grade('q1')"
   ]
  },
  {
   "cell_type": "code",
   "execution_count": null,
   "metadata": {
    "collapsed": false
   },
   "outputs": [],
   "source": [
    "# For your convenience, you can run this cell to run all the tests at once!\n",
    "import os\n",
    "_ = [autograder.grade(q[:-3]) for q in os.listdir(\"tests\") if q.startswith('q')]"
   ]
  },
  {
   "cell_type": "markdown",
   "metadata": {},
   "source": [
    "# Save before exporting"
   ]
  },
  {
   "cell_type": "code",
   "execution_count": null,
   "metadata": {
    "collapsed": false
   },
   "outputs": [],
   "source": [
    "import gsExport\n",
    "gsExport.generateSubmission()"
   ]
  }
 ],
 "metadata": {
  "anaconda-cloud": {},
  "kernelspec": {
   "display_name": "Python 3",
   "language": "python",
   "name": "python3"
  },
  "language_info": {
   "codemirror_mode": {
    "name": "ipython",
    "version": 3
   },
   "file_extension": ".py",
   "mimetype": "text/x-python",
   "name": "python",
   "nbconvert_exporter": "python",
   "pygments_lexer": "ipython3",
   "version": "3.5.2"
  }
 },
 "nbformat": 4,
 "nbformat_minor": 0
}

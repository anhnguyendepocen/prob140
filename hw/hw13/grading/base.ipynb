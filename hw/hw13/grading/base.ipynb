{
 "cells": [
  {
   "cell_type": "code",
   "execution_count": null,
   "metadata": {
    "collapsed": false,
    "specialcell_type": "setup"
   },
   "outputs": [],
   "source": [
    "# SETUP\n",
    "\n",
    "import numpy as np\n",
    "from datascience import *\n",
    "from prob140 import *\n",
    "\n",
    "# These lines do some fancy plotting magic\n",
    "import matplotlib\n",
    "%matplotlib inline\n",
    "import matplotlib.pyplot as plt\n",
    "plt.style.use('fivethirtyeight')\n",
    "\n",
    "# These lines make warnings look nicer\n",
    "import warnings\n",
    "warnings.simplefilter('ignore', FutureWarning)\n",
    "\n",
    "# To save you a lot of time\n",
    "from scipy import stats\n",
    "from client.api.assignment import load_assignment\n",
    "autograder = load_assignment('main.ok')\n",
    "from client.api.assignment import load_assignment\n",
    "autograder = load_assignment('main.ok')\n",
    "from client.api.assignment import load_assignment\n",
    "autograder = load_assignment('main.ok')\n",
    "from client.api.assignment import load_assignment\n",
    "autograder = load_assignment('main.ok')\n",
    "from client.api.assignment import load_assignment\n",
    "autograder = load_assignment('main.ok')\n",
    "from client.api.assignment import load_assignment\n",
    "autograder = load_assignment('main.ok')\n",
    "from client.api.assignment import load_assignment\n",
    "autograder = load_assignment('main.ok')\n",
    "from client.api.assignment import load_assignment\n",
    "autograder = load_assignment('main.ok')\n",
    "from client.api.assignment import load_assignment\n",
    "autograder = load_assignment('main.ok')\n",
    "from client.api.assignment import load_assignment\n",
    "autograder = load_assignment('main.ok')"
   ]
  },
  {
   "cell_type": "code",
   "execution_count": 1,
   "metadata": {
    "collapsed": true,
    "deletable": true,
    "editable": true
   },
   "outputs": [],
   "source": [
    "# HIDDEN\n",
    "from datascience import *\n",
    "from prob140 import *\n",
    "import numpy as np\n",
    "import matplotlib.pyplot as plt\n",
    "plt.style.use('fivethirtyeight')\n",
    "%matplotlib inline\n",
    "from scipy import stats"
   ]
  },
  {
   "cell_type": "markdown",
   "metadata": {
    "deletable": true,
    "editable": true
   },
   "source": [
    "# Homework 13 #\n",
    "\n",
    "A few reminders:\n",
    "\n",
    "- Before submitting to gradescope, check that your code is fully visible in the generated pdf and does not go off the page.\n",
    "- Please do not delete cells or text in cells that contain questions as this could cause errors when you submit."
   ]
  },
  {
   "cell_type": "markdown",
   "metadata": {
    "deletable": true,
    "editable": true
   },
   "source": [
    "&zwnj;\n",
    "\n",
    "#QUESTION\n",
    "\n",
    "### 1. Sections ###\n",
    "A class of 60 students has three sections. Summary statistics for scores on Quiz 7:\n",
    "- Section 1: 25 students, mean 23, SD 3\n",
    "- Section 2: 20 students, mean 25, SD 2 \n",
    "- Section 3: 15 students, mean 27, SD 4\n",
    "\n",
    "Let $S$ be the Quiz 7 score of a student picked at random from the class. "
   ]
  },
  {
   "cell_type": "markdown",
   "metadata": {
    "deletable": true,
    "editable": true
   },
   "source": [
    "&zwnj;\n",
    "\n",
    "### a) ###\n",
    "Find $E(S)$."
   ]
  },
  {
   "cell_type": "code",
   "execution_count": 2,
   "metadata": {
    "collapsed": true,
    "deletable": true,
    "editable": true,
    "purpose": "solution"
   },
   "outputs": [],
   "source": []
  },
  {
   "cell_type": "markdown",
   "metadata": {
    "deletable": true,
    "editable": true
   },
   "source": [
    "&zwnj;\n",
    "\n",
    "### b) ###\n",
    "Find $SD(S)$."
   ]
  },
  {
   "cell_type": "code",
   "execution_count": null,
   "metadata": {
    "collapsed": true,
    "deletable": true,
    "editable": true,
    "purpose": "solution"
   },
   "outputs": [],
   "source": []
  },
  {
   "cell_type": "markdown",
   "metadata": {
    "deletable": true,
    "editable": true
   },
   "source": [
    "&zwnj;\n",
    "\n",
    "#QUESTION\n",
    "\n",
    "### 2. From Poisson to Gamma ###\n",
    "Let $N$ have the Poisson $(\\mu)$ distribution, and given $N = n$, let $X$ have the gamma $(n+1, \\lambda)$ distribution."
   ]
  },
  {
   "cell_type": "markdown",
   "metadata": {
    "deletable": true,
    "editable": true
   },
   "source": [
    "&zwnj;\n",
    "\n",
    "### a) ###\n",
    "Find $E(X)$."
   ]
  },
  {
   "cell_type": "markdown",
   "metadata": {
    "deletable": true,
    "editable": true,
    "purpose": "solution"
   },
   "source": [
    "*Provide your answer and reasoning in this Markdown cell.*"
   ]
  },
  {
   "cell_type": "markdown",
   "metadata": {
    "deletable": true,
    "editable": true
   },
   "source": [
    "&zwnj;\n",
    "\n",
    "### b) ###\n",
    "Find $Var(X)$."
   ]
  },
  {
   "cell_type": "markdown",
   "metadata": {
    "collapsed": true,
    "deletable": true,
    "editable": true,
    "purpose": "solution"
   },
   "source": [
    "*Provide your answer and reasoning in this Markdown cell.*"
   ]
  },
  {
   "cell_type": "markdown",
   "metadata": {
    "deletable": true,
    "editable": true
   },
   "source": [
    "&zwnj;\n",
    "\n",
    "### c) ###\n",
    "Check your answers above by simulating $X$ in the case $\\mu = 4$ and  $\\lambda = 3$. Specifically, repeat the following 10,000 times:\n",
    "- Generate one value of $N$.\n",
    "- Generate one value of $X$ based on the generated value of $N$.\n",
    "- Record the value of $X$.\n",
    "\n",
    "Draw the histogram of $X$ using the Table `hist` method, and check that the mean and SD of your simulated values are consistent with your answers to (a) and (b).\n",
    "\n",
    "Useful code:\n",
    "- `stats.poisson.rvs(mu, size=n)` generates $n$ i.i.d. observations from Poisson $(\\mu)$\n",
    "- `stats.gamma.rvs(r, scale=1/lambda, size=n)` generates $n$ i.i.d. observations from gamma $(r, \\lambda)$\n",
    "\n",
    "Insert as many code cells as you need"
   ]
  },
  {
   "cell_type": "code",
   "execution_count": null,
   "metadata": {
    "collapsed": true,
    "deletable": true,
    "editable": true,
    "purpose": "solution"
   },
   "outputs": [],
   "source": []
  },
  {
   "cell_type": "markdown",
   "metadata": {
    "collapsed": true,
    "deletable": true,
    "editable": true
   },
   "source": [
    "&zwnj;\n",
    "\n",
    "#QUESTION\n",
    "\n",
    "### 3. Overlapping Counts ###\n",
    "Consider a sequence of i.i.d. Bernoulli $(p)$ trials. Consider the three variables $X$, $Y$, and $W$ defined by:\n",
    "- $X$ is the number of successes in trials 1 through 100\n",
    "- $Y$ is the number of successes in trials 51 through 150\n",
    "- $W$ is the number of successes in trials 51 through 100"
   ]
  },
  {
   "cell_type": "markdown",
   "metadata": {
    "deletable": true,
    "editable": true
   },
   "source": [
    "&zwnj;\n",
    "\n",
    "### a) ###\n",
    "For each of $X$, $Y$, and $W$, say what the distribution is and provide the parameters."
   ]
  },
  {
   "cell_type": "markdown",
   "metadata": {
    "deletable": true,
    "editable": true,
    "purpose": "solution"
   },
   "source": [
    "*Provide your answer and reasoning in this Markdown cell.*"
   ]
  },
  {
   "cell_type": "markdown",
   "metadata": {
    "deletable": true,
    "editable": true
   },
   "source": [
    "&zwnj;\n",
    "\n",
    "### b) ###\n",
    "Fix $k$ in the range $0, 1, \\ldots, 100$ and find the conditional distribution of $W$ given $X = k$. Recognize this as one of the \"named\" distributions and provide the parameters."
   ]
  },
  {
   "cell_type": "markdown",
   "metadata": {
    "deletable": true,
    "editable": true,
    "purpose": "solution"
   },
   "source": [
    "*Provide your answer and reasoning in this Markdown cell.*"
   ]
  },
  {
   "cell_type": "markdown",
   "metadata": {
    "deletable": true,
    "editable": true
   },
   "source": [
    "&zwnj;\n",
    "\n",
    "### c) ###\n",
    "Find $E(W \\mid X)$ and $Var(W \\mid X)$."
   ]
  },
  {
   "cell_type": "markdown",
   "metadata": {
    "deletable": true,
    "editable": true,
    "purpose": "solution"
   },
   "source": [
    "*Provide your answer and reasoning in this Markdown cell.*"
   ]
  },
  {
   "cell_type": "markdown",
   "metadata": {
    "deletable": true,
    "editable": true
   },
   "source": [
    "&zwnj;\n",
    "\n",
    "### d) ###\n",
    "Find $E(Y \\mid X)$ and $Var(Y \\mid X)$."
   ]
  },
  {
   "cell_type": "markdown",
   "metadata": {
    "deletable": true,
    "editable": true,
    "purpose": "solution"
   },
   "source": [
    "*Provide your answer and reasoning in this Markdown cell.*"
   ]
  },
  {
   "cell_type": "markdown",
   "metadata": {
    "deletable": true,
    "editable": true
   },
   "source": [
    "&zwnj;\n",
    "\n",
    "### e) ###\n",
    "Find $Corr(X, Y)$."
   ]
  },
  {
   "cell_type": "markdown",
   "metadata": {
    "deletable": true,
    "editable": true,
    "purpose": "solution"
   },
   "source": [
    "*Provide your answer and reasoning in this Markdown cell.*"
   ]
  },
  {
   "cell_type": "markdown",
   "metadata": {
    "deletable": true,
    "editable": true
   },
   "source": [
    "&zwnj;\n",
    "\n",
    "#SOLUTION\n",
    "\n",
    "### 4. Regression ###\n",
    "When you write code below, remember that standard normal percentiles can be found using `stats.norm.ppf`.\n",
    "\n",
    "Heights and weights of a large group of people follow the bivariate normal distribution with positive correlation."
   ]
  },
  {
   "cell_type": "markdown",
   "metadata": {
    "deletable": true,
    "editable": true
   },
   "source": [
    "&zwnj;\n",
    "\n",
    "### a)\n",
    "Pick the best option and explain your choice.\n",
    "\n",
    "Of the people on the 80th percentile of heights,\n",
    "\n",
    "**(i)** more than 50%\n",
    "\n",
    "**(ii)** about 50%\n",
    "\n",
    "**(iii)** less than 50%\n",
    "\n",
    "are above the 80th percentile of weights."
   ]
  },
  {
   "cell_type": "markdown",
   "metadata": {
    "deletable": true,
    "editable": true,
    "purpose": "solution"
   },
   "source": [
    "*Provide your answer and reasoning in this Markdown cell.*"
   ]
  },
  {
   "cell_type": "markdown",
   "metadata": {
    "deletable": true,
    "editable": true
   },
   "source": [
    "&zwnj;\n",
    "\n",
    "### b) ### \n",
    "Suppose the correlation between the two variables is 0.75. Of those who are on the 80th percentile of heights, about what percent are above the 80th percentile of weights?"
   ]
  },
  {
   "cell_type": "code",
   "execution_count": null,
   "metadata": {
    "collapsed": true,
    "deletable": true,
    "editable": true,
    "purpose": "solution"
   },
   "outputs": [],
   "source": []
  },
  {
   "cell_type": "markdown",
   "metadata": {
    "deletable": true,
    "editable": true
   },
   "source": [
    "&zwnj;\n",
    "\n",
    "### c) ### \n",
    "Suppose the correlation between the two variables is 0.6. One of the people is on the 40th percentile of heights. Estimate this person's percentile rank on weight. Just give a single value as your estimate, not an interval."
   ]
  },
  {
   "cell_type": "code",
   "execution_count": null,
   "metadata": {
    "collapsed": true,
    "deletable": true,
    "editable": true,
    "purpose": "solution"
   },
   "outputs": [],
   "source": []
  },
  {
   "cell_type": "markdown",
   "metadata": {
    "deletable": true,
    "editable": true
   },
   "source": [
    "&zwnj;\n",
    "\n",
    "#QUESTION\n",
    "\n",
    "### 5. Voltage and Signal ###\n",
    "(From Pitman Section 6.5) Suppose that the magnitude of a signal received from a satellite is\n",
    "\n",
    "$$\n",
    "S ~ = ~ a + bV + W\n",
    "$$\n",
    "\n",
    "where $V$ is a voltage that the satellite is measuring, $a$ and $b$ are constants, and $W$ is a noise term. Suppose $V$ and $W$ are independent and normally distributed with means 0 and variances $\\sigma_V^2$ and $\\sigma_W^2$."
   ]
  },
  {
   "cell_type": "markdown",
   "metadata": {
    "deletable": true,
    "editable": true
   },
   "source": [
    "&zwnj;\n",
    "\n",
    "### a) ###\n",
    "Find $Corr(S, V)$."
   ]
  },
  {
   "cell_type": "markdown",
   "metadata": {
    "deletable": true,
    "editable": true,
    "purpose": "solution"
   },
   "source": [
    "*Provide your answer and reasoning in this Markdown cell.*"
   ]
  },
  {
   "cell_type": "markdown",
   "metadata": {
    "deletable": true,
    "editable": true
   },
   "source": [
    "&zwnj;\n",
    "\n",
    "### b) ###\n",
    "Given that $S = s$, what is the distribution of $V$?"
   ]
  },
  {
   "cell_type": "markdown",
   "metadata": {
    "deletable": true,
    "editable": true,
    "purpose": "solution"
   },
   "source": [
    "*Provide your answer and reasoning in this Markdown cell.*"
   ]
  },
  {
   "cell_type": "markdown",
   "metadata": {
    "deletable": true,
    "editable": true
   },
   "source": [
    "&zwnj;\n",
    "\n",
    "### c) ###\n",
    "What is the best estimate of $V$ given $S = s$?"
   ]
  },
  {
   "cell_type": "markdown",
   "metadata": {
    "deletable": true,
    "editable": true,
    "purpose": "solution"
   },
   "source": [
    "*Provide your answer and reasoning in this Markdown cell.*"
   ]
  },
  {
   "cell_type": "markdown",
   "metadata": {
    "deletable": true,
    "editable": true
   },
   "source": [
    "&zwnj;\n",
    "\n",
    "### d) ###\n",
    "(This part isn't in Pitman, and the numerical values aren't related to satellite signals.) Let $a = 2$, $b = 3$, $\\sigma_V^2 = 4$ and $\\sigma_W^2 = 5$. Simulate 1000 independent copies of the point $(S, V)$, draw the scatter diagram of $V$ versus $S$, and overlay a line plot of your answer to Part (c).\n",
    "\n",
    "Code that might be useful:\n",
    "- `stats.norm.rvs(size = n)` generates $n$ independent copies of a standard normal variable.\n",
    "- `plt.scatter(x, y)` displays a scatter diagram of the array `y` versus the array `x`.\n",
    "- `plt.plot(x, y)` displays a line plot of `y` versus `x`. If called after `plt.scatter`, the line plot will be overlaid on the scatter plot."
   ]
  },
  {
   "cell_type": "code",
   "execution_count": null,
   "metadata": {
    "collapsed": true,
    "deletable": true,
    "editable": true,
    "purpose": "solution"
   },
   "outputs": [],
   "source": []
  },
  {
   "cell_type": "markdown",
   "metadata": {
    "deletable": true,
    "editable": true
   },
   "source": [
    "&zwnj;\n",
    "\n",
    "#QUESTION\n",
    "\n",
    "### 6.  Least Squares Line with No Intercept ###\n",
    "Proportionality is a relation that is linear with no $y$-intercept: if variables $x$ and $y$ are proportional to each other than $y = kx$ for some constant $k$. If you think a data set follows this model apart from random noise, you might want to fit a straight line that has no intercept.\n",
    "\n",
    "So let $X$ and $Y$ be random variables and suppose you are trying to predict $Y$ by the predictor $aX$ where $a$ is a constant. Define the *mean squared error* of this prediction to be\n",
    "\n",
    "$$\n",
    "MSE(a) ~ = ~ E\\big{(} (Y - aX)^2 \\big{)}\n",
    "$$"
   ]
  },
  {
   "cell_type": "markdown",
   "metadata": {
    "deletable": true,
    "editable": true
   },
   "source": [
    "&zwnj;\n",
    "\n",
    "### a) ###\n",
    "Find the slope $\\hat{a}$ that minimizes the MSE over all $a$. Your answer will be in terms of expectations such as $E(X)$, $E(Y)$, $E(X^2)$, $E(Y^2)$ and $E(XY)$. "
   ]
  },
  {
   "cell_type": "markdown",
   "metadata": {
    "deletable": true,
    "editable": true,
    "purpose": "solution"
   },
   "source": [
    "*Provide your answer and reasoning in this Markdown cell.*"
   ]
  },
  {
   "cell_type": "markdown",
   "metadata": {
    "deletable": true,
    "editable": true
   },
   "source": [
    "&zwnj;\n",
    "\n",
    "### b) ###\n",
    "Find $MSE(\\hat{a})$."
   ]
  },
  {
   "cell_type": "markdown",
   "metadata": {
    "deletable": true,
    "editable": true,
    "purpose": "solution"
   },
   "source": [
    "*Provide your answer and reasoning in this Markdown cell.*"
   ]
  },
  {
   "cell_type": "markdown",
   "metadata": {
    "deletable": true,
    "editable": true
   },
   "source": [
    "&zwnj;\n",
    "\n",
    "### c) ###\n",
    "Use (b) to derive the *Cauchy-Schwarz Inequality*:\n",
    "\n",
    "For random variables $X$ and $Y$,\n",
    "$$\n",
    "\\lvert E(XY) \\rvert ~ \\le ~ \\sqrt{E(X^2)E(Y^2)}\n",
    "$$"
   ]
  },
  {
   "cell_type": "markdown",
   "metadata": {
    "deletable": true,
    "editable": true,
    "purpose": "solution"
   },
   "source": [
    "*Provide your answer and reasoning in this Markdown cell.*"
   ]
  },
  {
   "cell_type": "code",
   "execution_count": null,
   "metadata": {
    "collapsed": true
   },
   "outputs": [],
   "source": [
    "_ = autograder.grade('q1')"
   ]
  },
  {
   "cell_type": "code",
   "execution_count": null,
   "metadata": {
    "collapsed": false
   },
   "outputs": [],
   "source": [
    "# For your convenience, you can run this cell to run all the tests at once!\n",
    "import os\n",
    "_ = [autograder.grade(q[:-3]) for q in os.listdir(\"tests\") if q.startswith('q')]"
   ]
  },
  {
   "cell_type": "code",
   "execution_count": null,
   "metadata": {
    "collapsed": true
   },
   "outputs": [],
   "source": [
    "import gsExport\n",
    "gsExport.generateSubmission()"
   ]
  }
 ],
 "metadata": {
  "anaconda-cloud": {},
  "kernelspec": {
   "display_name": "Python 3",
   "language": "python",
   "name": "python3"
  },
  "language_info": {
   "codemirror_mode": {
    "name": "ipython",
    "version": 3
   },
   "file_extension": ".py",
   "mimetype": "text/x-python",
   "name": "python",
   "nbconvert_exporter": "python",
   "pygments_lexer": "ipython3",
   "version": "3.6.0"
  }
 },
 "nbformat": 4,
 "nbformat_minor": 0
}

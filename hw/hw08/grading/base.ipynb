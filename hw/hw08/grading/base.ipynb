{
 "cells": [
  {
   "cell_type": "code",
   "execution_count": null,
   "metadata": {
    "collapsed": false,
    "specialcell_type": "setup"
   },
   "outputs": [],
   "source": [
    "# SETUP\n",
    "\n",
    "import numpy as np\n",
    "from datascience import *\n",
    "from prob140 import *\n",
    "\n",
    "# These lines do some fancy plotting magic\n",
    "import matplotlib\n",
    "%matplotlib inline\n",
    "import matplotlib.pyplot as plt\n",
    "plt.style.use('fivethirtyeight')\n",
    "\n",
    "# These lines make warnings look nicer\n",
    "import warnings\n",
    "warnings.simplefilter('ignore', FutureWarning)\n",
    "\n",
    "# To save you a lot of time\n",
    "from scipy import stats\n",
    "from client.api.assignment import load_assignment\n",
    "autograder = load_assignment('main.ok')\n",
    "from client.api.assignment import load_assignment\n",
    "autograder = load_assignment('main.ok')\n",
    "from client.api.assignment import load_assignment\n",
    "autograder = load_assignment('main.ok')\n",
    "from client.api.assignment import load_assignment\n",
    "autograder = load_assignment('main.ok')\n",
    "from client.api.assignment import load_assignment\n",
    "autograder = load_assignment('main.ok')"
   ]
  },
  {
   "cell_type": "markdown",
   "metadata": {},
   "source": [
    "# Homework 8# \n",
    "\n",
    "A few notes:\n",
    "\n",
    "- Before submitting to gradescope, check that your code is fully visible in the generated pdf and does not go off the page.\n",
    "- Please do not delete cells or text in cells that contain questions as this could cause errors when you submit."
   ]
  },
  {
   "cell_type": "code",
   "execution_count": 2,
   "metadata": {
    "collapsed": true
   },
   "outputs": [],
   "source": [
    "# HIDDEN\n",
    "from datascience import *\n",
    "from prob140 import *\n",
    "%matplotlib inline\n",
    "import matplotlib.pyplot as plt\n",
    "plt.style.use('fivethirtyeight')\n",
    "import numpy as np\n",
    "from scipy import stats"
   ]
  },
  {
   "cell_type": "markdown",
   "metadata": {},
   "source": [
    "&zwnj;\n",
    "\n",
    "#QUESTION\n",
    "\n",
    "### 1. Means and SDs ###\n",
    "For each random variable below, find its expecation and its SD. \n",
    "\n",
    "For some of them you will need the fact that the SD of a geometric $(p)$ random variable is $\\frac{\\sqrt{q}}{p}$. We haven't proved that as the algebra takes a bit of work.\n",
    "\n",
    "You are welcome to use more than one line of code to calculate some of the quantities, if you need to."
   ]
  },
  {
   "cell_type": "markdown",
   "metadata": {},
   "source": [
    "&zwnj;\n",
    "\n",
    "### a) ###\n",
    "The number of times green pockets win in 200 spins of a roulette wheel (on each spin, green pockets have chance 2/38 of winning, independently of other spins)"
   ]
  },
  {
   "cell_type": "code",
   "execution_count": 1,
   "metadata": {
    "collapsed": false,
    "purpose": "solution"
   },
   "outputs": [],
   "source": [
    "ev = ...\n",
    "sd = ...\n",
    "ev, sd"
   ]
  },
  {
   "cell_type": "markdown",
   "metadata": {},
   "source": [
    "&zwnj;\n",
    "\n",
    "### b) ###\n",
    "The number of aces in a 5-card poker hand"
   ]
  },
  {
   "cell_type": "code",
   "execution_count": 4,
   "metadata": {
    "collapsed": false,
    "purpose": "solution"
   },
   "outputs": [],
   "source": [
    "\n",
    "ev = ...\n",
    "sd = ...\n",
    "ev, sd"
   ]
  },
  {
   "cell_type": "markdown",
   "metadata": {},
   "source": [
    "&zwnj;\n",
    "\n",
    "### c) ###\n",
    "The number of times a die is rolled till the face with six spots has appeared 10 times"
   ]
  },
  {
   "cell_type": "code",
   "execution_count": 5,
   "metadata": {
    "collapsed": false,
    "purpose": "solution"
   },
   "outputs": [],
   "source": [
    "\n",
    "ev = ...\n",
    "sd = ...\n",
    "ev, sd"
   ]
  },
  {
   "cell_type": "markdown",
   "metadata": {},
   "source": [
    "&zwnj;\n",
    "\n",
    "### d) ###\n",
    "The number of times a die is rolled till all six faces have appeared "
   ]
  },
  {
   "cell_type": "code",
   "execution_count": null,
   "metadata": {
    "collapsed": true,
    "purpose": "solution"
   },
   "outputs": [],
   "source": [
    "\n",
    "ev = ...\n",
    "sd = ...\n",
    "ev, sd"
   ]
  },
  {
   "cell_type": "markdown",
   "metadata": {},
   "source": [
    "&zwnj;\n",
    "\n",
    "#QUESTION\n",
    "\n",
    "### 2. Approximations ###\n",
    "In each of the parts below, you are given one Markdown cell followed by a code cell. In the Markdown cell, give your answer in terms of $\\Phi$ but don't simplify any arithmetic. In the code cell, find the numerical answer."
   ]
  },
  {
   "cell_type": "markdown",
   "metadata": {},
   "source": [
    "&zwnj;\n",
    "\n",
    "### a) ### \n",
    "Let $X_1, X_2, \\ldots, X_n$ be i.i.d., each with uniform distribution on $-1$, $0$, and $1$. Let $S_n = \\sum_{i=1}^n X_i$. Find an approximate value of $P(|S_n| > 40)$ for $n = 1000$."
   ]
  },
  {
   "cell_type": "markdown",
   "metadata": {
    "purpose": "solution"
   },
   "source": [
    "*Provide your answer and reasoning in this Markdown cell.*"
   ]
  },
  {
   "cell_type": "code",
   "execution_count": null,
   "metadata": {
    "collapsed": true,
    "purpose": "solution"
   },
   "outputs": [],
   "source": []
  },
  {
   "cell_type": "markdown",
   "metadata": {},
   "source": [
    "&zwnj;\n",
    "\n",
    "### b) ###\n",
    "[From Pitman's text] Suppose that in a particular application requiring a single battery, the mean lifetime of the battery is 4 weeks, with a standard deviation of 1 week. The battery is replaced by a new one when it dies, and so on. Assume lifetimes of batteries are independent. What, approximately, is the probability that more than 26 replacements will have to be made in a two-year period, starting at the time of installation of a new battery, and not counting that new battery as a replacement? [Hint: Use the normal approximation to the distribution of the total lifetime of $n$ batteries for a suitable $n$. Assume that a year consists of 52 weeks.]"
   ]
  },
  {
   "cell_type": "markdown",
   "metadata": {
    "purpose": "solution"
   },
   "source": [
    "*Provide your answer and reasoning in this Markdown cell.*"
   ]
  },
  {
   "cell_type": "code",
   "execution_count": null,
   "metadata": {
    "collapsed": true,
    "purpose": "solution"
   },
   "outputs": [],
   "source": []
  },
  {
   "cell_type": "markdown",
   "metadata": {},
   "source": [
    "&zwnj;\n",
    "\n",
    "#QUESTION\n",
    "\n",
    "### 3. Uses of the PGF ###\n",
    "This problem is a combination of the particular and the general."
   ]
  },
  {
   "cell_type": "markdown",
   "metadata": {},
   "source": [
    "&zwnj;\n",
    "\n",
    "### a) ###\n",
    "Let $X$ have the distribution given by $p_0 = 0.4$, $p_1 = 0.3$, $p_2 = 0.2$, $p_3 = 0.05$, $p_4 = 0.05$. Construct the pgf of $X$."
   ]
  },
  {
   "cell_type": "code",
   "execution_count": null,
   "metadata": {
    "collapsed": true,
    "purpose": "solution"
   },
   "outputs": [],
   "source": [
    "\n",
    "...\n",
    "print(pgf_X)"
   ]
  },
  {
   "cell_type": "markdown",
   "metadata": {},
   "source": [
    "&zwnj;\n",
    "\n",
    "### b) ###\n",
    "Let $X_1, X_2, \\ldots, X_{10}$ be i.i.d. with the same distribution as $X$ in **a**. Let $S = X_1 + X_2 + \\cdots + X_{10}$. Find $P(S = 12)$."
   ]
  },
  {
   "cell_type": "code",
   "execution_count": 9,
   "metadata": {
    "collapsed": false,
    "purpose": "solution"
   },
   "outputs": [],
   "source": [
    "\n",
    "pgf_S = ...\n",
    "pgf_S.c.item(...)"
   ]
  },
  {
   "cell_type": "markdown",
   "metadata": {},
   "source": [
    "&zwnj;\n",
    "\n",
    "### c) ###\n",
    "Now let $X$ be a random variable with possible values $0, 1, \\ldots, N$ for a fixed $N$, and let $G$ be the pgf of $X$. Consider the first derivative of $G$ defined by\n",
    "\n",
    "$$\n",
    "G^{(1)}(s) ~ = ~ \\frac{d}{ds} G(s), ~~~ -\\infty < s < \\infty\n",
    "$$\n",
    "\n",
    "Write $G^{(1)}(s)$ in terms of $s$ and $p_0, p_1, \\ldots, p_N$, and hence identify $G^{(1)}(0)$ and $G^{(1)}(1)$ as familiar quantities related to $X$."
   ]
  },
  {
   "cell_type": "markdown",
   "metadata": {
    "purpose": "solution"
   },
   "source": [
    "*Provide your answer and reasoning in this Markdown cell.*"
   ]
  },
  {
   "cell_type": "markdown",
   "metadata": {},
   "source": [
    "&zwnj;\n",
    "\n",
    "### d) ###\n",
    "Now consider the second derivative of $G$:\n",
    "\n",
    "$$\n",
    "G^{(2)}(s) ~ = ~ \\frac{d^2}{ds^2} G(s), ~~~ -\\infty < s < \\infty\n",
    "$$\n",
    "\n",
    "Recognize (you don't have to prove these) $G^{(2)}(0)$ and $G^{(2)}(1)$ as familiar quantities related to $X$."
   ]
  },
  {
   "cell_type": "markdown",
   "metadata": {
    "purpose": "solution"
   },
   "source": [
    "*Provide your answer and reasoning in this Markdown cell.*"
   ]
  },
  {
   "cell_type": "markdown",
   "metadata": {},
   "source": [
    "&zwnj;\n",
    "\n",
    "### e) ###\n",
    "Find a formula for $Var(X)$ in terms of derivatives of $G$."
   ]
  },
  {
   "cell_type": "markdown",
   "metadata": {
    "purpose": "solution"
   },
   "source": [
    "*Provide your answer and reasoning in this Markdown cell.*"
   ]
  },
  {
   "cell_type": "markdown",
   "metadata": {},
   "source": [
    "&zwnj;\n",
    "\n",
    "#QUESTION\n",
    "\n",
    "### 4. The \"Sample Variance\" ###\n",
    "Let $X_1, X_2, \\ldots, X_n$ be i.i.d., each with mean $\\mu$ and SD $\\sigma$. Let $\\bar{X} = \\frac{1}{n}\\sum_{i=1} X_i$ be the sample mean."
   ]
  },
  {
   "cell_type": "markdown",
   "metadata": {},
   "source": [
    "&zwnj;\n",
    "\n",
    "### a) ###\n",
    "Find $E(\\bar{X})$ and $SD(\\bar{X})$."
   ]
  },
  {
   "cell_type": "markdown",
   "metadata": {
    "purpose": "solution"
   },
   "source": [
    "*Provide your answer and reasoning in this Markdown cell.*"
   ]
  },
  {
   "cell_type": "markdown",
   "metadata": {},
   "source": [
    "&zwnj;\n",
    "\n",
    "### b) ### \n",
    "For each $i$, find $Cov(X_i, \\bar{X})$. \n",
    "\n",
    "[Plug in the definition of $\\bar{X}$ and use bilinearity.]"
   ]
  },
  {
   "cell_type": "markdown",
   "metadata": {
    "purpose": "solution"
   },
   "source": [
    "*Provide your answer and reasoning in this Markdown cell.*"
   ]
  },
  {
   "cell_type": "markdown",
   "metadata": {},
   "source": [
    "&zwnj;\n",
    "\n",
    "### c) ###\n",
    "For each $i$ in the range 1 through $n$, define the *$i$th deviation in the sample* as $D_i = X_i - \\bar{X}$. Find $E(D_i)$ and $Var(D_i)$.\n",
    "\n",
    "[Write the variance as $Cov(D_i, D_i)$, plug in the definition of $D_i$, and use bilinearity.]"
   ]
  },
  {
   "cell_type": "markdown",
   "metadata": {
    "purpose": "solution"
   },
   "source": [
    "*Provide your answer and reasoning in this Markdown cell.*"
   ]
  },
  {
   "cell_type": "markdown",
   "metadata": {},
   "source": [
    "&zwnj;\n",
    "\n",
    "### d) ###\n",
    "Define the random variable $\\hat{\\sigma}^2$ as\n",
    "$$\n",
    "\\hat{\\sigma}^2 ~ = ~ \\frac{1}{n} \\sum_{i=1}^n D_i^2\n",
    "$$\n",
    "Find $E(\\hat{\\sigma}^2)$.\n",
    "\n",
    "For this random variable, the notation $\\hat{\\sigma}^2$ is pretty standard in statistics. Just think of $\\hat{\\sigma}^2$ as a symbol; it doesn't help to start thinking about the random variable that is its square root."
   ]
  },
  {
   "cell_type": "markdown",
   "metadata": {
    "purpose": "solution"
   },
   "source": [
    "*Provide your answer and reasoning in this Markdown cell.*"
   ]
  },
  {
   "cell_type": "markdown",
   "metadata": {},
   "source": [
    "&zwnj;\n",
    "\n",
    "### e) ###\n",
    "Use **d** to construct a random variable denoted $S^2$ that is an unbiased estimator of $\\sigma^2$. This random variable $S^2$ is called the *sample variance*."
   ]
  },
  {
   "cell_type": "markdown",
   "metadata": {
    "purpose": "solution"
   },
   "source": [
    "*Provide your answer and reasoning in this Markdown cell.*"
   ]
  },
  {
   "cell_type": "markdown",
   "metadata": {},
   "source": [
    "&zwnj;\n",
    "\n",
    "#QUESTION\n",
    "\n",
    "### 5. Correlation ###\n",
    "The *correlation* between random variables $X$ and $Y$ is measured by the *correlation coefficient* $r$ defined as follows:\n",
    "\n",
    "$$\n",
    "r(X, Y) ~ = \\frac{Cov(X, Y)}{SD(X)SD(Y)}\n",
    "$$\n"
   ]
  },
  {
   "cell_type": "markdown",
   "metadata": {},
   "source": [
    "&zwnj;\n",
    "\n",
    "### a) ###\n",
    "Let $X^*$ be $X$ is standard units, and let $Y^*$ be $Y$ in standard units. Show that\n",
    "\n",
    "$$\n",
    "r(X, Y) = E(X^*)(Y^*)\n",
    "$$\n",
    "\n",
    "consistent with the Data 8 definition of correlation: convert each variable to standard units; multiply each pair; take the mean of the products."
   ]
  },
  {
   "cell_type": "markdown",
   "metadata": {
    "purpose": "solution"
   },
   "source": [
    "*Provide your answer and reasoning in this Markdown cell.*"
   ]
  },
  {
   "cell_type": "markdown",
   "metadata": {},
   "source": [
    "&zwnj;\n",
    "\n",
    "### b) ###\n",
    "Use the fact that $(X^* + Y^*)^2$ and $(X^* - Y^*)^2$ are non-negative random variables to show that $-1 \\le r(X, Y) \\le 1$.\n",
    "\n",
    "[First write the values of $E(X^*)$ and $E({X^*}^2)$. Then find $E(X^* + Y^*)^2$.]"
   ]
  },
  {
   "cell_type": "markdown",
   "metadata": {
    "purpose": "solution"
   },
   "source": [
    "*Provide your answer and reasoning in this Markdown cell.*"
   ]
  },
  {
   "cell_type": "markdown",
   "metadata": {},
   "source": [
    "&zwnj;\n",
    "\n",
    "### c) ### \n",
    "Consider a sequence of i.i.d. Bernoulli $(p)$ trials. For any positive integer $k$ let $X_k$ be the number of successes in trials 1 through $k$. **Use bilinearity** to find $Cov(X_n, X_{n+m})$ and hence find $r(X_n, X_{n+m})$."
   ]
  },
  {
   "cell_type": "markdown",
   "metadata": {
    "purpose": "solution"
   },
   "source": [
    "*Provide your answer and reasoning in this Markdown cell.*"
   ]
  },
  {
   "cell_type": "markdown",
   "metadata": {},
   "source": [
    "&zwnj;\n",
    "\n",
    "### d) ###\n",
    "Fix $n$ and find the limit of your answer to **c** as $m \\to \\infty$. Explain why the limit is consistent with intuition."
   ]
  },
  {
   "cell_type": "markdown",
   "metadata": {
    "purpose": "solution"
   },
   "source": [
    "*Provide your answer and reasoning in this Markdown cell.*"
   ]
  },
  {
   "cell_type": "markdown",
   "metadata": {},
   "source": [
    "&zwnj;\n",
    "\n",
    "#QUESTION\n",
    "\n",
    "### Question 6 ###\n",
    "This is a freebie. Everyone gets credit. Take the time to do the midterm again, unless you got almost all of it right."
   ]
  },
  {
   "cell_type": "code",
   "execution_count": 9,
   "metadata": {
    "collapsed": false
   },
   "outputs": [],
   "source": [
    "_ = autograder.grade('q1')"
   ]
  },
  {
   "cell_type": "markdown",
   "metadata": {},
   "source": [
    "&zwnj;\n",
    "\n",
    "## Latex error fix\n",
    "\n",
    "If you have a latex error when compiling to gradescope, we now have a function called `cell_by_cell` which will identify which cell is the problem! Feel free to test it out by running the cell below\n",
    "\n",
    "Please don't delete this cell and make sure to save your notebook"
   ]
  },
  {
   "cell_type": "code",
   "execution_count": 10,
   "metadata": {
    "collapsed": false
   },
   "outputs": [],
   "source": [
    "import gsExport\n",
    "gsExport.cell_by_cell()"
   ]
  },
  {
   "cell_type": "code",
   "execution_count": null,
   "metadata": {
    "collapsed": true
   },
   "outputs": [],
   "source": [
    "# For your convenience, you can run this cell to run all the tests at once!\n",
    "import os\n",
    "_ = [autograder.grade(q[:-3]) for q in os.listdir(\"tests\") if q.startswith('q')]"
   ]
  },
  {
   "cell_type": "code",
   "execution_count": null,
   "metadata": {
    "collapsed": true
   },
   "outputs": [],
   "source": [
    "import gsExport\n",
    "gsExport.generateSubmission()"
   ]
  },
  {
   "cell_type": "code",
   "execution_count": null,
   "metadata": {
    "collapsed": false
   },
   "outputs": [],
   "source": [
    "# For your convenience, you can run this cell to run all the tests at once!\n",
    "import os\n",
    "_ = [autograder.grade(q[:-3]) for q in os.listdir(\"tests\") if q.startswith('q')]"
   ]
  },
  {
   "cell_type": "code",
   "execution_count": null,
   "metadata": {
    "collapsed": true
   },
   "outputs": [],
   "source": [
    "import gsExport\n",
    "gsExport.generateSubmission()"
   ]
  }
 ],
 "metadata": {
  "anaconda-cloud": {},
  "kernelspec": {
   "display_name": "Python [default]",
   "language": "python",
   "name": "python3"
  },
  "language_info": {
   "codemirror_mode": {
    "name": "ipython",
    "version": 3
   },
   "file_extension": ".py",
   "mimetype": "text/x-python",
   "name": "python",
   "nbconvert_exporter": "python",
   "pygments_lexer": "ipython3",
   "version": "3.5.2"
  }
 },
 "nbformat": 4,
 "nbformat_minor": 0
}

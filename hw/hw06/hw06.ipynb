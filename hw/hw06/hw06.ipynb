{
 "cells": [
  {
   "cell_type": "code",
   "execution_count": null,
   "metadata": {
    "collapsed": false,
    "deletable": true,
    "editable": true,
    "specialcell_type": "setup"
   },
   "outputs": [],
   "source": [
    "# SETUP\n",
    "\n",
    "import numpy as np\n",
    "from datascience import *\n",
    "from prob140 import *\n",
    "\n",
    "# These lines do some fancy plotting magic\n",
    "import matplotlib\n",
    "%matplotlib inline\n",
    "import matplotlib.pyplot as plt\n",
    "plt.style.use('fivethirtyeight')\n",
    "\n",
    "# These lines make warnings look nicer\n",
    "import warnings\n",
    "warnings.simplefilter('ignore', FutureWarning)\n",
    "\n",
    "# To save you a lot of time\n",
    "from scipy import stats\n",
    "from client.api.assignment import load_assignment\n",
    "autograder = load_assignment('main.ok')"
   ]
  },
  {
   "cell_type": "markdown",
   "metadata": {
    "deletable": true,
    "editable": true
   },
   "source": [
    "# Homework 6# \n",
    "\n",
    "A few reminders:\n",
    "\n",
    "- Please do not delete cells or text in cells that contain questions as this could cause errors when you submit.\n",
    "- Please format your code so that it can be seen in the cell without having to use the scroll bar"
   ]
  },
  {
   "cell_type": "markdown",
   "metadata": {
    "deletable": true,
    "editable": true
   },
   "source": [
    "&zwnj;\n",
    "\n",
    "#QUESTION\n",
    "\n",
    "### 1. Jump Up, Fall Down, Again ###\n",
    "In Homework 5 you created a MarkovChain object `jump_fall` for a 12 step ladder. Refer to Question 2 of Homework 5 for details. Here is the code that produces `jump_fall` for a 6 step ladder instead of the 12 step ladder used in Homework 5. The chain for a 12 step ladder and a 6 step ladder are identical except for a 12 step ladder goes up to state 12 while a 6 step ladder goes up to state 6."
   ]
  },
  {
   "cell_type": "code",
   "execution_count": null,
   "metadata": {
    "collapsed": false,
    "deletable": true,
    "editable": true
   },
   "outputs": [],
   "source": [
    "s = np.arange(0, 7)\n",
    "def transition_probs(i, j):\n",
    "\n",
    "    if(i == 6):\n",
    "        if(j == 0):\n",
    "            return 1\n",
    "        else:\n",
    "            return 0\n",
    "    elif(j > i):\n",
    "        return 1/(6 - i)\n",
    "    else:\n",
    "        return 0\n",
    "    \n",
    "jump_fall_tbl = Table().states(s).transition_function(transition_probs)\n",
    "jump_fall = jump_fall_tbl.toMarkovChain()"
   ]
  },
  {
   "cell_type": "markdown",
   "metadata": {
    "deletable": true,
    "editable": true
   },
   "source": [
    "&zwnj;\n",
    "\n",
    "### 1.a. ###\n",
    "Find the expected return time to 0, given that the chain starts at 0."
   ]
  },
  {
   "cell_type": "code",
   "execution_count": null,
   "metadata": {
    "collapsed": true,
    "deletable": true,
    "editable": true,
    "purpose": "solution"
   },
   "outputs": [],
   "source": []
  },
  {
   "cell_type": "markdown",
   "metadata": {
    "deletable": true,
    "editable": true
   },
   "source": [
    "&zwnj;\n",
    "\n",
    "### 1.b. ###\n",
    "Given that the chain starts at 0, find the expected number of times the chain visits the state 6 before it returns to 0."
   ]
  },
  {
   "cell_type": "code",
   "execution_count": null,
   "metadata": {
    "collapsed": true,
    "deletable": true,
    "editable": true,
    "purpose": "solution"
   },
   "outputs": [],
   "source": []
  },
  {
   "cell_type": "markdown",
   "metadata": {
    "deletable": true,
    "editable": true
   },
   "source": [
    "&zwnj;\n",
    "\n",
    "### 1.c. ###\n",
    "Given that the chain starts at 0, find the expected amount of time it takes to reach state 12."
   ]
  },
  {
   "cell_type": "code",
   "execution_count": null,
   "metadata": {
    "collapsed": true,
    "deletable": true,
    "editable": true,
    "purpose": "solution"
   },
   "outputs": [],
   "source": []
  },
  {
   "cell_type": "markdown",
   "metadata": {
    "deletable": true,
    "editable": true
   },
   "source": [
    "&zwnj;\n",
    "\n",
    "### 1.d ###\n",
    "Is the chain reversible? Explain your answer."
   ]
  },
  {
   "cell_type": "markdown",
   "metadata": {
    "deletable": true,
    "editable": true,
    "purpose": "solution"
   },
   "source": [
    "*Provide your answer and reasoning in this Markdown cell.*"
   ]
  },
  {
   "cell_type": "markdown",
   "metadata": {
    "deletable": true,
    "editable": true
   },
   "source": [
    "&zwnj;\n",
    "\n",
    "#QUESTION\n",
    "\n",
    "### 2. Fred's Office Light ###\n",
    "This problem is taken from Homework 1 of EE281A/Stat241A (Statistical Learning Theory) Fall 2012. The homework is available on Prof. Wainwright's website. \n",
    "\n",
    "Every day that he leaves work, Fred the Absent-minded Accountant toggles his light switch according to the following protocol: (i) if the light is on, he switches it off with probability 0.60; and (ii) if the light is off, he switches it on with probability 0.20. At no other time (other than the end of each day) is the light switch touched.\n",
    "\n",
    "[From Prof. A.: I suggest you assume nobody touches the light switches during the weekend.]"
   ]
  },
  {
   "cell_type": "markdown",
   "metadata": {
    "deletable": true,
    "editable": true
   },
   "source": [
    "&zwnj;\n",
    "\n",
    "### 2a. ###\n",
    "[This part wasn't on their homework but you should do it; it will make life easier in later parts.] In the cell below, set up the transition matrix in a MarkovChain object called `fred`."
   ]
  },
  {
   "cell_type": "code",
   "execution_count": null,
   "metadata": {
    "collapsed": false,
    "deletable": true,
    "editable": true,
    "purpose": "solution"
   },
   "outputs": [],
   "source": [
    "\n",
    "s = ['On', 'Off']\n",
    "def trans_prob(i, j):\n",
    "    ...\n",
    "fred = Table().states(s).transition_function(trans_prob).toMarkovChain()\n",
    "fred"
   ]
  },
  {
   "cell_type": "markdown",
   "metadata": {
    "deletable": true,
    "editable": true
   },
   "source": [
    "&zwnj;\n",
    "\n",
    "### 2b. ###\n",
    "Suppose that on Monday night after leaving work, Fred’s office is equally likely to be light or dark. What is the probability that his office will be lit all five nights of the week (Monday through Friday)?"
   ]
  },
  {
   "cell_type": "markdown",
   "metadata": {
    "collapsed": true,
    "deletable": true,
    "editable": true,
    "purpose": "solution"
   },
   "source": [
    "*Provide your answer and reasoning in this Markdown cell.*"
   ]
  },
  {
   "cell_type": "markdown",
   "metadata": {
    "deletable": true,
    "editable": true
   },
   "source": [
    "&zwnj;\n",
    "\n",
    "### 2c. ### \n",
    "Suppose that you observe that his office is lit on both Monday and Friday nights after work. Compute the expected number of nights, from that Monday through Friday, that his office is lit."
   ]
  },
  {
   "cell_type": "code",
   "execution_count": null,
   "metadata": {
    "collapsed": true,
    "deletable": true,
    "editable": true,
    "purpose": "solution"
   },
   "outputs": [],
   "source": []
  },
  {
   "cell_type": "markdown",
   "metadata": {
    "deletable": true,
    "editable": true
   },
   "source": [
    "&zwnj;\n",
    "\n",
    "### 2d. ###\n",
    "Suppose that Fred’s office is lit on Monday night after work. Compute the expected number of weekdays until the first night that his office is dark."
   ]
  },
  {
   "cell_type": "code",
   "execution_count": null,
   "metadata": {
    "collapsed": true,
    "deletable": true,
    "editable": true,
    "purpose": "solution"
   },
   "outputs": [],
   "source": []
  },
  {
   "cell_type": "markdown",
   "metadata": {
    "deletable": true,
    "editable": true
   },
   "source": [
    "&zwnj;\n",
    "\n",
    "### 2e. ###\n",
    "Now suppose that Fred has been working for five years (i.e., assume that the Markov chain is in steady state). Is his light more likely to be on or off at the end of a given workday? Use the code cell for calculations and include your answer as a comment in the code cell."
   ]
  },
  {
   "cell_type": "code",
   "execution_count": null,
   "metadata": {
    "collapsed": false,
    "deletable": true,
    "editable": true,
    "purpose": "solution"
   },
   "outputs": [],
   "source": []
  },
  {
   "cell_type": "markdown",
   "metadata": {
    "deletable": true,
    "editable": true
   },
   "source": [
    "&zwnj;\n",
    "\n",
    "#QUESTION\n",
    "\n",
    "### 3. Another Ehrenfest Model ###\n",
    "A total of $N$ particles is distributed in two containers. At each time $1, 2, 3, \\ldots$, one particle is picked at random and moved to the other container. Let $X_n$ denote the number of particles in Container 1 at time $n$, and assume $X_0 = 0$.\n",
    "\n",
    "The sequence $X_0, X_1, X_2 \\ldots $ is a Markov Chain."
   ]
  },
  {
   "cell_type": "markdown",
   "metadata": {
    "deletable": true,
    "editable": true
   },
   "source": [
    "&zwnj;\n",
    "\n",
    "### 3a. ###\n",
    "Pick one of the three options and explain your choice. If you pick Option 2, fill in the integer that is the period.\n",
    "\n",
    "**(i)** This chain is not irreducible.\n",
    "\n",
    "**(ii)** This chain is irreducible and periodic; the period is $\\underline{~~~~~~~~~~~~}$.\n",
    "\n",
    "**(iii)** This chain is irreducible and aperiodic."
   ]
  },
  {
   "cell_type": "markdown",
   "metadata": {
    "collapsed": true,
    "deletable": true,
    "editable": true,
    "purpose": "solution"
   },
   "source": [
    "*Provide your answer and reasoning in this Markdown cell.*"
   ]
  },
  {
   "cell_type": "markdown",
   "metadata": {
    "deletable": true,
    "editable": true
   },
   "source": [
    "&zwnj;\n",
    "\n",
    "### 3b. ###\n",
    "For each $k$ in the range 0 through $N$, find the expected long run proportion of time the chain spends at $k$."
   ]
  },
  {
   "cell_type": "markdown",
   "metadata": {
    "deletable": true,
    "editable": true,
    "purpose": "solution"
   },
   "source": [
    "*Provide your answer and reasoning in this Markdown cell.*"
   ]
  },
  {
   "cell_type": "markdown",
   "metadata": {
    "deletable": true,
    "editable": true
   },
   "source": [
    "&zwnj;\n",
    "\n",
    "### 3c. ###\n",
    "Given that $X_0 = 0$, what is the expected time till the chain returns to 0?"
   ]
  },
  {
   "cell_type": "markdown",
   "metadata": {
    "deletable": true,
    "editable": true,
    "purpose": "solution"
   },
   "source": [
    "*Provide your answer and reasoning in this Markdown cell.*"
   ]
  },
  {
   "cell_type": "markdown",
   "metadata": {
    "deletable": true,
    "editable": true
   },
   "source": [
    "&zwnj;\n",
    "\n",
    "### 3d. ###\n",
    "For each $k > 0$, find the expected number of visits to $k$ before the chain returns to 0, given that it started at 0."
   ]
  },
  {
   "cell_type": "markdown",
   "metadata": {
    "deletable": true,
    "editable": true,
    "purpose": "solution"
   },
   "source": [
    "*Provide your answer and reasoning in this Markdown cell.*"
   ]
  },
  {
   "cell_type": "markdown",
   "metadata": {
    "deletable": true,
    "editable": true
   },
   "source": [
    "&zwnj;\n",
    "\n",
    "#QUESTION\n",
    "\n",
    "### 4. Random Numbers ###\n",
    "A random number generator draws repeatedly at random with replacement from the 10 digits 0, 1, 2, 3, 4, 5, 6, 7, 8, 9."
   ]
  },
  {
   "cell_type": "markdown",
   "metadata": {
    "deletable": true,
    "editable": true
   },
   "source": [
    "&zwnj;\n",
    "\n",
    "### 4a. ###\n",
    "Set up a system of equations that you can solve to find the expected number of times the keys have to be hit till the pattern 5665 appears. Do not solve the system, but please explain all your notation clearly."
   ]
  },
  {
   "cell_type": "markdown",
   "metadata": {
    "deletable": true,
    "editable": true,
    "purpose": "solution"
   },
   "source": [
    "*Provide your answer and reasoning in this Markdown cell.*"
   ]
  },
  {
   "cell_type": "markdown",
   "metadata": {
    "deletable": true,
    "editable": true
   },
   "source": [
    "&zwnj;\n",
    "\n",
    "### 4b. ###\n",
    "For each of three patterns, the expected number of times the keys have to be hit till the pattern appears will be assigned to the name `ev_pattern`. Write numerical expressions for each of them (if you have followed the lectures and course notes, you should not have to solve equations)."
   ]
  },
  {
   "cell_type": "code",
   "execution_count": null,
   "metadata": {
    "collapsed": true,
    "deletable": true,
    "editable": true,
    "purpose": "solution"
   },
   "outputs": [],
   "source": [
    "\n",
    "ev_5665 = ...\n",
    "ev_94720 = ...\n",
    "ev_121121 = ...\n",
    "\n",
    "ev_5665, ev_94720, ev_121121"
   ]
  },
  {
   "cell_type": "markdown",
   "metadata": {
    "deletable": true,
    "editable": true
   },
   "source": [
    "&zwnj;\n",
    "\n",
    "### 4c. ### \n",
    "Now suppose the sequence of numbers is hidden from you but you are told whether or not each number in the sequence is a prime (2, 3, 5, 7). That is, for each $n \\ge 1$ let $I_n$ be the indicator of \"draw $n$ is a prime\", and consider the sequence $I_1, I_2, \\ldots $. For this sequence, fill in the cell below."
   ]
  },
  {
   "cell_type": "code",
   "execution_count": null,
   "metadata": {
    "collapsed": true,
    "deletable": true,
    "editable": true,
    "purpose": "solution"
   },
   "outputs": [],
   "source": [
    "\n",
    "ev_1001 = ...\n",
    "ev_1010 = ...\n",
    "\n",
    "ev_1001, ev_1010"
   ]
  },
  {
   "cell_type": "markdown",
   "metadata": {
    "deletable": true,
    "editable": true
   },
   "source": [
    "&zwnj;\n",
    "\n",
    "#QUESTION\n",
    "\n",
    "### 5. Bernoulli-Laplace Model for Diffusion ###\n",
    "There are 4 black balls and 6 white balls distributed in two containers such that each container always has 5 balls. Suppose that the balls move back and forth between containers as follows:\n",
    "\n",
    "- At every step, one ball is selected at random from each container, independently of the other choice; then these two balls are switched. That is, each chosen ball is taken out of its container and placed in the other one.\n",
    "\n",
    "For $n \\ge 0$, let $X_n$ be the number of black balls in Container 1 at time $n$. Then $X_0, X_1, \\ldots $ is a Markov Chain."
   ]
  },
  {
   "cell_type": "markdown",
   "metadata": {
    "deletable": true,
    "editable": true
   },
   "source": [
    "&zwnj;\n",
    "\n",
    "### 5a. ###\n",
    "Create a MarkovChain object `BL` that is the transition matrix of the chain, and use it to find the long run expected proportion of steps in which all of the black balls are in Container 1."
   ]
  },
  {
   "cell_type": "code",
   "execution_count": null,
   "metadata": {
    "collapsed": true,
    "deletable": true,
    "editable": true,
    "purpose": "solution"
   },
   "outputs": [],
   "source": []
  },
  {
   "cell_type": "markdown",
   "metadata": {
    "deletable": true,
    "editable": true
   },
   "source": [
    "&zwnj;\n",
    "\n",
    "### 5b. ###\n",
    "For every step $n$ at which $X_n$ is an odd number, a gambler wins $\\$X_n$. That is, whenever $X_n = 1$ the gambler wins $\\$1$ and whenever $X_n = 3$ the gambler wins $\\$3$. When $X_n$ is not an odd number, the gambler doesn't win anything. Find the gambler's long run expected average winnings per step."
   ]
  },
  {
   "cell_type": "code",
   "execution_count": null,
   "metadata": {
    "collapsed": true,
    "deletable": true,
    "editable": true,
    "purpose": "solution"
   },
   "outputs": [],
   "source": []
  },
  {
   "cell_type": "markdown",
   "metadata": {
    "deletable": true,
    "editable": true
   },
   "source": [
    "&zwnj;\n",
    "\n",
    "### 5c. ###\n",
    "Is the chain reversible? Explain your answer."
   ]
  },
  {
   "cell_type": "markdown",
   "metadata": {
    "deletable": true,
    "editable": true,
    "purpose": "solution"
   },
   "source": [
    "*Provide your answer and reasoning in this Markdown cell.*"
   ]
  },
  {
   "cell_type": "markdown",
   "metadata": {
    "deletable": true,
    "editable": true
   },
   "source": [
    "&zwnj;\n",
    "\n",
    "#QUESTION\n",
    "\n",
    "### 6. Wet Professor ###\n",
    "A professor has two umbrellas, each of which could either be in her office or in her car. The professor walks from her car to her office; she also walks from her office to her car. Assume that on each of these walks:\n",
    "\n",
    "- It rains with probability 0.7, independently of all other walks. \n",
    "\n",
    "- If it is not raining, the professor ignores the umbrellas.\n",
    "\n",
    "- If it is raining, she uses an umbrella if there is one, and gets wet if there isn't.\n",
    "\n",
    "In the long run, what is the expected proportion of walks on which the professor gets wet?"
   ]
  },
  {
   "cell_type": "markdown",
   "metadata": {
    "collapsed": true,
    "deletable": true,
    "editable": true,
    "purpose": "solution"
   },
   "source": [
    "*Provide your answer and reasoning in this Markdown cell.*"
   ]
  },
  {
   "cell_type": "code",
   "execution_count": null,
   "metadata": {
    "collapsed": false,
    "deletable": true,
    "editable": true
   },
   "outputs": [],
   "source": [
    "_ = autograder.grade('q1')"
   ]
  },
  {
   "cell_type": "markdown",
   "metadata": {
    "deletable": true,
    "editable": true
   },
   "source": [
    "&zwnj;\n",
    "\n",
    "## Latex error fix\n",
    "\n",
    "If you have a latex error when compiling to gradescope, we now have a function called `cell_by_cell` which will identify which cell is the problem! Feel free to test it out by running:\n",
    "```python\n",
    "import gsExport\n",
    "gsExport.cell_by_cell()\n",
    "```\n",
    "\n",
    "\n",
    "\n",
    "Please don't delete this cell and make sure to save your notebook"
   ]
  },
  {
   "cell_type": "code",
   "execution_count": null,
   "metadata": {
    "collapsed": false,
    "deletable": true,
    "editable": true
   },
   "outputs": [],
   "source": [
    "# For your convenience, you can run this cell to run all the tests at once!\n",
    "import os\n",
    "_ = [autograder.grade(q[:-3]) for q in os.listdir(\"tests\") if q.startswith('q')]"
   ]
  },
  {
   "cell_type": "code",
   "execution_count": null,
   "metadata": {
    "collapsed": false,
    "deletable": true,
    "editable": true
   },
   "outputs": [],
   "source": [
    "import gsExport\n",
    "gsExport.generateSubmission()"
   ]
  }
 ],
 "metadata": {
  "anaconda-cloud": {},
  "kernelspec": {
   "display_name": "Python 3",
   "language": "python",
   "name": "python3"
  },
  "language_info": {
   "codemirror_mode": {
    "name": "ipython",
    "version": 3
   },
   "file_extension": ".py",
   "mimetype": "text/x-python",
   "name": "python",
   "nbconvert_exporter": "python",
   "pygments_lexer": "ipython3",
   "version": "3.5.2"
  }
 },
 "nbformat": 4,
 "nbformat_minor": 0
}

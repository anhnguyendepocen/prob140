{
 "cells": [
  {
   "cell_type": "code",
   "execution_count": 2,
   "metadata": {
    "collapsed": true
   },
   "outputs": [],
   "source": [
    "# HIDDEN\n",
    "from datascience import *\n",
    "from prob140 import *\n",
    "import numpy as np\n",
    "import matplotlib.pyplot as plt\n",
    "plt.style.use('fivethirtyeight')\n",
    "%matplotlib inline\n",
    "import math\n",
    "from scipy import stats\n",
    "from scipy import misc"
   ]
  },
  {
   "cell_type": "markdown",
   "metadata": {},
   "source": [
    "### Definition ###\n",
    "Measuring the rough size of the squared deviations has the advantage that it avoids cancellation between positive and negative errors. The disadvantage is that squared deviations have units that are difficult to understand. The measure of spread that we are about to define takes care of this problem.\n",
    "\n",
    "#### Root Mean Squared Deviation from the Mean ####\n",
    "Let $X$ be a random variable with expectation $\\mu_X$. The *standard deviation* of $X$, denoted $SD(X)$ or $\\sigma_X$, is the root mean square of deviations from the mean:\n",
    "\n",
    "$$\n",
    "SD(X) = \\sigma_X = \\sqrt{ E\\big{(} (X-\\mu_X)^2 \\big{)} }\n",
    "$$\n",
    "\n",
    "$SD(X)$ has the same units as $X$ and $E(X)$. In this chapter we will make precise the sense in which the standard deviation measures the spread of the distribution of $X$ about the center $\\mu_X$.\n",
    "\n",
    "The quantity inside the square root is called the *variance* of $X$ and has better computational properties than the SD. This turns out to be closely connected to the fact that by Pythagoras' Theorem, squares of distances combine in useful ways.\n",
    "\n",
    "$$\n",
    "Var(X) = \\sigma_X^2 = E\\big{(} (X-\\mu_X)^2 \\big{)}\n",
    "$$\n",
    "\n",
    "Almost invariably, we will calculate standard deviations by first finding the variance and then taking the square root.\n",
    "\n",
    "Let's try out the definition of the SD on a random variable $X$ that has the distribution defined below."
   ]
  },
  {
   "cell_type": "code",
   "execution_count": 3,
   "metadata": {
    "collapsed": false
   },
   "outputs": [
    {
     "data": {
      "text/html": [
       "<table border=\"1\" class=\"dataframe\">\n",
       "    <thead>\n",
       "        <tr>\n",
       "            <th>Value</th> <th>Probability</th>\n",
       "        </tr>\n",
       "    </thead>\n",
       "    <tbody>\n",
       "        <tr>\n",
       "            <td>3    </td> <td>0.2        </td>\n",
       "        </tr>\n",
       "    </tbody>\n",
       "        <tr>\n",
       "            <td>4    </td> <td>0.5        </td>\n",
       "        </tr>\n",
       "    </tbody>\n",
       "        <tr>\n",
       "            <td>5    </td> <td>0.3        </td>\n",
       "        </tr>\n",
       "    </tbody>\n",
       "</table>"
      ],
      "text/plain": [
       "Value | Probability\n",
       "3     | 0.2\n",
       "4     | 0.5\n",
       "5     | 0.3"
      ]
     },
     "execution_count": 3,
     "metadata": {},
     "output_type": "execute_result"
    }
   ],
   "source": [
    "x = make_array(3, 4, 5)\n",
    "probs = make_array(0.2, 0.5, 0.3)\n",
    "dist_X = Table().values(x).probability(probs)\n",
    "dist_X"
   ]
  },
  {
   "cell_type": "code",
   "execution_count": 68,
   "metadata": {
    "collapsed": false
   },
   "outputs": [
    {
     "data": {
      "text/plain": [
       "4.0999999999999996"
      ]
     },
     "execution_count": 68,
     "metadata": {},
     "output_type": "execute_result"
    }
   ],
   "source": [
    "distX.expected_value()"
   ]
  },
  {
   "cell_type": "markdown",
   "metadata": {},
   "source": [
    "Here are the squared deviations from the expectation $E(X) = 4.1$."
   ]
  },
  {
   "cell_type": "code",
   "execution_count": 6,
   "metadata": {
    "collapsed": false
   },
   "outputs": [
    {
     "data": {
      "text/html": [
       "<table border=\"1\" class=\"dataframe\">\n",
       "    <thead>\n",
       "        <tr>\n",
       "            <th>x</th> <th>(x - 4.1)**2</th> <th>P(X = x)</th>\n",
       "        </tr>\n",
       "    </thead>\n",
       "    <tbody>\n",
       "        <tr>\n",
       "            <td>3   </td> <td>1.21        </td> <td>0.2     </td>\n",
       "        </tr>\n",
       "    </tbody>\n",
       "        <tr>\n",
       "            <td>4   </td> <td>0.01        </td> <td>0.5     </td>\n",
       "        </tr>\n",
       "    </tbody>\n",
       "        <tr>\n",
       "            <td>5   </td> <td>0.81        </td> <td>0.3     </td>\n",
       "        </tr>\n",
       "    </tbody>\n",
       "</table>"
      ],
      "text/plain": [
       "x    | (x - 4.1)**2 | P(X = x)\n",
       "3    | 1.21         | 0.2\n",
       "4    | 0.01         | 0.5\n",
       "5    | 0.81         | 0.3"
      ]
     },
     "execution_count": 6,
     "metadata": {},
     "output_type": "execute_result"
    }
   ],
   "source": [
    "sd_table = Table().with_columns(\n",
    "    'x', dist_X.column(0),\n",
    "    '(x - 4.1)**2', (dist_X.column(0)-4.1)**2,\n",
    "    'P(X = x)', dist_X.column(1)\n",
    ")\n",
    "sd_table"
   ]
  },
  {
   "cell_type": "markdown",
   "metadata": {},
   "source": [
    "The standard deviation of $X$ is the square root of the mean squared deviation. The calculation below shows that its numerical value is $SD(X) = 0.7$."
   ]
  },
  {
   "cell_type": "code",
   "execution_count": 7,
   "metadata": {
    "collapsed": false
   },
   "outputs": [
    {
     "data": {
      "text/plain": [
       "0.69999999999999996"
      ]
     },
     "execution_count": 7,
     "metadata": {},
     "output_type": "execute_result"
    }
   ],
   "source": [
    "sd_X = np.sqrt(sum(sd_table.column(1)*sd_table.column(2)))\n",
    "sd_X"
   ]
  },
  {
   "cell_type": "markdown",
   "metadata": {},
   "source": [
    "The `prob140` method `sd` applied to a distribution object returns the standard deviation, saving you the calculation above."
   ]
  },
  {
   "cell_type": "code",
   "execution_count": 4,
   "metadata": {
    "collapsed": false
   },
   "outputs": [
    {
     "data": {
      "text/plain": [
       "0.7"
      ]
     },
     "execution_count": 4,
     "metadata": {},
     "output_type": "execute_result"
    }
   ],
   "source": [
    "dist_X.sd()"
   ]
  },
  {
   "cell_type": "markdown",
   "metadata": {},
   "source": [
    "We now know how to calculate the SD but we don't yet have a good understanding of what it does. Let's start developing a few properties that it ought to have; then we can check if it does.\n",
    "\n",
    "First, the SD of a constant should be 0. You should check that this is indeed what the definition implies."
   ]
  },
  {
   "cell_type": "markdown",
   "metadata": {},
   "source": [
    "### Shifting and Scaling ###\n",
    "The SD is a measure of spread. It's natural to want measures of spread to remain unchanged if we just shift a probability histogram to the left or right. Such a shift occurs when we add a constant to a random variable. The figure below shows the distribution of the same $X$ as above, along with the distribution of $X+5$. It is clear that $X+5$ should have the same SD as $X$."
   ]
  },
  {
   "cell_type": "code",
   "execution_count": 72,
   "metadata": {
    "collapsed": false
   },
   "outputs": [
    {
     "data": {
      "image/png": "[encoded data removed]",
      "text/plain": [
       "<matplotlib.figure.Figure at 0x11b7d8208>"
      ]
     },
     "metadata": {},
     "output_type": "display_data"
    }
   ],
   "source": [
    "dist2 = Table().values(x+5).probability(probs)\n",
    "Plots('X', dist1, 'X+5', dist2)"
   ]
  },
  {
   "cell_type": "markdown",
   "metadata": {},
   "source": [
    "On the other hand, multiplying $X$ by a constant results in a distribution that should have a different spread. Here is the distribution of $X$ along with the distribution of $4X$. The spread of the distribution of $4X$ appears to be four times as large as that of $X$. "
   ]
  },
  {
   "cell_type": "code",
   "execution_count": 73,
   "metadata": {
    "collapsed": false
   },
   "outputs": [
    {
     "data": {
      "image/png": "[encoded data removed]",
      "text/plain": [
       "<matplotlib.figure.Figure at 0x11c1a9588>"
      ]
     },
     "metadata": {},
     "output_type": "display_data"
    }
   ],
   "source": [
    "dist3 = Table().values(4*x).probability(probs)\n",
    "Plots('X', dist1, '4X', dist3 )\n",
    "plt.xlim(0, 40);"
   ]
  },
  {
   "cell_type": "markdown",
   "metadata": {},
   "source": [
    "Multiplying by $-4$ should have the same effect on the spread as multiplying by 4, as the figure below shows. One histogram is just the mirror image of the other about the vertical axis at 0. There is no change in spread."
   ]
  },
  {
   "cell_type": "code",
   "execution_count": 74,
   "metadata": {
    "collapsed": false
   },
   "outputs": [
    {
     "data": {
      "image/png": "[encoded data removed]",
      "text/plain": [
       "<matplotlib.figure.Figure at 0x11c6134a8>"
      ]
     },
     "metadata": {},
     "output_type": "display_data"
    }
   ],
   "source": [
    "dist4 = Table().values(-4*x).probability(probs)\n",
    "Plots('-4X', dist4, '4X', dist3 )"
   ]
  },
  {
   "cell_type": "markdown",
   "metadata": {},
   "source": [
    "The graphs above help us visualize what happens to the SD when the random variable is transformed linearly. Let $Y = aX + b$. Then\n",
    "\n",
    "$$\n",
    "Var(Y) = E\\big{[} (Y-\\mu_Y)^2 \\big{]} = E\\big{[} (aX + b - a\\mu_X - b)^2 \\big{]} = a^2 E \\big{[} (X - \\mu_X)^2 \\big{]} = a^2 \\sigma_X^2\n",
    "$$\n",
    "\n",
    "Notice that the shift $b$ has no effect on the variance. This is consistent with what we saw in the first visualization above.\n",
    "\n",
    "Because the units of the variance are the square of the units of $X$, $Var(Y)$ is $a^2$ times the variance of $X$. Thus $SD(Y)$ is\n",
    "\n",
    "$$\n",
    "SD(aX + b) = |a|\\sigma_X\n",
    "$$\n",
    "\n",
    "Notice that you get the same answer when the multiplicative constant is $a$ as when it is $-a$. That is what the two \"mirror image\" histograms had shown.\n",
    "\n",
    "In particular, it is very handy to remember that $SD(X) = SD(-X)$."
   ]
  },
  {
   "cell_type": "markdown",
   "metadata": {},
   "source": [
    "### \"Computational\" Formula for Variance ###\n",
    "An algebraic simplification of the formula for variance turns out to be very useful.\n",
    "\n",
    "\\begin{align*}\n",
    "\\sigma_X^2 &= E\\big{(} (X-\\mu_X)^2 \\big{)} \\\\ \\\\\n",
    "&= E(X^2 - 2X\\mu_X + \\mu_X^2) \\\\ \\\\\n",
    "&= E(X^2) - 2\\mu_XE(X) + \\mu_X^2 \\\\ \\\\\n",
    "&= E(X^2) - 2\\mu_X^2 + \\mu_X^2 \\\\ \\\\\n",
    "&= E(X^2) - \\mu_X^2 \n",
    "\\end{align*}\n",
    "\n",
    "Thus the variance is the \"mean of the square minus the square of the mean.\" \n",
    "\n",
    "Though this is often called the \"computational\" formula for variance, it can be be numerically inaccurate if the possible values of $X$ are large and numerous. For algebraic computation, however, it is very useful. Here are several examples."
   ]
  },
  {
   "cell_type": "markdown",
   "metadata": {},
   "source": [
    "### Example: Indicator ###\n",
    "The values of an indicator random variable are 0 and 1. Each of those two numbers is equal to its square. So if $I$ is an indicator, then $I^2 = I$, and thus\n",
    "\n",
    "$$\n",
    "Var(I) = E(I^2) - [E(I)]^2 = E(I) - [E(I)]^2 = p - p^2 = p(1-p)\n",
    "$$\n",
    "\n",
    "You should check that this variance is largest when $p = 0.5$. Take the square root to get\n",
    "\n",
    "$$\n",
    "SD(I) = \\sqrt{p(1-p)}\n",
    "$$"
   ]
  },
  {
   "cell_type": "markdown",
   "metadata": {},
   "source": [
    "### Example: Uniform ###\n",
    "Let $U$ be uniform on $1, 2, 3, \\ldots, n$. Then\n",
    "\n",
    "\\begin{align*}\n",
    "E(U^2) &= \\sum_{k=1}^n k^2 \\cdot \\frac{1}{n} \\\\ \\\\\n",
    "&= \\frac{1}{n} \\sum_{k=1}^n k^2 \\\\ \\\\\n",
    "&= \\frac{1}{n} \\cdot \\frac{n(n+1)(2n+1)}{6} \\\\ \\\\\n",
    "&= \\frac{(n+1)(2n+1)}{6}\n",
    "\\end{align*}\n",
    "\n",
    "In the last-but-one step above, we used the formula for the sum of the first $n$ squares. \n",
    "\n",
    "We know that $E(U) = (n+1)/2$, so\n",
    "\n",
    "$$\n",
    "Var(U) = \\frac{(n+1)(2n+1)}{6} - \\frac{(n+1)^2}{4}\n",
    "= \\frac{n+1}{2} \\big{(} \\frac{2n+1}{3} - \\frac{n+1}{2} \\big{)}\n",
    "= \\frac{n^2-1}{12}\n",
    "$$\n",
    "\n",
    "and \n",
    "\n",
    "$$\n",
    "SD(U) = \\sqrt{\\frac{n^2-1}{12}}\n",
    "$$\n",
    "\n",
    "By shifting, this is the same as the SD of the uniform distribution on any $n$ consecutive integers. "
   ]
  },
  {
   "cell_type": "markdown",
   "metadata": {},
   "source": [
    "### Example: Poisson ###\n",
    "Let $X$ have the Poisson $(\\mu)$ distribution. In the previous chapter we showed that \n",
    "\n",
    "$$\n",
    "E(X^2) = \\mu^2 + \\mu\n",
    "$$\n",
    "\n",
    "We also know that $E(X) = \\mu$. Thus\n",
    "$$\n",
    "Var(X) = \\mu^2 + \\mu - \\mu^2 = \\mu\n",
    "$$\n",
    "\n",
    "and \n",
    "$$\n",
    "SD(X) = \\sqrt{\\mu}\n",
    "$$\n",
    "\n",
    "So for example if $X$ has the Poisson $(5)$ distribution, then $E(X) = 5$ and $SD(X) = \\sqrt{5} \\approx 2.24$. In the remainder of this chapter, we will try to figure out what that means."
   ]
  },
  {
   "cell_type": "code",
   "execution_count": null,
   "metadata": {
    "collapsed": true
   },
   "outputs": [],
   "source": []
  }
 ],
 "metadata": {
  "anaconda-cloud": {},
  "kernelspec": {
   "display_name": "Python [Root]",
   "language": "python",
   "name": "Python [Root]"
  },
  "language_info": {
   "codemirror_mode": {
    "name": "ipython",
    "version": 3
   },
   "file_extension": ".py",
   "mimetype": "text/x-python",
   "name": "python",
   "nbconvert_exporter": "python",
   "pygments_lexer": "ipython3",
   "version": "3.5.2"
  }
 },
 "nbformat": 4,
 "nbformat_minor": 0
}

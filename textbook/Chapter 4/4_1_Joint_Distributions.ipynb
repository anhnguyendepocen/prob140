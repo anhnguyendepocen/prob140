{
 "cells": [
  {
   "cell_type": "code",
   "execution_count": 2,
   "metadata": {
    "collapsed": true
   },
   "outputs": [],
   "source": [
    "# HIDDEN\n",
    "from datascience import *\n",
    "from prob140 import *\n",
    "import numpy as np\n",
    "import matplotlib.pyplot as plt\n",
    "plt.style.use('fivethirtyeight')\n",
    "%matplotlib inline"
   ]
  },
  {
   "cell_type": "markdown",
   "metadata": {},
   "source": [
    "### Joint Distributions ###\n",
    "Suppose $X$ and $Y$ are two random variables defined on the same outcome space. For example, in three tosses of a coin, $X$ could be the number of heads in the first two tosses and $Y$ the number of heads in the last two tosses.\n",
    "\n",
    "We will use the notation $P(X = x, Y = y)$ for the probability that $X$ has the value $x$ and $Y$ has the value $y$. In our example,\n",
    "\n",
    "$$\n",
    "P(X = 1, Y = 2) = P(\\text{THH}) = \\frac{1}{8}\n",
    "$$\n",
    "\n",
    "The *joint distribution of $X$ and $Y$* consists of all the probabilities $P(X=x, Y=y)$ where $x$ ranges over all the possible values of $X$ and $y$ ranges over all the possible values of $Y$."
   ]
  },
  {
   "cell_type": "markdown",
   "metadata": {},
   "source": [
    "In our example, both $X$ and $Y$ have values in the range 0, 1, 2, and so there are nine pairs of values. We could use `product` to list them all, but the `domain` method extends to two variables and is simpler to use. It takes as its arguments the name of one variable, the range of that variable, the name of the other variable, and the range of that variable."
   ]
  },
  {
   "cell_type": "code",
   "execution_count": 4,
   "metadata": {
    "collapsed": false
   },
   "outputs": [
    {
     "data": {
      "text/html": [
       "<table border=\"1\" class=\"dataframe\">\n",
       "    <thead>\n",
       "        <tr>\n",
       "            <th>X</th> <th>Y</th>\n",
       "        </tr>\n",
       "    </thead>\n",
       "    <tbody>\n",
       "        <tr>\n",
       "            <td>0   </td> <td>0   </td>\n",
       "        </tr>\n",
       "    </tbody>\n",
       "        <tr>\n",
       "            <td>0   </td> <td>1   </td>\n",
       "        </tr>\n",
       "    </tbody>\n",
       "        <tr>\n",
       "            <td>0   </td> <td>2   </td>\n",
       "        </tr>\n",
       "    </tbody>\n",
       "        <tr>\n",
       "            <td>1   </td> <td>0   </td>\n",
       "        </tr>\n",
       "    </tbody>\n",
       "        <tr>\n",
       "            <td>1   </td> <td>1   </td>\n",
       "        </tr>\n",
       "    </tbody>\n",
       "        <tr>\n",
       "            <td>1   </td> <td>2   </td>\n",
       "        </tr>\n",
       "    </tbody>\n",
       "        <tr>\n",
       "            <td>2   </td> <td>0   </td>\n",
       "        </tr>\n",
       "    </tbody>\n",
       "        <tr>\n",
       "            <td>2   </td> <td>1   </td>\n",
       "        </tr>\n",
       "    </tbody>\n",
       "        <tr>\n",
       "            <td>2   </td> <td>2   </td>\n",
       "        </tr>\n",
       "    </tbody>\n",
       "</table>"
      ],
      "text/plain": [
       "X    | Y\n",
       "0    | 0\n",
       "0    | 1\n",
       "0    | 2\n",
       "1    | 0\n",
       "1    | 1\n",
       "1    | 2\n",
       "2    | 0\n",
       "2    | 1\n",
       "2    | 2"
      ]
     },
     "execution_count": 4,
     "metadata": {},
     "output_type": "execute_result"
    }
   ],
   "source": [
    "joint_table = Table().domain('X', np.arange(3), 'Y', np.arange(3))\n",
    "joint_table"
   ]
  },
  {
   "cell_type": "markdown",
   "metadata": {},
   "source": [
    "This display contains no probabilities yet, so let's put them in. For now, we will simply make an array of probabilities in the order in which the outcomes appear. Later we will see how to replace the array by a function that will compute the probability of each outcome."
   ]
  },
  {
   "cell_type": "code",
   "execution_count": 5,
   "metadata": {
    "collapsed": false
   },
   "outputs": [
    {
     "data": {
      "text/html": [
       "<table border=\"1\" class=\"dataframe\">\n",
       "    <thead>\n",
       "        <tr>\n",
       "            <th>X</th> <th>Y</th> <th>Probability</th>\n",
       "        </tr>\n",
       "    </thead>\n",
       "    <tbody>\n",
       "        <tr>\n",
       "            <td>0   </td> <td>0   </td> <td>0.125      </td>\n",
       "        </tr>\n",
       "    </tbody>\n",
       "        <tr>\n",
       "            <td>0   </td> <td>1   </td> <td>0.125      </td>\n",
       "        </tr>\n",
       "    </tbody>\n",
       "        <tr>\n",
       "            <td>0   </td> <td>2   </td> <td>0          </td>\n",
       "        </tr>\n",
       "    </tbody>\n",
       "        <tr>\n",
       "            <td>1   </td> <td>0   </td> <td>0.125      </td>\n",
       "        </tr>\n",
       "    </tbody>\n",
       "        <tr>\n",
       "            <td>1   </td> <td>1   </td> <td>0.25       </td>\n",
       "        </tr>\n",
       "    </tbody>\n",
       "        <tr>\n",
       "            <td>1   </td> <td>2   </td> <td>0.125      </td>\n",
       "        </tr>\n",
       "    </tbody>\n",
       "        <tr>\n",
       "            <td>2   </td> <td>0   </td> <td>0          </td>\n",
       "        </tr>\n",
       "    </tbody>\n",
       "        <tr>\n",
       "            <td>2   </td> <td>1   </td> <td>0.125      </td>\n",
       "        </tr>\n",
       "    </tbody>\n",
       "        <tr>\n",
       "            <td>2   </td> <td>2   </td> <td>0.125      </td>\n",
       "        </tr>\n",
       "    </tbody>\n",
       "</table>"
      ],
      "text/plain": [
       "X    | Y    | Probability\n",
       "0    | 0    | 0.125\n",
       "0    | 1    | 0.125\n",
       "0    | 2    | 0\n",
       "1    | 0    | 0.125\n",
       "1    | 1    | 0.25\n",
       "1    | 2    | 0.125\n",
       "2    | 0    | 0\n",
       "2    | 1    | 0.125\n",
       "2    | 2    | 0.125"
      ]
     },
     "execution_count": 5,
     "metadata": {},
     "output_type": "execute_result"
    }
   ],
   "source": [
    "probs = make_array(1/8, 1/8, 0, 1/8, 2/8, 1/8, 0, 1/8, 1/8 )\n",
    "joint_table = joint_table.probability(probs)\n",
    "joint_table"
   ]
  },
  {
   "cell_type": "markdown",
   "metadata": {},
   "source": [
    "This table displays the joint distribution. To check that this is indeed a distribution, we can add up all the probabilities. The sum is 1, as it should be for a distribution."
   ]
  },
  {
   "cell_type": "code",
   "execution_count": 8,
   "metadata": {
    "collapsed": false
   },
   "outputs": [
    {
     "data": {
      "text/plain": [
       "1.0"
      ]
     },
     "execution_count": 8,
     "metadata": {},
     "output_type": "execute_result"
    }
   ],
   "source": [
    "joint_table.column(2).sum()"
   ]
  },
  {
   "cell_type": "markdown",
   "metadata": {},
   "source": [
    "### A Joint Distribution Table ###\n",
    "Though the table above does display the joint distribution, it is more conventional and also more useful to display the same data in a different way.\n",
    "\n",
    "The `prob140` method `toJoint` converts the table above into a JointDistribution object that is displayed as a conventional *joint distribution table* for $X$ and $Y$."
   ]
  },
  {
   "cell_type": "code",
   "execution_count": 7,
   "metadata": {
    "collapsed": false
   },
   "outputs": [
    {
     "data": {
      "text/html": [
       "<div>\n",
       "<table border=\"1\" class=\"dataframe\">\n",
       "  <thead>\n",
       "    <tr style=\"text-align: right;\">\n",
       "      <th></th>\n",
       "      <th>X=0</th>\n",
       "      <th>X=1</th>\n",
       "      <th>X=2</th>\n",
       "    </tr>\n",
       "  </thead>\n",
       "  <tbody>\n",
       "    <tr>\n",
       "      <th>Y=2</th>\n",
       "      <td>0.000</td>\n",
       "      <td>0.125</td>\n",
       "      <td>0.125</td>\n",
       "    </tr>\n",
       "    <tr>\n",
       "      <th>Y=1</th>\n",
       "      <td>0.125</td>\n",
       "      <td>0.250</td>\n",
       "      <td>0.125</td>\n",
       "    </tr>\n",
       "    <tr>\n",
       "      <th>Y=0</th>\n",
       "      <td>0.125</td>\n",
       "      <td>0.125</td>\n",
       "      <td>0.000</td>\n",
       "    </tr>\n",
       "  </tbody>\n",
       "</table>\n",
       "</div>"
      ],
      "text/plain": [
       "       X=0    X=1    X=2\n",
       "Y=2  0.000  0.125  0.125\n",
       "Y=1  0.125  0.250  0.125\n",
       "Y=0  0.125  0.125  0.000"
      ]
     },
     "execution_count": 7,
     "metadata": {},
     "output_type": "execute_result"
    }
   ],
   "source": [
    "joint_dist = joint_table.toJoint()\n",
    "joint_dist"
   ]
  },
  {
   "cell_type": "markdown",
   "metadata": {},
   "source": [
    "This way of displaying the information makes it easier to understand the relation between the two variables, as we will soon see. For now, observe that each cell corresponds to a pair $(x, y)$, where $x$ is a value of $X$ and $y$ a value of $Y$. In the cell you see $P(X = x, Y = y)$, the probability of the pair $(x, y)$. \n",
    "\n",
    "For example, the cell whose labels are `X=1` and `Y=0` contains the probability 0.125. That is because\n",
    "$$\n",
    "P(X = 1, Y = 0) = P(\\text{HTT}) = \\frac{1}{8} = 0.125\n",
    "$$\n",
    "You can check all the other cells in the same way.\n",
    "\n",
    "The table shows it is most likely that both $X$ and $Y$ will be equal to 1. Two outcomes make this happen: HTT and TTH."
   ]
  },
  {
   "cell_type": "markdown",
   "metadata": {},
   "source": [
    "### Finding Probabilities ###\n",
    "The table contains complete information about $X$ and $Y$. To find the probabiilty of any event determined by $X$ and $Y$, simply identify the cells that make the event happen, and add up their chances. This is the random variable version of the Fundamental Method of finding probabilities (see Section 2.4).\n",
    "\n",
    "For example,\n",
    "\n",
    "\\begin{align*}\n",
    "P(X > Y ) &= P(X = 1, Y = 0) + P(X = 2, Y = 0) + P(X = 2 , Y = 1) \\\\\n",
    "&= 0.125 + 0 + 0.125 \\\\\n",
    "&= 0.25\n",
    "\\end{align*}"
   ]
  }
 ],
 "metadata": {
  "anaconda-cloud": {},
  "kernelspec": {
   "display_name": "Python 3",
   "language": "python",
   "name": "python3"
  },
  "language_info": {
   "codemirror_mode": {
    "name": "ipython",
    "version": 3
   },
   "file_extension": ".py",
   "mimetype": "text/x-python",
   "name": "python",
   "nbconvert_exporter": "python",
   "pygments_lexer": "ipython3",
   "version": "3.6.0"
  }
 },
 "nbformat": 4,
 "nbformat_minor": 0
}

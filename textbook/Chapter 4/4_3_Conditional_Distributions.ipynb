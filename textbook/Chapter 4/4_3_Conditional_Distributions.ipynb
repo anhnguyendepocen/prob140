{
 "cells": [
  {
   "cell_type": "code",
   "execution_count": null,
   "metadata": {
    "collapsed": true
   },
   "outputs": [],
   "source": [
    "# HIDDEN\n",
    "from datascience import *\n",
    "from prob140 import *\n",
    "import numpy as np\n",
    "import matplotlib.pyplot as plt\n",
    "plt.style.use('fivethirtyeight')\n",
    "%matplotlib inline"
   ]
  },
  {
   "cell_type": "markdown",
   "metadata": {},
   "source": [
    "### Conditional Distributions ###\n",
    "To understand the relation between two variables you must examine the conditional behavior of each of them given the value of the other. Towards this goal, we will start with some theory and then illustrate it by an example.\n",
    "\n",
    "Recall the division rule\n",
    "$$\n",
    "P(B \\mid A) = \\frac{P(AB)}{P(A)}\n",
    "$$\n",
    "and let's see what it looks like in the context of random variables.\n",
    "\n",
    "Let $X$ and $Y$ be two random variables defined on the same space. If $x$ is a possible value of $X$, and $y$ and possible value of $Y$, then\n",
    "$$\n",
    "P(Y = y \\mid X = x) = \\frac{P(X = x, Y = y)}{P(X = x)}\n",
    "$$\n",
    "\n",
    "Therefore, for a fixed value $x^*$ of $X$, the *conditional distribution of $Y$, given $X = x^*$ is the collection of probabilities\n",
    "$$\n",
    "P(Y = y \\mid X = x^*) = \\frac{P(X = x^*, Y = y)}{P(X = x^*)}\n",
    "$$\n",
    "where $y$ ranges over all the values of $Y$. Keep in mind that $y$ represents values of the variable here. The value $x^*$ is the particular value of $X$ that was observed; it is a constant.\n",
    "\n",
    "### The Probabilities in a Conditional Distribution Sum to 1 ###\n",
    "In a distribution, the probabilities have to sum to 1. To see that this is true for the conditional distribution defined above, start by using the fundamental rule: find $P(X = x^*)$ by partitioning the event $\\{ X = x^* \\}$ according to the values of $Y$:\n",
    "\n",
    "$$\n",
    "P(X = x^*) = \\sum_{\\text{all }y} P(X = x^*, Y = y)\n",
    "$$\n",
    "\n",
    "Now let's sum the probabilities in the conditional distribution of $Y$ given $X = x^*$, and see if the sum is 1.\n",
    "\n",
    "\\begin{align*}\n",
    "\\sum_{\\text{all }y} P(Y = y \\mid X = x^*) &=\n",
    "\\sum_{\\text{all }y} \\frac{P(X = x^*, Y = y)}{P(X = x^*)} \\\\ \\\\\n",
    "&= \\frac{1}{P(X = x^*)} \\sum_{\\text{all }y} P(X = x^*, Y = y) \\\\\n",
    "&= \\frac{1}{P(X = x^*)} \\cdot P(X = x^*) \\\\\n",
    "&= 1\n",
    "\\end{align*}"
   ]
  },
  {
   "cell_type": "markdown",
   "metadata": {},
   "source": [
    "### Example: A Randomly Picked Coin ###\n",
    "Suppose I have one fair coin and three biased coins. Suppose that each of the biased coins lands heads with chance 0.9. I pick one of the coins at random, toss it twice and tell you the number of heads.\n",
    "\n",
    "The goal of this example is to see how the information about the number of heads affects your opinion about which coin was picked.\n",
    "\n",
    "Let $R$ be the probability with which the random coin lands heads. The possible values of $R$ are 0.5 and 0.9, and the probability distribution of $R$ is given by the following table."
   ]
  },
  {
   "cell_type": "code",
   "execution_count": 2,
   "metadata": {
    "collapsed": false
   },
   "outputs": [
    {
     "data": {
      "text/html": [
       "<table border=\"1\" class=\"dataframe\">\n",
       "    <thead>\n",
       "        <tr>\n",
       "            <th>Value</th> <th>Probability</th>\n",
       "        </tr>\n",
       "    </thead>\n",
       "    <tbody>\n",
       "        <tr>\n",
       "            <td>0.5  </td> <td>0.25       </td>\n",
       "        </tr>\n",
       "    </tbody>\n",
       "        <tr>\n",
       "            <td>0.9  </td> <td>0.75       </td>\n",
       "        </tr>\n",
       "    </tbody>\n",
       "</table>"
      ],
      "text/plain": [
       "Value | Probability\n",
       "0.5   | 0.25\n",
       "0.9   | 0.75"
      ]
     },
     "execution_count": 2,
     "metadata": {},
     "output_type": "execute_result"
    }
   ],
   "source": [
    "Table().values([0.5, 0.9]).probability([0.25, 0.75])"
   ]
  },
  {
   "cell_type": "markdown",
   "metadata": {},
   "source": [
    "Let $H$ be the number of heads in the two tosses. Then the joint distribution of $R$ and $H$ consists of terms of the form\n",
    "$$\n",
    "P(R = r, H = h) ~~ \\text{where } r \\in \\{0.5, 0.9\\} \\text{ and }\n",
    "h \\in \\{ 0, 1, 2 \\}\n",
    "$$\n",
    "\n",
    "There are six such terms. Let's work out two of them directly, and then we will use the `prob140` library to calculate the entire joint distribution. By the multiplication rule,\n",
    "\n",
    "$$\n",
    "P(R = 0.9, H = 2) = P(R = 0.9)P(H = 2 \\mid R = 0.9)\n",
    "= 0.75 \\cdot 0.9^2 = 0.6075\n",
    "$$\n",
    "\n",
    "$$\n",
    "P(R = 0.5, H = 1) = P(R = 0.5)P(H = 1 \\mid R = 0.5)\n",
    "= 0.25 [(0.5 \\cdot 0.5) + (0.5 \\cdot 0.5)] = 0.125\n",
    "$$\n",
    "We have used that fact that $\\{H = 1\\}$ happens if either there is a head followed by a tail or a tail followed by a head."
   ]
  },
  {
   "cell_type": "markdown",
   "metadata": {},
   "source": [
    "To get the `prob140` methods `values` and `probability_function` to do the rest of the work, we will start by listing the possible values.\n",
    "\n",
    "- $R$ has possible values 0.5 and 0.9\n",
    "- $H$ has possible values 0, 1, and 2\n",
    "\n",
    "The syntax below creates possible values of the pair of variables and puts it in a table. Now that there are two sets of possible values, you precede each set by the name of the corresponding random variable."
   ]
  },
  {
   "cell_type": "code",
   "execution_count": 6,
   "metadata": {
    "collapsed": false
   },
   "outputs": [
    {
     "data": {
      "text/html": [
       "<table border=\"1\" class=\"dataframe\">\n",
       "    <thead>\n",
       "        <tr>\n",
       "            <th>R</th> <th>H</th>\n",
       "        </tr>\n",
       "    </thead>\n",
       "    <tbody>\n",
       "        <tr>\n",
       "            <td>0.5 </td> <td>0   </td>\n",
       "        </tr>\n",
       "    </tbody>\n",
       "        <tr>\n",
       "            <td>0.5 </td> <td>1   </td>\n",
       "        </tr>\n",
       "    </tbody>\n",
       "        <tr>\n",
       "            <td>0.5 </td> <td>2   </td>\n",
       "        </tr>\n",
       "    </tbody>\n",
       "        <tr>\n",
       "            <td>0.9 </td> <td>0   </td>\n",
       "        </tr>\n",
       "    </tbody>\n",
       "        <tr>\n",
       "            <td>0.9 </td> <td>1   </td>\n",
       "        </tr>\n",
       "    </tbody>\n",
       "        <tr>\n",
       "            <td>0.9 </td> <td>2   </td>\n",
       "        </tr>\n",
       "    </tbody>\n",
       "</table>"
      ],
      "text/plain": [
       "R    | H\n",
       "0.5  | 0\n",
       "0.5  | 1\n",
       "0.5  | 2\n",
       "0.9  | 0\n",
       "0.9  | 1\n",
       "0.9  | 2"
      ]
     },
     "execution_count": 6,
     "metadata": {},
     "output_type": "execute_result"
    }
   ],
   "source": [
    "joint_tbl = Table().values('R', [0.5, 0.9], 'H', [0, 1, 2])\n",
    "joint_tbl"
   ]
  },
  {
   "cell_type": "markdown",
   "metadata": {},
   "source": [
    "That's the outcome space. It consists of the six possible pairs. Now for the probabilities in the joint distribution, let's define a function that computes them."
   ]
  },
  {
   "cell_type": "code",
   "execution_count": 8,
   "metadata": {
    "collapsed": true
   },
   "outputs": [],
   "source": [
    "def joint_probs(r, h):\n",
    "    \"\"\"Return P(R = r, H = h)\"\"\"\n",
    "    \n",
    "    # The distribution of the number of heads in two tosses\n",
    "    # of a coin that lands heads with chance r\n",
    "    heads_2_tosses = make_array((1-r)**2, 2*r*(1-r), r**2)\n",
    "    \n",
    "    if r == 0.5:\n",
    "        return 0.25*heads_2_tosses.item(h)\n",
    "    elif r == 0.9:\n",
    "        return 0.75*heads_2_tosses.item(h)"
   ]
  },
  {
   "cell_type": "markdown",
   "metadata": {},
   "source": [
    "We now use the `probability_function` on `joint_tbl` to create all the joint probabilities:"
   ]
  },
  {
   "cell_type": "code",
   "execution_count": 9,
   "metadata": {
    "collapsed": false
   },
   "outputs": [
    {
     "data": {
      "text/html": [
       "<table border=\"1\" class=\"dataframe\">\n",
       "    <thead>\n",
       "        <tr>\n",
       "            <th>R</th> <th>H</th> <th>Probability</th>\n",
       "        </tr>\n",
       "    </thead>\n",
       "    <tbody>\n",
       "        <tr>\n",
       "            <td>0.5 </td> <td>0   </td> <td>0.0625     </td>\n",
       "        </tr>\n",
       "    </tbody>\n",
       "        <tr>\n",
       "            <td>0.5 </td> <td>1   </td> <td>0.125      </td>\n",
       "        </tr>\n",
       "    </tbody>\n",
       "        <tr>\n",
       "            <td>0.5 </td> <td>2   </td> <td>0.0625     </td>\n",
       "        </tr>\n",
       "    </tbody>\n",
       "        <tr>\n",
       "            <td>0.9 </td> <td>0   </td> <td>0.0075     </td>\n",
       "        </tr>\n",
       "    </tbody>\n",
       "        <tr>\n",
       "            <td>0.9 </td> <td>1   </td> <td>0.135      </td>\n",
       "        </tr>\n",
       "    </tbody>\n",
       "        <tr>\n",
       "            <td>0.9 </td> <td>2   </td> <td>0.6075     </td>\n",
       "        </tr>\n",
       "    </tbody>\n",
       "</table>"
      ],
      "text/plain": [
       "R    | H    | Probability\n",
       "0.5  | 0    | 0.0625\n",
       "0.5  | 1    | 0.125\n",
       "0.5  | 2    | 0.0625\n",
       "0.9  | 0    | 0.0075\n",
       "0.9  | 1    | 0.135\n",
       "0.9  | 2    | 0.6075"
      ]
     },
     "execution_count": 9,
     "metadata": {},
     "output_type": "execute_result"
    }
   ],
   "source": [
    "joint_tbl = joint_tbl.probability_function(joint_probs)\n",
    "joint_tbl"
   ]
  },
  {
   "cell_type": "markdown",
   "metadata": {},
   "source": [
    "The final step is to convert this to a conventional joint distribution table."
   ]
  },
  {
   "cell_type": "code",
   "execution_count": 10,
   "metadata": {
    "collapsed": false
   },
   "outputs": [
    {
     "data": {
      "text/html": [
       "<div>\n",
       "<table border=\"1\" class=\"dataframe\">\n",
       "  <thead>\n",
       "    <tr style=\"text-align: right;\">\n",
       "      <th></th>\n",
       "      <th>R=0.5</th>\n",
       "      <th>R=0.9</th>\n",
       "    </tr>\n",
       "  </thead>\n",
       "  <tbody>\n",
       "    <tr>\n",
       "      <th>H=2</th>\n",
       "      <td>0.0625</td>\n",
       "      <td>0.6075</td>\n",
       "    </tr>\n",
       "    <tr>\n",
       "      <th>H=1</th>\n",
       "      <td>0.1250</td>\n",
       "      <td>0.1350</td>\n",
       "    </tr>\n",
       "    <tr>\n",
       "      <th>H=0</th>\n",
       "      <td>0.0625</td>\n",
       "      <td>0.0075</td>\n",
       "    </tr>\n",
       "  </tbody>\n",
       "</table>\n",
       "</div>"
      ],
      "text/plain": [
       "      R=0.5   R=0.9\n",
       "H=2  0.0625  0.6075\n",
       "H=1  0.1250  0.1350\n",
       "H=0  0.0625  0.0075"
      ]
     },
     "execution_count": 10,
     "metadata": {},
     "output_type": "execute_result"
    }
   ],
   "source": [
    "joint_dist = joint_tbl.toJoint()\n",
    "joint_dist"
   ]
  },
  {
   "cell_type": "markdown",
   "metadata": {},
   "source": [
    "The values of $P(R = 0.9, H = 2)$ and $P(R = 0.5, H = 1)$ agree with those that we calculated directly.\n",
    "\n",
    "Let's check that the marginal of $R$ agrees with the assumption that the coin is picked at random from one fair coin and three biased coins."
   ]
  },
  {
   "cell_type": "code",
   "execution_count": 11,
   "metadata": {
    "collapsed": false
   },
   "outputs": [
    {
     "data": {
      "text/html": [
       "<div>\n",
       "<table border=\"1\" class=\"dataframe\">\n",
       "  <thead>\n",
       "    <tr style=\"text-align: right;\">\n",
       "      <th></th>\n",
       "      <th>R=0.5</th>\n",
       "      <th>R=0.9</th>\n",
       "    </tr>\n",
       "  </thead>\n",
       "  <tbody>\n",
       "    <tr>\n",
       "      <th>H=2</th>\n",
       "      <td>0.0625</td>\n",
       "      <td>0.6075</td>\n",
       "    </tr>\n",
       "    <tr>\n",
       "      <th>H=1</th>\n",
       "      <td>0.1250</td>\n",
       "      <td>0.1350</td>\n",
       "    </tr>\n",
       "    <tr>\n",
       "      <th>H=0</th>\n",
       "      <td>0.0625</td>\n",
       "      <td>0.0075</td>\n",
       "    </tr>\n",
       "    <tr>\n",
       "      <th>Sum: Marginal of R</th>\n",
       "      <td>0.2500</td>\n",
       "      <td>0.7500</td>\n",
       "    </tr>\n",
       "  </tbody>\n",
       "</table>\n",
       "</div>"
      ],
      "text/plain": [
       "                     R=0.5   R=0.9\n",
       "H=2                 0.0625  0.6075\n",
       "H=1                 0.1250  0.1350\n",
       "H=0                 0.0625  0.0075\n",
       "Sum: Marginal of R  0.2500  0.7500"
      ]
     },
     "execution_count": 11,
     "metadata": {},
     "output_type": "execute_result"
    }
   ],
   "source": [
    "joint_dist.marginal('R')"
   ]
  },
  {
   "cell_type": "markdown",
   "metadata": {},
   "source": [
    "Now suppose I tell you that I picked the fair coin. Then the $R=0.9$ column is irrelevant. We can think of our original outcome space being reduced to the three cells in the `R=0.5` column, and all probabilities being renormalized relative to the total probability $P(R = 0.5) = 0.25$ in that column.\n",
    "\n",
    "Similarly, if I told you I had picked one of the biased coins, you would restrict your calculations to the `R=0.9` column. \n",
    "\n",
    "The `conditional_dist` method does all of this for you. For the conditional distributions of $H$ given values of $R$, use `'H'` as the first argument and `'R'` as the second"
   ]
  },
  {
   "cell_type": "code",
   "execution_count": 12,
   "metadata": {
    "collapsed": false
   },
   "outputs": [
    {
     "data": {
      "text/html": [
       "<div>\n",
       "<table border=\"1\" class=\"dataframe\">\n",
       "  <thead>\n",
       "    <tr style=\"text-align: right;\">\n",
       "      <th></th>\n",
       "      <th>Dist. of H | R=0.5</th>\n",
       "      <th>Dist. of H | R=0.9</th>\n",
       "      <th>Marginal of H</th>\n",
       "    </tr>\n",
       "  </thead>\n",
       "  <tbody>\n",
       "    <tr>\n",
       "      <th>H=2</th>\n",
       "      <td>0.25</td>\n",
       "      <td>0.81</td>\n",
       "      <td>0.67</td>\n",
       "    </tr>\n",
       "    <tr>\n",
       "      <th>H=1</th>\n",
       "      <td>0.50</td>\n",
       "      <td>0.18</td>\n",
       "      <td>0.26</td>\n",
       "    </tr>\n",
       "    <tr>\n",
       "      <th>H=0</th>\n",
       "      <td>0.25</td>\n",
       "      <td>0.01</td>\n",
       "      <td>0.07</td>\n",
       "    </tr>\n",
       "    <tr>\n",
       "      <th>Sum</th>\n",
       "      <td>1.00</td>\n",
       "      <td>1.00</td>\n",
       "      <td>1.00</td>\n",
       "    </tr>\n",
       "  </tbody>\n",
       "</table>\n",
       "</div>"
      ],
      "text/plain": [
       "     Dist. of H | R=0.5  Dist. of H | R=0.9  Marginal of H\n",
       "H=2                0.25                0.81           0.67\n",
       "H=1                0.50                0.18           0.26\n",
       "H=0                0.25                0.01           0.07\n",
       "Sum                1.00                1.00           1.00"
      ]
     },
     "execution_count": 12,
     "metadata": {},
     "output_type": "execute_result"
    }
   ],
   "source": [
    "joint_dist.conditional_dist('H', 'R')"
   ]
  },
  {
   "cell_type": "markdown",
   "metadata": {},
   "source": [
    "To check that you understand what has been calculated, try calculating a few of these values directly. For example, \n",
    "$$\n",
    "P(H = 2 \\mid R = 0.9) = \\frac{0.6075}{0.75} = 0.81\n",
    "$$\n",
    "is the chance that you get two heads given that you tossed a biased coin. This makes sense, as the biased coins land heads with chance 0.9 and therefore have chance $0.9^2 = 0.81$ of producing two heads.\n",
    "\n",
    "You can see that the first column of this table contains the distribution of the number of heads in two tosses of a fair coin. The second column contains the distribution of the number of heads in two tosses of a coin that lands heads with chance 0.9. And the last column contains the distribution of the number of heads in two tosses of a coin picked at random from our four coins.\n",
    "\n",
    "The three distributions are different. Knowing which coin was picked changes the distribution of the number of heads.  "
   ]
  },
  {
   "cell_type": "markdown",
   "metadata": {},
   "source": [
    "Our original problem was the other way around: given the value of $H$, what can we say about $R$?"
   ]
  },
  {
   "cell_type": "code",
   "execution_count": 13,
   "metadata": {
    "collapsed": false
   },
   "outputs": [
    {
     "data": {
      "text/html": [
       "<div>\n",
       "<table border=\"1\" class=\"dataframe\">\n",
       "  <thead>\n",
       "    <tr style=\"text-align: right;\">\n",
       "      <th></th>\n",
       "      <th>R=0.5</th>\n",
       "      <th>R=0.9</th>\n",
       "      <th>Sum</th>\n",
       "    </tr>\n",
       "  </thead>\n",
       "  <tbody>\n",
       "    <tr>\n",
       "      <th>Dist. of R | H=2</th>\n",
       "      <td>0.093284</td>\n",
       "      <td>0.906716</td>\n",
       "      <td>1.0</td>\n",
       "    </tr>\n",
       "    <tr>\n",
       "      <th>Dist. of R | H=1</th>\n",
       "      <td>0.480769</td>\n",
       "      <td>0.519231</td>\n",
       "      <td>1.0</td>\n",
       "    </tr>\n",
       "    <tr>\n",
       "      <th>Dist. of R | H=0</th>\n",
       "      <td>0.892857</td>\n",
       "      <td>0.107143</td>\n",
       "      <td>1.0</td>\n",
       "    </tr>\n",
       "    <tr>\n",
       "      <th>Marginal of R</th>\n",
       "      <td>0.250000</td>\n",
       "      <td>0.750000</td>\n",
       "      <td>1.0</td>\n",
       "    </tr>\n",
       "  </tbody>\n",
       "</table>\n",
       "</div>"
      ],
      "text/plain": [
       "                     R=0.5     R=0.9  Sum\n",
       "Dist. of R | H=2  0.093284  0.906716  1.0\n",
       "Dist. of R | H=1  0.480769  0.519231  1.0\n",
       "Dist. of R | H=0  0.892857  0.107143  1.0\n",
       "Marginal of R     0.250000  0.750000  1.0"
      ]
     },
     "execution_count": 13,
     "metadata": {},
     "output_type": "execute_result"
    }
   ],
   "source": [
    "joint_dist.conditional_dist('R', 'H')"
   ]
  },
  {
   "cell_type": "markdown",
   "metadata": {},
   "source": [
    "Read this table from the bottom row upwards. Remember that the coin was randomly picked.\n",
    "- If I tell you nothing about the number of heads, all you can tell me about the coin is that there is 25% chance that it is fair and 75% chance that it is a biased coin.\n",
    "- If I tell you that I got 0 heads, your opinion about the coin changes dramatically in favor of the fair coin. The biased coins have a very small chance of producing no heads, so even though one of them was very likely to have been picked, the data tilt the balance in favor of the fair coin.\n",
    "- If I tell you that I got 1 head, you're in a bit of a quandary. The biased coins have a modest chance (18%) of producing 1 head compared to the 50% chance that the fair coin produces 1 head. But the coin picked had a 75% chance of being biased compared to a 25% chance of being fair. The size of these two effects makes you quite uncertain about which kind of coin to lean towards. You have only a slight lean towards 'biased'.\n",
    "- If I tell you that I got 2 heads, your opinion shifts dramatically towards the biased coins. Not only are they very likely to produce two heads, they are also very likely to have been picked."
   ]
  },
  {
   "cell_type": "markdown",
   "metadata": {},
   "source": [
    "### Updating Your Opinion Based on Data ###\n",
    "This is a simple example of something that comes up often in machine learning. \n",
    "- You start out with a *prior* opinion about an unknown quantity. In our case the prior distribution was that the fair coin would be picked with chance 25%.\n",
    "- For every value of the unknown quantity, the data have a *likelihood*. For each of our four coins, we know the likelihood of getting any specified number of heads given that we tossed that coin.\n",
    "- After you see the data, your opinion about the unknown quantity might change, sometimes quite drastically. The change depends on the prior as well as the likelihood."
   ]
  },
  {
   "cell_type": "code",
   "execution_count": null,
   "metadata": {
    "collapsed": true
   },
   "outputs": [],
   "source": []
  }
 ],
 "metadata": {
  "anaconda-cloud": {},
  "kernelspec": {
   "display_name": "Python [Root]",
   "language": "python",
   "name": "Python [Root]"
  },
  "language_info": {
   "codemirror_mode": {
    "name": "ipython",
    "version": 3
   },
   "file_extension": ".py",
   "mimetype": "text/x-python",
   "name": "python",
   "nbconvert_exporter": "python",
   "pygments_lexer": "ipython3",
   "version": "3.5.2"
  }
 },
 "nbformat": 4,
 "nbformat_minor": 0
}

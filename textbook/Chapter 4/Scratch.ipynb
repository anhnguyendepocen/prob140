{
 "cells": [
  {
   "cell_type": "code",
   "execution_count": 1,
   "metadata": {
    "collapsed": true
   },
   "outputs": [],
   "source": [
    "from datascience import *\n",
    "from prob140 import *\n",
    "import numpy as np\n",
    "import matplotlib.pyplot as plt\n",
    "plt.style.use('fivethirtyeight')\n",
    "%matplotlib inline"
   ]
  },
  {
   "cell_type": "code",
   "execution_count": 4,
   "metadata": {
    "collapsed": true
   },
   "outputs": [],
   "source": [
    "coins = make_array(0.2, 0.9)\n",
    "heads = np.arange(3)"
   ]
  },
  {
   "cell_type": "code",
   "execution_count": 6,
   "metadata": {
    "collapsed": false
   },
   "outputs": [
    {
     "data": {
      "text/html": [
       "<table border=\"1\" class=\"dataframe\">\n",
       "    <thead>\n",
       "        <tr>\n",
       "            <th>R</th> <th>H</th>\n",
       "        </tr>\n",
       "    </thead>\n",
       "    <tbody>\n",
       "        <tr>\n",
       "            <td>0.2 </td> <td>0   </td>\n",
       "        </tr>\n",
       "    </tbody>\n",
       "        <tr>\n",
       "            <td>0.2 </td> <td>1   </td>\n",
       "        </tr>\n",
       "    </tbody>\n",
       "        <tr>\n",
       "            <td>0.2 </td> <td>2   </td>\n",
       "        </tr>\n",
       "    </tbody>\n",
       "        <tr>\n",
       "            <td>0.9 </td> <td>0   </td>\n",
       "        </tr>\n",
       "    </tbody>\n",
       "        <tr>\n",
       "            <td>0.9 </td> <td>1   </td>\n",
       "        </tr>\n",
       "    </tbody>\n",
       "        <tr>\n",
       "            <td>0.9 </td> <td>2   </td>\n",
       "        </tr>\n",
       "    </tbody>\n",
       "</table>"
      ],
      "text/plain": [
       "R    | H\n",
       "0.2  | 0\n",
       "0.2  | 1\n",
       "0.2  | 2\n",
       "0.9  | 0\n",
       "0.9  | 1\n",
       "0.9  | 2"
      ]
     },
     "execution_count": 6,
     "metadata": {},
     "output_type": "execute_result"
    }
   ],
   "source": [
    "tbl = Table().domain(\"R\", coins, \"H\", heads)\n",
    "tbl"
   ]
  },
  {
   "cell_type": "code",
   "execution_count": 7,
   "metadata": {
    "collapsed": true
   },
   "outputs": [],
   "source": [
    "def jt_probs(r, h):\n",
    "    x = make_array((1-r)**2, 2*r*(1-r), r**2)\n",
    "    if r == 0.2:\n",
    "        return 0.75*x.item(h)\n",
    "    elif r == 0.9:\n",
    "        return 0.25*x.item(h)"
   ]
  },
  {
   "cell_type": "code",
   "execution_count": 11,
   "metadata": {
    "collapsed": false
   },
   "outputs": [
    {
     "data": {
      "text/html": [
       "<table border=\"1\" class=\"dataframe\">\n",
       "    <thead>\n",
       "        <tr>\n",
       "            <th>R</th> <th>H</th> <th>Probability</th>\n",
       "        </tr>\n",
       "    </thead>\n",
       "    <tbody>\n",
       "        <tr>\n",
       "            <td>0.2 </td> <td>0   </td> <td>0.48       </td>\n",
       "        </tr>\n",
       "    </tbody>\n",
       "        <tr>\n",
       "            <td>0.2 </td> <td>1   </td> <td>0.24       </td>\n",
       "        </tr>\n",
       "    </tbody>\n",
       "        <tr>\n",
       "            <td>0.2 </td> <td>2   </td> <td>0.03       </td>\n",
       "        </tr>\n",
       "    </tbody>\n",
       "        <tr>\n",
       "            <td>0.9 </td> <td>0   </td> <td>0.0025     </td>\n",
       "        </tr>\n",
       "    </tbody>\n",
       "        <tr>\n",
       "            <td>0.9 </td> <td>1   </td> <td>0.045      </td>\n",
       "        </tr>\n",
       "    </tbody>\n",
       "        <tr>\n",
       "            <td>0.9 </td> <td>2   </td> <td>0.2025     </td>\n",
       "        </tr>\n",
       "    </tbody>\n",
       "</table>"
      ],
      "text/plain": [
       "R    | H    | Probability\n",
       "0.2  | 0    | 0.48\n",
       "0.2  | 1    | 0.24\n",
       "0.2  | 2    | 0.03\n",
       "0.9  | 0    | 0.0025\n",
       "0.9  | 1    | 0.045\n",
       "0.9  | 2    | 0.2025"
      ]
     },
     "execution_count": 11,
     "metadata": {},
     "output_type": "execute_result"
    }
   ],
   "source": [
    "jt_table = tbl.probability_function(jt_probs)\n",
    "jt_table"
   ]
  },
  {
   "cell_type": "code",
   "execution_count": 12,
   "metadata": {
    "collapsed": false
   },
   "outputs": [
    {
     "name": "stderr",
     "output_type": "stream",
     "text": [
      "//anaconda/lib/python3.5/site-packages/prob140/multi_variable.py:265: UserWarning: Your probabilities sum to 1.0000000000000002\n",
      "  warnings.warn(\"Your probabilities sum to {0}\".format(total))\n"
     ]
    }
   ],
   "source": [
    "jt_dist = jt_table.toJoint()"
   ]
  },
  {
   "cell_type": "code",
   "execution_count": 13,
   "metadata": {
    "collapsed": false
   },
   "outputs": [
    {
     "data": {
      "text/html": [
       "<div>\n",
       "<table border=\"1\" class=\"dataframe\">\n",
       "  <thead>\n",
       "    <tr style=\"text-align: right;\">\n",
       "      <th></th>\n",
       "      <th>R=0.2</th>\n",
       "      <th>R=0.9</th>\n",
       "    </tr>\n",
       "  </thead>\n",
       "  <tbody>\n",
       "    <tr>\n",
       "      <th>H=2</th>\n",
       "      <td>0.03</td>\n",
       "      <td>0.2025</td>\n",
       "    </tr>\n",
       "    <tr>\n",
       "      <th>H=1</th>\n",
       "      <td>0.24</td>\n",
       "      <td>0.0450</td>\n",
       "    </tr>\n",
       "    <tr>\n",
       "      <th>H=0</th>\n",
       "      <td>0.48</td>\n",
       "      <td>0.0025</td>\n",
       "    </tr>\n",
       "  </tbody>\n",
       "</table>\n",
       "</div>"
      ],
      "text/plain": [
       "     R=0.2   R=0.9\n",
       "H=2   0.03  0.2025\n",
       "H=1   0.24  0.0450\n",
       "H=0   0.48  0.0025"
      ]
     },
     "execution_count": 13,
     "metadata": {},
     "output_type": "execute_result"
    }
   ],
   "source": [
    "jt_dist"
   ]
  },
  {
   "cell_type": "code",
   "execution_count": 14,
   "metadata": {
    "collapsed": false
   },
   "outputs": [
    {
     "data": {
      "text/html": [
       "<div>\n",
       "<table border=\"1\" class=\"dataframe\">\n",
       "  <thead>\n",
       "    <tr style=\"text-align: right;\">\n",
       "      <th></th>\n",
       "      <th>R=0.2</th>\n",
       "      <th>R=0.9</th>\n",
       "      <th>Sum: Marginal of H</th>\n",
       "    </tr>\n",
       "  </thead>\n",
       "  <tbody>\n",
       "    <tr>\n",
       "      <th>H=2</th>\n",
       "      <td>0.03</td>\n",
       "      <td>0.2025</td>\n",
       "      <td>0.2325</td>\n",
       "    </tr>\n",
       "    <tr>\n",
       "      <th>H=1</th>\n",
       "      <td>0.24</td>\n",
       "      <td>0.0450</td>\n",
       "      <td>0.2850</td>\n",
       "    </tr>\n",
       "    <tr>\n",
       "      <th>H=0</th>\n",
       "      <td>0.48</td>\n",
       "      <td>0.0025</td>\n",
       "      <td>0.4825</td>\n",
       "    </tr>\n",
       "    <tr>\n",
       "      <th>Sum: Marginal of R</th>\n",
       "      <td>0.75</td>\n",
       "      <td>0.2500</td>\n",
       "      <td>1.0000</td>\n",
       "    </tr>\n",
       "  </tbody>\n",
       "</table>\n",
       "</div>"
      ],
      "text/plain": [
       "                    R=0.2   R=0.9  Sum: Marginal of H\n",
       "H=2                  0.03  0.2025              0.2325\n",
       "H=1                  0.24  0.0450              0.2850\n",
       "H=0                  0.48  0.0025              0.4825\n",
       "Sum: Marginal of R   0.75  0.2500              1.0000"
      ]
     },
     "execution_count": 14,
     "metadata": {},
     "output_type": "execute_result"
    }
   ],
   "source": [
    "jt_dist.both_marginals()"
   ]
  },
  {
   "cell_type": "code",
   "execution_count": 19,
   "metadata": {
    "collapsed": false
   },
   "outputs": [
    {
     "data": {
      "text/html": [
       "<div>\n",
       "<table border=\"1\" class=\"dataframe\">\n",
       "  <thead>\n",
       "    <tr style=\"text-align: right;\">\n",
       "      <th></th>\n",
       "      <th>Dist. of H | R=0.2</th>\n",
       "      <th>Dist. of H | R=0.9</th>\n",
       "      <th>Marginal of H</th>\n",
       "    </tr>\n",
       "  </thead>\n",
       "  <tbody>\n",
       "    <tr>\n",
       "      <th>H=2</th>\n",
       "      <td>0.04</td>\n",
       "      <td>0.81</td>\n",
       "      <td>0.2325</td>\n",
       "    </tr>\n",
       "    <tr>\n",
       "      <th>H=1</th>\n",
       "      <td>0.32</td>\n",
       "      <td>0.18</td>\n",
       "      <td>0.2850</td>\n",
       "    </tr>\n",
       "    <tr>\n",
       "      <th>H=0</th>\n",
       "      <td>0.64</td>\n",
       "      <td>0.01</td>\n",
       "      <td>0.4825</td>\n",
       "    </tr>\n",
       "    <tr>\n",
       "      <th>Sum</th>\n",
       "      <td>1.00</td>\n",
       "      <td>1.00</td>\n",
       "      <td>1.0000</td>\n",
       "    </tr>\n",
       "  </tbody>\n",
       "</table>\n",
       "</div>"
      ],
      "text/plain": [
       "     Dist. of H | R=0.2  Dist. of H | R=0.9  Marginal of H\n",
       "H=2                0.04                0.81         0.2325\n",
       "H=1                0.32                0.18         0.2850\n",
       "H=0                0.64                0.01         0.4825\n",
       "Sum                1.00                1.00         1.0000"
      ]
     },
     "execution_count": 19,
     "metadata": {},
     "output_type": "execute_result"
    }
   ],
   "source": [
    "jt_dist.conditional_dist('H', given='R')"
   ]
  },
  {
   "cell_type": "code",
   "execution_count": 18,
   "metadata": {
    "collapsed": false
   },
   "outputs": [
    {
     "data": {
      "text/html": [
       "<div>\n",
       "<table border=\"1\" class=\"dataframe\">\n",
       "  <thead>\n",
       "    <tr style=\"text-align: right;\">\n",
       "      <th></th>\n",
       "      <th>R=0.2</th>\n",
       "      <th>R=0.9</th>\n",
       "      <th>Sum</th>\n",
       "    </tr>\n",
       "  </thead>\n",
       "  <tbody>\n",
       "    <tr>\n",
       "      <th>Dist. of R | H=2</th>\n",
       "      <td>0.129032</td>\n",
       "      <td>0.870968</td>\n",
       "      <td>1.0</td>\n",
       "    </tr>\n",
       "    <tr>\n",
       "      <th>Dist. of R | H=1</th>\n",
       "      <td>0.842105</td>\n",
       "      <td>0.157895</td>\n",
       "      <td>1.0</td>\n",
       "    </tr>\n",
       "    <tr>\n",
       "      <th>Dist. of R | H=0</th>\n",
       "      <td>0.994819</td>\n",
       "      <td>0.005181</td>\n",
       "      <td>1.0</td>\n",
       "    </tr>\n",
       "    <tr>\n",
       "      <th>Marginal of R</th>\n",
       "      <td>0.750000</td>\n",
       "      <td>0.250000</td>\n",
       "      <td>1.0</td>\n",
       "    </tr>\n",
       "  </tbody>\n",
       "</table>\n",
       "</div>"
      ],
      "text/plain": [
       "                     R=0.2     R=0.9  Sum\n",
       "Dist. of R | H=2  0.129032  0.870968  1.0\n",
       "Dist. of R | H=1  0.842105  0.157895  1.0\n",
       "Dist. of R | H=0  0.994819  0.005181  1.0\n",
       "Marginal of R     0.750000  0.250000  1.0"
      ]
     },
     "execution_count": 18,
     "metadata": {},
     "output_type": "execute_result"
    }
   ],
   "source": [
    "jt_dist.conditional_dist('R', given='H')"
   ]
  },
  {
   "cell_type": "code",
   "execution_count": 20,
   "metadata": {
    "collapsed": false
   },
   "outputs": [
    {
     "name": "stdout",
     "output_type": "stream",
     "text": [
      "Collecting prob140\n",
      "  Downloading prob140-0.1.7.5.tar.gz\n",
      "Building wheels for collected packages: prob140\n",
      "  Running setup.py bdist_wheel for prob140 ... \u001b[?25l-\b \bdone\n",
      "\u001b[?25h  Stored in directory: /Users/ani/Library/Caches/pip/wheels/91/e3/6c/72bce5e38b48894a5fc035600c56171913c4f764640784d430\n",
      "Successfully built prob140\n",
      "Installing collected packages: prob140\n",
      "  Found existing installation: prob140 0.1.7.4\n",
      "    Uninstalling prob140-0.1.7.4:\n",
      "      Successfully uninstalled prob140-0.1.7.4\n",
      "Successfully installed prob140-0.1.7.5\n"
     ]
    }
   ],
   "source": [
    "!pip install prob140 --upgrade --no-deps"
   ]
  },
  {
   "cell_type": "code",
   "execution_count": null,
   "metadata": {
    "collapsed": true
   },
   "outputs": [],
   "source": []
  }
 ],
 "metadata": {
  "kernelspec": {
   "display_name": "Python [Root]",
   "language": "python",
   "name": "Python [Root]"
  },
  "language_info": {
   "codemirror_mode": {
    "name": "ipython",
    "version": 3
   },
   "file_extension": ".py",
   "mimetype": "text/x-python",
   "name": "python",
   "nbconvert_exporter": "python",
   "pygments_lexer": "ipython3",
   "version": "3.5.2"
  }
 },
 "nbformat": 4,
 "nbformat_minor": 0
}

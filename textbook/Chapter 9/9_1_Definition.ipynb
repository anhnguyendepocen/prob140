{
 "cells": [
  {
   "cell_type": "code",
   "execution_count": 8,
   "metadata": {
    "collapsed": true
   },
   "outputs": [],
   "source": [
    "# HIDDEN\n",
    "from datascience import *\n",
    "from prob140 import *\n",
    "import numpy as np\n",
    "import matplotlib.pyplot as plt\n",
    "plt.style.use('fivethirtyeight')\n",
    "%matplotlib inline\n",
    "import math\n",
    "from scipy import stats\n",
    "from scipy import misc"
   ]
  },
  {
   "cell_type": "markdown",
   "metadata": {},
   "source": [
    "### Definition ###\n",
    "The *expectation* of a random variable $X$, denoted $E(X)$, is the average of the possible values of $X$ weighted by their probabilities. This can be calculated in two equivalent ways.\n",
    "\n",
    "#### On the Domain of $X$ ####\n",
    "$$\n",
    "E(X) = \\sum_{\\omega \\in \\Omega} X(\\omega)P(\\omega)\n",
    "$$\n",
    "\n",
    "#### On the Range of $X$ ####\n",
    "$$\n",
    "E(X) = \\sum_{\\text{all }x} xP(X=x)\n",
    "$$\n",
    "\n",
    "**Technical Note:** If $X$ has finitely many possible values, the sums above are always well defined and finite. If $X$ can have countably many values (that is, values indexed by 1, 2, 3, $\\ldots$), then more care is needed to make sure that the formulas result in a well defined number. We will deal with that issue shortly; for now, assume that the sum is well defined.\n",
    "\n",
    "Assuming the sums are well defined, is straightforward to show that these two formulas give the same answer. One way to show it is to group terms in the first sum by the distinct values of $X(\\omega)$ over all the different outcomes $\\omega$.\n",
    "\n",
    "The second formula is often given as \"the\" definition of expectation, but the first can be helpful for understanding properties of expectation. In particular, it shows that if two random variables have the same distribution, then they also have the same expectation."
   ]
  },
  {
   "cell_type": "markdown",
   "metadata": {},
   "source": [
    "### Center of Gravity ###\n",
    "Suppose $X$ has the distribution given below."
   ]
  },
  {
   "cell_type": "code",
   "execution_count": 2,
   "metadata": {
    "collapsed": false
   },
   "outputs": [
    {
     "data": {
      "image/png": "[encoded data removed]",
      "text/plain": [
       "<matplotlib.figure.Figure at 0x11494eef0>"
      ]
     },
     "metadata": {},
     "output_type": "display_data"
    }
   ],
   "source": [
    "x = np.arange(1, 6)\n",
    "probs = make_array(0.15, 0.25, 0.3, 0.2, 0.1)\n",
    "dist = Table().values(x).probability(probs)\n",
    "Plot(dist)"
   ]
  },
  {
   "cell_type": "markdown",
   "metadata": {},
   "source": [
    "Then by the formula on the range of $X$, we have $E(X) = 2.85$."
   ]
  },
  {
   "cell_type": "code",
   "execution_count": 3,
   "metadata": {
    "collapsed": false
   },
   "outputs": [
    {
     "data": {
      "text/plain": [
       "2.8499999999999996"
      ]
     },
     "execution_count": 3,
     "metadata": {},
     "output_type": "execute_result"
    }
   ],
   "source": [
    "ev_X = sum(x*probs)\n",
    "ev_X"
   ]
  },
  {
   "cell_type": "markdown",
   "metadata": {},
   "source": [
    "There is also a `prob140` function you can call to calculate $E(X)$:"
   ]
  },
  {
   "cell_type": "code",
   "execution_count": 4,
   "metadata": {
    "collapsed": false
   },
   "outputs": [
    {
     "data": {
      "text/plain": [
       "2.8500000000000005"
      ]
     },
     "execution_count": 4,
     "metadata": {},
     "output_type": "execute_result"
    }
   ],
   "source": [
    "dist.expected_value()"
   ]
  },
  {
   "cell_type": "markdown",
   "metadata": {},
   "source": [
    "Expectation is often also called *expected value*, hence the name of the function and also our name `ev_X`. But notice that **the \"expected value\" need not be a possible value of the random variable**. This random variable $X$ can't be 2.85.\n",
    "\n",
    "But then what does the expected value represent? To see this, first visualize $E(X)$ using the `show_ev=True` option to `Plot`."
   ]
  },
  {
   "cell_type": "code",
   "execution_count": 5,
   "metadata": {
    "collapsed": false
   },
   "outputs": [
    {
     "data": {
      "image/png": "[encoded data removed]",
      "text/plain": [
       "<matplotlib.figure.Figure at 0x1040d9dd8>"
      ]
     },
     "metadata": {},
     "output_type": "display_data"
    }
   ],
   "source": [
    "Plot(dist, show_ev=True)"
   ]
  },
  {
   "cell_type": "markdown",
   "metadata": {},
   "source": [
    "If you have studied some physics, you will recognize that the formula we used for the expectation is the same as the formula for the center of gravity of a system in which weights equal to the corresponding probabilities hang from each possible value 1, 2, 3, 4, and 5. \n",
    "\n",
    "So suppose the histogram is made of cardboard or some rigid material, and imagine trying to balance it on the tip of a pencil held somewhere on the horizontal axis. You'll have to hold the pencil at 2.85 for the figure to balance.\n",
    "\n",
    "The expectation is the *center* of the distribution in this physical sense: it is the *center of gravity* or *center of mass* of the distribution."
   ]
  },
  {
   "cell_type": "markdown",
   "metadata": {},
   "source": [
    "### Long Run Average ###\n",
    "You can also think of expectation as the *long run average* value of the random variable when you generate the variable over and over again independently and under identical conditions. The `sample` method applied to `prob140` distribution objects allows you to do just that. It samples at random with replacement from the distribution and returns an array of sampled values. The argument is the sample size.\n",
    "\n",
    "You can use the `emp_dist` method to convert the array of simulated values to a distribution object which you can then use with `Plot` and other `prob140` functions. The `show_ave=True` option of `Plot` displays the average of the simulated values. "
   ]
  },
  {
   "cell_type": "code",
   "execution_count": 6,
   "metadata": {
    "collapsed": false
   },
   "outputs": [
    {
     "data": {
      "image/png": "[encoded data removed]",
      "text/plain": [
       "<matplotlib.figure.Figure at 0x116fb6f98>"
      ]
     },
     "metadata": {},
     "output_type": "display_data"
    }
   ],
   "source": [
    "simulated_X = dist.sample(10000)\n",
    "emp_dist_X = emp_dist(simulated_X)\n",
    "Plot(emp_dist_X, show_ave=True)\n",
    "plt.title('Empirical Distribution');"
   ]
  },
  {
   "cell_type": "markdown",
   "metadata": {},
   "source": [
    "Notice that the average of the 10,000 simulated values of $X$ is very close to $E(X)$ but not exactly equal."
   ]
  },
  {
   "cell_type": "code",
   "execution_count": 7,
   "metadata": {
    "collapsed": false
   },
   "outputs": [
    {
     "data": {
      "text/plain": [
       "2.8717999999999999"
      ]
     },
     "execution_count": 7,
     "metadata": {},
     "output_type": "execute_result"
    }
   ],
   "source": [
    "np.mean(simulated_X)"
   ]
  },
  {
   "cell_type": "markdown",
   "metadata": {},
   "source": [
    "This is because of what you can see in the empirical histogram: it looks very much like the probability histogram of $X$. About 15% of the simulated values are 1, about 20% are 2's, and so on, so the average is very close to 2.85. \n",
    "\n",
    "The similarity of the two histograms is because of the Law of Averages that you saw in Data 8 and that we will establish formally in this course."
   ]
  },
  {
   "cell_type": "markdown",
   "metadata": {},
   "source": [
    "Now that we have a few ways to think about expectation, let's see why it has such fundamental importance. We will start by directly applying the definition to calculate some expectations. In subsequent sections we will develop more powerful methods to calculate and use expectation."
   ]
  },
  {
   "cell_type": "markdown",
   "metadata": {},
   "source": [
    "### Example: Constant ###\n",
    "This little example is worth writing out because it gets used all the time. Suppose a random variable $X$ is actually a constant $c$, that is, suppose $P(X = c) = 1$. Then the distribution of $X$ puts all its mass on the single value $c$, and $E(X) = c\\cdot 1 = c$. We just write $E(c) = c$. "
   ]
  },
  {
   "cell_type": "markdown",
   "metadata": {},
   "source": [
    "### Example: Bernoulli and Indicators ###\n",
    "If $X$ has the Bernoulli $(p)$ distribution, then $P(X = 1) p$\n",
    "and $P(X = 0) = 1-p$. So\n",
    "\n",
    "$$\n",
    "E(X) = 0 \\cdot (1-p) ~ + ~ 1 \\cdot p ~ = ~ p\n",
    "$$\n",
    "\n",
    "Zero/one valued random variables are building blocks for other variables. Often, they are called indicators.\n",
    "\n",
    "Let $A$ be any event. Then the *indicator of $A$* is the random variable $I_A$ that is 1 if $A$ occurs and 0 if $A$ doesn't occur. Thus $I_A$ is has the Bernoulli $(P(A))$ distribution and \n",
    "\n",
    "$$\n",
    "E(I_A) = P(A)\n",
    "$$\n",
    "\n",
    "by our calculation above. Thus every probability is an expectation. We will use this heavily in later sections."
   ]
  },
  {
   "cell_type": "code",
   "execution_count": 19,
   "metadata": {
    "collapsed": false
   },
   "outputs": [
    {
     "data": {
      "image/png": "[encoded data removed]",
      "text/plain": [
       "<matplotlib.figure.Figure at 0x117e6a780>"
      ]
     },
     "metadata": {},
     "output_type": "display_data"
    }
   ],
   "source": [
    "x = [0, 1]\n",
    "qp = [0.75, 0.25]\n",
    "bern_1_3 = Table().values(x).probability(qp)\n",
    "Plot(bern_1_3, show_ev=True)\n",
    "plt.title('Bernoulli (0.25)');"
   ]
  },
  {
   "cell_type": "markdown",
   "metadata": {},
   "source": [
    "### Example: Uniform ###\n",
    "Let $a$ and $b$ be two integers such that $a < b$. If $X$ has the uniform distribution on the integers $a, a+1, a+2, \\ldots, b$, then by symmetry, $E(X)$ is half-way between $a$ and $b$. That is,\n",
    "\n",
    "$$\n",
    "E(X) = \\frac{a+b}{2}\n",
    "$$\n",
    "\n",
    "For example, if $X$ has the uniform distribution on $1, 2, \\ldots , n$, then\n",
    "\n",
    "$$\n",
    "E(X) = \\frac{n+1}{2}\n",
    "$$\n",
    "\n",
    "So if $X$ is the number of spots on one roll of a die, then $E(X) = 3.5$.\n",
    "\n",
    "If instead $X$ is uniform on $0, 1, 2, \\ldots , n$, then\n",
    "\n",
    "$$\n",
    "E(X) = \\frac{n}{2}\n",
    "$$"
   ]
  },
  {
   "cell_type": "code",
   "execution_count": 21,
   "metadata": {
    "collapsed": false
   },
   "outputs": [
    {
     "data": {
      "image/png": "[encoded data removed]",
      "text/plain": [
       "<matplotlib.figure.Figure at 0x1176ce7f0>"
      ]
     },
     "metadata": {},
     "output_type": "display_data"
    }
   ],
   "source": [
    "x = np.arange(10)\n",
    "probs = 0.1*np.ones(10)\n",
    "unif_10 = Table().values(x).probability(probs)\n",
    "Plot(unif_10, show_ev=True)\n",
    "plt.title('Uniform on Integers 0, 1, 2, ..., 9');"
   ]
  },
  {
   "cell_type": "markdown",
   "metadata": {},
   "source": [
    "### Example: Poisson ###\n",
    "Let $X$ have the Poisson $(\\mu)$ distribution. Then\n",
    "\n",
    "\\begin{align*}\n",
    "E(X) &= \\sum_{k=0}^\\infty k e^{-\\mu} \\frac{\\mu^k}{k!} \\\\ \\\\\n",
    "&= e^{-\\mu} \\mu \\sum_{k=1}^\\infty \\frac{\\mu^{k-1}}{(k-1)!} \\\\ \\\\\n",
    "&= e^{-\\mu} \\mu \\sum_{j=0}^\\infty \\frac{\\mu^j}{j!} \\\\ \\\\\n",
    "&= e^{-\\mu} \\mu e^{\\mu} \\\\ \\\\\n",
    "&= \\mu\n",
    "\\end{align*}\n",
    "\n",
    "We now have an important new interpretation of the parameter of the Poisson distribution. We saw earlier it was close to the mode; now we know that it is also the balance point or expectation of the distribution. The notation $\\mu$ was chosen to stand for \"mean\"."
   ]
  },
  {
   "cell_type": "code",
   "execution_count": 16,
   "metadata": {
    "collapsed": false
   },
   "outputs": [
    {
     "data": {
      "image/png": "[encoded data removed]",
      "text/plain": [
       "<matplotlib.figure.Figure at 0x1178b9710>"
      ]
     },
     "metadata": {},
     "output_type": "display_data"
    }
   ],
   "source": [
    "k = np.arange(15)\n",
    "poi_2_probs = stats.poisson.pmf(k, 2)\n",
    "dist_poi_2 = Table().values(k).probability(poi_2_probs)\n",
    "Plot(dist_poi_2, show_ev=True)\n",
    "plt.title('Poisson (2)');"
   ]
  },
  {
   "cell_type": "markdown",
   "metadata": {},
   "source": [
    "### Existence ###\n",
    "If $X$ has countably many values, then the sums used to define expectation are infinite and hence are limits of partial sums. But not all sequences of partial sums have limits, and so not all random variables have expectations. Indeed, $E(X)$ is only well defined when the sum is *absolutely convergent*:\n",
    "\n",
    "$$\n",
    "E(X) = \\sum_{\\text{all }x} xP(X=x) ~~~~ \\text{provided }\n",
    "\\sum_{\\text{all }x} |x|P(X=x) < \\infty\n",
    "$$\n",
    "\n",
    "That's a bit technical for this level of course, and you will almost never have to deal with non-existent expectations in Prob140. Just keep in mind that expectation isn't always finite or even well defined. \n",
    "\n",
    "Here is an example in which you can see that the expectation can't be finite. First notice that the sequence $1/2^n, ~n = 1, 2, 3, \\ldots $ is a probability distribution: by summing the geometric series you get 1.\n",
    "\n",
    "$$\n",
    "\\sum_{k=1}^\\infty (\\frac{1}{2^n}) ~ = ~ \\frac{1}{2} \\cdot \\frac{1}{1 - \\frac{1}{2}} ~ = ~ 1\n",
    "$$\n",
    "\n",
    "Now suppose the random variable $X$ has values $2, 4, 8, 16 \\ldots$ so that $P(X = 2^n) = 1/2^n$ for $n = 1, 2, 3, \\ldots $. Then for every possible value $x$, the product $xP(X=x) = 1$. If you try to add infinitely many 1's, the only sensible answer is infinity. "
   ]
  },
  {
   "cell_type": "markdown",
   "metadata": {
    "collapsed": true
   },
   "source": [
    "This problem with expectation happens when the distribution has \"mass drifting off to infinity\" at a rate that makes it impossible to balance the probability histogram anywhere on the horizontal axis. "
   ]
  },
  {
   "cell_type": "code",
   "execution_count": null,
   "metadata": {
    "collapsed": true
   },
   "outputs": [],
   "source": []
  }
 ],
 "metadata": {
  "anaconda-cloud": {},
  "kernelspec": {
   "display_name": "Python [Root]",
   "language": "python",
   "name": "Python [Root]"
  },
  "language_info": {
   "codemirror_mode": {
    "name": "ipython",
    "version": 3
   },
   "file_extension": ".py",
   "mimetype": "text/x-python",
   "name": "python",
   "nbconvert_exporter": "python",
   "pygments_lexer": "ipython3",
   "version": "3.5.2"
  }
 },
 "nbformat": 4,
 "nbformat_minor": 0
}

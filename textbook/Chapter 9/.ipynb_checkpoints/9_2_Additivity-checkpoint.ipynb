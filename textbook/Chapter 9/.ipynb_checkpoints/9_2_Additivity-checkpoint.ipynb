{
 "cells": [
  {
   "cell_type": "code",
   "execution_count": 2,
   "metadata": {
    "collapsed": true
   },
   "outputs": [],
   "source": [
    "# HIDDEN\n",
    "from datascience import *\n",
    "from prob140 import *\n",
    "import numpy as np\n",
    "import matplotlib.pyplot as plt\n",
    "plt.style.use('fivethirtyeight')\n",
    "%matplotlib inline\n",
    "import math\n",
    "from scipy import stats\n",
    "from scipy import misc"
   ]
  },
  {
   "cell_type": "markdown",
   "metadata": {},
   "source": [
    "### Additivity ###\n",
    "Calculating expectation by plugging into the definition works in simple cases, but in other cases it can be cumbersome or lack insight. The most powerful result for calculating expectation turns out not to be the definition. It looks rather innocuous:\n",
    "\n",
    "#### Additivity of Expectation ####\n",
    "Let $X$ and $Y$ be two random variables defined on the same probability space. Then\n",
    "$$\n",
    "E(X+Y) = E(X) + E(Y)\n",
    "$$\n",
    "\n",
    "Before we look more closely at this result, note that we are assuming that all the expectations exist; we will do this throughout in this course. \n",
    "\n",
    "And now note that **there are no assumptions about the relation between $X$ and $Y$**. They could be dependent or independent. Regardless, the expectation of the sum is the sum of the expectations. This makes the result powerful.\n",
    "\n",
    "Additivity follows easily from the definition of $X+Y$ and the definition of expectation on the domain space. First note that the random variable $X+Y$ is the function defined by\n",
    "\n",
    "$$\n",
    "(X+Y)(\\omega) = X(\\omega) + Y(\\omega) ~~~~ \\text{for all }\n",
    "\\omega \\in \\Omega\n",
    "$$\n",
    "\n",
    "Thus a \"value of $X+Y$ weighted by the probability\" can be written as\n",
    "\n",
    "$$\n",
    "(X+Y)(\\omega) \\cdot P(\\omega) = X(\\omega)P(\\omega) + \n",
    "Y(\\omega)P(\\omega )\n",
    "$$\n",
    "\n",
    "Sum the two sides over all $\\omega \\in \\Omega$ to prove additivty of expecation.\n",
    "\n",
    "By induction, additivity extends to any finite number of random variables. If $X_1, X_2, \\ldots , X_n$ are random variables defined on the same probability space, then\n",
    "\n",
    "$$\n",
    "E(X_1 + X_2 + \\cdots + X_n) = E(X_1) + E(X_2) + \\cdots + E(X_n)\n",
    "$$\n",
    "\n",
    "If you are trying to find an expectation, then the way to use additivity is to write your random variable as a sum of simpler variables whose expectations you know or can calculate easily. The rest of this section consists of examples of this technique."
   ]
  },
  {
   "cell_type": "markdown",
   "metadata": {},
   "source": [
    "### Linear Function Rule ###\n",
    "Let $X$ be a random variable with expectation $E(X)$ and let $Y = aX$ for some constant $a$. For example, when you change units of a random length from inches to centimeters, then $a = 2.54$. \n",
    "\n",
    "For every $\\omega \\in \\Omega$, we have $Y(\\omega) = aX(\\omega)$. So\n",
    "\n",
    "$$\n",
    "E(Y) ~ = ~ \\sum_{\\text{all }\\omega} aX(\\omega)P(\\omega)\n",
    "~ = ~a \\sum_{\\text{all }\\omega} X(\\omega)P(\\omega )  ~ = ~ aE(X)\n",
    "$$\n",
    "\n",
    "Now consider the *linear tranformation* $W = aX + b$. This kind of transformation happens for example when you change units from Celsius to Fahreneheit ($a = 9/5$ and $b = 32$).\n",
    "\n",
    "Then $W = Y + b$, so by additivity of expectation,\n",
    "\n",
    "$$\n",
    "E(W) = E(aX + b) = E(aX) + E(b) = aE(X) + b\n",
    "$$\n",
    "\n",
    "So for example, $E(2X - 3) = 2E(X) - 3$. Also $E(X/2) = E(X)/2$, and $E(1 - X) = 1 - E(X)$.\n",
    "\n",
    "The expectation of a linear transformation of $X$ is the linear transformation of the expectation of $X$. This is a handy result as we will often be transforming variables linearly. But expectation behaves differently under non-linear transformations, as we will see in the next section."
   ]
  },
  {
   "cell_type": "markdown",
   "metadata": {},
   "source": [
    "### Sample Sum ###\n",
    "Let $X_1, X_2, \\ldots , X_n$ be a sample drawn at random from a numerical population that has mean $\\mu$, and let the sample sum be \n",
    "$$\n",
    "S_n = X_1 + X_2 + \\cdots + X_n\n",
    "$$\n",
    "Then, regardless of whether the sample was drawn with or without replacement, each $X_i$ has the same distribution as the population. This is clearly true if the sampling is with replacement, and it is true by symmetry if the sampling is without replacement as we saw in an earlier chapter.\n",
    "\n",
    "So, regardless of whether the sample is drawn with or without replacement, $E(X_i) = \\mu$ for each $i$, and hence\n",
    "$$\n",
    "E(S_n) = E(X_1) + E(X_2) + \\cdots + E(X_n) = n\\mu\n",
    "$$"
   ]
  },
  {
   "cell_type": "markdown",
   "metadata": {},
   "source": [
    "### Example: An Unbiased Estimator ###\n",
    "Suppose $\\theta$ is a parameter of the distribution of $X$, and suppose $E(X) = \\theta$. Then we say that * $X$ is an unbiased estimator of $\\theta$*. \n",
    "\n",
    "If an estimator is unbiased, and you use it to generate estimates repeatedely and independently, then in the long run the average of all the estimates is equal to the parameter being estimated. On average, the unbiased estimator is neither higher nor lower than the parameter. That's usually considered a good quality in an estimator.\n",
    "\n",
    "As in the sample sum example above, let $S_n$ be the sum of a sample of size $n$ drawn from a population that has mean $\\mu$. Let $A_n$ be the sample average, that is,\n",
    "$$\n",
    "A_n = \\frac{S_n}{n}\n",
    "$$\n",
    "Then, regardless of whether the draws were made with replacement or without,\n",
    "\n",
    "\\begin{align*}\n",
    "E(A_n) &= \\frac{E(S_n)}{n} ~~~~ \\text{(linear function rule)} \\\\\n",
    "&= \\frac{n \\mu}{n} ~~~~~~~~~ \\text{(} E(S_n) = n\\mu \\text{)} \\\\\n",
    "&= \\mu\n",
    "\\end{align*}\n",
    "\n",
    "Thus the sample mean is an unbiased estimator of the population mean.\n",
    "\n",
    "Suppose we have a sample $X_1, X_2, \\ldots , X_n$ where each variable is uniform on $1, 2, \\ldots , N$ for some fixed $N$, and we are trying to estimate $N$. This was the setting in the German warplanes example in Data 8. The expectation of each of the uniform variables is $(N+1)/2$, as we have seen earlier. So if $A_n$ is the sample mean, then\n",
    "\n",
    "$$\n",
    "E(A_n) = \\frac{N+1}{2}\n",
    "$$\n",
    "\n",
    "and so $A_n$ is *not* an unbiased estimator of $N$. That's not surprising because $N$ is the maximum possible value of each observation and $A_n$ should be somewhere in the middle of all the possible values.\n",
    "\n",
    "But we can tweak $A_n$ to create an unbiased estimator of $N$. Let $A_n^* = 2A_n - 1$. Then\n",
    "\n",
    "$$\n",
    "E(A_n^*) = 2E(A_n) - 1 = 2 \\cdot \\frac{N+1}{2} - 1 = N\n",
    "$$\n",
    "\n",
    "so $A_n^*$ is an unbiased estimator of $N$."
   ]
  },
  {
   "cell_type": "markdown",
   "metadata": {},
   "source": [
    "### The Method of Indicators ###\n",
    "This is a powerful method for finding expected counts. It is based on the observation that among $n$ trials, the number of \"good\" trials can be counted by first coding each \"good\" trial as 1 and each of the other trials as 0, and then adding the 1's and 0's.\n",
    "\n",
    "If $N$ is the total number of good trials among $n$, then\n",
    "\n",
    "$$\n",
    "N = I_1 + I_2 + \\cdots + I_n\n",
    "$$\n",
    "\n",
    "where for each $j$ in the range 1 through $n$, $I_j$ is the indicator of \"the $j$th trial is good\". So\n",
    "\n",
    "\\begin{align*}\n",
    "E(N) &= E(I_1) + E(I_2) + \\cdots + E(I_n) \\\\\n",
    "&= P(\\text{Trial } 1 \\text{ is good}) +\n",
    "P(\\text{Trial } 2 \\text{ is good}) + \\cdots +\n",
    "P(\\text{Trial } n \\text{ is good})\n",
    "\\end{align*}\n",
    "\n",
    "The additivity works regardless of whether the trials are dependent or independent. \n",
    "\n",
    "We conclude this section with three applications of the method of indicators."
   ]
  },
  {
   "cell_type": "markdown",
   "metadata": {},
   "source": [
    "### Example: Binomial ###\n",
    "Let $X$ have the binomial $(n, p)$ distribution. Then $X$ can be thought of as the number of successes in $n$ i.i.d. Bernoulli $(p)$ trials, and we can write\n",
    "\n",
    "$$\n",
    "X = I_1 + I_2 + \\cdots + I_n\n",
    "$$\n",
    "\n",
    "where for each $j$ in the range 1 through $n$, $I_j$ is the indicator of \"Trial $j$ is a success\". Thus\n",
    "\n",
    "\\begin{align*}\n",
    "E(X) &= E(I_1) + E(I_2) + \\cdots + E(I_n) ~~~~ \\text{(additivity)} \\\\\n",
    "&= np ~~~~~~~~ \\text{(}E(I_j) = p \\text{ for all } j \\text{)}\n",
    "\\end{align*}\n",
    "\n",
    "Thus the expected number of heads in 100 tosses of a coin is $100 \\times 0.5 = 50$. The expected number of heads in 25 tosses is 12.5; remember that the expectation of an integer-valued random variable need not be an integer. The expected number of times green pockets win in 20 independent spins of the roulette wheel is $20 \\times \\frac{2}{38} = 1.053$, roughly."
   ]
  },
  {
   "cell_type": "code",
   "execution_count": 6,
   "metadata": {
    "collapsed": false
   },
   "outputs": [
    {
     "data": {
      "image/png": "[encoded data removed]",
      "text/plain": [
       "<matplotlib.figure.Figure at 0x116c0d240>"
      ]
     },
     "metadata": {},
     "output_type": "display_data"
    }
   ],
   "source": [
    "k = np.arange(11)\n",
    "probs = stats.binom.pmf(k, 10, 0.75)\n",
    "bin_10_75 = Table().values(k).probability(probs)\n",
    "Plot(bin_10_75, show_ev=True)\n",
    "plt.title('Binomial (10, 0.75)');"
   ]
  },
  {
   "cell_type": "markdown",
   "metadata": {},
   "source": [
    "Notice that we didn't use independence. Additivity of expectation works whether or not the random variables being added are independent. This will be very helpful in the next example."
   ]
  },
  {
   "cell_type": "markdown",
   "metadata": {},
   "source": [
    "### Example: Hypergeometric ###\n",
    "Let $X$ have the hypergeometric $(N, G, n)$ distribution. Then $X$ can be thought of as the number of good elements in $n$ draws made at random without replacement from a population of $N = G+B$ elements of which $G$ are good and $B$ bad. Then\n",
    "\n",
    "$$\n",
    "X = I_1 + I_2 + \\cdots + I_n\n",
    "$$\n",
    "\n",
    "where for each $j$ in the range 1 through $n$, $I_j$ is the indicator of \"Draw $j$ results in a good element\". Thus\n",
    "\n",
    "\\begin{align*}\n",
    "E(X) &= E(I_1) + E(I_2) + \\cdots + E(I_n) ~~~~ \\text{(additivity)} \\\\ \\\\\n",
    "&= n\\frac{G}{N} ~~~~~~~~ \n",
    "\\text{(}E(I_j) = \\frac{G}{N} \\text{ for all } j \\text{ by symmetry)}\n",
    "\\end{align*}\n",
    "\n",
    "This is the same answer as for the binomial, with the population proportion of good elements $G/N$ replacing $p$.\n",
    "\n",
    "Thus the expected number of red cards in a bridge hand of 13 cards is $13 \\times \\frac{26}{52} = 6.5$. The expected number of Independent voters in a simple random sample of 200 people drawn from a population in which 10% of the voters are Independent is $200 \\times 0.1 = 20$. These answers are intuitively clear, and we now have a theoretical justification for them."
   ]
  },
  {
   "cell_type": "code",
   "execution_count": 9,
   "metadata": {
    "collapsed": false
   },
   "outputs": [
    {
     "data": {
      "image/png": "[encoded data removed]",
      "text/plain": [
       "<matplotlib.figure.Figure at 0x1165fc4e0>"
      ]
     },
     "metadata": {},
     "output_type": "display_data"
    }
   ],
   "source": [
    "# Number of hearts in a poker hand \n",
    "N = 52\n",
    "G = 13\n",
    "n = 5\n",
    "k = np.arange(6)\n",
    "probs = stats.hypergeom.pmf(k, N, G, n)\n",
    "hyp_dist = Table().values(k).probability(probs)\n",
    "Plot(hyp_dist, show_ev=True)\n",
    "plt.title('Hypergeometric (N=52, G=13, n=5)');"
   ]
  },
  {
   "cell_type": "markdown",
   "metadata": {},
   "source": [
    "### Example: Number of Missing Classes ###\n",
    "A population consists of four classes of individuals, in the proportions 0.4, 0.3, 0.2, and 0.1. A random sample of $n$ individuals is chosen so that the choices are mutually independent. What is the expected number of classes that are missing in the sample?\n",
    "\n",
    "If $M$ is the number of missing classes, then\n",
    "\n",
    "$$\n",
    "M = I_1 + I_2 + I_3 + I_4\n",
    "$$\n",
    "\n",
    "where for each $j$, $I_j$ is the indicator of \"Class $j$ is missing in the sample\". \n",
    "\n",
    "For Class $j$ to be missing in the sample, all $n$ selected individuals have to be from the other classes. Thus\n",
    "\n",
    "$$\n",
    "E(M) = E(I_1) + E(I_2) + E(I_3) + E(I_4)\n",
    "= 0.6^n + 0.7^n + 0.8^n + 0.9^n\n",
    "$$\n",
    "\n",
    "The four indicators aren't independent but that doesn't affect the additivity of expectation."
   ]
  },
  {
   "cell_type": "code",
   "execution_count": null,
   "metadata": {
    "collapsed": true
   },
   "outputs": [],
   "source": []
  }
 ],
 "metadata": {
  "anaconda-cloud": {},
  "kernelspec": {
   "display_name": "Python [Root]",
   "language": "python",
   "name": "Python [Root]"
  },
  "language_info": {
   "codemirror_mode": {
    "name": "ipython",
    "version": 3
   },
   "file_extension": ".py",
   "mimetype": "text/x-python",
   "name": "python",
   "nbconvert_exporter": "python",
   "pygments_lexer": "ipython3",
   "version": "3.5.2"
  }
 },
 "nbformat": 4,
 "nbformat_minor": 0
}

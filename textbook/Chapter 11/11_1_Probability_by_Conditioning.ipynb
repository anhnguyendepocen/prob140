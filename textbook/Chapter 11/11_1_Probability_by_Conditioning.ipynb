{
 "cells": [
  {
   "cell_type": "code",
   "execution_count": 2,
   "metadata": {
    "collapsed": true
   },
   "outputs": [],
   "source": [
    "# HIDDEN\n",
    "from datascience import *\n",
    "from prob140 import *\n",
    "import numpy as np\n",
    "import matplotlib.pyplot as plt\n",
    "plt.style.use('fivethirtyeight')\n",
    "%matplotlib inline\n",
    "import math\n",
    "from scipy import stats\n",
    "from scipy import misc"
   ]
  },
  {
   "cell_type": "markdown",
   "metadata": {},
   "source": [
    "### Probability by Conditioning ###\n",
    "The theory in this section isn't new. It's the old familiar multiplication rule. We are just going to use it in the context of processes indexed by time, in a method that we are going to call *conditioning on early moves*."
   ]
  },
  {
   "cell_type": "markdown",
   "metadata": {},
   "source": [
    "### Winning a Game of Dice ###\n",
    "Suppose Jo and Bo play the following game. Jo rolls a die, then Bo rolls it, then Jo rolls again, and so on, until the first time one of them gets the face with six spots. That person is the winner.\n",
    "\n",
    "**Question.** What is the chance that Jo wins?\n",
    "\n",
    "**Answer.** Before you do any calculations, notice that the game isn't symmetric in the two players. Jo has the advantage of going first, and could win on the first roll. So the probability that Jo wins should be greater than half.\n",
    "\n",
    "To see exactly what it is, notice that there's a natural recursion or \"renewal\" in the setup. For Jo to win, we can *condition on the first two moves* as follows:\n",
    "- either Jo wins on Roll 1;\n",
    "- or Jo gets a non-six on Roll 1, then Bo gets a non-six on Roll 2, and then *the game starts over* and Jo wins.\n",
    "\n",
    "So if $x$ is the chance that Jo is the winner, then $x$ satisfies an equation:\n",
    "\n",
    "$$\n",
    "x = \\frac{1}{6} + \\big{(}\\frac{5}{6}\\big{)}^2 x\n",
    "$$\n",
    "\n",
    "This is easy to solve.\n",
    "\n",
    "$$\n",
    "\\frac{11}{36}x = \\frac{6}{36} ~~~~ \\text{and so } ~~~~ x = \\frac{6}{11}\n",
    "$$\n",
    "\n",
    "which is greater than half as we had guessed."
   ]
  },
  {
   "cell_type": "markdown",
   "metadata": {},
   "source": [
    "### Gambler's Ruin: Fair Coin ###\n",
    "Let $a < b$ be two positive integers. Suppose a gambler starts with $\\$a$ and bets on the tosses of a coin. Every time the coin lands heads, the gambler wins a dollar. Every time it lands tails, the gambler loses a dollar. \n",
    "\n",
    "Now suppose the gambler has a *stopping rule*: he will stop once his fortune gets to $\\$b$ or to $\\$0$, whichever happens first. If the gambler ends up stopping at $\\$0$, he is ruined. Our goal in this example is to find the probability of ruin.\n",
    "\n",
    "It's a good idea to start visualizing the random trajectory of the gambler's fortune as a *path*. Here are two graphs that assume $a = 3$ and $b = 10$. The first graph shows a path that leads to the gambler reaching $\\$10$. The second shows a path to ruin."
   ]
  },
  {
   "cell_type": "code",
   "execution_count": 52,
   "metadata": {
    "collapsed": false
   },
   "outputs": [
    {
     "data": {
      "image/png": "[encoded data removed]",
      "text/plain": [
       "<matplotlib.figure.Figure at 0x1169c3c18>"
      ]
     },
     "metadata": {},
     "output_type": "display_data"
    }
   ],
   "source": [
    "# HIDDEN\n",
    "tosses = make_array(1, 1, 1, -1, -1, 1, 1, 1, 1, -1, 1, 1, 1)\n",
    "fortune = np.cumsum(np.append(3, tosses))\n",
    "plt.scatter(np.arange(14), fortune, color='k')\n",
    "plt.plot([0, 13], [0, 0], lw=2, color='r')\n",
    "plt.plot([0, 13], [10, 10], lw=2, color='g')\n",
    "plt.ylim(-0.5, 10.5)\n",
    "plt.xlim(-0.2, 13.5)\n",
    "plt.xticks(np.arange(0, 14, 1))\n",
    "plt.yticks(np.arange(0, 11, 1))\n",
    "plt.xlabel('Tosses')\n",
    "plt.ylabel('Fortune')\n",
    "plt.title('Path to \\$10');"
   ]
  },
  {
   "cell_type": "code",
   "execution_count": 51,
   "metadata": {
    "collapsed": false
   },
   "outputs": [
    {
     "data": {
      "image/png": "[encoded data removed]",
      "text/plain": [
       "<matplotlib.figure.Figure at 0x117a232e8>"
      ]
     },
     "metadata": {},
     "output_type": "display_data"
    }
   ],
   "source": [
    "# HIDDEN\n",
    "tosses = make_array(1, 1, 1, -1, -1, 1, -1, -1, -1, -1, -1)\n",
    "fortune = np.cumsum(np.append(3, tosses))\n",
    "plt.scatter(np.arange(12), fortune, color='k')\n",
    "plt.plot([0, 11], [0, 0], lw=2, color='r')\n",
    "plt.plot([0, 11], [10, 10], lw=2, color='g')\n",
    "plt.ylim(-0.5, 10.5)\n",
    "plt.xlim(-0.2, 12)\n",
    "plt.xlabel('Tosses')\n",
    "plt.ylabel('Fortune')\n",
    "plt.xticks(np.arange(0, 12, 1))\n",
    "plt.yticks(np.arange(0, 11, 1))\n",
    "plt.title('Path to Ruin');"
   ]
  },
  {
   "cell_type": "markdown",
   "metadata": {},
   "source": [
    "**Question.** What is the probability that the gambler is ruined?\n",
    "\n",
    "**Answer.** Let's start by setting up some notation. For $0 \\le k \\le b$, Let $p_k$ be the chance that the gambler is ruined given that he starts with $\\$k$. Then the answer that we want is $p_a$. By *conditioning on the first move*, we can see that $p_k$ satisfies an equation:\n",
    "\n",
    "$$ \n",
    "p_k = \\frac{1}{2}p_{k-1} + \\frac{1}{2}p_{k+1}, ~~~~ 1 \\le k \\le b-1\n",
    "$$\n",
    "\n",
    "with the \"edge cases\" defined as\n",
    "\n",
    "$$\n",
    "p_0 = 1 ~~~~~ \\text{and} ~~~~~ p_b = 0\n",
    "$$\n",
    "\n",
    "Write the left hand side of the equation as $\\frac{1}{2}p_k + \\frac{1}{2}p_k$ and rearrange it to see that \n",
    "\n",
    "$$\n",
    "p_k - p_{k-1} = p_{k+1} - p_k\n",
    "$$\n",
    "\n",
    "The successive differences are equal, which means that $p_k$ is a linear function of $k$.\n",
    "\n",
    "Here is the line assuming $a= \\$3$ and $b = \\$10$ as before. The red lines show that $p_3 = 0.7$."
   ]
  },
  {
   "cell_type": "code",
   "execution_count": 6,
   "metadata": {
    "collapsed": false
   },
   "outputs": [
    {
     "data": {
      "image/png": "[encoded data removed]",
      "text/plain": [
       "<matplotlib.figure.Figure at 0x11419cb38>"
      ]
     },
     "metadata": {},
     "output_type": "display_data"
    }
   ],
   "source": [
    "# HIDDEN\n",
    "plt.scatter(np.arange(11), np.arange(1, -0.1, -0.1), lw=2, color='darkblue')\n",
    "plt.plot([3, 3], [0, 0.7], lw=1, color='r')\n",
    "plt.plot([0, 3], [0.7, 0.7], lw=1, color='r')\n",
    "plt.ylim(-0.03, 1.03)\n",
    "plt.xticks(np.arange(0, 11))\n",
    "plt.yticks(np.arange(0, 1.1, 0.1))\n",
    "plt.xlabel('k')\n",
    "plt.ylabel('$p_k$')\n",
    "plt.title('Chance of Ruin, Starting With $\\$k$ (Fair Coin)');"
   ]
  },
  {
   "cell_type": "markdown",
   "metadata": {},
   "source": [
    "For general $a$ and $b$, the line starts at $(0, 1)$ and has slope $-1/b$. So\n",
    "the chance of ruin, starting with $\\$a$, is\n",
    "\n",
    "$$\n",
    "p_a = \\frac{b-a}{b}\n",
    "$$\n",
    "\n",
    "This makes sense. For fixed $b$, the bigger $a$ is, the closer the gambler's starting fortune is to $\\$b$ and hence the smaller his chance of ending in ruin. And correspondingly, the higher his chance of ending up with $\\$b$:\n",
    "\n",
    "$$\n",
    "1 - p_a = \\frac{a}{b}\n",
    "$$"
   ]
  },
  {
   "cell_type": "markdown",
   "metadata": {},
   "source": [
    "### Gambler's Ruin: Unfair Coin ###\n",
    "If the gambler bets on tosses of a coin that lands heads with $p \\ne 1/2$, then the equations become\n",
    "\n",
    "$$\n",
    "p_k = q\\cdot p_{k-1} + p\\cdot p_{k+1}, ~~~~ 1 \\le k \\le b-1\n",
    "$$\n",
    "\n",
    "where $q = 1-p$, and the edge cases are \n",
    "\n",
    "$$\n",
    "p_0 = 1 ~~~~~ \\text{and} ~~~~~ p_b = 0\n",
    "$$\n",
    "\n",
    "as before. Now the rearrangement is\n",
    "\n",
    "$$\n",
    "q(p_k - p_{k-1}) = p(p_{k+1} - p_k)\n",
    "$$\n",
    "\n",
    "which means that the ratio of the successive differences is constant and equal to $r = \\frac{q}{p}$. So the probabilities $p_k$ are the sums of the terms in a geometric progression with common ratio $r$. You can check that this works out to\n",
    "\n",
    "$$\n",
    "p_k = \\frac{r^k - r^b}{1 - r^b}, ~~~~~ 0 \\le k \\le b\n",
    "$$\n",
    "\n",
    "Note that if $p < 1/2$ then $r > 1$ and both the numerator and denominator are negative.\n",
    "\n",
    "Here is a graph of the probabilities, for $a = 3$ and $b = 10$ as before, but now with a coin that is biased towards heads with $p = 0.6$. Not surprisingly, as the initial fortune increases the probability of ruin falls more sharply for this coin than for the fair coin. Even when the gambler starts with only $\\$3$, his chance of ruin is less than 30%."
   ]
  },
  {
   "cell_type": "code",
   "execution_count": 4,
   "metadata": {
    "collapsed": false
   },
   "outputs": [
    {
     "data": {
      "image/png": "[encoded data removed]",
      "text/plain": [
       "<matplotlib.figure.Figure at 0x116b35400>"
      ]
     },
     "metadata": {},
     "output_type": "display_data"
    }
   ],
   "source": [
    "# HIDDEN\n",
    "b = 10\n",
    "p = 0.6\n",
    "r = (1-p)/p\n",
    "k = np.arange(11)\n",
    "ruin_probs = (r**k - r**b)/(1 - r**b)\n",
    "p3 = ruin_probs.item(3)\n",
    "plt.scatter(k, ruin_probs, lw=2, color='darkblue')\n",
    "plt.plot([3, 3], [0, p3], lw=1, color='r')\n",
    "plt.plot([0, 3], [p3, p3], lw=1, color='r')\n",
    "plt.ylim(-0.03, 1.03)\n",
    "plt.xticks(np.arange(0, 11))\n",
    "plt.yticks(np.arange(0, 1.1, 0.1))\n",
    "plt.xlabel('k')\n",
    "plt.ylabel('$p_k$')\n",
    "plt.title('Chance of Ruin, Starting With $\\$k$ (p = 0.6)');"
   ]
  },
  {
   "cell_type": "code",
   "execution_count": null,
   "metadata": {
    "collapsed": true
   },
   "outputs": [],
   "source": []
  }
 ],
 "metadata": {
  "anaconda-cloud": {},
  "kernelspec": {
   "display_name": "Python [Root]",
   "language": "python",
   "name": "Python [Root]"
  },
  "language_info": {
   "codemirror_mode": {
    "name": "ipython",
    "version": 3
   },
   "file_extension": ".py",
   "mimetype": "text/x-python",
   "name": "python",
   "nbconvert_exporter": "python",
   "pygments_lexer": "ipython3",
   "version": "3.5.2"
  }
 },
 "nbformat": 4,
 "nbformat_minor": 0
}

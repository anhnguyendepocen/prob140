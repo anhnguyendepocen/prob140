{
 "cells": [
  {
   "cell_type": "code",
   "execution_count": 1,
   "metadata": {
    "collapsed": true
   },
   "outputs": [],
   "source": [
    "# HIDDEN\n",
    "from datascience import *\n",
    "from prob140 import *\n",
    "import numpy as np\n",
    "import matplotlib.pyplot as plt\n",
    "plt.style.use('fivethirtyeight')\n",
    "%matplotlib inline\n",
    "import math\n",
    "from scipy import stats\n",
    "from scipy import misc"
   ]
  },
  {
   "cell_type": "markdown",
   "metadata": {},
   "source": [
    "### Markov Chain Monte Carlo ###\n",
    "The goal of Markov Chain Monte Carlo (MCMC) is to generate samples from a complicated high dimensional distributions about which we have incomplete information. For example, it might be that we don't know the normalizing constant, as we saw in the code breaking example of the previous section.\n",
    "\n",
    "Suppose the distribution from which we want to generate a sample is called $\\pi$. We are going to assume that $\\pi$ is a probability distribution on a finite set, and you should imagine the set to be large. MCMC relies on a few observations.\n",
    "\n",
    "- Let $X_0, X_1, \\ldots $ be an irreducible aperiodic Markov Chain on a finite state space. Then the distribution of $X_n$ converges to a stationary distribution as $n$ gets large. If we can create a Markov Chain $\\{X_n\\}$ that has the desired distribution $\\pi$ as its stationary distribution, then we can simulate draws from $\\pi$ (or close enough to it) by running the chain for a long time and using the values $X_n$ for large $n$.\n",
    "\n",
    "- Reversibility is a simple criterion that connects the stationary distribution and the transition matrix of a chain. We can use this to create a transition matrix that results in $\\pi$ as the stationary distribution.\n",
    "\n",
    "- The chain is reversible if there is detailed balance, which we can write as \n",
    "\n",
    "$$\n",
    "\\frac{\\pi(i)}{\\pi(j)} = \\frac{P(j, i)}{P(i, j)}\n",
    "$$\n",
    "\n",
    "The right hand side is based on the transition probabilities of the chain that we want to create. Notice that the left hand side *only involves ratios of the terms in $\\pi$*, and therefore can be checked *even if we don't know the constant that normalizes $\\pi$*.\n"
   ]
  },
  {
   "cell_type": "markdown",
   "metadata": {},
   "source": [
    "### Metropolis Algorithm ###\n",
    "Exactly who proposed the first algorithm to create such a Markov Chain is the subject of some debate. A general version was proposed by Hastings. Here we will describe an earlier version algorithm attributed to Metropolis and co-authors in 1953.\n",
    "\n",
    "The goal is to create a transition matrix $P$ so that $\\pi$ and $P$ together solve the detailed balance equations. \n",
    "\n",
    "The algorithm is based on any symmetric transition matrix $Q$ that creates an irreducible aperiodic chain on the state space. You could start with something as simple as, \"Wherever the chain is, it picks the next value uniformly at random from among all the states.\" For a pair of states $i$ and $j$, the transition probability $Q(i, j)$ is called the *proposal probability*.\n",
    "\n",
    "Here are the steps that determine the transitions of the new chain.\n",
    "\n",
    "- Suppose the chain is at $i$ at time $n$, that is, suppose $X_n = i$. Pick a state $j$ according to the proposal probability $Q(i, j)$. This $j$ is the candidate state to which your chain might move.\n",
    "\n",
    "- Define\n",
    "$$\n",
    "r(i, j) = \\frac{\\pi(j)}{\\pi(i)}\n",
    "$$\n",
    "\n",
    "- If $r(i, j) \\ge 1$, set $X_{n+1} = j$.\n",
    "\n",
    "- If $r(i, j) < 1$, toss a coin that lands heads with chance $r(i, j)$. \n",
    "     - If the coin lands heads, set $X_{n+1} = j$. \n",
    "     - If the coin lands tails, set $X_{n+1} = i$.\n",
    "- Repeat all the steps, starting at $X_{n+1}$.\n",
    "\n",
    "Thus the chain either moves to the state picked according to $Q$, or it stays where it is. We say that it *accepts a move to a new state* based on $Q$ and $r$, and otherwise it doesn't move."
   ]
  },
  {
   "cell_type": "markdown",
   "metadata": {},
   "source": [
    "### The Algorithm Works ###\n",
    "We will now show that the detailed balance equations are solved by the desired limit distribution $\\pi$ and the transition matrix $\\mathbb{P}$ of the chain created by the algorithm.\n",
    "\n",
    "Take any two states $i$ and $j$.\n",
    "\n",
    "#### Case 1: $\\pi(i) = \\pi(j)$ ####\n",
    "Then $r(i, j) = 1$. By the algorithm, $P(i, j) = Q(i, j)$ and also $P(j, i) = Q(j, i) = Q(i, j)$ by the symmetry of $Q$. \n",
    "\n",
    "Therefore $P(i, j) = P(j, i)$ and the detailed balance equation $\\pi(i)P(i, j) = \\pi(j)P(j, i)$ is satisfied.\n",
    "\n",
    "#### Case 2: $\\pi(i) < \\pi(j)$ ####\n",
    "Then $r(i, j) < 1$, so\n",
    "\n",
    "$$\n",
    "P(i, j) ~=~ Q(i, j)r(i, j) \n",
    "~=~ Q(j, i)\\frac{\\pi(j)}{\\pi(i)} ~~~ \\text{(symmetry of } Q \\text{ and definition of }r) \n",
    "$$\n",
    "\n",
    "Now $r(j, i) > 1$, so the algorithm says $P(j, i) = Q(j, i)$.\n",
    "\n",
    "Therefore\n",
    "$$\n",
    "P(i, j) ~ = ~ P(j, i)\\frac{\\pi(j)}{\\pi(i)}\n",
    "$$\n",
    "which is the same as\n",
    "$$\n",
    "\\pi(i)P(i, j) ~ = ~ \\pi(j)P(j, i)\n",
    "$$\n",
    "\n",
    "#### Case 2: $\\pi(i) > \\pi(j)$ ####\n",
    "Reverse the roles of $i$ and $j$ in Case 2."
   ]
  },
  {
   "cell_type": "markdown",
   "metadata": {},
   "source": [
    "That's it! A simple and brilliant idea that provides a solution to a difficult problem. In lab, you will see it in action when you implement the algorithm to decode text."
   ]
  }
 ],
 "metadata": {
  "kernelspec": {
   "display_name": "Python [Root]",
   "language": "python",
   "name": "Python [Root]"
  },
  "language_info": {
   "codemirror_mode": {
    "name": "ipython",
    "version": 3
   },
   "file_extension": ".py",
   "mimetype": "text/x-python",
   "name": "python",
   "nbconvert_exporter": "python",
   "pygments_lexer": "ipython3",
   "version": "3.5.2"
  }
 },
 "nbformat": 4,
 "nbformat_minor": 0
}

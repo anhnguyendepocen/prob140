{
 "cells": [
  {
   "cell_type": "code",
   "execution_count": 1,
   "metadata": {
    "collapsed": true
   },
   "outputs": [],
   "source": [
    "# HIDDEN\n",
    "from datascience import *\n",
    "from prob140 import *\n",
    "import numpy as np\n",
    "import matplotlib.pyplot as plt\n",
    "plt.style.use('fivethirtyeight')\n",
    "%matplotlib inline\n",
    "import math\n",
    "from scipy import stats"
   ]
  },
  {
   "cell_type": "markdown",
   "metadata": {},
   "source": [
    "### Odds Ratios ###\n",
    "Binomial $(n, p)$ probabilities involve powers and factorials, both of which get difficult to calculate when $n$ is large. One way to simplify the computation of the whole distribution also helps us understand the shape of binomial histograms."
   ]
  },
  {
   "cell_type": "markdown",
   "metadata": {},
   "source": [
    "### Consecutive Odds Ratios ###\n",
    "Fix $n$ and $p$, and let $P(k)$ be the binomial $(n, p)$ probability of $k$. That is, let $P(k)$ be the chance of getting $k$ successes in $n$ independent trials with probability $p$ of success on each trial.\n",
    "\n",
    "For $k \\ge 1$, define the *$k$th consecutive odds ratio*\n",
    "$$\n",
    "R(k) = \\frac{P(k)}{P(k-1)}\n",
    "$$\n",
    "\n",
    "To see how this helps us calculate each $P(k)$ without having to calculate factorials and powers each time, notice that\n",
    "\n",
    "\\begin{align*}\n",
    "P(0) &= (1-p)^n \\\\ \\\\\n",
    "P(1) &= P(0) \\cdot \\frac{P(1)}{P(0)} = P(0)R(1) \\\\\n",
    "P(2) &= P(0)R(1)R(2)\n",
    "\\end{align*}\n",
    "\n",
    "and so on.\n",
    "\n",
    "How is this more illuminating than plugging into the binomial formula? To see this, fix $k \\ge 1$ and calculate the ratio $R(k)$.\n",
    "\n",
    "\\begin{align*}\n",
    "R(k) &= \\frac{\\binom{n}{k}p^k(1-p)^{n-k}}\n",
    "{\\binom{n}{k-1}p^{k-1}(1-p)^{n-k+1}} \\\\ \\\\\n",
    "&= \\frac{n-k+1}{k} \\cdot \\frac{p}{1-p} ~~~\n",
    "\\text{(after cancellation)} \\\\ \\\\\n",
    "&= \\big{(} \\frac{n+1}{k} - 1 \\big{)} \\cdot \\frac{p}{1-p}\n",
    "\\end{align*}\n",
    "\n",
    "First, notice that the formulas for $R(k)$ are simple. For example, if $n \\ge 3$, it is easy to calculate $P(3)$ as\n",
    "\n",
    "$$\n",
    "P(3) = (1-p)^n \\cdot \\frac{n - 1 + 1}{1} \\cdot \\frac{p}{1-p} \\cdot\n",
    "\\frac{n - 2 + 1}{2} \\cdot \\frac{p}{1-p} \\cdot\n",
    "\\frac{n - 3 + 1}{3} \\cdot \\frac{p}{1-p} \\cdot\n",
    "$$\n",
    "\n",
    "No factorials involved."
   ]
  },
  {
   "cell_type": "markdown",
   "metadata": {},
   "source": [
    "### Shapes of Binomial Histograms ###\n",
    "Now observe that comparing $R(k)$ to 1 tells us whether the histogram is going up, staying level, or going down at $k$.\n",
    "\n",
    "\\begin{align*}\n",
    "R(k) > 1 &\\iff P(k) > P(k-1) \\\\\n",
    "R(k) = 1 &\\iff P(k) = P(k-1) \\\\\n",
    "R(k) < 1 &\\iff P(k) < P(k-1) \n",
    "\\end{align*}\n",
    "\n",
    "Note also that the form\n",
    "$$\n",
    "R(k) = \\big{(} \\frac{n+1}{k} - 1 \\big{)} \\cdot \\frac{p}{1-p}\n",
    "$$\n",
    "tells us the the ratios are a *decreasing function of $k$*. In the formula, $n$ and $p$ are the parameters of the distribution and hence constant. It is $k$ that varies, and $k$ appears in the denominator.\n",
    "\n",
    "This implies that once $R(k) < 1$ for some $k$, it will remain less than 1 for all larger $k$. In other words, once the histogram starts going down, it will keep going down. It cannot come back up again. \n",
    "\n",
    "That is why binomial histograms are either non-increasing or non-decreasing, or they go up and come down. But they can't look like waves on the seashore. They can't go up, come down, and go up again.\n",
    "\n",
    "Let's visualize this for a $n = 23$ and $p = 0.7$, two parameters that have no significance other than being our choice to use in this example."
   ]
  },
  {
   "cell_type": "code",
   "execution_count": 9,
   "metadata": {
    "collapsed": false
   },
   "outputs": [
    {
     "data": {
      "image/png": "[encoded data removed]",
      "text/plain": [
       "<matplotlib.figure.Figure at 0x1172a24a8>"
      ]
     },
     "metadata": {},
     "output_type": "display_data"
    }
   ],
   "source": [
    "n = 23\n",
    "p = 0.7\n",
    "k = range(n+1)\n",
    "bin_23_7 = stats.binom.pmf(k, n, p)\n",
    "bin_dist = Table().values(k).probability(bin_23_7)\n",
    "Plot(bin_dist)"
   ]
  },
  {
   "cell_type": "code",
   "execution_count": 10,
   "metadata": {
    "collapsed": false
   },
   "outputs": [
    {
     "data": {
      "text/plain": [
       "array([ 53.66666667,  25.66666667,  16.33333333,  11.66666667,\n",
       "         8.86666667,   7.        ,   5.66666667,   4.66666667,\n",
       "         3.88888889,   3.26666667,   2.75757576,   2.33333333,\n",
       "         1.97435897,   1.66666667,   1.4       ,   1.16666667,\n",
       "         0.96078431,   0.77777778,   0.61403509,   0.46666667,\n",
       "         0.33333333,   0.21212121,   0.10144928])"
      ]
     },
     "execution_count": 10,
     "metadata": {},
     "output_type": "execute_result"
    }
   ],
   "source": [
    "# It is important to define k as an array here,\n",
    "# so you can do array operations\n",
    "# to find all the ratios at once.\n",
    "k = np.arange(1, n+1, 1)\n",
    "((n - k + 1)/k)*(p/(1-p))"
   ]
  },
  {
   "cell_type": "markdown",
   "metadata": {},
   "source": [
    "What Python is helpfully telling us is that the invisible bar at 1 is 53.666... times larger than the even more invisible bar at 0. The ratios decrease after that but they are still bigger than 1 through $k = 16$. So the histogram rises till it reaches its peak at $k = 16$; you can see that $R(16) = 1.1666 > 1$. Then the ratios drop below one, so the histogram starts going down.\n",
    "\n",
    "If you are intrepid, you can solve an inequality the largest $k$ for which $R(k) \\ge 1$ is the integer part of $(n+1)p$. In our example, this is $k = 16$ because"
   ]
  },
  {
   "cell_type": "code",
   "execution_count": 11,
   "metadata": {
    "collapsed": false
   },
   "outputs": [
    {
     "data": {
      "text/plain": [
       "16.799999999999997"
      ]
     },
     "execution_count": 11,
     "metadata": {},
     "output_type": "execute_result"
    }
   ],
   "source": [
    "(n+1)*p"
   ]
  },
  {
   "cell_type": "markdown",
   "metadata": {},
   "source": [
    "You can also check that if $(n+1)p$ is an integer, then the bars $k = (n+1)p$ and $k-1$ are equally large and both are the largest among all bars.\n",
    "\n",
    "But in fact, $np$ is a more natural quantity to calculate. For example, if you are counting the number of heads in 100 tosses of a coin, then the distribution if binomial $(100, 1/2)$ and you naturally expect $np = 50$ heads. You don't want to be worrying about $101 \\times (1/2)$. \n",
    "\n",
    "You don't have to worry when $n$ is large, because then $np$ and $(n+1)p$ are pretty close. In the next section we will examine a case where you can use $np$ in an approximation to the shape of the binomial distribution when $n$ is large."
   ]
  },
  {
   "cell_type": "code",
   "execution_count": null,
   "metadata": {
    "collapsed": true
   },
   "outputs": [],
   "source": []
  }
 ],
 "metadata": {
  "kernelspec": {
   "display_name": "Python [Root]",
   "language": "python",
   "name": "Python [Root]"
  },
  "language_info": {
   "codemirror_mode": {
    "name": "ipython",
    "version": 3
   },
   "file_extension": ".py",
   "mimetype": "text/x-python",
   "name": "python",
   "nbconvert_exporter": "python",
   "pygments_lexer": "ipython3",
   "version": "3.5.2"
  }
 },
 "nbformat": 4,
 "nbformat_minor": 0
}

{
 "cells": [
  {
   "cell_type": "code",
   "execution_count": 1,
   "metadata": {
    "collapsed": true
   },
   "outputs": [],
   "source": [
    "# HIDDEN\n",
    "from datascience import *\n",
    "from prob140 import *\n",
    "import numpy as np\n",
    "import matplotlib.pyplot as plt\n",
    "plt.style.use('fivethirtyeight')\n",
    "%matplotlib inline\n",
    "from scipy import stats"
   ]
  },
  {
   "cell_type": "markdown",
   "metadata": {},
   "source": [
    "### Exact Distribution ###\n",
    "We know how to find the distribution of the sum of any two discrete random variables. \n",
    "\n",
    "$$\n",
    "P(X+Y = k) = \\sum_j P(X=j, Y=k-j)\n",
    "$$\n",
    "\n",
    "If $X$ and $Y$ are independent, this simplifies to become the *discrete convolution formula*:\n",
    "\n",
    "$$\n",
    "P(X+Y = k) = \\sum_j P(X=j)P(Y=k-j)\n",
    "$$\n",
    "\n",
    "By induction, we can extend this to the sum of any finite number of independent variables. So in principle, we know how to find the distribution of the sum of $n$ random variables for $n > 1$.\n",
    "\n",
    "However, this can be hard to put into practice for large $n$. \n",
    "\n",
    "In this section we examine another way of approaching the problem of finding the distribution of a sum. It is easier to automate, as you will see, though it too comes up against computational barriers eventually."
   ]
  },
  {
   "cell_type": "markdown",
   "metadata": {},
   "source": [
    "### Probability Generating Function ###\n",
    "Let $X$ be a random variable with possible values $0, 1, 2, \\ldots, N$ for\n",
    "some fixed integer $N$. For brevity, let $p_k = P(X = k)$ for $k$ in the range 0 through $N$.\n",
    "\n",
    "Define the *probability generating function* (pgf) of $X$ as\n",
    "\n",
    "$$\n",
    "G_X(s) ~  = ~ \\sum_{k=0}^N p_ks^k, ~~~ -\\infty < s < \\infty\n",
    "$$\n",
    "\n",
    "Longhand, this says that for any $s$,\n",
    "$$\n",
    "G_X(s) ~ = ~ p_0 + p_1s + p_2s^2 + p_3s^3 + \\cdots + p_Ns^N\n",
    "$$\n",
    "\n",
    "You can see that $G_X$ is a polynomial of degree $N$, and that the coefficient of $s^k$ is $p_k = P(X=k)$.\n",
    "\n",
    "So if you were given the pgf of a random variable, you could read off the distribution of the random variable by simply listing all the coefficients and the corresponding powers.\n",
    "\n",
    "To see how this might help us find the distribution of a sum, observe that for every $s$, the value $G_X(s)$ is an expectation:\n",
    "\n",
    "$$\n",
    "G_X(s) ~ = ~ \\sum_{k=0}^N s^kP(X=k) ~ = ~ E(s^X)\n",
    "$$\n",
    "\n",
    "Therefore, if $X$ and $Y$ are independent (and the values of $Y$ are also a finite set of non-negative integers), then for every $s$,\n",
    "\n",
    "$$\n",
    "G_{X+Y}(s) ~ = ~ E(s^{X+Y}) ~ = ~ E(s^X s^Y) ~ = ~ E(s^X)E(s^Y)\n",
    "~ = ~ G_X(s)G_Y(s)\n",
    "$$\n",
    "\n",
    "We have used the fact that for independent random variables, the expectation of the product is the product of the expectations. This was proved when we were studying the properties of covariance.\n",
    "\n",
    "The result says that the pgf of the sum of two independent random variables is the product of the two pgfs. This extends easily to more than two random variables and yields a simple formula for the pgf of the sum of i.i.d. variables."
   ]
  },
  {
   "cell_type": "markdown",
   "metadata": {},
   "source": [
    "### PGF of the Sum of an IID Sample ###\n",
    "Now let $X_1, X_2, \\ldots, X_n$ be i.i.d. with a distribution on $0, 1, 2, \\ldots, N$. Let $S_n = X_1 + X_2 + \\cdots + X_n$. Then the probability generating function of $S_n$ is\n",
    "\n",
    "$$\n",
    "G_{S_n}(s) ~ = ~ \\big{(}G_{X_1}(s)\\big{)}^n, ~~~ -\\infty < s < \\infty\n",
    "$$\n",
    "\n",
    "Because $G_{X_1}$ is a polynomial of degree $N$, $G_{S_n}$ is a polynomial of degree $nN$. We now have an algorithm for finding the distribution of $S_n$.\n",
    "\n",
    "- Start with the pgf of $X_1$.\n",
    "- Raise it to the power $n$. That's the pgf of $S_n$.\n",
    "- Read the distribution of $S_n$ off the pgf.\n",
    "\n",
    "Wonderful! We're done! Except that actually doing this involves raising a polynomial to a power. That is a daunting task if the power is large.\n",
    "\n",
    "Fortunately, `NumPy` comes to our rescue with a set of polynomial methods."
   ]
  },
  {
   "cell_type": "markdown",
   "metadata": {},
   "source": [
    "### NumPy and Polynomials ###\n",
    "Suppose the distribution of $X_1$ is given by $p_0 = 0.1$, $p_1 = 0.5$, $p_2 = 0.4$. Let `probs_X1` be an array containing the probabilities:"
   ]
  },
  {
   "cell_type": "code",
   "execution_count": 26,
   "metadata": {
    "collapsed": true
   },
   "outputs": [],
   "source": [
    "probs_X1 = make_array(0.1, 0.5, 0.4)"
   ]
  },
  {
   "cell_type": "code",
   "execution_count": 27,
   "metadata": {
    "collapsed": false
   },
   "outputs": [
    {
     "data": {
      "image/png": "[encoded data removed]",
      "text/plain": [
       "<matplotlib.figure.Figure at 0x117311278>"
      ]
     },
     "metadata": {},
     "output_type": "display_data"
    }
   ],
   "source": [
    "dist_X1 = Table().values(np.arange(3)).probability(probs_X1)\n",
    "Plot(dist_X1)"
   ]
  },
  {
   "cell_type": "markdown",
   "metadata": {},
   "source": [
    "The pgf of $X_1$ is\n",
    "$$\n",
    "0.1 + 0.5s + 0.4s^2\n",
    "$$\n",
    "\n",
    "`NumPy` expresses this polynomial in the standard mathematical way, leading with the term of the highest degree:\n",
    "\n",
    "$$\n",
    "0.4s^2 + 0.5s + 1\n",
    "$$\n",
    "\n",
    "The method `np.flipud` reverses the array of probabilities to be consistent with this order of coefficients. The `ud` in the name is for \"up down\"; `NumPy` is thinking of the array as a column."
   ]
  },
  {
   "cell_type": "code",
   "execution_count": 28,
   "metadata": {
    "collapsed": false
   },
   "outputs": [
    {
     "data": {
      "text/plain": [
       "array([ 0.4,  0.5,  0.1])"
      ]
     },
     "execution_count": 28,
     "metadata": {},
     "output_type": "execute_result"
    }
   ],
   "source": [
    "coeffs_X1 = np.flipud(probs_X1)\n",
    "coeffs_X1"
   ]
  },
  {
   "cell_type": "markdown",
   "metadata": {},
   "source": [
    "The method `np.poly1d` takes the array of coefficients as its argument and constructs the polynomial. The `1d` in the name stands for \"one dimensional\"."
   ]
  },
  {
   "cell_type": "code",
   "execution_count": 18,
   "metadata": {
    "collapsed": false
   },
   "outputs": [
    {
     "name": "stdout",
     "output_type": "stream",
     "text": [
      "     2\n",
      "0.4 x + 0.5 x + 0.1\n"
     ]
    }
   ],
   "source": [
    "pgf_X1 = np.poly1d(coeffs_X1)\n",
    "print(pgf_X1)"
   ]
  },
  {
   "cell_type": "markdown",
   "metadata": {},
   "source": [
    "The call to `print` displays the polynomial in retro typewriter style.\n",
    "\n",
    "Now suppose $S_3$ is the sum of three i.i.d. copies of $X_1$. The pgf of $S_3$ is the cube of the pgf of $X_1$, and can be calculated just as you would hope:"
   ]
  },
  {
   "cell_type": "code",
   "execution_count": 14,
   "metadata": {
    "collapsed": false
   },
   "outputs": [
    {
     "name": "stdout",
     "output_type": "stream",
     "text": [
      "       6        5         4         3         2\n",
      "0.064 x + 0.24 x + 0.348 x + 0.245 x + 0.087 x + 0.015 x + 0.001\n"
     ]
    }
   ],
   "source": [
    "pgf_S3 = pgf_X1**3\n",
    "print(pgf_S3)"
   ]
  },
  {
   "cell_type": "markdown",
   "metadata": {},
   "source": [
    "The coefficients are the probabilities in the distribution of $S_3$. You can extract an array of the coefficents by using a polynomial method called `c` for coefficients."
   ]
  },
  {
   "cell_type": "code",
   "execution_count": 15,
   "metadata": {
    "collapsed": false
   },
   "outputs": [
    {
     "data": {
      "text/plain": [
       "array([ 0.064,  0.24 ,  0.348,  0.245,  0.087,  0.015,  0.001])"
      ]
     },
     "execution_count": 15,
     "metadata": {},
     "output_type": "execute_result"
    }
   ],
   "source": [
    "coeffs_S3 = pgf_S3.c\n",
    "coeffs_S3"
   ]
  },
  {
   "cell_type": "markdown",
   "metadata": {},
   "source": [
    "These are the probabilities of the values 6 down to 0. In probability it is more natural to think of the probabilities following the sequence 0 through 6, so use `np.flipud` again:"
   ]
  },
  {
   "cell_type": "code",
   "execution_count": 20,
   "metadata": {
    "collapsed": false
   },
   "outputs": [
    {
     "data": {
      "text/plain": [
       "array([ 0.001,  0.015,  0.087,  0.245,  0.348,  0.24 ,  0.064])"
      ]
     },
     "execution_count": 20,
     "metadata": {},
     "output_type": "execute_result"
    }
   ],
   "source": [
    "probs_S3 = np.flipud(coeffs_S3)\n",
    "probs_S3"
   ]
  },
  {
   "cell_type": "code",
   "execution_count": 29,
   "metadata": {
    "collapsed": false
   },
   "outputs": [
    {
     "data": {
      "image/png": "[encoded data removed]",
      "text/plain": [
       "<matplotlib.figure.Figure at 0x1171c9b70>"
      ]
     },
     "metadata": {},
     "output_type": "display_data"
    }
   ],
   "source": [
    "dist_S3 = Table().values(np.arange(7)).probability(probs_S3)\n",
    "Plot(dist_S3)"
   ]
  },
  {
   "cell_type": "code",
   "execution_count": null,
   "metadata": {
    "collapsed": true
   },
   "outputs": [],
   "source": []
  }
 ],
 "metadata": {
  "kernelspec": {
   "display_name": "Python [Root]",
   "language": "python",
   "name": "Python [Root]"
  },
  "language_info": {
   "codemirror_mode": {
    "name": "ipython",
    "version": 3
   },
   "file_extension": ".py",
   "mimetype": "text/x-python",
   "name": "python",
   "nbconvert_exporter": "python",
   "pygments_lexer": "ipython3",
   "version": "3.5.2"
  }
 },
 "nbformat": 4,
 "nbformat_minor": 0
}

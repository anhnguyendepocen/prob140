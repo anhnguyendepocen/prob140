{
 "cells": [
  {
   "cell_type": "code",
   "execution_count": 5,
   "metadata": {
    "collapsed": true
   },
   "outputs": [],
   "source": [
    "# SETUP\n",
    "\n",
    "# These lines import the Numpy and Datascience modules.\n",
    "import numpy as np\n",
    "from datascience import *\n",
    "from prob140 import *\n",
    "\n",
    "# These lines do some fancy plotting magic\n",
    "import matplotlib\n",
    "%matplotlib inline\n",
    "import matplotlib.pyplot as plt\n",
    "plt.style.use('fivethirtyeight')\n",
    "import warnings\n",
    "warnings.simplefilter('ignore', FutureWarning)\n",
    "\n",
    "from scipy import stats\n",
    "from client.api.assignment import load_assignment\n",
    "autograder = load_assignment('main.ok')"
   ]
  },
  {
   "cell_type": "markdown",
   "metadata": {},
   "source": [
    "# Lab 4: Minimum, Median, and Maximum\n",
    "In this lab you will compute expectations of random variables that can't easily be written as sums of simpler random variables. This involves developing some math technique and then using it in computation."
   ]
  },
  {
   "cell_type": "markdown",
   "metadata": {},
   "source": [
    "### Part 1: Expectation Fundamentals ###\n",
    "All variables in this lab have non-negative integer values. We are also going to assume that they have finitely many values, though many of the results are also true if the possible values are $0, 1, 2, 3, \\ldots$. \n",
    "\n",
    "This Part consists of practice in using basic tools to find expectation. It should go very fast."
   ]
  },
  {
   "cell_type": "markdown",
   "metadata": {},
   "source": [
    "### 1.1 ###\n",
    "Run the cell below to create the possible values of a random variable $X$, and all the corresponding probabilities. "
   ]
  },
  {
   "cell_type": "code",
   "execution_count": 3,
   "metadata": {
    "collapsed": false
   },
   "outputs": [],
   "source": [
    "x = np.arange(11)\n",
    "probs = make_array(0.1, 0.15, 0.2, 0.2, 0.15, 0.07, 0.05, 0.03, 0.02, 0.02, 0.01)"
   ]
  },
  {
   "cell_type": "markdown",
   "metadata": {},
   "source": [
    "Now use `x`, `probs`, and the formula $E(X) = \\sum_{\\text{all }x} xP(X=x)$ to calculate `ev_X`, the expected value of $X$."
   ]
  },
  {
   "cell_type": "code",
   "execution_count": null,
   "metadata": {
    "collapsed": true,
    "purpose": "solution"
   },
   "outputs": [],
   "source": [
    "ev_X = sum(...)\n",
    "ev_X"
   ]
  },
  {
   "cell_type": "markdown",
   "metadata": {},
   "source": [
    "### 1.2 ### \n",
    "Now create a distribution object `dist` that contains the distribution of $X$, and use the `expected_value` method to confirm your value of `ev_X`."
   ]
  },
  {
   "cell_type": "code",
   "execution_count": 6,
   "metadata": {
    "collapsed": false,
    "purpose": "solution"
   },
   "outputs": [],
   "source": [
    "dist = ...\n",
    "dist.expected_value()"
   ]
  },
  {
   "cell_type": "markdown",
   "metadata": {},
   "source": [
    "Run the cell below to visualize $E(X)$."
   ]
  },
  {
   "cell_type": "code",
   "execution_count": 8,
   "metadata": {
    "collapsed": false
   },
   "outputs": [],
   "source": [
    "Plot(dist, show_ev=True)"
   ]
  },
  {
   "cell_type": "markdown",
   "metadata": {},
   "source": [
    "### 1.3 ###\n",
    "Now fill in the cell below and run it to compare $E(X)$ with a \"long run\" average of simulated values of $X$. Base your average on 10,000 simulated values of $X$."
   ]
  },
  {
   "cell_type": "code",
   "execution_count": 10,
   "metadata": {
    "collapsed": false,
    "purpose": "solution"
   },
   "outputs": [],
   "source": [
    "sample_10000 = ....sample(10000)\n",
    "samp_mean = np.mean(...)"
   ]
  },
  {
   "cell_type": "code",
   "execution_count": 13,
   "metadata": {
    "collapsed": false,
    "purpose": "solution"
   },
   "outputs": [],
   "source": [
    "emp_dist_10000 = emp_dist(...)\n",
    "Plot(emp_dist_10000, show_ave=True)\n",
    "print('Sample Mean =', sample_mean)"
   ]
  },
  {
   "cell_type": "markdown",
   "metadata": {},
   "source": [
    "Why is it appropriate to use `show_ave=True` as the option to `Plot` here, instead of `show_ev=True` as in 1.2?"
   ]
  },
  {
   "cell_type": "markdown",
   "metadata": {
    "purpose": "solution"
   },
   "source": [
    "*Provide your answer and reasoning in this Markdown cell.*"
   ]
  },
  {
   "cell_type": "markdown",
   "metadata": {},
   "source": [
    "### Part 2: Tail Sum Formula ###\n",
    "In this Part you will discover a formula for calculating expected values of non-negative integer valued random variables, using tail probabilities."
   ]
  },
  {
   "cell_type": "markdown",
   "metadata": {},
   "source": [
    "### 2.1 ###\n",
    "Plot the histogram of the distribution `dist` from Part 1, this time showing the area corresponding to $P(X > 1)$."
   ]
  },
  {
   "cell_type": "code",
   "execution_count": 64,
   "metadata": {
    "collapsed": false,
    "purpose": "solution"
   },
   "outputs": [],
   "source": [
    "# Event {X > 1}\n",
    "Plot(dist, event=...)"
   ]
  },
  {
   "cell_type": "markdown",
   "metadata": {},
   "source": [
    "The function `cdf` applied to a distribution at the argument `x` returns the value of the cumulative distribution function (cdf) $F(x) = P(X \\le x)$. Use `cdf` appropriately to find the numerical value of $P(X > 1)$ shaded above. This is called a *tail probability*."
   ]
  },
  {
   "cell_type": "code",
   "execution_count": null,
   "metadata": {
    "collapsed": false,
    "purpose": "solution"
   },
   "outputs": [],
   "source": [
    "......cdf(...)"
   ]
  },
  {
   "cell_type": "markdown",
   "metadata": {},
   "source": [
    "### 2.2 ###\n",
    "Fill in the cell below to define a function `all_tail_probs` that takes a distribution object as its argument and returns an array consisting of all the tail probabilities $P(X > x)$."
   ]
  },
  {
   "cell_type": "code",
   "execution_count": 13,
   "metadata": {
    "collapsed": false,
    "purpose": "solution"
   },
   "outputs": [],
   "source": [
    "def all_tail_probs(distribution):\n",
    "    \"\"\"Returns an array of all tail probabilities\n",
    "    of distribution.\"\"\"\n",
    "    def tail(k):\n",
    "        return ....cdf(...)\n",
    "    return ....apply(tail, ...)"
   ]
  },
  {
   "cell_type": "markdown",
   "metadata": {},
   "source": [
    "### 2.3 ###\n",
    "Use your function `all_tail_probs` to create an array `tails` containing all the tail probabilities of `dist`. What is the value of the last item of the array, and why?"
   ]
  },
  {
   "cell_type": "code",
   "execution_count": 45,
   "metadata": {
    "collapsed": false,
    "purpose": "solution"
   },
   "outputs": [],
   "source": [
    "tails = ...\n",
    "tails"
   ]
  },
  {
   "cell_type": "markdown",
   "metadata": {},
   "source": [
    "Now run the cell below. Do you recognize the answer as a quantity that you computed earlier in this lab?"
   ]
  },
  {
   "cell_type": "code",
   "execution_count": 46,
   "metadata": {
    "collapsed": false
   },
   "outputs": [],
   "source": [
    "sum(tails)"
   ]
  },
  {
   "cell_type": "markdown",
   "metadata": {},
   "source": [
    "### 2.4 ###\n",
    "Explain what you saw above in the following steps. It's not a formal proof. You can do that for Extra Credit."
   ]
  },
  {
   "cell_type": "markdown",
   "metadata": {},
   "source": [
    "a) Plot {X > k} for k = 0, 1, 2, 3, ... 10. Look at them, but just turn in the plot that shows $P(X > 5)$."
   ]
  },
  {
   "cell_type": "code",
   "execution_count": null,
   "metadata": {
    "collapsed": true
   },
   "outputs": [],
   "source": []
  },
  {
   "cell_type": "markdown",
   "metadata": {},
   "source": [
    "b) How many of the plots include {X=1}? {X=2}? {X=3}? Explain."
   ]
  },
  {
   "cell_type": "markdown",
   "metadata": {
    "purpose": "solution"
   },
   "source": [
    "*Provide your answer and reasoning in this Markdown cell.*"
   ]
  },
  {
   "cell_type": "markdown",
   "metadata": {},
   "source": [
    "c) Now explain why $\\sum_{k=0}^{10} P(X > k) = E(X)$. For a more formal proof, see Extra Credit."
   ]
  },
  {
   "cell_type": "markdown",
   "metadata": {
    "purpose": "solution"
   },
   "source": [
    "*Provide your answer and reasoning in this Markdown cell.*"
   ]
  },
  {
   "cell_type": "markdown",
   "metadata": {},
   "source": [
    "### Part 3: Sample Minimum, Maximum, and Range ###\n",
    "In this part you will develop formulas for the expected values of the extrema of a random sample, as well as the range (largest value $-$ smallest value) of the sample."
   ]
  },
  {
   "cell_type": "markdown",
   "metadata": {},
   "source": [
    "### 3.1 ###\n",
    "Let $X_1, X_2, \\ldots , X_n$ be i.i.d. with a distribution that has c.d.f $F$, and suppose each $X$ has possible values $\\{0, 1, 2, \\ldots, N\\}$ for some fixed positive integer $N$. Define:\n",
    "\n",
    "- $X_{min} = \\min(X_1, X_2, \\ldots , X_n)$\n",
    "- $X_{max} = \\max(X_1, X_2, \\ldots , X_n)$\n",
    "- $R = X_{max} - X_{min}$\n",
    "\n",
    "Use Part 2, $F$, and $n$ to write formulas for $E(X_{min})$, $E(X_{max})$, and $E(R)$."
   ]
  },
  {
   "cell_type": "markdown",
   "metadata": {},
   "source": [
    "$$\n",
    "E(X_{min}) = \n",
    "$$"
   ]
  },
  {
   "cell_type": "markdown",
   "metadata": {},
   "source": [
    "$$\n",
    "E(X_{max}) =\n",
    "$$"
   ]
  },
  {
   "cell_type": "markdown",
   "metadata": {},
   "source": [
    "$$\n",
    "E(R) = \n",
    "$$"
   ]
  },
  {
   "cell_type": "markdown",
   "metadata": {
    "purpose": "solution"
   },
   "source": [
    "*Provide your answer and reasoning in this Markdown cell.*"
   ]
  },
  {
   "cell_type": "markdown",
   "metadata": {},
   "source": [
    "### 3.2 ### \n",
    "Now test out your answer to (a) numerically. Set $n = 20$ and let $X_1, X_2, \\ldots, X_{20}$ be i.i.d. draws from `dist`. Find the numerical value of $E(X_{min})$ by filling in the parentheses in the cell below. Remember that already placed all the tail probabilities of `dist` in the array `tails`."
   ]
  },
  {
   "cell_type": "code",
   "execution_count": 33,
   "metadata": {
    "collapsed": false,
    "purpose": "solution"
   },
   "outputs": [],
   "source": [
    "# Expected minimum of 20 iid draws\n",
    "n = 20\n",
    "sum(tails...)"
   ]
  },
  {
   "cell_type": "markdown",
   "metadata": {},
   "source": [
    "If your numerical answer above is correct, it should agree (at least roughly) with the result of simulating the sample mininum 50,000 times and computing the average of those 50,000 values. Complete the cell below. The last line should display the empirical histogram of the 50,000 simulated minima."
   ]
  },
  {
   "cell_type": "code",
   "execution_count": 25,
   "metadata": {
    "collapsed": false,
    "purpose": "solution"
   },
   "outputs": [],
   "source": [
    "\n",
    "# Simulated minimum of n iid draws\n",
    "# based on 50000 repetitions\n",
    "n = 20\n",
    "repetitions = 50000\n",
    "mins = make_array()\n",
    "for i in range(repetitions):\n",
    "    sample = ....sample(n)\n",
    "    mins = np.append(..., ...)\n",
    "print('IID Sample Size ', str(n))\n",
    "print('Average of ', str(repetitions), 'Sample Minima = ', str(np.mean(mins)))\n",
    "Plot(...)"
   ]
  },
  {
   "cell_type": "markdown",
   "metadata": {},
   "source": [
    "Is the average of your 50,000 simulated minima fairly close to the theoretical value of $E(X_{min})$ that you computed earlier? If not, give a plausible reason for the inconsistency."
   ]
  },
  {
   "cell_type": "markdown",
   "metadata": {
    "purpose": "solution"
   },
   "source": [
    "*Provide your answer and reasoning in this Markdown cell.*"
   ]
  },
  {
   "cell_type": "markdown",
   "metadata": {},
   "source": [
    "### 3.3 ###\n",
    "Repeat 3.2 for $X_{max}$ instead of $X_{min}$. That is, first write one line of code to compute the $E(X_{max})$ for a sample size of 20. "
   ]
  },
  {
   "cell_type": "code",
   "execution_count": null,
   "metadata": {
    "collapsed": true,
    "purpose": "solution"
   },
   "outputs": [],
   "source": [
    "\n",
    "# Expected maximum of 20 iid draws\n",
    "n = 20\n",
    "..."
   ]
  },
  {
   "cell_type": "markdown",
   "metadata": {},
   "source": [
    "Then simulate the sample maximum 50,000 times by filling in the cell below, and find the average of your 50,000 simulated maxima."
   ]
  },
  {
   "cell_type": "code",
   "execution_count": null,
   "metadata": {
    "collapsed": true,
    "purpose": "solution"
   },
   "outputs": [],
   "source": [
    "# Simulated minimum of n iid draws\n",
    "# based on 50000 repetitions\n",
    "n = 20\n",
    "repetitions = 50000\n",
    "maxes = make_array()\n",
    "for i in range(repetitions):\n",
    "    sample = ...\n",
    "    maxes = ...\n",
    "print('IID Sample Size ', str(n))\n",
    "print('Average of ', str(repetitions), ' Sample Maxima = ', str(...))\n",
    "Plot(...)"
   ]
  },
  {
   "cell_type": "markdown",
   "metadata": {},
   "source": [
    "### 3.4 ###\n",
    "Explain what happens to $E(X_{min})$, $E(X_{max})$, and $E(R)$ as $n$ gets larger. You should have an intuitive sense of what will happen, which you should be able to back up based on your calculations of $E(X_{min})$ and $E(X_{max})$."
   ]
  },
  {
   "cell_type": "markdown",
   "metadata": {
    "purpose": "solution"
   },
   "source": [
    "*Provide your answer and reasoning in this Markdown cell.*"
   ]
  },
  {
   "cell_type": "markdown",
   "metadata": {},
   "source": [
    "### Part 4: Expected Sample Median: The Math ###\n",
    "Medians and other percentiles are a bit annoying to analyze in the discrete case because of \"ties\": draws resulting in the same outcome. So we will analyze the sample median in the straightforward case where the sample size $2n+1$ is odd and \"the median\" is defined as the $(n+1)st$ value when the sample is sorted in ascending order.\n",
    "\n",
    "The example below will help clarify the definition."
   ]
  },
  {
   "cell_type": "code",
   "execution_count": 14,
   "metadata": {
    "collapsed": false
   },
   "outputs": [],
   "source": [
    "# 7 = 2*3 + 1\n",
    "\n",
    "sample_7 = make_array(23, 81, 34, 13, 56, 27, 26)\n",
    "sample_7_median = np.sort(sample_7).item(3)\n",
    "sample_7_median"
   ]
  },
  {
   "cell_type": "markdown",
   "metadata": {},
   "source": [
    "### 4.1 ###\n",
    "Let $X_1, X_2, \\ldots , X_{2n+1}$ be i.i.d. with c.d.f $F$ and possible values $0, 1, 2, \\ldots, N$. \n",
    "\n",
    "Let $M$ be the median of $X_1, X_2, \\ldots, X_{2n+1}$, as defined above.\n",
    "\n",
    "For each $m \\ge 0$, find $P(M > m)$.\n",
    "\n",
    "[Hint: For the median to be greater than $m$, what do the $X$'s have to do? See if you can define some of them to be \"successes\" and the others \"failures\".]"
   ]
  },
  {
   "cell_type": "markdown",
   "metadata": {
    "purpose": "solution"
   },
   "source": [
    "*Provide your answer and reasoning in this Markdown cell.*"
   ]
  },
  {
   "cell_type": "markdown",
   "metadata": {},
   "source": [
    "### 4.2 ###\n",
    "Use Part 2 and your answer to 4.2 to write a formula for $E(M)$."
   ]
  },
  {
   "cell_type": "markdown",
   "metadata": {
    "purpose": "solution"
   },
   "source": [
    "*Provide your answer and reasoning in this Markdown cell.*"
   ]
  },
  {
   "cell_type": "markdown",
   "metadata": {},
   "source": [
    "### Part 5: Expected Sample Median: Computation ###\n",
    "Finally, the code. As before, use `dist` as the common distribution of the $X_i$'s. "
   ]
  },
  {
   "cell_type": "markdown",
   "metadata": {},
   "source": [
    "### 5.1 ###\n",
    "Define a function `ev_median` that takes as its arguments a distribution object and a positive integer $n$, and returns the expected median of an i.i.d. sample of size $s = 2n+1$ drawn from the distribution. You can assume that the possible values of the distribution are $0, 1, 2, \\ldots , N$ for some fixed positive integer $N$."
   ]
  },
  {
   "cell_type": "code",
   "execution_count": 18,
   "metadata": {
    "collapsed": false,
    "purpose": "solution"
   },
   "outputs": [],
   "source": [
    "\n",
    "def ev_median(distribution, n):\n",
    "    \"\"\"Returns the expected sample median\n",
    "    of an i.i.d. sample of size 2n+1 from distribution.\n",
    "    Uses the function all_tail_probs defined earlier.\"\"\"\n",
    "    tail_probs = all_tail_probs(distribution)\n",
    "    s = 2*n+1\n",
    "    ev_med = 0\n",
    "    for m in np.arange(distribution.num_rows+1):\n",
    "        ev_med = ev_med + ...\n",
    "    return ev_med"
   ]
  },
  {
   "cell_type": "markdown",
   "metadata": {},
   "source": [
    "### 5.2 ###\n",
    "Let $M_n$ be the median of an i.i.d. sample of size $n$ drawn from `dist`. Use your function `ev_median` to find $E(M_{51})$."
   ]
  },
  {
   "cell_type": "code",
   "execution_count": 19,
   "metadata": {
    "collapsed": false,
    "purpose": "solution"
   },
   "outputs": [],
   "source": [
    "ev_median(...)"
   ]
  },
  {
   "cell_type": "markdown",
   "metadata": {},
   "source": [
    "### 5.3 ###\n",
    "What's a reasonable definition of the \"population median\" for the \"population distribution\" `dist` from which the sample is being drawn? Explain. Your answer should be specific to `dist`."
   ]
  },
  {
   "cell_type": "markdown",
   "metadata": {
    "purpose": "solution"
   },
   "source": [
    "*Provide your answer and reasoning in this Markdown cell.*"
   ]
  },
  {
   "cell_type": "markdown",
   "metadata": {},
   "source": [
    "### 5.4 ###\n",
    "Does your numerical value of $E(M_{51})$ make sense compared to this \"population median\"?"
   ]
  },
  {
   "cell_type": "markdown",
   "metadata": {
    "purpose": "solution"
   },
   "source": [
    "*Provide your answer and reasoning in this Markdown cell.*"
   ]
  },
  {
   "cell_type": "markdown",
   "metadata": {},
   "source": [
    "### 5.5 ###\n",
    "What happens to $E(M_n)$ as $n$ gets larger? Answer based on your intuition."
   ]
  },
  {
   "cell_type": "markdown",
   "metadata": {
    "purpose": "solution"
   },
   "source": [
    "*Provide your answer and reasoning in this Markdown cell.*"
   ]
  },
  {
   "cell_type": "markdown",
   "metadata": {},
   "source": [
    "Now confirm your intuition by plotting $E(M_n)$ against $n$. Fill in the cell below to draw the plot."
   ]
  },
  {
   "cell_type": "code",
   "execution_count": 43,
   "metadata": {
    "collapsed": false
   },
   "outputs": [],
   "source": [
    "ns = np.arange(25, 1001, 25)\n",
    "evs = make_array()\n",
    "for n in ns:\n",
    "    evs = np.append(...)\n",
    "\n",
    "plt.scatter(ns, evs)\n",
    "plt.xlabel('n')\n",
    "plt.ylabel('$E(M_n)$');  "
   ]
  },
  {
   "cell_type": "markdown",
   "metadata": {
    "collapsed": true
   },
   "source": [
    "Is the plot consistent with your intuitive answer above?"
   ]
  },
  {
   "cell_type": "markdown",
   "metadata": {
    "purpose": "solution"
   },
   "source": [
    "*Provide your answer and reasoning in this Markdown cell.*"
   ]
  },
  {
   "cell_type": "markdown",
   "metadata": {},
   "source": [
    "### Part 6: Extra Credit ###\n",
    "Let $X$ have values $0, 1, 2, \\ldots, N$ for some fixed positive integer $N$. Show that \n",
    "$E(X) = \\sum_{k=0}^N P(X > k)$ by using the following observations:\n",
    "\n",
    "- In the usual formula $E(X) = \\sum_{k=0}^N kP(X=k)$, the term corresponding to $k=0$ doesn't matter.\n",
    "- For $k \\ge 1$, $k = \\sum_{i=1}^k 1$.\n",
    "\n",
    "That's right; that's the hint. No typo."
   ]
  },
  {
   "cell_type": "markdown",
   "metadata": {
    "collapsed": true,
    "purpose": "solution"
   },
   "source": [
    "*Provide your answer and reasoning in this Markdown cell.*"
   ]
  },
  {
   "cell_type": "code",
   "execution_count": 10,
   "metadata": {
    "collapsed": true
   },
   "outputs": [],
   "source": [
    "prob140_is_my_favorite_class = ...\n",
    "I_saved_my_file = ..."
   ]
  },
  {
   "cell_type": "code",
   "execution_count": 12,
   "metadata": {
    "collapsed": false
   },
   "outputs": [],
   "source": [
    "_ = autograder.grade('q1')"
   ]
  },
  {
   "cell_type": "code",
   "execution_count": null,
   "metadata": {
    "collapsed": false
   },
   "outputs": [],
   "source": [
    "# For your convenience, you can run this cell to run all the tests at once!\n",
    "import os\n",
    "_ = [autograder.grade(q[:-3]) for q in os.listdir(\"tests\") if q.startswith('q')]"
   ]
  },
  {
   "cell_type": "code",
   "execution_count": null,
   "metadata": {
    "collapsed": true
   },
   "outputs": [],
   "source": [
    "import gsExport\n",
    "gsExport.generateSubmission()"
   ]
  }
 ],
 "metadata": {
  "anaconda-cloud": {},
  "kernelspec": {
   "display_name": "Python 3",
   "language": "python",
   "name": "python3"
  },
  "language_info": {
   "codemirror_mode": {
    "name": "ipython",
    "version": 3
   },
   "file_extension": ".py",
   "mimetype": "text/x-python",
   "name": "python",
   "nbconvert_exporter": "python",
   "pygments_lexer": "ipython3",
   "version": "3.5.2"
  }
 },
 "nbformat": 4,
 "nbformat_minor": 0
}

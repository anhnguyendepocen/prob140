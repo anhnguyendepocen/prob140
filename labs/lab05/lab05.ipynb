{
 "cells": [
  {
   "cell_type": "code",
   "execution_count": null,
   "metadata": {
    "collapsed": false
   },
   "outputs": [],
   "source": [
    "# SETUP\n",
    "\n",
    "# These lines import the Numpy and Datascience modules.\n",
    "import numpy as np\n",
    "from datascience import *\n",
    "from prob140 import *\n",
    "\n",
    "# These lines do some fancy plotting magic\n",
    "import matplotlib\n",
    "%matplotlib inline\n",
    "import matplotlib.pyplot as plt\n",
    "plt.style.use('fivethirtyeight')\n",
    "import warnings\n",
    "warnings.simplefilter('ignore', FutureWarning)\n",
    "\n",
    "from scipy import stats\n",
    "from client.api.assignment import load_assignment\n",
    "autograder = load_assignment('main.ok')"
   ]
  },
  {
   "cell_type": "markdown",
   "metadata": {},
   "source": [
    "# Lab 5: Steady State Markov Chains"
   ]
  },
  {
   "cell_type": "markdown",
   "metadata": {},
   "source": [
    "#If server has not been updated yet, turn this into a code cell and run this. Then restart kernel\n",
    "\n",
    "!pip install -U setuptools --ignore-installed\n",
    "\n",
    "!pip install prob140 --upgrade"
   ]
  },
  {
   "cell_type": "code",
   "execution_count": null,
   "metadata": {
    "collapsed": false
   },
   "outputs": [],
   "source": [
    "import prob140\n",
    "prob140.__version__\n",
    "# This should return 0.2.4.2\n",
    "# Talk to lab instructor if it doesn't"
   ]
  },
  {
   "cell_type": "markdown",
   "metadata": {},
   "source": [
    "The following cell imports data that we will be using for today's lab."
   ]
  },
  {
   "cell_type": "code",
   "execution_count": null,
   "metadata": {
    "collapsed": false
   },
   "outputs": [],
   "source": [
    "# Use to load data\n",
    "import pickle\n",
    "\n",
    "def load_data():\n",
    "    return pickle.load(open('prob140.data','rb'))\n",
    "\n",
    "website_data = load_data()\n",
    "\n",
    "def load_country_data():\n",
    "    rrc,ntn,cl = pickle.load(open('country_data','rb'))\n",
    "    return rrc,ntn,cl\n",
    "real_real_countries,new_total_num,country_links = load_country_data()"
   ]
  },
  {
   "cell_type": "markdown",
   "metadata": {},
   "source": [
    "# Part 1: The Tsetlin Library\n",
    "\n",
    "Suppose we have a library bookshelf with 3 books: `'A'`, `'B'`, and `'C'`. Each day, someone borrows a book at random with probability `p_A`, `p_B` and `p_C` respectively and returns the book to the leftmost position before the end of the day. For example, if we have the order `ABC`, at the beginning of the day, we could end up with `ABC`, `BAC`, or `CAB` depending on which book was borrowed.\n",
    "\n",
    "We will investigate the long run distribution of the leftmost book using a markov chain"
   ]
  },
  {
   "cell_type": "markdown",
   "metadata": {},
   "source": [
    "### Question 1.1"
   ]
  },
  {
   "cell_type": "markdown",
   "metadata": {},
   "source": [
    "In the following cell, we have defined `p_A`, `p_B`, and `p_C`."
   ]
  },
  {
   "cell_type": "code",
   "execution_count": null,
   "metadata": {
    "collapsed": true
   },
   "outputs": [],
   "source": [
    "p_A = 0.6\n",
    "p_B = 0.3\n",
    "p_C = 0.1"
   ]
  },
  {
   "cell_type": "markdown",
   "metadata": {},
   "source": [
    "If we have the state `ABC`, what's the one-step probability of  `ABC`, `BAC`, `CAB`, and `CBA`?"
   ]
  },
  {
   "cell_type": "code",
   "execution_count": null,
   "metadata": {
    "collapsed": true,
    "purpose": "solution"
   },
   "outputs": [],
   "source": [
    "p_ABC = ...\n",
    "p_BAC = ...\n",
    "p_CAB = ...\n",
    "p_CBA = ..."
   ]
  },
  {
   "cell_type": "markdown",
   "metadata": {},
   "source": [
    "### Question 1.2\n",
    "\n",
    "What are the possible states for the books on the library bookshelf? Keep them in alphabetical order."
   ]
  },
  {
   "cell_type": "code",
   "execution_count": null,
   "metadata": {
    "collapsed": true,
    "purpose": "solution"
   },
   "outputs": [],
   "source": [
    "s = make_array(...)"
   ]
  },
  {
   "cell_type": "markdown",
   "metadata": {},
   "source": [
    "### Question 1.3\n",
    "\n",
    "What are the states that can transition to the state `ABC`? For each of those states, what is the probability that it ends up at `ABC`?"
   ]
  },
  {
   "cell_type": "markdown",
   "metadata": {
    "purpose": "solution"
   },
   "source": [
    "*Provide your answer and reasoning in this Markdown cell.*"
   ]
  },
  {
   "cell_type": "markdown",
   "metadata": {},
   "source": [
    "### Question 1.4\n",
    "\n",
    "Define the transition function `trans_left` that finds the probability of going from the state `perm1` to the state `perm2`. For example, `trans_left('ABC', 'BAC')` should return `p_B` while `trans_left('ABC', 'BCA')` should return 0. You may find the following useful:\n",
    "\n",
    "* string[0] returns the first letter of a string. For example:\n",
    "```python\n",
    ">>> 'HELLO'[0]\n",
    "'H'\n",
    "```\n",
    "* string[1:] returns everything except the first letter of a string. For example:\n",
    "```python\n",
    ">>> 'HELLO'[1:]\n",
    "'ELLO'\n",
    "```\n",
    "* string.replace(old, new) replaces all instances of the substring `old` with the substring `new`. For example:\n",
    "```python\n",
    ">>> 'HELLO'.replace('E', '')\n",
    "'HLLO'\n",
    "```\n",
    "* The helper function `prob` returns the corresponding probability"
   ]
  },
  {
   "cell_type": "code",
   "execution_count": null,
   "metadata": {
    "collapsed": true,
    "purpose": "solution"
   },
   "outputs": [],
   "source": [
    "def trans_left(perm1, perm2):\n",
    "    first = perm2[0] # This extracts the first letter of perm2\n",
    "    if ... :\n",
    "        return ...\n",
    "    else:\n",
    "        return 0\n",
    "    \n",
    "def prob(x):\n",
    "    if x == 'A':\n",
    "        return p_A\n",
    "    if x == 'B':\n",
    "        return p_B\n",
    "    if x == 'C':\n",
    "        return p_C"
   ]
  },
  {
   "cell_type": "markdown",
   "metadata": {},
   "source": [
    "# Part 2: The Limiting Behavior of the Tsetlin Library\n",
    "\n",
    "Using a markov chain we will investigate the long run distribution of the leftmost book of the Tsetlin Library after many days. "
   ]
  },
  {
   "cell_type": "markdown",
   "metadata": {},
   "source": [
    "### Question 2.1\n",
    "\n",
    "Set `mc` to be the markov chain corresponding to the books on the library shelf. Make sure every row sums to 1."
   ]
  },
  {
   "cell_type": "code",
   "execution_count": null,
   "metadata": {
    "collapsed": false,
    "purpose": "solution"
   },
   "outputs": [],
   "source": [
    "mc = ...\n",
    "mc"
   ]
  },
  {
   "cell_type": "markdown",
   "metadata": {},
   "source": [
    "### Question 2.2\n",
    "\n",
    "At the end of one day, the books are arranged as `CBA`. Find the distribution of the states 5 days later."
   ]
  },
  {
   "cell_type": "code",
   "execution_count": null,
   "metadata": {
    "collapsed": false,
    "purpose": "solution"
   },
   "outputs": [],
   "source": [
    "\n",
    "mc_5 = ...\n",
    "mc_5"
   ]
  },
  {
   "cell_type": "markdown",
   "metadata": {},
   "source": [
    "### Question 2.3\n",
    "\n",
    "Suppose someone knocked the books off the bookshelf and placed them back in a random order. Find the distribution of the states 5 days later"
   ]
  },
  {
   "cell_type": "code",
   "execution_count": null,
   "metadata": {
    "collapsed": false,
    "purpose": "solution"
   },
   "outputs": [],
   "source": [
    "\n",
    "initial = Table()\n",
    "mc_unif_5 = ...\n",
    "mc_unif_5"
   ]
  },
  {
   "cell_type": "markdown",
   "metadata": {},
   "source": [
    "### Question 2.4\n",
    "\n",
    "Find the steady state distribution of the Tsetlin library. "
   ]
  },
  {
   "cell_type": "code",
   "execution_count": null,
   "metadata": {
    "collapsed": false,
    "purpose": "solution"
   },
   "outputs": [],
   "source": [
    "mc_long_run = ...\n",
    "mc_long_run"
   ]
  },
  {
   "cell_type": "markdown",
   "metadata": {},
   "source": [
    "### Question 2.4\n",
    "\n",
    "What do you notice about the probability that book A, B, or C ends up on the left?\n",
    "\n",
    "\n",
    "Explain why these numbers make sense."
   ]
  },
  {
   "cell_type": "markdown",
   "metadata": {
    "purpose": "solution"
   },
   "source": [
    "*Provide your answer and reasoning in this Markdown cell.*"
   ]
  },
  {
   "cell_type": "markdown",
   "metadata": {},
   "source": [
    "## Part 3: Surfing the Prob140 website\n",
    "\n",
    "In the 1990s, web search engine companies began to develop bots that crawled and indexed webpages so that users could search for any word on any webpage in their databases. These early search engines ranked webpages by the number of occurences of the keywords in each webpage. An obvious problem is that websites could easily cram popular terms into their webpages to increase the number of views.\n",
    "\n",
    "Larry Page and Sergey Brin, the founders of Google, noted that important and reputable webpages are likely to have more incoming hyperlinks. Thus, PageRank, the algorithm that powers Google search, orders the search results by modeling visits as a markov chain. Image a web \"surfer\" who jumps from page to page who randomly clicks weblinks, selecting any link on a page with equal probability. Under this model, the most important pages are the ones that the surfer is likeley to spend the most time on in the long run. Thus, by taking advantage of the limiting behavior of the Markov Chains and the properties of its steady state distribution, PageRank assigns relative importance of webpages.\n",
    "\n",
    "\n",
    "To better visualize PageRank and investigate its effectiveness, we will run PageRank on the pages of the Prob140 website"
   ]
  },
  {
   "cell_type": "markdown",
   "metadata": {},
   "source": [
    "### Question 3.1\n",
    "\n",
    "`website_data` contains the counts for the number of hyperlinks between each webpage on Prob140 website:\n",
    "* http://prob140.org\n",
    "* http://prob140.org/about\n",
    "* http://prob140.org/instructors\n",
    "* http://prob140.org/latex\n",
    "* http://prob140.org/logistics\n",
    "* http://prob140.org/materials_placeholder\n",
    "* http://prob140.org/references\n",
    "* http://prob140.org/weekly\n",
    "\n",
    "\n",
    "Links to external webpages are ignored, so we are only considering links between the webpages listed above. Which webpage do you think should be ranked the highest? Why?"
   ]
  },
  {
   "cell_type": "markdown",
   "metadata": {
    "purpose": "solution"
   },
   "source": [
    "*Provide your answer and reasoning in this Markdown cell.*"
   ]
  },
  {
   "cell_type": "markdown",
   "metadata": {},
   "source": [
    "### Question 3.2"
   ]
  },
  {
   "cell_type": "markdown",
   "metadata": {},
   "source": [
    "In the cell below, we define the transition probability of going from the `source` webpage to the `target` webpage. `website_data[source][target]` returns the number of hyperlinks that go from `source` to `target` while `sum(website_data[source].values()` sums up the total number of outbound links from the `source` webpage."
   ]
  },
  {
   "cell_type": "code",
   "execution_count": null,
   "metadata": {
    "collapsed": true
   },
   "outputs": [],
   "source": [
    "def prob_site1_site2(source,target):\n",
    "    return website_data[source][target] / sum(website_data[source].values())"
   ]
  },
  {
   "cell_type": "markdown",
   "metadata": {},
   "source": [
    "Based on our model of random surfing, explain why the number of page links from $\\text{source}_{i}$ to $\\text{target}_{j}$ is proportional to the probability $p_{ij}$."
   ]
  },
  {
   "cell_type": "markdown",
   "metadata": {
    "purpose": "solution"
   },
   "source": [
    "*Provide your answer and reasoning in this Markdown cell.*"
   ]
  },
  {
   "cell_type": "markdown",
   "metadata": {},
   "source": [
    "### Question 3.3\n",
    "\n",
    "The cell below constructs a table of transition probabilities from every pair of webpages on the Prob140 website. Define `mc_prob140` to be a markov chain that represents a random surfer on the `Prob140` website. Since we have 9 states, confirm that the transition matrix is 9x9"
   ]
  },
  {
   "cell_type": "code",
   "execution_count": null,
   "metadata": {
    "collapsed": false
   },
   "outputs": [],
   "source": [
    "t = Table().states(list(website_data.keys())).transition_function(prob_site1_site2)"
   ]
  },
  {
   "cell_type": "code",
   "execution_count": null,
   "metadata": {
    "collapsed": false,
    "purpose": "solution"
   },
   "outputs": [],
   "source": [
    "mc_prob140 = ...\n",
    "mc_prob140"
   ]
  },
  {
   "cell_type": "markdown",
   "metadata": {},
   "source": [
    "### Question 3.4\n",
    "\n",
    "Find the PageRanks for each of the 9 webpages, sorted from highest to lowest"
   ]
  },
  {
   "cell_type": "code",
   "execution_count": null,
   "metadata": {
    "collapsed": true,
    "purpose": "solution"
   },
   "outputs": [],
   "source": []
  },
  {
   "cell_type": "markdown",
   "metadata": {},
   "source": [
    "### Question 3.5"
   ]
  },
  {
   "cell_type": "markdown",
   "metadata": {},
   "source": [
    "What does the page ranking tell us, asymptotically, about what page a random surfer would spend the most time? Would this be the page you spend the most time at if you were to manually surf the prob140 site on your own?"
   ]
  },
  {
   "cell_type": "markdown",
   "metadata": {
    "collapsed": true,
    "purpose": "solution"
   },
   "source": [
    "*Provide your answer and reasoning in this Markdown cell.*"
   ]
  },
  {
   "cell_type": "markdown",
   "metadata": {},
   "source": [
    "### Question 3.6\n",
    "\n",
    "Explain why the webpage with the second highest ranking is ranked so highly"
   ]
  },
  {
   "cell_type": "markdown",
   "metadata": {
    "purpose": "solution"
   },
   "source": [
    "*Provide your answer and reasoning in this Markdown cell.*"
   ]
  },
  {
   "cell_type": "markdown",
   "metadata": {
    "collapsed": false
   },
   "source": [
    "### Question 3.7\n",
    "\n",
    "Now, we want to know if this steady state distribution changes if we choose a starting source with a uniform random distribution. That is with probability 1/9, we choose any page on the site and run our chain from there. Below run the chain starting with the uniform random as our intitial distribution, and find the emperical distribution of the steady state distribution using ``emperical_distribution`` with 1000 simulations."
   ]
  },
  {
   "cell_type": "code",
   "execution_count": null,
   "metadata": {
    "collapsed": true,
    "purpose": "solution"
   },
   "outputs": [],
   "source": [
    "domain = make_array('http://prob140.org',\n",
    " 'http://prob140.org/about',\n",
    " 'http://prob140.org/instructors',\n",
    " 'http://prob140.org/latex',\n",
    " 'http://prob140.org/logistics',\n",
    " 'http://prob140.org/materials_placeholder',\n",
    " 'http://prob140.org/references',\n",
    " 'http://prob140.org/textbook_placeholder',\n",
    " 'http://prob140.org/weekly')"
   ]
  },
  {
   "cell_type": "markdown",
   "metadata": {},
   "source": [
    "What does the empirical distribution of the chain after 1000 simulations tell you about the relation between the intitial and steady-state distribution? Can we pass to the chain a different initial distribution and get the same results? What might change?"
   ]
  },
  {
   "cell_type": "markdown",
   "metadata": {
    "purpose": "solution"
   },
   "source": [
    "*Provide your answer and reasoning in this Markdown cell.*"
   ]
  },
  {
   "cell_type": "markdown",
   "metadata": {},
   "source": [
    "## Part 4: Surfing Wikipedia"
   ]
  },
  {
   "cell_type": "markdown",
   "metadata": {},
   "source": [
    "### Question 4.1\n",
    "\n",
    "Similar to the Prob140 data, `country_table` contains the counts between every country's Wikiedia article. Any hyperlinks to webpages other than a country's Wikipedia page are excluded\n",
    "\n",
    "Using the provided transition function, rank the countries by the Wikipedia's article's PageRank\n"
   ]
  },
  {
   "cell_type": "code",
   "execution_count": null,
   "metadata": {
    "collapsed": false,
    "scrolled": false
   },
   "outputs": [],
   "source": [
    "def transition_prob(sc,tc):\n",
    "    return country_links[(sc,tc)]/new_total_num[sc]\n",
    "country_table = Table().states(real_real_countries).transition_function(transition_prob)\n",
    "country_table"
   ]
  },
  {
   "cell_type": "code",
   "execution_count": null,
   "metadata": {
    "collapsed": false,
    "purpose": "solution"
   },
   "outputs": [],
   "source": [
    "mc_country = ...\n",
    "mc_country"
   ]
  },
  {
   "cell_type": "markdown",
   "metadata": {},
   "source": [
    "### Question 4.2 (optional)\n",
    "\n",
    "We'd love to hear your explanation for why the top ranked country is so high"
   ]
  },
  {
   "cell_type": "markdown",
   "metadata": {
    "purpose": "solution"
   },
   "source": [
    "*Provide your answer and reasoning in this Markdown cell.*"
   ]
  },
  {
   "cell_type": "markdown",
   "metadata": {},
   "source": [
    "## Part 5: The Tsetlin Library Continued\n",
    "\n",
    "In part one we used the prob140 library to analyze the Tsetlin library chain and realized its stationary distribution was exactly the inital weights we gave for each book to be moved leftmost. \n",
    "\n",
    "Now we will derive this stationary distribution, using pen and paper.\n",
    "\n",
    "### Question 5.1\n",
    "\n",
    "Derive the stationary distribution for a general `p_A`, `p_B`, and `p_C`. One answer in terms of P(XYZ) where X, Y, Z are either A, B, or C is sufficent.\n"
   ]
  },
  {
   "cell_type": "markdown",
   "metadata": {
    "collapsed": true,
    "purpose": "solution"
   },
   "source": [
    "*Provide your answer and reasoning in this Markdown cell.*"
   ]
  },
  {
   "cell_type": "markdown",
   "metadata": {},
   "source": [
    "### Question 5.2\n",
    "\n",
    "Find all such conditional probabilities for the 3 book case:\n",
    "\n",
    "$$ P(\\text{Book j next leftmost} | \\text{Book i current leftmost}) ~~~ i \\neq j $$\n",
    "\n",
    "Then analyze the ratio of these conditionals, for example $\\frac{P(\\text{Book B next leftmost} | \\text{Book A current leftmost})}{P(\\text{Book C next leftmost} | \\text{Book A current leftmost})}$ for all such combinations. How do these compare to the same ratios with the inital weights?"
   ]
  },
  {
   "cell_type": "markdown",
   "metadata": {},
   "source": [
    "\n",
    "#SOLUTION"
   ]
  },
  {
   "cell_type": "code",
   "execution_count": null,
   "metadata": {
    "collapsed": false
   },
   "outputs": [],
   "source": [
    "_ = autograder.grade('q1')"
   ]
  },
  {
   "cell_type": "code",
   "execution_count": null,
   "metadata": {
    "collapsed": false
   },
   "outputs": [],
   "source": [
    "# For your convenience, you can run this cell to run all the tests at once!\n",
    "import os\n",
    "_ = [autograder.grade(q[:-3]) for q in os.listdir(\"tests\") if q.startswith('q')]"
   ]
  },
  {
   "cell_type": "code",
   "execution_count": null,
   "metadata": {
    "collapsed": true
   },
   "outputs": [],
   "source": [
    "import gsExport\n",
    "gsExport.generateSubmission()"
   ]
  }
 ],
 "metadata": {
  "anaconda-cloud": {},
  "kernelspec": {
   "display_name": "Python 3",
   "language": "python",
   "name": "python3"
  },
  "language_info": {
   "codemirror_mode": {
    "name": "ipython",
    "version": 3
   },
   "file_extension": ".py",
   "mimetype": "text/x-python",
   "name": "python",
   "nbconvert_exporter": "python",
   "pygments_lexer": "ipython3",
   "version": "3.5.2"
  }
 },
 "nbformat": 4,
 "nbformat_minor": 2
}

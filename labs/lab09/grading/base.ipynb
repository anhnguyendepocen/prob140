{
 "cells": [
  {
   "cell_type": "code",
   "execution_count": null,
   "metadata": {
    "collapsed": true,
    "deletable": true,
    "editable": true
   },
   "outputs": [],
   "source": [
    "# SETUP\n",
    "from datascience import *\n",
    "from prob140 import *\n",
    "import numpy as np\n",
    "%matplotlib inline\n",
    "import matplotlib.pyplot as plt\n",
    "plt.style.use('fivethirtyeight')\n",
    "import pylab\n",
    "import math\n",
    "from scipy import stats\n",
    "from scipy import misc\n",
    "from client.api.assignment import load_assignment\n",
    "autograder = load_assignment('main.ok')"
   ]
  },
  {
   "cell_type": "code",
   "execution_count": null,
   "metadata": {
    "collapsed": true,
    "deletable": true,
    "editable": true
   },
   "outputs": [],
   "source": [
    "def sampleFromUniform():\n",
    "\n",
    "    x = np.random.rand()\n",
    "    print(\"Sampled:\", x)\n",
    "    return x\n",
    "\n",
    "def search(x_limits, cdf, u):\n",
    "    mid = (x_limits[0] + x_limits[1])/2\n",
    "    diff = u - cdf(mid)\n",
    "    if np.abs(diff) < 0.01:\n",
    "        return mid\n",
    "    if diff < 0:\n",
    "        return search((x_limits[0], mid), cdf, u)\n",
    "    return search((mid, x_limits[1]), cdf, u)\n",
    "\n",
    "def plotAxes(cdfTable):\n",
    "    cum = list(cdfTable.column(cdfTable.num_columns - 1))\n",
    "    \n",
    "    cur_axes = plt.gca()\n",
    "    cur_axes.axes.get_xaxis().set_visible(False)\n",
    "    plt.yticks([0] + cum)\n",
    "    plt.ylim(-0.1, 1.1)\n",
    "    plt.plot([0,0], [0,1], color=\"k\", lw=3)\n",
    "    plt.xlim(-0.02, 1)\n",
    "    plt.scatter([0]*(len(cum) + 1), [0] + cum, s=55, color=\"k\")\n",
    "\n",
    "def plotDiscreteCDF(cdfTable, u=None):\n",
    "    values = cdfTable.column(0)\n",
    "    values = np.append(values[0] - 2, values)\n",
    "\n",
    "    cum = cdfTable.column(cdfTable.num_columns - 1)\n",
    "    cum = np.append(0, cum)\n",
    "\n",
    "    for i in range(len(values) - 1):\n",
    "        plt.plot([values[i], values[i+1]], [cum[i], cum[i]], color=\"darkblue\")\n",
    "        plt.plot([values[i+1], values[i+1]], [cum[i], cum[i+1]], ls=\"--\", color=\"darkblue\" )\n",
    "\n",
    "    plt.scatter(values, cum, s=50, color=\"darkblue\")    \n",
    "\n",
    "    plt.plot([values[-1], values[-1] + 2], [1,1], color=\"darkblue\")\n",
    "\n",
    "    plt.xlim(values[0], values[-1] + 2)\n",
    "    plt.ylim(-0.1, 1.1)\n",
    "    plt.xlabel('$x$')\n",
    "    plt.ylabel('CDF at $x$')\n",
    "    plt.title('Graph of CDF');\n",
    "    \n",
    "    if u != None:\n",
    "        for i in range(len(values)):\n",
    "            if u <= cum[i]:\n",
    "                index = values[i]\n",
    "                break\n",
    "        height = u\n",
    "\n",
    "        plt.plot([values[0], (index+values[0])/2], [height, height], marker='>', color='red', lw=1)\n",
    "        plt.plot([(index+values[0])/2, index], [height, height], color='red', lw=1)\n",
    "        plt.plot([index, index], [height, height/2], marker=\"v\", color=\"red\", lw=1)\n",
    "        plt.plot([index, index], [0, height/2], color=\"red\", lw=1)\n",
    "\n",
    "def plotContinuousCDF(x_limits, cdf, u=None):\n",
    "    x = np.linspace(*x_limits, 100)\n",
    "    plt.plot(x, cdf(x), color=\"darkblue\")\n",
    "    plt.xlabel('$x$')\n",
    "    plt.ylabel('CDF at $x$')\n",
    "    plt.title('Graph of CDF');\n",
    "    \n",
    "    \n",
    "    \n",
    "    if u != None:\n",
    "        index = search(x_limits, cdf, u)\n",
    "        height = u\n",
    "\n",
    "        plt.plot([x_limits[0], (index+x_limits[0])/2], [height, height], marker='>', color='red', lw=1)\n",
    "        plt.plot([(index+x_limits[0])/2, index], [height, height], color='red', lw=1)\n",
    "        plt.plot([index, index], [height, height/2], marker=\"v\", color=\"red\", lw=1)\n",
    "        plt.plot([index, index], [0, height/2], color=\"red\", lw=1)\n",
    "\n",
    "\n",
    "    plt.xlim(*x_limits)\n",
    "        \n",
    "import ipywidgets as widgets\n",
    "\n",
    "from ipywidgets import interact\n",
    "from IPython.display import display\n",
    "\n",
    "\n",
    "\n",
    "def unit_interval_to_discrete(cdfTable):\n",
    "    uniform_slider = widgets.FloatSlider(value=0.5, min=0,max=1,step=0.02, description='u')\n",
    "    @interact(u = uniform_slider)\n",
    "    def plot(u):\n",
    "        plotDiscreteCDF(cdfTable, u)\n",
    "\n",
    "\n",
    "def unit_interval_to_continuous(x_limits, cdf):\n",
    "    uniform_slider2 = widgets.FloatSlider(value=0.5, min=0,max=1,step=0.02, description='u')\n",
    "    \n",
    "    @interact(u = uniform_slider2)\n",
    "    def plot(u):\n",
    "        if (cdf(u) > x_limits[1] or cdf(u) < x_limits[0]):\n",
    "            plotContinuousCDF(x_limits, cdf)\n",
    "        else:\n",
    "            plotContinuousCDF(x_limits, cdf, u)"
   ]
  },
  {
   "cell_type": "markdown",
   "metadata": {
    "deletable": true,
    "editable": true
   },
   "source": [
    "# Lab 9 #\n",
    "Simulation is important for understanding and developing techniques that help us analyze data. Earlier in the term you saw `simulate_path` for simulating Markov Chains; Data 8 uses `proportions_from_distribution` to simulate multinomial variables; and so on.\n",
    "\n",
    "In this lab we will see how to simulate random variables with a specified distribution. "
   ]
  },
  {
   "cell_type": "markdown",
   "metadata": {
    "deletable": true,
    "editable": true
   },
   "source": [
    "### Part 1. The Basic Idea ###\n",
    "We will develop the method by considering examples of increasing complexity. \n",
    "\n",
    "Our starting point is a distribution on just four values. \n",
    "\n",
    "Suppose $X$ has the distribution displayed in the table `distribution`. "
   ]
  },
  {
   "cell_type": "code",
   "execution_count": null,
   "metadata": {
    "collapsed": true,
    "deletable": true,
    "editable": true
   },
   "outputs": [],
   "source": [
    "values = make_array(-2, 1, 4, 7)\n",
    "prob = make_array(0.3, 0.1, 0.2,0.4)\n",
    "cdf = np.cumsum(prob)"
   ]
  },
  {
   "cell_type": "code",
   "execution_count": null,
   "metadata": {
    "collapsed": false,
    "deletable": true,
    "editable": true
   },
   "outputs": [],
   "source": [
    "distribution = Table().with_columns(\n",
    "    \"Value\", values,\n",
    "    \"Probability\", prob,\n",
    "    \"CDF\", cdf)\n",
    "distribution"
   ]
  },
  {
   "cell_type": "markdown",
   "metadata": {
    "deletable": true,
    "editable": true
   },
   "source": [
    "Our initial goal is to generate one value of $X$."
   ]
  },
  {
   "cell_type": "markdown",
   "metadata": {
    "deletable": true,
    "editable": true
   },
   "source": [
    "### a) ###\n",
    "The graphic below shows the four `CDF` values on the unit interval.\n",
    "\n",
    "Imagine a number picked uniformly at random from the unit interval. That is, let $U$ be a random variable that has the uniform distribution on $(0, 1)$, and suppose you mark the value of $U$ on the unit interval shown in the graph."
   ]
  },
  {
   "cell_type": "code",
   "execution_count": null,
   "metadata": {
    "collapsed": false,
    "deletable": true,
    "editable": true
   },
   "outputs": [],
   "source": [
    "plotAxes(distribution)"
   ]
  },
  {
   "cell_type": "markdown",
   "metadata": {
    "deletable": true,
    "editable": true
   },
   "source": [
    "Find:\n",
    "\n",
    "(i) $P(U < 0.3)$\n",
    "\n",
    "(ii) $P(0.3 < U < 0.4)$\n",
    "\n",
    "(iii) $P(0.4 < U < 0.6)$\n",
    "\n",
    "(iv) $P(0.6 < U < 1)$\n"
   ]
  },
  {
   "cell_type": "markdown",
   "metadata": {
    "deletable": true,
    "editable": true,
    "purpose": "solution"
   },
   "source": [
    "*Provide your answer and reasoning in this Markdown cell.*"
   ]
  },
  {
   "cell_type": "markdown",
   "metadata": {
    "deletable": true,
    "editable": true
   },
   "source": [
    "### b) ###\n",
    "Starting with a uniform $(0, 1)$ random variable $U$, propose a method of generating a value of $X$. \n",
    "\n",
    "Your method should take $U$ as its input and return one of the four possible values as output, in such a way that for each $i = -2, 1, 4, 7$, the chance of returning the value $i$ is $P(X = i)$.\n",
    "\n",
    "Just describe your method in words. No formula or code is needed."
   ]
  },
  {
   "cell_type": "markdown",
   "metadata": {
    "deletable": true,
    "editable": true,
    "purpose": "solution"
   },
   "source": [
    "*Provide your answer and reasoning in this Markdown cell.*"
   ]
  },
  {
   "cell_type": "markdown",
   "metadata": {
    "deletable": true,
    "editable": true
   },
   "source": [
    "### Part 2. Visualizing the Method ###\n",
    "The method `plotDiscreteCDF` takes as its argument a distribution table that has a `CDF` column as the last column, and plots the cdf.\n",
    "\n",
    "Run the cell below to get a graph of the cdf of the random variable $X$ in Part 1."
   ]
  },
  {
   "cell_type": "code",
   "execution_count": null,
   "metadata": {
    "collapsed": false,
    "deletable": true,
    "editable": true
   },
   "outputs": [],
   "source": [
    "plotDiscreteCDF(distribution)"
   ]
  },
  {
   "cell_type": "markdown",
   "metadata": {
    "deletable": true,
    "editable": true
   },
   "source": [
    "### a) ###\n",
    "Let $F_X$ be the cdf of $X$. What is the value of $F_X(1.27)$, and is that the value the graph shows?"
   ]
  },
  {
   "cell_type": "markdown",
   "metadata": {
    "deletable": true,
    "editable": true,
    "purpose": "solution"
   },
   "source": [
    "*Provide your answer and reasoning in this Markdown cell.*"
   ]
  },
  {
   "cell_type": "markdown",
   "metadata": {
    "deletable": true,
    "editable": true
   },
   "source": [
    "### b) ###\n",
    "At what points $x$ does the cdf have a jump? For each point $x$ at which there is a jump, find the size of the jump in terms of the distribution of $X$."
   ]
  },
  {
   "cell_type": "markdown",
   "metadata": {
    "deletable": true,
    "editable": true,
    "purpose": "solution"
   },
   "source": [
    "*Provide your answer and reasoning in this Markdown cell.*"
   ]
  },
  {
   "cell_type": "markdown",
   "metadata": {
    "deletable": true,
    "editable": true
   },
   "source": [
    "### c) ###\n",
    "Look at the graph above and look also at the graphic depicting the unit interval in Part 1. Which column or columns of `distribution` were needed to draw the graphic in Part 1, and which were needed to draw the graph of the cdf above?"
   ]
  },
  {
   "cell_type": "markdown",
   "metadata": {
    "deletable": true,
    "editable": true,
    "purpose": "solution"
   },
   "source": [
    "*Provide your answer and reasoning in this Markdown cell.*"
   ]
  },
  {
   "cell_type": "markdown",
   "metadata": {
    "deletable": true,
    "editable": true
   },
   "source": [
    "### d) ###\n",
    "Run the cell below. The function `unit_interval_to_discrete` takes a distribution table as its argument (again with the cdf as the final column) and displays an animation of a method that takes a number on the unit interval and returns one of the values of $X$. How is the method that it is using related to the one you proposed in Part 1?"
   ]
  },
  {
   "cell_type": "code",
   "execution_count": null,
   "metadata": {
    "collapsed": false,
    "deletable": true,
    "editable": true
   },
   "outputs": [],
   "source": [
    "unit_interval_to_discrete(distribution)"
   ]
  },
  {
   "cell_type": "markdown",
   "metadata": {
    "deletable": true,
    "editable": true,
    "purpose": "solution"
   },
   "source": [
    "*Provide your answer and reasoning in this Markdown cell.*"
   ]
  },
  {
   "cell_type": "markdown",
   "metadata": {
    "deletable": true,
    "editable": true
   },
   "source": [
    "### e) ###\n",
    "The method `plotDiscreteCDF` also takes a second argument which is a number between 0 and 1. You can generate that number uniformly at random by using `sampleFromUniform()`.\n",
    "\n",
    "Run the cell below a few times. How is it related to the method you proposed in Part 1 for generating a value of $X$?"
   ]
  },
  {
   "cell_type": "code",
   "execution_count": null,
   "metadata": {
    "collapsed": false,
    "deletable": true,
    "editable": true
   },
   "outputs": [],
   "source": [
    "plotDiscreteCDF(distribution, sampleFromUniform())"
   ]
  },
  {
   "cell_type": "markdown",
   "metadata": {
    "deletable": true,
    "editable": true
   },
   "source": [
    "### Part 3. Extension to Continuous Distributions ###\n",
    "Now suppose you want to generate a random variable $X$ that has a specified continuous distribution, and that you are given a uniform $(0, 1)$ random number to start with. "
   ]
  },
  {
   "cell_type": "markdown",
   "metadata": {
    "deletable": true,
    "editable": true
   },
   "source": [
    "### a) ###\n",
    "The function `plotContinuousCDF` plots the cdf of a continuous variable. The first two arguments:\n",
    "- an interval (a, b) over which to draw the cdf\n",
    "- a cdf function that takes in a value and returns the cumulative probability at that value\n",
    "\n",
    "Here is the cdf of the exponential distribution with $\\lambda = 0.5$ and hence expectation = SD = 2."
   ]
  },
  {
   "cell_type": "code",
   "execution_count": null,
   "metadata": {
    "collapsed": false,
    "deletable": true,
    "editable": true
   },
   "outputs": [],
   "source": [
    "lamb = 0.5\n",
    "\n",
    "def expon_cdf(x):\n",
    "    return 1-np.exp(-lamb*x)\n",
    "\n",
    "plotContinuousCDF((0, 8), expon_cdf)"
   ]
  },
  {
   "cell_type": "markdown",
   "metadata": {
    "deletable": true,
    "editable": true
   },
   "source": [
    "Suppose you are given one uniform $(0, 1)$ random number and are asked to generate a random variable $T$ that has the exponential distribution shown above. Based on Parts 1 and 2, propose a method for doing this.\n",
    "\n",
    "In this part of the lab you don't have to prove that the method works. Just propose it."
   ]
  },
  {
   "cell_type": "markdown",
   "metadata": {
    "deletable": true,
    "editable": true,
    "purpose": "solution"
   },
   "source": [
    "*Provide your answer and reasoning in this Markdown cell.*"
   ]
  },
  {
   "cell_type": "markdown",
   "metadata": {
    "deletable": true,
    "editable": true
   },
   "source": [
    "### b) ###\n",
    "Run the cell below. The animation is analogous to the one in Part 2: it takes a plotting interval and a continuous cdf function as its arguments, and demonstrates a method for picking a number on the positive real line starting with value on the unit interval that is the vertical axis. How is its method related to the one you proposed in (a)?"
   ]
  },
  {
   "cell_type": "code",
   "execution_count": null,
   "metadata": {
    "collapsed": false,
    "deletable": true,
    "editable": true
   },
   "outputs": [],
   "source": [
    "unit_interval_to_continuous((0, 8), expon_cdf)"
   ]
  },
  {
   "cell_type": "markdown",
   "metadata": {
    "deletable": true,
    "editable": true
   },
   "source": [
    "#SOLUTON"
   ]
  },
  {
   "cell_type": "markdown",
   "metadata": {
    "deletable": true,
    "editable": true
   },
   "source": [
    "### c) ###\n",
    "The method `plotContinuousCDF` takes a third argument which is a number between 0 and 1. As before, you can generate that number uniformly at random by using `sampleFromUniform()`.\n",
    "\n",
    "Run the cell below a few times. How is it related to the method you proposed in (a) for generating a value of a random variable $T$ that has the displayed exponential distribution?"
   ]
  },
  {
   "cell_type": "code",
   "execution_count": null,
   "metadata": {
    "collapsed": false,
    "deletable": true,
    "editable": true
   },
   "outputs": [],
   "source": [
    "plotContinuousCDF((0, 8), expon_cdf, sampleFromUniform())"
   ]
  },
  {
   "cell_type": "markdown",
   "metadata": {
    "deletable": true,
    "editable": true
   },
   "source": [
    "### d) ###\n",
    "Now suppose you have a uniform $(0, 1)$ random number and want to generate a value of a random variable $Z$ that has the standard normal distribution. Demonstrate a method for doing this by making appropriate changes to the code in (c)."
   ]
  },
  {
   "cell_type": "code",
   "execution_count": null,
   "metadata": {
    "collapsed": true,
    "deletable": true,
    "editable": true,
    "purpose": "solution"
   },
   "outputs": [],
   "source": []
  },
  {
   "cell_type": "markdown",
   "metadata": {
    "deletable": true,
    "editable": true
   },
   "source": [
    "### Part 4. Proof that the Method Works ###\n",
    "Suppose you are trying to generate a random variable that has a continuous, strictly increasing cdf $F$, and suppose that you will use the method you proposed in Part 3. In this part of the lab you will describe that method mathematically and prove that it works.\n",
    "\n",
    "The method:\n",
    "- Start with a random variable $U$ that has the uniform $(0, 1)$ distribution.\n",
    "- Return the value $g(U)$ for a function $g$ that you should define based on the target cdf $F$ and your proposal in Part 3.\n",
    "- The claim that you have to prove is that the random variable $X = g(U)$ has cdf $F$."
   ]
  },
  {
   "cell_type": "markdown",
   "metadata": {
    "deletable": true,
    "editable": true
   },
   "source": [
    "### a) ###\n",
    "In terms of $F$, what is your function $g$?"
   ]
  },
  {
   "cell_type": "markdown",
   "metadata": {
    "deletable": true,
    "editable": true,
    "purpose": "solution"
   },
   "source": [
    "*Provide your answer and reasoning in this Markdown cell.*"
   ]
  },
  {
   "cell_type": "markdown",
   "metadata": {
    "deletable": true,
    "editable": true
   },
   "source": [
    "### b) ###\n",
    "For any number $\\alpha$ between 0 and 1, what is $P(U \\le \\alpha)$?"
   ]
  },
  {
   "cell_type": "markdown",
   "metadata": {
    "deletable": true,
    "editable": true,
    "purpose": "solution"
   },
   "source": [
    "*Provide your answer and reasoning in this Markdown cell.*"
   ]
  },
  {
   "cell_type": "markdown",
   "metadata": {
    "deletable": true,
    "editable": true
   },
   "source": [
    "### c) ###\n",
    "Let $F_X$ be the cdf of $X$. Show that $F_X = F$, the target cdf.\n",
    "\n",
    "We'll start you off on the proof. Use as many more lines as you need. Your final expression should be $F(x)$.\n",
    "\n",
    "\\begin{align*}\n",
    "F_X(x) &= P(X \\le x) \\\\\n",
    "&= P(g(U) \\le x) \\\\\n",
    "&= \\ldots \\\\\n",
    "&= \\ldots \\\\\n",
    "&= F(x)\n",
    "\\end{align*}"
   ]
  },
  {
   "cell_type": "markdown",
   "metadata": {
    "deletable": true,
    "editable": true,
    "purpose": "solution"
   },
   "source": [
    "*Provide your answer and reasoning in this Markdown cell.*"
   ]
  },
  {
   "cell_type": "markdown",
   "metadata": {
    "deletable": true,
    "editable": true
   },
   "source": [
    "### d) ###\n",
    "Let $U$ be uniform on $(0, 1)$. Find a function $g$ such that the random variable $g(U)$ has the exponential distribution with parameter $\\lambda$. Double check your answer by applying the change of variable formula for densities."
   ]
  },
  {
   "cell_type": "markdown",
   "metadata": {
    "deletable": true,
    "editable": true,
    "purpose": "solution"
   },
   "source": [
    "*Provide your answer and reasoning in this Markdown cell.*"
   ]
  },
  {
   "cell_type": "markdown",
   "metadata": {
    "deletable": true,
    "editable": true
   },
   "source": [
    "### e) ###\n",
    "Let $U$ be uniform on $(0, 1)$. Let $\\Phi$ be the standard normal cdf. Find a function $g$ in terms of $\\Phi$ so that the random variable $g(U)$ has the standard normal distribution. You don't have to double check this one by using the change of variable formula."
   ]
  },
  {
   "cell_type": "markdown",
   "metadata": {
    "deletable": true,
    "editable": true,
    "purpose": "solution"
   },
   "source": [
    "*Provide your answer and reasoning in this Markdown cell.*"
   ]
  },
  {
   "cell_type": "markdown",
   "metadata": {
    "deletable": true,
    "editable": true
   },
   "source": [
    "### f) ###\n",
    "Let $U$ be uniform on $(0, 1)$. Find a function $g$ such that the random variable $g(U)$ has the same distribution as the radius of a point picked at random from the unit disc."
   ]
  },
  {
   "cell_type": "markdown",
   "metadata": {
    "deletable": true,
    "editable": true,
    "purpose": "solution"
   },
   "source": [
    "*Provide your answer and reasoning in this Markdown cell.*"
   ]
  },
  {
   "cell_type": "markdown",
   "metadata": {
    "deletable": true,
    "editable": true
   },
   "source": [
    "### Part 5. Empirical Verification that the Method Works ###\n",
    "\n",
    "### a) ###\n",
    "Create a table that is called `sim` for simulation and consists of one column called `Uniform` that contains 100,000 uniform $(0, 1)$ random numbers. The call `stats.uniform.rvs(size=100000)` will generate an array of the random numbers."
   ]
  },
  {
   "cell_type": "code",
   "execution_count": null,
   "metadata": {
    "collapsed": true,
    "deletable": true,
    "editable": true,
    "purpose": "solution"
   },
   "outputs": [],
   "source": [
    "N = 100000\n",
    "u = ...\n",
    "sim = Table().with_column(\"uniform\", u)"
   ]
  },
  {
   "cell_type": "markdown",
   "metadata": {
    "deletable": true,
    "editable": true
   },
   "source": [
    "### b) ###\n",
    "Augment `sim` with three columns, each a transformation of the column `Uniform`.\n",
    "- `Exponential 1/2`: Transform `Uniform` by the function $g$ in your answer to Part 4(d) in the case $\\lambda = 1/2$\n",
    "- `Standard Normal`: Transform `Uniform` by the function $g$ in your answer to Part 4(e).\n",
    "- `Radius`: Transform `Uniform` by the function $g$ in your answer to Part 4(f)."
   ]
  },
  {
   "cell_type": "code",
   "execution_count": null,
   "metadata": {
    "collapsed": true,
    "deletable": true,
    "editable": true,
    "purpose": "solution"
   },
   "outputs": [],
   "source": [
    "\n",
    "def g_exp(y):\n",
    "    return ...\n",
    "\n",
    "def g_norm(y):\n",
    "    return ...\n",
    "\n",
    "def g_rad(y):\n",
    "    return ...\n",
    "    \n",
    "sim = ..."
   ]
  },
  {
   "cell_type": "markdown",
   "metadata": {
    "deletable": true,
    "editable": true
   },
   "source": [
    "### c) ###\n",
    "Draw a histogram of each of the four columns of `sim`. Does each one follow the distribution it is supposed to? Answer this question with attention to detail, such as histogram balance points, min, max, height, and so on. You don't need to use all of the measures in all cases, but try to avoid rough answers like, \"It looks kind of exponential, so the method works.\""
   ]
  },
  {
   "cell_type": "code",
   "execution_count": null,
   "metadata": {
    "collapsed": true,
    "deletable": true,
    "editable": true,
    "purpose": "solution"
   },
   "outputs": [],
   "source": []
  },
  {
   "cell_type": "code",
   "execution_count": null,
   "metadata": {
    "collapsed": false,
    "deletable": true,
    "editable": true
   },
   "outputs": [],
   "source": [
    "\n",
    "#SOLUTIONONLY\n",
    "sim.select(\"radius\").hist(bins=50)"
   ]
  },
  {
   "cell_type": "markdown",
   "metadata": {
    "deletable": true,
    "editable": true
   },
   "source": [
    "Since uniform $(0, 1)$ random numbers are central to all simulations, their quality is very important for the accuracy and reliability of simulations. Testing and assessing uniform random number generators is serious business, because random number generators don't really produce random numbers. They follow deterministic processes that produce results that have properties that resemble those of random numbers. That is why they are called Pseudo Random Number Generators or PRNGs. [Python uses the Mersenne Twister](https://docs.python.org/3.6/library/random.html), one of the most tested and reliable PRNGs. SciPy uses the [Mersenne Twister for RandomState](https://docs.scipy.org/doc/numpy/reference/generated/numpy.random.RandomState.html#numpy.random.RandomState) and draws from a large number of discrete and continuous distributions. Take a look at the list on the RandomState page and see how many you can recognize."
   ]
  },
  {
   "cell_type": "code",
   "execution_count": null,
   "metadata": {
    "collapsed": true,
    "deletable": true,
    "editable": true
   },
   "outputs": [],
   "source": [
    "_ = autograder.grade('q1')"
   ]
  },
  {
   "cell_type": "code",
   "execution_count": null,
   "metadata": {
    "collapsed": false
   },
   "outputs": [],
   "source": [
    "# For your convenience, you can run this cell to run all the tests at once!\n",
    "import os\n",
    "_ = [autograder.grade(q[:-3]) for q in os.listdir(\"tests\") if q.startswith('q')]"
   ]
  },
  {
   "cell_type": "code",
   "execution_count": null,
   "metadata": {
    "collapsed": true
   },
   "outputs": [],
   "source": [
    "import gsExport\n",
    "gsExport.generateSubmission()"
   ]
  }
 ],
 "metadata": {
  "anaconda-cloud": {},
  "kernelspec": {
   "display_name": "Python 3",
   "language": "python",
   "name": "python3"
  },
  "language_info": {
   "codemirror_mode": {
    "name": "ipython",
    "version": 3
   },
   "file_extension": ".py",
   "mimetype": "text/x-python",
   "name": "python",
   "nbconvert_exporter": "python",
   "pygments_lexer": "ipython3",
   "version": "3.5.2"
  },
  "widgets": {
   "state": {
    "0c43abc4c74c479784191857277780fe": {
     "views": [
      {
       "cell_index": 23
      }
     ]
    },
    "6b2766b39fab4e68ad9dadd2d7c8d57d": {
     "views": [
      {
       "cell_index": 33
      }
     ]
    }
   },
   "version": "1.2.0"
  }
 },
 "nbformat": 4,
 "nbformat_minor": 0
}

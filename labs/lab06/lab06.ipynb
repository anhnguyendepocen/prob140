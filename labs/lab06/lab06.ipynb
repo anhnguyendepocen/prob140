{
 "cells": [
  {
   "cell_type": "code",
   "execution_count": null,
   "metadata": {
    "collapsed": true,
    "deletable": true,
    "editable": true
   },
   "outputs": [],
   "source": [
    "from datascience import *\n",
    "from prob140 import *     \n",
    "import numpy as np"
   ]
  },
  {
   "cell_type": "code",
   "execution_count": null,
   "metadata": {
    "collapsed": false,
    "deletable": true,
    "editable": true
   },
   "outputs": [],
   "source": [
    "# Run this code\n",
    "\n",
    "import itertools as it\n",
    "from collections import Counter\n",
    "\n",
    "def clean_string(string):\n",
    "    \"\"\"\n",
    "    Cleans an input string by replacing all newlines with spaces, and then\n",
    "    removing all letters not in *allowable_letters*\n",
    "    \"\"\"\n",
    "    string = string.replace(\"\\n\",\" \")\n",
    "    return \"\".join([i for i in string.lower().strip() if i in allowable_letters])\n",
    "\n",
    "def load_bigrams(text):\n",
    "    \"\"\"\n",
    "    Takes a string which has already been cleaned, and returns a dictionary\n",
    "    of conditional bigram probabilities\n",
    "    \n",
    "    cond_bigram[(a,b)] = P(X_{n+1} = b | X_{n} = a)\n",
    "    \n",
    "    Uses Laplace smoothing with size $1$, to remove zero transition probabilities\n",
    "    \"\"\"\n",
    "    bigram_counter = Counter(list(it.product(allowable_letters,repeat=2)))\n",
    "    gram_counter = Counter(allowable_letters*len(allowable_letters))\n",
    "    for l1,l2 in zip(text,text[1:]):\n",
    "        bigram_counter[(l1,l2)] += 1\n",
    "        gram_counter[l1] += 1\n",
    "    cond_bigram = {k:v/gram_counter[k[0]] for k,v in bigram_counter.items()}\n",
    "    return cond_bigram\n",
    "    \n",
    "def bigram_from_file(filename):\n",
    "    \"\"\"\n",
    "    Given a filename, this reads it, cleans it, and returns the conditional bigram\n",
    "    \"\"\"\n",
    "    file_text = open(filename).read()\n",
    "    file_text = clean_string(file_text)\n",
    "    return load_bigrams(file_text)\n",
    "\n",
    "def reverse_cipher(cipher):\n",
    "    return {v:k for k,v in cipher.items()}\n",
    "\n",
    "def print_differences(cipher1,cipher2):\n",
    "    for k in cipher1:\n",
    "        if cipher1[k] != cipher2[k]:\n",
    "            print(\"%s: %s  %s\"%(k,cipher1[k],cipher2[k]))\n",
    "            \n",
    "def num_errors(cipher,encoded_text,original_text):\n",
    "    decoded = np.array(list(decode_text(encoded_text,cipher)))\n",
    "    original = np.array(list(original_text))\n",
    "    num_errors = np.count_nonzero(decoded != original)\n",
    "    return num_errors"
   ]
  },
  {
   "cell_type": "markdown",
   "metadata": {
    "deletable": true,
    "editable": true
   },
   "source": [
    "# Lab 6: Code Breaking by MCMC #\n",
    "\n",
    "In today's lab, we will be breaking codes encrypted using a cipher\n",
    "\n",
    "To see how this works, please read [Sections 14.3 (Code Breaking)](https://textbook.prob140.org/ch14/Code_Breaking.html) and [14.4 (Markov Chain Monte Carlo)](https://textbook.prob140.org/ch14/Markov_Chain_Monte_Carlo.html) of the Course Notes. The lab follows those sections closely.\n",
    "\n",
    "The text that we are going to decode was written in English. For data on the frequencies of all the different bigrams in English, we will start by counting all the bigrams in *War and Peace* by Tolstoy. That is one of the longest novels in English (actually in Russian, but we are using an English translation from Project Gutenberg) and is often used as a \"corpus\" or body of language on which to base analyses of other text.\n",
    "\n",
    "Please start by running all the cells above this one."
   ]
  },
  {
   "cell_type": "markdown",
   "metadata": {
    "deletable": true,
    "editable": true
   },
   "source": [
    "## Alphabet and Bigrams #\n",
    "To keep the calculations manageable, we will restrict ourselves to a 27-character alphabet, consisiting of the 26 lower case letters and a space. The cell below places all 27 in a list."
   ]
  },
  {
   "cell_type": "code",
   "execution_count": null,
   "metadata": {
    "collapsed": false,
    "deletable": true,
    "editable": true
   },
   "outputs": [],
   "source": [
    "allowable_letters = list(\"abcdefghijklmnopqrstuvwxyz \")"
   ]
  },
  {
   "cell_type": "markdown",
   "metadata": {
    "deletable": true,
    "editable": true
   },
   "source": [
    "Next, we find the relative frequencies of all bigrams in War and Peace, and place them in the dictionary `wp_bigrams`. You don't need to know what a dictionary is; it's fine to imagine it containing the same information as a Table that has a column with the bigrams and another column with the relative frequencies. "
   ]
  },
  {
   "cell_type": "code",
   "execution_count": null,
   "metadata": {
    "collapsed": false,
    "deletable": true,
    "editable": true
   },
   "outputs": [],
   "source": [
    "wp_bigrams = bigram_from_file(\"warandpeace.txt\")"
   ]
  },
  {
   "cell_type": "markdown",
   "metadata": {
    "deletable": true,
    "editable": true
   },
   "source": [
    "### Question 1\n",
    "As in class, the model is that the sequence of characters in the text is a Markov Chain. The state space of the chain is the alphabet of 27 characters. Of course the text has other punctuation, but we are stripping those, and we are replacing upper case letters by lower case.\n",
    "\n",
    "Construct the transition matrix for this Markov Chain based on the relative frequencies in `wp_bigrams` defined above.\n",
    "\n",
    "We have started the code off for you by defining the transition function `wp_transition`. You may find `allowable_letter` helpful"
   ]
  },
  {
   "cell_type": "code",
   "execution_count": null,
   "metadata": {
    "collapsed": false,
    "deletable": true,
    "editable": true,
    "purpose": "solution"
   },
   "outputs": [],
   "source": [
    "def wp_transition(a,b):\n",
    "    if (a,b) in wp_bigrams:\n",
    "        return wp_bigrams[(a,b)]\n",
    "    return 0\n",
    "\n",
    "wp_bigram_mc = ...\n",
    "wp_bigram_mc"
   ]
  },
  {
   "cell_type": "markdown",
   "metadata": {
    "deletable": true,
    "editable": true
   },
   "source": [
    "## Decoders\n",
    "\n",
    "As you saw in class, a decoder is a permutation of the alphabet. We apply this permutation to our encoded text in order to generate the decoded text.\n",
    "\n",
    "For this lab, we will be representing the decoder as a Python dictionary. Here is an example of how a dictionary works, using a three-letter alphabet 'a', 'b', 'c'.\n",
    "\n",
    "Recall from class that if the decoder is ['b', 'c', 'a'] then the substitutions for decoding the encrypted message are\n",
    "\n",
    "$$\n",
    "a \\to b ~~~~~~~~ b \\to c ~~~~~~~~ c \\to a\n",
    "$$\n",
    "\n",
    "This decoder written as a dictionary dictionary looks like this:\n",
    "\n",
    "    simple_decoder = {'a':'b','b':'c','c':a'}\n",
    "\n",
    "To access a value in the decoder, you can use the method `.get`. For example, to access the translation of *a*, use\n",
    "    \n",
    "    simple_decoder.get('a')"
   ]
  },
  {
   "cell_type": "markdown",
   "metadata": {
    "deletable": true,
    "editable": true
   },
   "source": [
    "#### Keeping Spaces Intact ####\n",
    "We will assume that our substitution code keeps spaces unchanged: neither do spaces get coded as letters, nor do letters get coded as spaces. Of course letters will precede and follow spaces, but spaces will be fixed points in the encoding permutation. \n",
    "\n",
    "So our decoder must keep spaces unchanged as well. The following cell defines a function called `random_decoder` which will randomly generate a decoder. It will operate on the 26 letters, omitting the space.\n",
    "\n",
    "The function `random_decoder` simply constructs a random permutation of the alphabet and places it in a dictionary to make it a decoder."
   ]
  },
  {
   "cell_type": "code",
   "execution_count": null,
   "metadata": {
    "collapsed": false,
    "deletable": true,
    "editable": true
   },
   "outputs": [],
   "source": [
    "decoder_letters = np.array(list(\"abcdefghijklmnopqrstuvwxyz\")) # We don't operate on spaces\n",
    "\n",
    "identity_decoder = {letter:letter for letter in decoder_letters}\n",
    "\n",
    "# Random starting decoder\n",
    "def random_decoder():\n",
    "    \"\"\" Random decoder \"\"\"\n",
    "    new_letters = decoder_letters.copy()\n",
    "    np.random.shuffle(new_letters)\n",
    "    return {orig:new for orig,new in zip(decoder_letters,new_letters)}\n"
   ]
  },
  {
   "cell_type": "markdown",
   "metadata": {
    "deletable": true,
    "editable": true
   },
   "source": [
    "### Question 2\n",
    "\n",
    "Define a function `decode_text` that takes as its arguments a string to be decoded and the decoder. It should return the decoded string.\n",
    "\n",
    "Remember that we are only decoding alphabetical characters. If a character is not in the decoder (e.g. a space), leave the character alone."
   ]
  },
  {
   "cell_type": "code",
   "execution_count": null,
   "metadata": {
    "collapsed": true,
    "deletable": true,
    "editable": true,
    "purpose": "solution"
   },
   "outputs": [],
   "source": [
    "\n",
    "def decode_text(string, decoder):\n",
    "    new_string = \"\"\n",
    "    \n",
    "    for char in string:\n",
    "        if char in decoder:\n",
    "            new_letter = ...\n",
    "        else:\n",
    "            new_letter = ...\n",
    "        \n",
    "        # Now we append the letter to the back of the new string\n",
    "        new_string = new_string + new_letter\n",
    "        \n",
    "    return new_string"
   ]
  },
  {
   "cell_type": "markdown",
   "metadata": {
    "deletable": true,
    "editable": true
   },
   "source": [
    "## Metropolis Algorithm: Proposal Chain ##\n",
    "The Metropolis algorithm we will use is essentially the same as the one defined in class and proved to converge to the correct distribution. There is one tweak to increase computatational accuracy, and another to deal with spaces. You shouldn't worry about either of them.\n",
    "\n",
    "Please refer to Section 14.4 of the Course Notes for the notation being used below.\n",
    "\n",
    "- The state space $S$ is the set of all 26! possible decoders, that is, all 26! possible permutations of letters.\n",
    "\n",
    "- The \"proposal\" transition matrix $Q$ is chosen as follows. Given that the chain is at decoder $i$, pick another decoder by randomly swapping two elements of the code. This is the transition matrix of an irreducible chain; you can get from any decoder to any other by a sequence of switches. Also, $Q$ is symmetric. For any two decoders $i$ and $j$,\n",
    "\n",
    "$$\n",
    "Q(i, j) = \\frac{1}{\\binom{26}{2}}, ~~~~ \\text{if } i \\text{ and } j \\text{ differ in two places}\n",
    "$$\n",
    "and $Q(i, j) = 0$ otherwise."
   ]
  },
  {
   "cell_type": "markdown",
   "metadata": {
    "deletable": true,
    "editable": true
   },
   "source": [
    "### Question 3\n",
    "\n",
    "In the following cell, define the function `generate_proposed_decoder` which takes an existing decoder and returns a new decoder as follows: it randomly picks two different letters of the alphabet and swaps the decoding for those letters.\n",
    "\n",
    "For example, if we have the decoder `{'a':'b','b':'c','c':a'}` and decide to swap `a` and `b`, our new decoder should be `{'a':'c','b':'b','c':a'}`. "
   ]
  },
  {
   "cell_type": "code",
   "execution_count": null,
   "metadata": {
    "collapsed": true,
    "deletable": true,
    "editable": true,
    "purpose": "solution"
   },
   "outputs": [],
   "source": [
    "def generate_proposed_decoder(decoder):\n",
    "    new_decoder = decoder.copy()\n",
    "    \n",
    "    \n",
    "    letter1 = ...\n",
    "    letter2 = ...\n",
    "    \n",
    "    new_value_of_letter1 = ...\n",
    "    new_value_of_letter2 = ...\n",
    "    \n",
    "    # This code replaces the value of letter1 and letter2 with new_value_of_letter1 and new_value_of_letter2\n",
    "    new_decoder[letter1] = new_value_of_letter1\n",
    "    new_decoder[letter2] = new_value_of_letter2\n",
    "    return new_decoder\n"
   ]
  },
  {
   "cell_type": "markdown",
   "metadata": {
    "deletable": true,
    "editable": true
   },
   "source": [
    "## The Target Distribution $\\pi$ ##\n",
    "\n",
    "For any two characters $x_1$ and $x_2$, let $B(x_1, x_2)$ be the $(x_1, x_2)$th entry in the bigram transition matrix. Suppose the decoded text consists of the characters $x_0, x_1, \\ldots , x_n$. Recall from class that we defined the *score* of the corresponding decoder $i$ to be\n",
    "\n",
    "$$\n",
    "s(i) = \\prod_{k=0}^{n-1}B(x_k, x_{k+1})\n",
    "$$\n",
    "\n",
    "For decoder $i$, we would like it to appear among our randomly selected decoders with target probability $\\pi(i)$, where $\\pi(i)$ is the likelihood of $i$ given the data. As we saw in class, the likelihood $\\pi(i)$ is proportional to $s(i)$ but we don't know the constant of proportionality. However, for any two decoders $i$ and $j$, we can calculate\n",
    "\n",
    "$$\n",
    "\\frac{\\pi(j)}{\\pi(i)} = \\frac{s(j)}{s(i)}\n",
    "$$\n",
    "\n",
    "Here's a tweak: When the string is long, the score for any decoder is going to be very small. So we will work with the log-score instead; that is, with the $\\log$ of the score. \n",
    "\n",
    "$$\n",
    "\\log(s(i)) = \\sum_{k=0}^{n-1} \\log(B(x_k, x_{k+1}))\n",
    "$$\n"
   ]
  },
  {
   "cell_type": "markdown",
   "metadata": {
    "deletable": true,
    "editable": true
   },
   "source": [
    "### Question 4\n",
    "\n",
    "Define the function `log_probability_mc` which takes a string and a bigram markov chain and finds the log probability of the \"path\" that follows those letters.\n",
    "\n",
    "Don't use `np.log(mc.prob_of_path)` because the probabilities will round too soon and you will have problems with numerical inaccuracy. Instead, you can use the function [`mc.log_prob_of_path`](https://probability.gitlab.io/prob140/html/_autosummary/prob140.MarkovChain.log_prob_of_path.html#prob140.MarkovChain.log_prob_of_path). This takes as its first argument the starting character of the string, and as its next argument a list or array containing the characters in the rest of the string.\n",
    "\n",
    "You may find the following operations from last week's lab helpful:\n",
    "\n",
    "* string[0] returns the first letter of a string. For example:\n",
    "```python\n",
    ">>> x = 'HELLO'\n",
    ">>> x[0]\n",
    "'H'\n",
    "```\n",
    "* string[1:] returns everything except the first letter of a string. For example:\n",
    "```python\n",
    ">>> x[1:]\n",
    "'ELLO'\n",
    "```\n",
    "* list(string) splits the string into a list of its characters."
   ]
  },
  {
   "cell_type": "code",
   "execution_count": null,
   "metadata": {
    "collapsed": true,
    "deletable": true,
    "editable": true,
    "purpose": "solution"
   },
   "outputs": [],
   "source": [
    "def log_probability_mc(string, bigram_mc):\n",
    "    start = ...\n",
    "    \n",
    "    path = list(...)\n",
    "    \n",
    "    return bigram_mc.log_prob_of_path(start, path)"
   ]
  },
  {
   "cell_type": "markdown",
   "metadata": {
    "deletable": true,
    "editable": true
   },
   "source": [
    "### Question 5\n",
    "\n",
    "Define a function `log_probability_decoder_string` as follows.\n",
    "\n",
    "- Its arguments are an encrypted string, a decoder, and a bigram transition matrix.\n",
    "- It decodes the encrypted string using the decoder, and returns the log score of the decoder.\n",
    "\n",
    "You will find that the functions `decode_text` and `log_probability_mc` that you wrote are useful here."
   ]
  },
  {
   "cell_type": "code",
   "execution_count": null,
   "metadata": {
    "collapsed": true,
    "deletable": true,
    "editable": true,
    "purpose": "solution"
   },
   "outputs": [],
   "source": [
    "def log_probability_decoder_string(string,decoder,bigrams):\n",
    "    return ..."
   ]
  },
  {
   "cell_type": "markdown",
   "metadata": {
    "deletable": true,
    "editable": true
   },
   "source": [
    "### The Acceptance Ratios ###\n",
    "The Metropolis algorithm creates a new chain with $\\pi$ as its limit distribution. Recall that if new chain is at $i$, then the the decision about whether or not to accept a transition to a new state $j$ is made by looking at the ratios $\\pi(j)/\\pi(i)$. We saw that this ratio was the same as $s(j)/s(i)$. Since we are working with log scores, it is worth noting that\n",
    "\n",
    "$$\n",
    "\\frac{s(j)}{s(i)} < 1 ~~~ \\iff ~~~ s(j) < s(i) ~~~ \\iff ~~~\n",
    "\\log(s(j)) < \\log(s(i)) \n",
    "$$\n",
    "\n",
    "because $\\log$ is an increasing function.\n",
    "\n",
    "Also, to save you some possible mystification in one of the code cells below, observe that\n",
    "\n",
    "$$\n",
    "\\frac{s(j)}{s(i)} = e^{\\log(\\frac{s(j)}{s(i)})} = e^{\\log(s(j)) - \\log(s(i))}\n",
    "$$\n",
    "\n",
    "The reason for these calculations is that we are working with log scores, not scores. So every statement that we made in terms of scores has to be rewritten in terms of log scores."
   ]
  },
  {
   "cell_type": "markdown",
   "metadata": {
    "deletable": true,
    "editable": true
   },
   "source": [
    "## Implementing the Metropolis Algorithm ##"
   ]
  },
  {
   "cell_type": "markdown",
   "metadata": {
    "deletable": true,
    "editable": true
   },
   "source": [
    "### Question 6\n",
    "\n",
    "Define the function `metropolis` which will take as its arguments:\n",
    "\n",
    "- the encrypted text, as a string\n",
    "- the transition matrix of bigrams\n",
    "- the number of repetitions for the Metropolis algorithm. \n",
    "\n",
    "The function returns the decoder that it arrives at after performing the Metropolis algorithm the specified number of times. If the number of repetitions is large, you know from class that the distribution of this random decoder is close to the desired distribution $\\pi$ which is the likelihood distribution of the decoder given the data. Therefore you expect to end up with a decoder that has a high likelihood compared to the other decoders.\n",
    "\n",
    "Between iterations, you should keep track of the following variables:\n",
    "\n",
    "1. `bestDecoder`: the decoder that has the highest log score\n",
    "2. `bestScore`: the log score associated with the bestDecoder\n",
    "3. `decoder`: the decoder that you are currently working with\n",
    "4. `lastScore`: the log score of the current decoder\n",
    "\n",
    "In each iteration, you should do the following:\n",
    "\n",
    "1. Generate a new decoder based on the current decoder; the \"new\" decoder might be the same as the current one.\n",
    "2. Calculate the log score of your new decoder.\n",
    "3. **Important:** Follow the Metropolis algorithm to decide whether or not to move to a new decoder.\n",
    "4. If the new decoder's log score is the best seen so far, update `bestScore` and `bestDecoder`"
   ]
  },
  {
   "cell_type": "code",
   "execution_count": null,
   "metadata": {
    "collapsed": true
   },
   "outputs": [],
   "source": [
    "import time\n",
    "\n",
    "def p_coin(p):\n",
    "    \"\"\"\n",
    "    Flips a coin that comes up heads with probability p\n",
    "    and returns 1 if Heads, 0 if Tails\n",
    "    \"\"\"\n",
    "    return np.random.random() < p\n",
    "\n",
    "\n",
    "def metropolis(string_to_decode, bigrams, reps):\n",
    "    decoder = random_decoder() # Starting decoder\n",
    "    \n",
    "    bestDecoder = decoder\n",
    "    bestScore = log_probability_decoder_string(string_to_decode,bestDecoder,bigrams)\n",
    "    \n",
    "    lastScore = bestScore\n",
    "    \n",
    "    for rep in range(reps):\n",
    "        \n",
    "        # This will print out our progress\n",
    "        if rep*10%reps == 0: # Repeat every 10%\n",
    "            time.sleep(.01)\n",
    "            decoded_text = decode_text(string_to_decode,bestDecoder)[:40]\n",
    "            print('Score: %.00f \\t Guess: %s'%(bestScore,decoded_text))\n",
    "            \n",
    "        #########################\n",
    "        # Your code starts here #\n",
    "        #########################\n",
    "        proposed_decoder = ...\n",
    "        log_s_orig = ...\n",
    "        log_s_new = ...\n",
    "        \n",
    "        if log_s_new > log_s_orig or p_coin(np.e**(log_s_new-log_s_orig)): \n",
    "            # If better than before or p-coin flip works\n",
    "            \n",
    "            ...\n",
    "            \n",
    "            if log_s_new > bestScore:\n",
    "                ...\n",
    "    return bestDecoder"
   ]
  },
  {
   "cell_type": "markdown",
   "metadata": {
    "deletable": true,
    "editable": true
   },
   "source": [
    "## Running It ##\n",
    "\n",
    "The text you are going to first encrypt and then decode is taken from [Winston Churchill's speech](https://en.wikipedia.org/wiki/We_shall_fight_on_the_beaches) to the House of Commons on 4 June 1940. Naturally, it contains upper case letters and punctuation that we have not included in our alphabet. In the cell below, the function `clean_string` strips out all the punctuation and replaces upper case letters by the corresponding lower case letters."
   ]
  },
  {
   "cell_type": "code",
   "execution_count": null,
   "metadata": {
    "collapsed": false,
    "deletable": true,
    "editable": true
   },
   "outputs": [],
   "source": [
    "ogtext = \"\"\"\n",
    "I have, myself, full confidence that if all do their duty, if nothing is neglected, \n",
    "and if the best arrangements are made, as they are being made, we shall prove ourselves \n",
    "once again able to defend our Island home, to ride out the storm of war, and to outlive \n",
    "the menace of tyranny, if necessary for years, if necessary alone. At any rate, that is \n",
    "what we are going to try to do. That is the resolve of His Majesty’s Government-every man \n",
    "of them. That is the will of Parliament and the nation. \n",
    "\"\"\"\n",
    "original_string = clean_string(ogtext)\n",
    "encoding_cipher = random_decoder()\n",
    "string_to_decode = decode_text(original_string,encoding_cipher)\n",
    "string_to_decode\n"
   ]
  },
  {
   "cell_type": "markdown",
   "metadata": {
    "deletable": true,
    "editable": true
   },
   "source": [
    "Run the following cell to generate your decoder"
   ]
  },
  {
   "cell_type": "code",
   "execution_count": null,
   "metadata": {
    "collapsed": false,
    "deletable": true,
    "editable": true
   },
   "outputs": [],
   "source": [
    "new_decoder = metropolis(string_to_decode, wp_bigram_mc, 10000) "
   ]
  },
  {
   "cell_type": "markdown",
   "metadata": {
    "deletable": true,
    "editable": true
   },
   "source": [
    "Make sure the text above matches the original text. Run the cell below to decode the entire string"
   ]
  },
  {
   "cell_type": "code",
   "execution_count": null,
   "metadata": {
    "collapsed": false,
    "deletable": true,
    "editable": true
   },
   "outputs": [],
   "source": [
    "decode_text(string_to_decode, new_decoder)"
   ]
  },
  {
   "cell_type": "markdown",
   "metadata": {
    "deletable": true,
    "editable": true
   },
   "source": [
    "### Question 7\n",
    "\n",
    "Decode `secret_text` using MCMC."
   ]
  },
  {
   "cell_type": "code",
   "execution_count": null,
   "metadata": {
    "collapsed": false,
    "deletable": true,
    "editable": true
   },
   "outputs": [],
   "source": [
    "secret_text = 'uc rwl yjce wudrjgs jv rwl bjgyq jcys m vlb elclgmrujcd wmzl tllc egmcrlq rwl gjyl jv qlvlcquce vgllqji uc urd wjng jv imauini qmcelg u qj cjr dwgucf vgji rwud gldpjcdutuyurs u blykjil ur u qj cjr tlyulzl rwmr mcs jv nd bjnyq lakwmcel pymkld burw mcs jrwlg pljpyl jg mcs jrwlg elclgmrujc rwl lclges rwl vmurw rwl qlzjrujc bwukw bl tguce rj rwud lcqlmzjg buyy yuewr jng kjncrgs mcq myy bwj dlgzl ur mcq rwl eyjb vgji rwmr vugl kmc rgnys yuewr rwl bjgyq mcq dj is vlyyjb milgukmcd mdf cjr bwmr sjng kjncrgs kmc qj vjg sjn mdf bwmr sjn kmc qj vjg sjng kjncrgs is vlyyjb kuruolcd jv rwl bjgyq mdf cjr bwmr milgukm buyy qj vjg sjn tnr bwmr rjelrwlg bl kmc qj vjg rwl vgllqji jv imc'"
   ]
  },
  {
   "cell_type": "code",
   "execution_count": null,
   "metadata": {
    "collapsed": true,
    "deletable": true,
    "editable": true,
    "purpose": "solution"
   },
   "outputs": [],
   "source": []
  },
  {
   "cell_type": "markdown",
   "metadata": {},
   "source": [
    "### (optional)\n",
    "\n",
    "Who is the secret text attributed to?"
   ]
  },
  {
   "cell_type": "code",
   "execution_count": null,
   "metadata": {
    "collapsed": true,
    "deletable": true,
    "editable": true
   },
   "outputs": [],
   "source": [
    "_ = autograder.grade('q1')"
   ]
  },
  {
   "cell_type": "code",
   "execution_count": null,
   "metadata": {
    "collapsed": false,
    "deletable": true,
    "editable": true
   },
   "outputs": [],
   "source": [
    "# For your convenience, you can run this cell to run all the tests at once!\n",
    "import os\n",
    "_ = [autograder.grade(q[:-3]) for q in os.listdir(\"tests\") if q.startswith('q')]"
   ]
  },
  {
   "cell_type": "code",
   "execution_count": null,
   "metadata": {
    "collapsed": true,
    "deletable": true,
    "editable": true
   },
   "outputs": [],
   "source": [
    "import gsExport\n",
    "gsExport.generateSubmission()"
   ]
  }
 ],
 "metadata": {
  "anaconda-cloud": {},
  "kernelspec": {
   "display_name": "Python 3",
   "language": "python",
   "name": "python3"
  },
  "language_info": {
   "codemirror_mode": {
    "name": "ipython",
    "version": 3
   },
   "file_extension": ".py",
   "mimetype": "text/x-python",
   "name": "python",
   "nbconvert_exporter": "python",
   "pygments_lexer": "ipython3",
   "version": "3.5.2"
  }
 },
 "nbformat": 4,
 "nbformat_minor": 2
}

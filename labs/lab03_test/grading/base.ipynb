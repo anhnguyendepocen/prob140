{
 "cells": [
  {
   "cell_type": "code",
   "execution_count": 1,
   "metadata": {
    "collapsed": true
   },
   "outputs": [],
   "source": [
    "import numpy as np\n",
    "from datascience import *\n",
    "from prob140 import *\n",
    "%matplotlib inline\n",
    "import matplotlib.pyplot as plt\n",
    "plt.style.use('fivethirtyeight')\n",
    "from scipy import stats"
   ]
  },
  {
   "cell_type": "markdown",
   "metadata": {},
   "source": [
    "# Lab 3: Riffle Shuffles and Randomness\n",
    "In probability theory we often assume that a \"well shuffled standard deck\" is one in which all 52! permutations of the cards are equally likely. But how to actually achieve this \"well shuffled\" state with a physical deck?\n",
    "\n",
    "Partly, the answer depends on the method of shuffling. In this lab, you will study one kind of shuffle, called the *riffle shuffle* (see roughly 0:25-0:30 of this [YouTube video](https://www.youtube.com/watch?v=KcH7zpd5viM)). Your goal will be to see how many times you have to riffle shuffle a standard deck so that the cards get \"all mixed up\".\n",
    "\n",
    "Disclaimer: 52! factorial is a large number, and you won't be getting close to simulating the uniform distribution on that many possible outcomes. You'll do something much more tractable that still allows you to get a sense of the randomness in repeated riffle shuffling."
   ]
  },
  {
   "cell_type": "markdown",
   "metadata": {},
   "source": [
    "Run the code in the following cell. You will need it for this lab."
   ]
  },
  {
   "cell_type": "code",
   "execution_count": 3,
   "metadata": {
    "collapsed": true
   },
   "outputs": [],
   "source": [
    "def shuffle_deck(deck):\n",
    "    n = len(deck)\n",
    "    new_deck = []\n",
    "    \n",
    "    newSplit = np.random.binomial(n,.5) # Picks a split in the deck\n",
    "    if newSplit == n or newSplit == 0:\n",
    "        return np.array(deck)\n",
    "    \n",
    "    startA = newSplit\n",
    "    startB = n-1\n",
    "    \n",
    "    add_to_deck = new_deck.append # This is for speed and to stop having to look up\n",
    "    while (startA+1) + (startB-newSplit) > 0:\n",
    "        pFromA = (startA+1)/((startA)+1+(startB-newSplit))\n",
    "        \n",
    "        if np.random.random() < pFromA:       # Accept from Pile 1\n",
    "            add_to_deck(deck[startA])\n",
    "            startA -= 1\n",
    "        else:                              #  Accept from Pile 2\n",
    "            add_to_deck(deck[startB])\n",
    "            startB -= 1\n",
    "            \n",
    "    return np.array(list(reversed(new_deck)))\n",
    "\n",
    "def shuffler(n,r):\n",
    "    deck = list(range(1, n+1)) # Starts with {0 ... n-1}\n",
    "    for iteration in range(r):\n",
    "        deck = shuffle_deck(deck)\n",
    "    return np.array(deck)\n",
    "\n",
    "def starting_deck(n):\n",
    "    return np.arange(1, n+1)"
   ]
  },
  {
   "cell_type": "markdown",
   "metadata": {},
   "source": [
    "## Part 1: The Shuffle ##\n",
    "Here is a probabilistic model that has been shown to roughly reflect riffle shuffles performed by humans. We will assume that the cards have been labeled 1 through 52.\n",
    "\n",
    "### One Riffle Shuffle ###\n",
    "- Start with a deck in which the cards are perfectly ordered in sequence from 1 through 52. We'll say that Card 1 is at the top and Card 2 is at the bottom.\n",
    "- Cut the deck roughly in half by picking a binomial (52, 0.5) spot. All cards upto and including that spot constitute the \"left side\" of the deck. All cards after that spot form the \"right side\".\n",
    "- Now *drop* cards one by one to form a permuted deck; the first card you drop will be the *bottom* card of the permuted deck, that is, Position 52 of the permuted deck. Here is how you will drop the cards:\n",
    "    - Pick \"left side\" or \"right side\" with probability proportional to size. That is, if there are $n$ cards on the left side and $m$ on the right, pick the left size with chance $n/(n+m)$ and the right side with the remaining chance $m/(n+m)$. Yes, $n+m = 52$ at this stage. This \"size biased sampling\" takes into account what happens physically when the two sides aren't equal.\n",
    "    - Drop the bottom card of the side you picked. This becomes the bottom card of the permuted deck, and the two sides now have a total of $n+m-1$ cards.\n",
    "    - Repeat: pick left or right again with probability proportional to size, and drop the bottom card of the picked side, on top of the card that has already been dropped.\n",
    "    - Repeat till you have dropped all 52 cards.\n",
    "\n",
    "That's one complete riffle shuffle. Now let the permuted deck be your starting point, and do another riffle shuffle. Once that's done, do it again ... You get the picture. This lab is about when you should stop."
   ]
  },
  {
   "cell_type": "markdown",
   "metadata": {},
   "source": [
    "#### A Small Deck, and Just One Riffle Shuffle ####\n",
    "To confirm that you understand the shuffle, imagine that you start with a deck of 7 cards. The cards are labeled 1, 2, 3, 4, 5, 6, and 7 and are in that order.\n",
    "\n",
    "- Cut the deck at a binomial (7, 0.5) point as described above. Let's assume the binomial random number came out to be 2. Then the left side is $\\{1, 2\\}$ with Card 1 on top and Card 2 below. The right side is $\\{ 3, 4, 5, 6, 7\\}$ with Card 3 on top and the rest in sequence below.\n",
    "- Pick a side with P(left) = 2/7. Suppose you ended up picking the right side. Then Card 7 drops.\n",
    "    - Suppose the six subsequent choices are \"left, right, right, right, left, right'. Then the permuted deck is $\\{3, 1, 4, 5, 6, 2, 7 \\}$.\n",
    "    \n",
    "Notice how you can spot increasing subsequences from each side. By analyzing these, you can reconstruct the moves."
   ]
  },
  {
   "cell_type": "markdown",
   "metadata": {},
   "source": [
    "### 1.1: Unshuffle this Deck ###\n",
    "Suppose I started with the deck $\\{1, 2, 3, 4, 5, 6, 7 \\}$ in that order, performed one riffle shuffle, and ended up with $\\{1, 4, 5, 6, 2, 7, 3\\}$.\n",
    "\n",
    "What was the value of the binomial (7, 0.5) variable used to cut the deck, and what was the sequence of 7 \"left\" and \"right\" choices?"
   ]
  },
  {
   "cell_type": "markdown",
   "metadata": {
    "purpose": "solution"
   },
   "source": [
    "*Provide your answer and reasoning in this Markdown cell.*"
   ]
  },
  {
   "cell_type": "markdown",
   "metadata": {},
   "source": [
    "### 1.2: Using `shuffler` ###\n",
    "\n",
    "Coding the riffle shuffle is not hard but it requires some care. You have to account for which side gets exhausted first, what happens when the binomial cut is at the ends, and so on. There isn't enough time for that during this lab. So we have written the code for you.\n",
    "\n",
    "- `shuffler(deck_size, num_shuffles)` returns an array that is the shuffled deck of `deck_size` cards, after `num_shuffles` riffle shuffles. The starting  state of the deck is the integers 1 through `deck_size` in sequence, with 1 on top.\n",
    "\n",
    "It is not required to understand this code to complete the rest of the lab. Make sure you ran the code cell at the beginning of the lab"
   ]
  },
  {
   "cell_type": "markdown",
   "metadata": {},
   "source": [
    "Use `shuffler` to perform 1 riffle shuffle of a deck of 10 cards. Give the value of the binomial cut and the left-right sequence.\n",
    "\n",
    "**Note.** Once you have written your answer, please don't rerun the code cell because it will most likely result in a different shuffle."
   ]
  },
  {
   "cell_type": "code",
   "execution_count": 11,
   "metadata": {
    "collapsed": true,
    "purpose": "solution"
   },
   "outputs": [],
   "source": []
  },
  {
   "cell_type": "markdown",
   "metadata": {
    "purpose": "solution"
   },
   "source": [
    "*Provide your answer and reasoning in this Markdown cell.*"
   ]
  },
  {
   "cell_type": "markdown",
   "metadata": {},
   "source": [
    "### Question 1.2\n",
    "\n",
    "Use `shuffler` to perform 3 riffle shuffles of a deck of of 10 cards."
   ]
  },
  {
   "cell_type": "code",
   "execution_count": 13,
   "metadata": {
    "collapsed": true,
    "purpose": "solution"
   },
   "outputs": [],
   "source": []
  },
  {
   "cell_type": "markdown",
   "metadata": {},
   "source": [
    "Use `shuffler` to riffle shuffle a standard deck of 52 cards 6 times. The last line of your code should evaluate to the top card of the shuffled deck."
   ]
  },
  {
   "cell_type": "code",
   "execution_count": null,
   "metadata": {
    "collapsed": true,
    "purpose": "solution"
   },
   "outputs": [],
   "source": [
    "permuted = ...\n",
    "permuted.item(0)"
   ]
  },
  {
   "cell_type": "markdown",
   "metadata": {},
   "source": [
    "## Part 2: The Top Card After 1 Shuffle ##\n",
    "For $i = 1, 2, \\ldots , 52$, let $X_i$ be the label of the card in Position $i$ of the deck. Before the shuffling process starts, $P(X_i = i) = 1$ for each $i$. \n",
    "\n",
    "If the deck is \"well shuffled\", the joint distribution of $(X_1, X_2, \\ldots, X_{52})$ should be uniform on all 52! permutations. But if the deck is not well shuffled, then the joint distribution will be some other distribution on 52! possible outcomes. That could be a very complicated object. Let's not get into that level of detail in this lab.\n",
    "\n",
    "Instead, let's just focus on the marginal distribution of $X_1$ after one riffle shuffle. $X_1$ is the card that appears at the top of the permuted deck.\n"
   ]
  },
  {
   "cell_type": "markdown",
   "metadata": {},
   "source": [
    "### Question 2.1\n",
    "\n",
    "What are the possible values of $X_1$?"
   ]
  },
  {
   "cell_type": "markdown",
   "metadata": {
    "purpose": "solution"
   },
   "source": [
    "*Provide your answer and reasoning in this Markdown cell.*"
   ]
  },
  {
   "cell_type": "markdown",
   "metadata": {},
   "source": [
    "### Question 2.2 \n",
    "\n",
    "Simulate the distribution of $X_1$ after 1 riffle shuffle. Use 1000 repetitions."
   ]
  },
  {
   "cell_type": "code",
   "execution_count": 6,
   "metadata": {
    "collapsed": true,
    "purpose": "solution"
   },
   "outputs": [],
   "source": [
    "reps = 1000\n",
    "deck_size = 52\n",
    "num_shuffles = 1\n",
    "\n",
    "# array to store the top card from each simulation\n",
    "top_card_label = make_array()\n",
    "\n",
    "for i in range(reps):\n",
    "    \n",
    "    # the permuted deck after one riffle shuffle\n",
    "    permuted = ... \n",
    "    \n",
    "    # top card of shuffled deck\n",
    "    label = ... \n",
    "    \n",
    "    # augment the storage array\n",
    "    top_card_label = ...\n"
   ]
  },
  {
   "cell_type": "markdown",
   "metadata": {},
   "source": [
    "### Question 2.3\n",
    "\n",
    "We can now call [`emp_dist(array)`](https://probability.gitlab.io/prob140/html/_autosummary/prob140.emp_dist.html#prob140.emp_dist) to create an empirical distribution. Create an empirical distribution of $X_1$"
   ]
  },
  {
   "cell_type": "code",
   "execution_count": 17,
   "metadata": {
    "collapsed": false,
    "purpose": "solution"
   },
   "outputs": [],
   "source": [
    "empirical_dist_x1 = ...\n",
    "empirical_dist_x1"
   ]
  },
  {
   "cell_type": "markdown",
   "metadata": {},
   "source": [
    "Run the cell below to plot the empirical distribution of $X_{1}$."
   ]
  },
  {
   "cell_type": "code",
   "execution_count": 19,
   "metadata": {
    "collapsed": false
   },
   "outputs": [],
   "source": [
    "Plot(empirical_dist_x1)\n",
    "plt.xlim(0, 52);"
   ]
  },
  {
   "cell_type": "markdown",
   "metadata": {},
   "source": [
    "# Part 3: Let's Abstract This Out"
   ]
  },
  {
   "cell_type": "markdown",
   "metadata": {},
   "source": [
    "Now that we have the code to find the empirical distribution of the first card ($X_1$) after 1 shuffle using 1000 reptitions, let's write a function that can be generalized to any card with any number of shuffles and repetitions.\n",
    "\n",
    "### Question 3.1\n",
    "\n",
    "Fill in the function `empirical_dist_x`. Follow the steps that were done in Part 2."
   ]
  },
  {
   "cell_type": "code",
   "execution_count": 25,
   "metadata": {
    "collapsed": true,
    "purpose": "solution"
   },
   "outputs": [],
   "source": [
    "\n",
    "deck_size = 52\n",
    "\n",
    "def empirical_dist_x(position_number,num_shuffles,reps):\n",
    "    \n",
    "    location_of_x = make_array()\n",
    "    \n",
    "    for i in range(reps):\n",
    "        \n",
    "        permuted = ...\n",
    "    \n",
    "        card_label = ...\n",
    "\n",
    "        location_of_x = ...\n",
    "\n",
    "    return emp_dist(location_of_x)"
   ]
  },
  {
   "cell_type": "markdown",
   "metadata": {},
   "source": [
    "### Question 3.2\n",
    "\n",
    "By running `empirical_dist_x`, we can now easily view the empirical marginal distribution of any specific position after any number of shuffles. We can play around with the number of repetitions to fine tune accuracy.\n",
    "\n",
    "Find the distribution of the 25th card after 1 shuffle using the function that we have just written. 5000 reptitions should be enough"
   ]
  },
  {
   "cell_type": "code",
   "execution_count": 11,
   "metadata": {
    "collapsed": false,
    "purpose": "solution"
   },
   "outputs": [],
   "source": [
    "\n",
    "empirical_dist_x25 = ...\n",
    "empirical_dist_x25"
   ]
  },
  {
   "cell_type": "markdown",
   "metadata": {},
   "source": [
    "### Question 3.3\n",
    "\n",
    "Now let's plot the distributions of the 1st card and the 25th card after 1 shuffle and 5000 repetitions. Explain what you see.\n",
    "\n",
    "The limits of the x-axis should be up to 52"
   ]
  },
  {
   "cell_type": "code",
   "execution_count": 29,
   "metadata": {
    "collapsed": false,
    "purpose": "solution"
   },
   "outputs": [],
   "source": [
    "Plots(\"$X_1$\", ..., \"$X_2$\", ...)\n",
    "plt.xlim(-1, 52);"
   ]
  },
  {
   "cell_type": "markdown",
   "metadata": {},
   "source": [
    "### Question 3.4\n",
    "\n",
    "Explain the distributions of $X_1$ and $X_{25}$ after one shuffle"
   ]
  },
  {
   "cell_type": "markdown",
   "metadata": {
    "purpose": "solution"
   },
   "source": [
    "*Provide your answer and reasoning in this Markdown cell.*"
   ]
  },
  {
   "cell_type": "markdown",
   "metadata": {},
   "source": [
    "# Part 4: Total Variation Distance\n",
    "\n",
    "As we discovered in Part 3, after one shuffle, certain cards are very likely to be in specific spots. In a well shuffled deck, we want any card to be equally likely to be at any position. Thus, we will try to figure out how many shuffles it will take such that in each position in the shuffled deck, all 52 cards are close to equally likely.\n",
    "\n",
    "In other words, for each position $i$, we will try to figure out how many times we have to shuffle so that the marginal distribution of $X_i$ is close to the uniform distribution on $\\{1, 2, \\ldots , 52\\}$.\n",
    "\n",
    "This can be measured by the total variation distance:\n",
    "\n",
    "$$\n",
    "TVD(\\text{distribution of } X_i, \\text{uniform distribution on 1 through 52})\n",
    "~ = ~ \n",
    "\\frac{1}{2} \\sum_{k=1}^{52} |P(X_i = k) - \\frac{1}{52}| \n",
    "$$"
   ]
  },
  {
   "cell_type": "markdown",
   "metadata": {},
   "source": [
    "### Question 4.1\n",
    "\n",
    "Write the function `tvd_emp_dist_uniform` which takes in a Distribution object with possible values $1, 2, \\ldots , 52$ and returns the total variation distance between that distribution and the uniform distribution on $\\{1, 2, \\ldots , 52\\}$.\n",
    "\n",
    "Remember that you can access a column of a Table as an array by calling `table.column(column_name)`."
   ]
  },
  {
   "cell_type": "code",
   "execution_count": 43,
   "metadata": {
    "collapsed": true,
    "purpose": "solution"
   },
   "outputs": [],
   "source": [
    "\n",
    "def tvd_emp_dist_uniform(dist):\n",
    "    \n",
    "    proportions = dist.column(\"Proportion\")\n",
    "    \n",
    "    return ..."
   ]
  },
  {
   "cell_type": "markdown",
   "metadata": {},
   "source": [
    "The following cell defines a function `tvd_over_shuffles` that takes in a card index and plots the total variation distance after 10 shuffles"
   ]
  },
  {
   "cell_type": "code",
   "execution_count": 25,
   "metadata": {
    "collapsed": false
   },
   "outputs": [],
   "source": [
    "NUM_CARDS_IN_DECK = 52\n",
    "from collections import Counter\n",
    "\n",
    "def fast_tvd(list_of_seen):\n",
    "    l = list(Counter(list_of_seen).values())\n",
    "    l.extend([0]*(52-len(l)))\n",
    "    l = np.array(l) / len(list_of_seen)\n",
    "    return 0.5*np.sum(np.abs(l-1/52))\n",
    "\n",
    "def tvd_vs_shuffles(whichCard,minShuffles=2,maxShuffles=10,reps=5000):\n",
    "    assert 0 <= whichCard < NUM_CARDS_IN_DECK, \"Card not in range\"\n",
    "    decks = [starting_deck(NUM_CARDS_IN_DECK) for _ in range(reps)]\n",
    "    tvds = np.array([])\n",
    "    for shuffle_num in range(maxShuffles+1):\n",
    "        values = [deck[whichCard] for deck in decks]\n",
    "        tvds = np.append(tvds,fast_tvd(values))\n",
    "        for deck_num in range(reps):\n",
    "            decks[deck_num] = shuffle_deck(decks[deck_num])\n",
    "  \n",
    "    plt.plot(np.arange(minShuffles,maxShuffles+1),tvds[minShuffles:],label='Card %d'%whichCard)\n",
    "    plt.xlabel(\"Number of Shuffles\")\n",
    "    plt.ylabel(\"TVD\")\n",
    "    plt.title('Position %d'%whichCard)"
   ]
  },
  {
   "cell_type": "markdown",
   "metadata": {},
   "source": [
    "### Question 4.2\n",
    "\n",
    "Using `tvd_vs_shuffles`, find the number of shuffles necessary until card 1 approaches 0. Then do the same for card 25.\n",
    "\n",
    "Note that the graphs will not converge completely to 0 unless we do infinitely many simulations. "
   ]
  },
  {
   "cell_type": "code",
   "execution_count": 36,
   "metadata": {
    "collapsed": false
   },
   "outputs": [],
   "source": [
    "tvd_vs_shuffles(1, reps=5000)"
   ]
  },
  {
   "cell_type": "code",
   "execution_count": 32,
   "metadata": {
    "collapsed": false
   },
   "outputs": [],
   "source": [
    "tvd_vs_shuffles(1, reps=5000)\n",
    "tvd_vs_shuffles(25, reps=5000)\n",
    "\n",
    "plt.legend();"
   ]
  },
  {
   "cell_type": "markdown",
   "metadata": {},
   "source": [
    "# Part 5: Heat Maps\n"
   ]
  },
  {
   "cell_type": "markdown",
   "metadata": {},
   "source": [
    "While TVD is very useful for tracking specific card indices, a heat map allows us to examine all the card indices at once for a given shuffle.\n",
    "\n",
    "The x-axis represents the index ($i$) of the position while the y-axis represents the index ($j$) of a card after $n$ shuffles. The color of the intersection shows the proportion of times that card $j$ ended up at position $i$ after $n$ shuffles.\n",
    "\n",
    "**Note: The scales of the colors might change between plots**"
   ]
  },
  {
   "cell_type": "code",
   "execution_count": 54,
   "metadata": {
    "collapsed": false
   },
   "outputs": [],
   "source": [
    "NUM_CARDS_IN_DECK = 52\n",
    "def heat_map(end=10,reps=5000):\n",
    "    decks = [starting_deck(NUM_CARDS_IN_DECK) for _ in range(reps)]\n",
    "    heatmaps = []\n",
    "    for shuffle_num in range(end):\n",
    "        grid_of_ps = np.zeros((NUM_CARDS_IN_DECK,NUM_CARDS_IN_DECK))\n",
    "        for i in range(reps):\n",
    "            for card,location in enumerate(decks[i]):\n",
    "                grid_of_ps[location-1][card-1] +=1\n",
    "            decks[i] = shuffle_deck(decks[i])\n",
    "\n",
    "        grid_of_ps /= reps\n",
    "        heatmaps.append(grid_of_ps)\n",
    "    return heatmaps\n",
    "\n",
    "def showAllHeatMaps(heatmaps):\n",
    "    fig, axes = plt.subplots(nrows=(len(heatmaps)//3), ncols=3)\n",
    "    if len(heatmaps)//3 > 1:\n",
    "        axes = sum([list(ax) for ax in axes],[])\n",
    "    for n,(pic,ax) in enumerate(zip(heatmaps,axes)):\n",
    "        image = ax.imshow(pic,interpolation='nearest', origin='lower')\n",
    "        image.set_clim(0,.1)\n",
    "        ax.axis('off')\n",
    "\n",
    "def draw_heat_map(num_shuffles,**kwargs):\n",
    "    hm = heat_map(num_shuffles+1,**kwargs)[-1]\n",
    "    plt.imshow(hm,interpolation='nearest', origin='lower')\n",
    "    \n",
    "    if num_shuffles > 3:\n",
    "        max_prob = 0.035\n",
    "    else:\n",
    "        max_prob = np.amax(hm)\n",
    "    plt.clim(-.01,max_prob)\n",
    "    plt.colorbar()\n",
    "    plt.title('P(Card i in spot j) after %d shuffles'%num_shuffles)\n",
    "    plt.xlabel('Position (j)')\n",
    "    plt.ylabel('Card Number (i)')"
   ]
  },
  {
   "cell_type": "markdown",
   "metadata": {},
   "source": [
    "### Question 5.1\n",
    "\n",
    "Run the cell below to generate a heat map for 0 shuffles"
   ]
  },
  {
   "cell_type": "code",
   "execution_count": 45,
   "metadata": {
    "collapsed": false,
    "scrolled": false
   },
   "outputs": [],
   "source": [
    "draw_heat_map(0)"
   ]
  },
  {
   "cell_type": "markdown",
   "metadata": {},
   "source": [
    "Why is there a red diagonal line? Why is the background dark blue?"
   ]
  },
  {
   "cell_type": "markdown",
   "metadata": {
    "purpose": "solution"
   },
   "source": [
    "*Provide your answer and reasoning in this Markdown cell.*"
   ]
  },
  {
   "cell_type": "markdown",
   "metadata": {},
   "source": [
    "### Question 5.2\n",
    "\n",
    "Run the cell below to generate the heat map for 1 shuffle"
   ]
  },
  {
   "cell_type": "code",
   "execution_count": 46,
   "metadata": {
    "collapsed": false
   },
   "outputs": [],
   "source": [
    "draw_heat_map(1)"
   ]
  },
  {
   "cell_type": "markdown",
   "metadata": {},
   "source": [
    "Why are the corners (0,0) and (52,52) the only spots on the heat map that have non-blue colors?"
   ]
  },
  {
   "cell_type": "markdown",
   "metadata": {
    "purpose": "solution"
   },
   "source": [
    "*Provide your answer and reasoning in this Markdown cell.*"
   ]
  },
  {
   "cell_type": "markdown",
   "metadata": {},
   "source": [
    "### Question 5.3\n",
    "\n",
    "How many shuffles does it take until the entire heat map is entirely one color? You may create as many new cells as you want to experiment with different values"
   ]
  },
  {
   "cell_type": "code",
   "execution_count": null,
   "metadata": {
    "collapsed": true,
    "purpose": "solution"
   },
   "outputs": [],
   "source": []
  },
  {
   "cell_type": "markdown",
   "metadata": {
    "purpose": "solution"
   },
   "source": [
    "*Provide your answer and reasoning in this Markdown cell.*"
   ]
  },
  {
   "cell_type": "markdown",
   "metadata": {},
   "source": [
    "Make sure you have saved your file before exporting to gradescope pdf!"
   ]
  },
  {
   "cell_type": "code",
   "execution_count": 3,
   "metadata": {
    "collapsed": true
   },
   "outputs": [],
   "source": [
    "I_saved_my_file = False"
   ]
  },
  {
   "cell_type": "code",
   "execution_count": 5,
   "metadata": {
    "collapsed": false
   },
   "outputs": [],
   "source": [
    "_ = autograder.grade('q1')"
   ]
  },
  {
   "cell_type": "code",
   "execution_count": null,
   "metadata": {
    "collapsed": false
   },
   "outputs": [],
   "source": [
    "# For your convenience, you can run this cell to run all the tests at once!\n",
    "import os\n",
    "_ = [autograder.grade(q[:-3]) for q in os.listdir(\"tests\") if q.startswith('q')]"
   ]
  },
  {
   "cell_type": "code",
   "execution_count": null,
   "metadata": {
    "collapsed": true
   },
   "outputs": [],
   "source": [
    "import gsExport\n",
    "gsExport.generateSubmission()"
   ]
  }
 ],
 "metadata": {
  "anaconda-cloud": {},
  "kernelspec": {
   "display_name": "Python 3",
   "language": "python",
   "name": "python3"
  },
  "language_info": {
   "codemirror_mode": {
    "name": "ipython",
    "version": 3
   },
   "file_extension": ".py",
   "mimetype": "text/x-python",
   "name": "python",
   "nbconvert_exporter": "python",
   "pygments_lexer": "ipython3",
   "version": "3.5.2"
  }
 },
 "nbformat": 4,
 "nbformat_minor": 2
}

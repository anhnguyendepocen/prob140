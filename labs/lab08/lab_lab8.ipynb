{
 "cells": [
  {
   "cell_type": "code",
   "execution_count": null,
   "metadata": {
    "collapsed": false,
    "deletable": true,
    "editable": true
   },
   "outputs": [],
   "source": [
    "from datascience import *\n",
    "from prob140 import *\n",
    "import numpy as np\n",
    "%matplotlib inline\n",
    "import matplotlib as mpl\n",
    "import matplotlib.pyplot as plt\n",
    "plt.style.use('fivethirtyeight')\n",
    "import pylab\n",
    "import math\n",
    "from scipy import stats\n",
    "from scipy import misc\n",
    "from client.api.assignment import load_assignment\n",
    "autograder = load_assignment('main.ok')"
   ]
  },
  {
   "cell_type": "code",
   "execution_count": null,
   "metadata": {
    "collapsed": true,
    "deletable": true,
    "editable": true
   },
   "outputs": [],
   "source": [
    "def Plot_binom(interval, n, p):\n",
    "    \"\"\"Interval is [a, b] for integers a and b.\"\"\"\n",
    "    left = math.ceil(interval[0])\n",
    "    right = math.floor(interval[1])\n",
    "    k = np.arange(left, right+1)\n",
    "    pp = stats.binom.pmf(k, n, p)\n",
    "    d = Table().with_columns(\n",
    "    'Value', k,\n",
    "    'Probability', pp)\n",
    "    Plot(d, edges=True)\n",
    "    plt.xlabel(\"number of successes\")\n",
    "    plt.title('Binomial ('+str(n)+', '+str(p)+')');"
   ]
  },
  {
   "cell_type": "code",
   "execution_count": null,
   "metadata": {
    "collapsed": false,
    "deletable": true,
    "editable": true
   },
   "outputs": [],
   "source": [
    "def Plot_binom_norm(interval, n, p):\n",
    "    mu = n*p\n",
    "    sigma = (n*p*(1-p))**0.5\n",
    "    left = interval[0]\n",
    "    right = interval[1]\n",
    "    d = (right-left)/100\n",
    "    x = np.arange(left, right+d, d)\n",
    "    y = 100*stats.norm.pdf(x, mu, sigma)\n",
    "    plt.ylim(0, np.max(y)+0.1)\n",
    "    Plot_binom(interval, n, p)\n",
    "    plt.plot(x, y, color='red', lw=2)\n",
    "    plt.fill_between(x, y, color='gold', alpha=0.6, zorder=2)"
   ]
  },
  {
   "cell_type": "code",
   "execution_count": null,
   "metadata": {
    "collapsed": true,
    "deletable": true,
    "editable": true
   },
   "outputs": [],
   "source": [
    "def Plot_binom_poisson(interval, n, p):\n",
    "    \"\"\"Interval is [a, b] for integers a and b.\"\"\"\n",
    "    left = math.ceil(interval[0])\n",
    "    right = math.floor(interval[1])\n",
    "    k = np.arange(left, right+1)\n",
    "    mu = n*p\n",
    "    p_binom = stats.binom.pmf(k, n, p)\n",
    "    p_poi = stats.poisson.pmf(k, mu)\n",
    "    d_binom = Table().with_columns(\n",
    "    'Value', k,\n",
    "    'Probability', p_binom)\n",
    "    d_poi = Table().with_columns(\n",
    "    'Value', k,\n",
    "    'Probability', p_poi)\n",
    "    Plots('Binomial', d_binom, 'Poisson', d_poi, edges=True)\n",
    "    plt.xlabel(\"number of successes\")\n",
    "    plt.title('Binomial ('+str(n)+', '+str(p)+')');"
   ]
  },
  {
   "cell_type": "markdown",
   "metadata": {
    "deletable": true,
    "editable": true
   },
   "source": [
    "# Lab 8: Binomial, Poisson, and Normal #\n",
    "You have two approximations for the binomial $(n, p)$ distribution.\n",
    "- For \"large\" $n$ and \"small\" $p$, the distribution is approximately Poisson.\n",
    "- For \"large $n$, the distribution is approximately normal.\n",
    "\n",
    "Those seem like contradictory statements, but they aren't. In this lab you will see why."
   ]
  },
  {
   "cell_type": "markdown",
   "metadata": {
    "deletable": true,
    "editable": true
   },
   "source": [
    "### Part 1. The Central Limit Theorem: Fixed $p$ ###\n",
    "\n",
    "Start with a distribution you approximated in Lab 2. Let $X_{100}$ have the binomial $(100, 0.01)$ distribution, and recall that $X_{100}$ is the sum of 100 i.i.d. indicators."
   ]
  },
  {
   "cell_type": "markdown",
   "metadata": {
    "deletable": true,
    "editable": true
   },
   "source": [
    "#### a) ####\n",
    "Let $X_{100}$ have the binomial $(100, 0.01)$ distribution. As a warmup, find $E(X_{100})$ and $SD(X_{100})$."
   ]
  },
  {
   "cell_type": "code",
   "execution_count": null,
   "metadata": {
    "collapsed": true,
    "deletable": true,
    "editable": true,
    "purpose": "solution"
   },
   "outputs": [],
   "source": [
    "ev = ...\n",
    "sd = ...\n",
    "ev, sd"
   ]
  },
  {
   "cell_type": "markdown",
   "metadata": {
    "deletable": true,
    "editable": true
   },
   "source": [
    "#### b) ####\n",
    "The function `Plot_binom` takes three arguments:\n",
    "- The interval over which to plot the binomial probabilities. The interval is entered as `[left_end, right_end]` and includes both endpoints.\n",
    "- n\n",
    "- p\n",
    "\n",
    "Plot the distribution of $X_{100}$ over all of its possible values."
   ]
  },
  {
   "cell_type": "markdown",
   "metadata": {
    "deletable": true,
    "editable": true
   },
   "source": [
    "Which distribution should be used to approximate the distribution of $X_1$: the normal or the Poisson? Provide the parameter or parameters of the approximating distribution."
   ]
  },
  {
   "cell_type": "markdown",
   "metadata": {
    "deletable": true,
    "editable": true
   },
   "source": [
    "#### c) ####\n",
    "Let $X_n$ have binomial $(n, 0.01)$ distribution. Then $X_n$ is the sum of $n$ i.i.d. indicators, each equal to 1 with probability 0.01. According to the Central Limit Theorem, for large enough $n$ the distribution of $X_n$ should be roughly normal. \n",
    "\n",
    "How big do you think $n$ should be? Answer this by plotting the distribution of $X_n$ for a selection of values of $n > 100$ (just experiment; you don't have to turn them all in). \n",
    "\n",
    "There is no single \"right\" answer to this question. Just make a judgment based on what you see in the histograms. Look for a bell shape but keep in mind that the tails will give trouble in any approximation; don't be too picky about the tails.\n",
    "\n",
    "Your answer should consist of just the plot of the distribution of $X_n$ for your choice of $n$. You can see from part (b) that it is not necessary to plot the histogram over the entire interval [0, 100]. Use an interval that makes it visually clear that your choice of $n$ makes sense."
   ]
  },
  {
   "cell_type": "code",
   "execution_count": null,
   "metadata": {
    "collapsed": true,
    "deletable": true,
    "editable": true,
    "purpose": "solution"
   },
   "outputs": [],
   "source": []
  },
  {
   "cell_type": "markdown",
   "metadata": {
    "deletable": true,
    "editable": true
   },
   "source": [
    "For your choice of $n$, what is $SD(X_n)$?"
   ]
  },
  {
   "cell_type": "code",
   "execution_count": null,
   "metadata": {
    "collapsed": true,
    "deletable": true,
    "editable": true,
    "purpose": "solution"
   },
   "outputs": [],
   "source": [
    "sd = ...\n",
    "sd"
   ]
  },
  {
   "cell_type": "markdown",
   "metadata": {
    "deletable": true,
    "editable": true
   },
   "source": [
    "### Part 2: Normal Approximation to the Binomial ###\n",
    "In this part you will develop a careful normal approximation to the binomial distribution."
   ]
  },
  {
   "cell_type": "markdown",
   "metadata": {
    "deletable": true,
    "editable": true
   },
   "source": [
    "#### a) ####\n",
    "Plot the binomial $(100, 0.5)$ distribution over all its possible values."
   ]
  },
  {
   "cell_type": "code",
   "execution_count": null,
   "metadata": {
    "collapsed": false,
    "deletable": true,
    "editable": true,
    "purpose": "solution"
   },
   "outputs": [],
   "source": [
    "Plot_binom(...)"
   ]
  },
  {
   "cell_type": "markdown",
   "metadata": {
    "deletable": true,
    "editable": true
   },
   "source": [
    "Find $\\mu$ and $\\sigma$ for the approximating normal curve."
   ]
  },
  {
   "cell_type": "code",
   "execution_count": null,
   "metadata": {
    "collapsed": true,
    "deletable": true,
    "editable": true,
    "purpose": "solution"
   },
   "outputs": [],
   "source": [
    "mu = ...\n",
    "sigma = ...\n",
    "mu, sigma"
   ]
  },
  {
   "cell_type": "markdown",
   "metadata": {
    "deletable": true,
    "editable": true
   },
   "source": [
    "#### b) ####\n",
    "The function `Plot_binom_norm` take the same arguments as `Plot_binom` and overlays a normal curve over the binomial histogram. The parameters of the normal curve are the mean and SD of the binomial.\n",
    "\n",
    "Use `Plot_binom_norm` to overlay the normal curve over the distribution you displayed in part (a)."
   ]
  },
  {
   "cell_type": "code",
   "execution_count": null,
   "metadata": {
    "collapsed": false,
    "deletable": true,
    "editable": true,
    "purpose": "solution"
   },
   "outputs": [],
   "source": [
    "Plot_binom_norm(...)"
   ]
  },
  {
   "cell_type": "markdown",
   "metadata": {
    "deletable": true,
    "editable": true
   },
   "source": [
    "#### c) ####\n",
    "Now zoom in. Plot the binomial $(100, 0.5)$ histogram over the interval [45, 55]."
   ]
  },
  {
   "cell_type": "code",
   "execution_count": null,
   "metadata": {
    "collapsed": false,
    "deletable": true,
    "editable": true,
    "purpose": "solution"
   },
   "outputs": [],
   "source": [
    "Plot_binom(...)"
   ]
  },
  {
   "cell_type": "markdown",
   "metadata": {
    "deletable": true,
    "editable": true
   },
   "source": [
    "Find the probability of the interval. You can use either the pmf or the cdf."
   ]
  },
  {
   "cell_type": "code",
   "execution_count": null,
   "metadata": {
    "collapsed": true,
    "deletable": true,
    "editable": true,
    "purpose": "solution"
   },
   "outputs": [],
   "source": []
  },
  {
   "cell_type": "markdown",
   "metadata": {
    "deletable": true,
    "editable": true
   },
   "source": [
    "#### d) ####\n",
    "The code in the cell below looks like a reasonable attempt to approximate the binomial probability above by the area under the corresponding normal curve. Run the cell."
   ]
  },
  {
   "cell_type": "code",
   "execution_count": null,
   "metadata": {
    "collapsed": false,
    "deletable": true,
    "editable": true
   },
   "outputs": [],
   "source": [
    "Plot_binom_norm([45, 55], 100, 0.5)"
   ]
  },
  {
   "cell_type": "markdown",
   "metadata": {
    "deletable": true,
    "editable": true
   },
   "source": [
    "You can see that the approximation will be off. In fact, it will be off by a a value very close to a binomial probability. The probability of what? Explain your answer and then calculate it."
   ]
  },
  {
   "cell_type": "code",
   "execution_count": null,
   "metadata": {
    "collapsed": false,
    "deletable": true,
    "editable": true,
    "purpose": "solution"
   },
   "outputs": [],
   "source": [
    "stats.binom.pmf(...)"
   ]
  },
  {
   "cell_type": "markdown",
   "metadata": {
    "deletable": true,
    "editable": true
   },
   "source": [
    "#### e) Continuity Correction ####\n",
    "The cell below shows a better approximation known as the *normal approximation with continuity correction*. The method corrects for the fact that a discrete histogram consisting of bars is being approxmated by a continuous curve."
   ]
  },
  {
   "cell_type": "code",
   "execution_count": null,
   "metadata": {
    "collapsed": false,
    "deletable": true,
    "editable": true
   },
   "outputs": [],
   "source": [
    "Plot_binom_norm([44.5, 55.5], 100, 0.5)"
   ]
  },
  {
   "cell_type": "markdown",
   "metadata": {
    "deletable": true,
    "editable": true
   },
   "source": [
    "Use `stats.norm.cdf` to find the gold area above. Remember that you have already calculated `mu` and `sigma`."
   ]
  },
  {
   "cell_type": "code",
   "execution_count": null,
   "metadata": {
    "collapsed": false,
    "deletable": true,
    "editable": true,
    "purpose": "solution"
   },
   "outputs": [],
   "source": []
  },
  {
   "cell_type": "markdown",
   "metadata": {
    "deletable": true,
    "editable": true
   },
   "source": [
    "Is this a good approximation to the exact probability you found in (c)?"
   ]
  },
  {
   "cell_type": "markdown",
   "metadata": {
    "deletable": true,
    "editable": true
   },
   "source": [
    "#### f) ####\n",
    "Find the exact probability of 50 heads in 100 tosses of a coin, as well as its normal approximation."
   ]
  },
  {
   "cell_type": "code",
   "execution_count": null,
   "metadata": {
    "collapsed": true,
    "deletable": true,
    "editable": true,
    "purpose": "solution"
   },
   "outputs": [],
   "source": [
    "exact = ...\n",
    "normal_approx = ...\n",
    "exact, normal_approx"
   ]
  },
  {
   "cell_type": "markdown",
   "metadata": {
    "deletable": true,
    "editable": true
   },
   "source": [
    "#### g) ####\n",
    "Find the exact probability of 45 heads in 100 tosses of a coin, as well as its normal approximation."
   ]
  },
  {
   "cell_type": "code",
   "execution_count": null,
   "metadata": {
    "collapsed": true,
    "deletable": true,
    "editable": true,
    "purpose": "solution"
   },
   "outputs": [],
   "source": [
    "exact = ...\n",
    "normal_approx = ...\n",
    "exact, normal_approx"
   ]
  },
  {
   "cell_type": "markdown",
   "metadata": {
    "deletable": true,
    "editable": true
   },
   "source": [
    "### Part 3 Normal Versus Poisson: Fixed $n$ and $p$ ###\n",
    "The function `Plot_binom_poisson` overlays the approximating Poisson histogram on a binomial histogram. As you have known for some time, the following is a good idea."
   ]
  },
  {
   "cell_type": "code",
   "execution_count": null,
   "metadata": {
    "collapsed": false,
    "deletable": true,
    "editable": true
   },
   "outputs": [],
   "source": [
    "Plot_binom_poisson([0, 10], 100, 0.01)"
   ]
  },
  {
   "cell_type": "markdown",
   "metadata": {
    "deletable": true,
    "editable": true
   },
   "source": [
    "Based on Part 1 you will agree that the following is a bad idea."
   ]
  },
  {
   "cell_type": "code",
   "execution_count": null,
   "metadata": {
    "collapsed": false,
    "deletable": true,
    "editable": true
   },
   "outputs": [],
   "source": [
    "Plot_binom_norm([-0.5, 10], 100, 0.01)"
   ]
  },
  {
   "cell_type": "markdown",
   "metadata": {
    "deletable": true,
    "editable": true
   },
   "source": [
    "In this part you will use total variation distance to quantify the distance between the binomial and each of its approximations."
   ]
  },
  {
   "cell_type": "markdown",
   "metadata": {
    "deletable": true,
    "editable": true
   },
   "source": [
    "#### a) ####\n",
    "Define a function `tvd_binom_poisson` that takes `n` and `p` as its arguments and returns the total variation distance between the binomial $(n, p)$ distribution and its approximating Poisson distribution."
   ]
  },
  {
   "cell_type": "code",
   "execution_count": null,
   "metadata": {
    "collapsed": true,
    "deletable": true,
    "editable": true,
    "purpose": "solution"
   },
   "outputs": [],
   "source": [
    "def tvd_binom_poisson(n, p):\n",
    "    return ..."
   ]
  },
  {
   "cell_type": "markdown",
   "metadata": {
    "deletable": true,
    "editable": true
   },
   "source": [
    "Use your function to find the total variation distance between the binomial $(100, 0.01)$ distribution and its approximating Poisson distribution."
   ]
  },
  {
   "cell_type": "code",
   "execution_count": null,
   "metadata": {
    "collapsed": true,
    "deletable": true,
    "editable": true,
    "purpose": "solution"
   },
   "outputs": [],
   "source": []
  },
  {
   "cell_type": "markdown",
   "metadata": {
    "deletable": true,
    "editable": true
   },
   "source": [
    "#### b) ####\n",
    "Define a function `tvd_binom_norm` that takes `n` and `p` as its arguments and returns the total variation distance between the binomial $(n, p)$ distribution and its normal approximation."
   ]
  },
  {
   "cell_type": "code",
   "execution_count": null,
   "metadata": {
    "collapsed": true,
    "deletable": true,
    "editable": true,
    "purpose": "solution"
   },
   "outputs": [],
   "source": [
    "def tvd_binom_norm(n, p):\n",
    "    return ..."
   ]
  },
  {
   "cell_type": "markdown",
   "metadata": {
    "deletable": true,
    "editable": true
   },
   "source": [
    "Use your function to find the total variation distance between the binomial $(100, 0.01)$ distribution and its normal approximation."
   ]
  },
  {
   "cell_type": "code",
   "execution_count": null,
   "metadata": {
    "collapsed": true,
    "deletable": true,
    "editable": true,
    "purpose": "solution"
   },
   "outputs": [],
   "source": []
  },
  {
   "cell_type": "markdown",
   "metadata": {
    "deletable": true,
    "editable": true
   },
   "source": [
    "#### c) ####\n",
    "Based on the TVDs you calculated in (a) and (b), which of the two approximations should be used for binomial $(100, 0.01)$?"
   ]
  },
  {
   "cell_type": "markdown",
   "metadata": {
    "collapsed": true,
    "deletable": true,
    "editable": true,
    "purpose": "solution"
   },
   "source": [
    "*Provide your answer and reasoning in this Markdown cell.*"
   ]
  },
  {
   "cell_type": "markdown",
   "metadata": {
    "deletable": true,
    "editable": true
   },
   "source": [
    "### Part 4. Normal Versus Poisson: Fixed $n$ ###"
   ]
  },
  {
   "cell_type": "markdown",
   "metadata": {
    "collapsed": true,
    "deletable": true,
    "editable": true
   },
   "source": [
    "#### a) ####\n",
    "When $n = 100$, for which $p$ should the normal approximation be in preference to the binomial? To answer this question, start by defining a function `tvd_100_binom_poisson` that takes `p` as its argument and returns the total variation distance between binomial $(100, p)$ and its Poisson approximation. Use the function `tvd_binom_poisson` you wrote in Part 3."
   ]
  },
  {
   "cell_type": "code",
   "execution_count": null,
   "metadata": {
    "collapsed": true,
    "deletable": true,
    "editable": true,
    "purpose": "solution"
   },
   "outputs": [],
   "source": [
    "def tvd_100_binom_poisson(p):\n",
    "    return ..."
   ]
  },
  {
   "cell_type": "markdown",
   "metadata": {
    "collapsed": true,
    "deletable": true,
    "editable": true
   },
   "source": [
    "Analogously, define `tvd_100_binom_norm` that takes `p` as its argument and returns the total variation distance between binomial $(100, p)$ and its normal approximation."
   ]
  },
  {
   "cell_type": "code",
   "execution_count": null,
   "metadata": {
    "collapsed": true,
    "deletable": true,
    "editable": true,
    "purpose": "solution"
   },
   "outputs": [],
   "source": [
    "def tvd_100_binom_norm(p):\n",
    "    return ..."
   ]
  },
  {
   "cell_type": "markdown",
   "metadata": {
    "collapsed": true,
    "deletable": true,
    "editable": true
   },
   "source": [
    "#### b) ####\n",
    "Run the cell below to create an array of values of $p$ and place it in the table `tvds`."
   ]
  },
  {
   "cell_type": "code",
   "execution_count": null,
   "metadata": {
    "collapsed": false,
    "deletable": true,
    "editable": true
   },
   "outputs": [],
   "source": [
    "p = np.arange(0.01, 0.251, 0.01)\n",
    "tvds = Table().with_column('p (n=100)', p)"
   ]
  },
  {
   "cell_type": "markdown",
   "metadata": {
    "deletable": true,
    "editable": true
   },
   "source": [
    "Use `apply` to augment `tvds` with a column `TVD Binomial Poisson` containing the total variation distance between binomial $(100, p)$ and its Poisson approximation, as well as a column `TVD Binomial Normal` with the TVD between binomial $(100, p)$ and its normal approximation. Display the table `tvds`."
   ]
  },
  {
   "cell_type": "code",
   "execution_count": null,
   "metadata": {
    "collapsed": true,
    "deletable": true,
    "editable": true,
    "purpose": "solution"
   },
   "outputs": [],
   "source": [
    "tvds = ...\n",
    "tvds"
   ]
  },
  {
   "cell_type": "markdown",
   "metadata": {
    "deletable": true,
    "editable": true
   },
   "source": [
    "#### c) ####\n",
    "Recall that the Table method `plot` when called by `tbl.plot(column_label)` displays a line plot of all the other columns of `tbl` versus `column_label`. Use `plot` to overlay line plots of the two columns of TVDs versus the column of values of $p$."
   ]
  },
  {
   "cell_type": "code",
   "execution_count": null,
   "metadata": {
    "collapsed": false,
    "deletable": true,
    "editable": true
   },
   "outputs": [],
   "source": [
    "tvds.plot(0)"
   ]
  },
  {
   "cell_type": "markdown",
   "metadata": {
    "deletable": true,
    "editable": true
   },
   "source": [
    "The rule of thumb \"$\\sigma > 3$\" is sometimes given as a criterion to choose the normal over the Poisson approximation to the binomial. Does it seem reasonable based on your graphs? Calculate some relevant SDs and then say whether the rule of thumb seems OK for $n = 100$."
   ]
  },
  {
   "cell_type": "markdown",
   "metadata": {
    "deletable": true,
    "editable": true,
    "purpose": "solution"
   },
   "source": [
    "*Provide your answer and reasoning in this Markdown cell.*"
   ]
  },
  {
   "cell_type": "markdown",
   "metadata": {
    "deletable": true,
    "editable": true
   },
   "source": [
    "#### d) ####\n",
    "Another rule of thumb that is sometimes given to choose the normal approximation over the Poisson is \"$np$ and $n(1-p)$ both bigger than 10\". Compare the two rules of thumb: are they very different? Keep in mind that the only situation in which you will be wondering which approximation to use is when the Poisson approximation might be valid."
   ]
  },
  {
   "cell_type": "markdown",
   "metadata": {
    "deletable": true,
    "editable": true,
    "purpose": "solution"
   },
   "source": [
    "*Provide your answer and reasoning in this Markdown cell.*"
   ]
  },
  {
   "cell_type": "markdown",
   "metadata": {
    "deletable": true,
    "editable": true
   },
   "source": [
    "#### e) ####\n",
    "Repeat the plot above for $n = 200$ and comment on the rule of thumb. Keep in mind that where the two graphs are close, the approximations about about equally good or equally bad."
   ]
  },
  {
   "cell_type": "code",
   "execution_count": null,
   "metadata": {
    "collapsed": true,
    "deletable": true,
    "editable": true,
    "purpose": "solution"
   },
   "outputs": [],
   "source": []
  },
  {
   "cell_type": "markdown",
   "metadata": {
    "deletable": true,
    "editable": true
   },
   "source": [
    "#### f) #### \n",
    "\n",
    "Let's examine the contour plot of ``n`` and ``p`` on the difference between the TVDs for the Normal and Poisson approximations on the Binomial. Run the cell below which creates the corresponding contour plot for ``tvd_binom_poisson(n,p) - tvd_binom_norm(n, p)`` as a function of varying ``n`` from 30 to 200 and ``p`` from 0.001 to 0.50. Positive differences in the contour plot are in favor of the Normal versus the Poisson approximation to the Binomial. \n",
    "\n",
    "\n",
    "We overlay the curve where $\\sigma = sqrt(npq) = 3$ in bold black."
   ]
  },
  {
   "cell_type": "code",
   "execution_count": null,
   "metadata": {
    "collapsed": false,
    "deletable": true,
    "editable": true
   },
   "outputs": [],
   "source": [
    "delta1 = 10\n",
    "delta2 = 0.01\n",
    "n = np.arange(30, 210, delta1)\n",
    "p = np.arange(0.001, 0.501, delta2)\n",
    "P, N = np.meshgrid(p, n)\n",
    "Z = [[tvd_binom_poisson(x, y) - tvd_binom_norm(x,y) for x,y in zip(N[i], P[i])] for i in np.arange(0, len(N))]\n",
    "sigma = [[np.sqrt(x*y*(1-y)) for x,y in zip(N[i], P[i])] for i in np.arange(0, len(N))]\n",
    "#PLOTS CONTOUR\n",
    "plt.figure()\n",
    "levels = np.array([-0.06, -0.015, -0.01, 0, 0.01, 0.02, 0.05,  0.08, 0.10, 0.15, 0.20])\n",
    "TVD = plt.contour(N, P, Z, levels, linewidths=0.5, colors = 'blue')\n",
    "sigma = plt.contour(N, P , sigma, make_array(3), linewidths=1, colors = 'black')\n",
    "plt.clabel(TVD, inline=1, fontsize=10, )\n",
    "plt.clabel(sigma, inline=1, fontsize=10)\n",
    "plt.title('Difference between TVD as function of N, P ')"
   ]
  },
  {
   "cell_type": "markdown",
   "metadata": {
    "deletable": true,
    "editable": true
   },
   "source": [
    "Based on this graph does the rule of thumb \"$\\sigma > 3$\" to choose the normal hold for n and p in general. If so, for what values of n an p does this seem to hold and where does it seem to fail?"
   ]
  },
  {
   "cell_type": "markdown",
   "metadata": {
    "deletable": true,
    "editable": true,
    "purpose": "solution"
   },
   "source": [
    "*Provide your answer and reasoning in this Markdown cell.*"
   ]
  },
  {
   "cell_type": "code",
   "execution_count": null,
   "metadata": {
    "collapsed": false,
    "deletable": true,
    "editable": true
   },
   "outputs": [],
   "source": [
    "_ = autograder.grade('q1')"
   ]
  },
  {
   "cell_type": "markdown",
   "metadata": {
    "deletable": true,
    "editable": true
   },
   "source": [
    "### Extra Credit : Understanding Total Variation Distance ###\n",
    "We are going to compare two probability distributions $P_{blue}$ and $P_{gold}$ on a finite set of values $S$. Suppose the values are labeled $1, 2, \\ldots, n$. \n",
    "\n",
    "The *total variation distance between $P_{blue}$ and $P_{gold}$* is defined as\n",
    "\n",
    "$$\n",
    "\\| P_{blue} - P_{gold}\\|_{TVD} ~ = ~\n",
    "\\max\\{ \\lvert P_{blue}(A) - P_{gold}(A) \\rvert : A \\subseteq S\\}\n",
    "$$\n",
    "\n",
    "The definition says: For every event $A$, compute how far off $P_{blue}(A)$ is from $P_{gold}(A)$. The tvd is the biggest among all these differences.\n",
    "\n",
    "That doesn't look at all like what we have been calculating as the TVD starting way back in Data 8. But in fact it's the same thing. In these exercises you will show how. \n",
    "\n",
    "Before you get started, confirm your understanding of the definition. Suppose you calculate the TVD between two distributions and get 0.003. That says that if you list all possible events and compare their probabilities under the two distributions, the biggest difference you will get is 3/1000. The two distributions are pretty close. \n",
    "\n",
    "The goal of these exercises is to show that this new definition of TVD is equivalent to the calculation we have been doing all along. Let's start by setting up some notation. For each $i$ in $S$, let $P_{blue}(i) = b_i$ and let $P_{gold}(i) = g_i$. If you imagine a bar graph or histogram of each distribution, then $b_i$ is the size of the blue bar at $i$, and $g_i$ is the size of the gold bar at $i$.\n",
    "\n",
    "In this notation, our familiar calculation of the TVD is\n",
    "\n",
    "$$\n",
    "\\frac{1}{2} \\sum_{i \\in S} \\lvert b_i - g_i \\rvert\n",
    "$$\n",
    "\n",
    "In these exercises you will show that \n",
    "\n",
    "$$\n",
    "\\max\\{ \\lvert P_{blue}(A) - P_{gold}(A) \\rvert : A \\subseteq S\\} ~ = ~ \n",
    "\\frac{1}{2} \\sum_{i \\in S} \\lvert b_i - g_i \\rvert\n",
    "$$\n",
    "\n",
    "Three events will be important in the calculations.\n",
    "\n",
    "The set of values for which the blue bars exceed the gold:\n",
    "$$\n",
    "B = \\{i: b_i > g_i\\}\n",
    "$$\n",
    "\n",
    "The set of values for which the gold bars exceed the blue:\n",
    "$$\n",
    "G = \\{i: g_i > b_i\\}\n",
    "$$\n",
    "\n",
    "The set of values for which the blue bars and gold bars are equal:\n",
    "$$\n",
    "E = \\{i: b_i = g_i\\}\n",
    "$$\n",
    "\n",
    "Keep in mind that for any event $A$,\n",
    "$$\n",
    "P_{blue}(A) = \\sum_{i \\in A} b_i ~~~~~~~ \\text{and} ~~~~~~~\n",
    "P_{gold}(A) = \\sum_{i \\in A} g_i\n",
    "$$"
   ]
  },
  {
   "cell_type": "markdown",
   "metadata": {
    "deletable": true,
    "editable": true
   },
   "source": [
    "#### a) ####\n",
    "Find the value of\n",
    "$$\n",
    "\\sum_{i \\in B} b_i ~ + ~ \n",
    "\\sum_{i \\in G} b_i ~ + ~ \n",
    "\\sum_{i \\in E} b_i \n",
    "$$\n",
    "\n",
    "Repeat the calculation after replacing $b_i$ by $g_i$ in all three sums above.\n",
    "\n",
    "Hence show that\n",
    "$$\n",
    "\\sum_{i \\in B} (b_i - g_i) ~ = ~ \\sum_{i \\in G} (g_i - b_i)\n",
    "$$\n",
    "\n",
    "This proves a statement we have made in Data 8 and Prob140: \"The amount by which the blue bars exceed the gold is the same as the amount by which the gold bars exceed the blue.\" "
   ]
  },
  {
   "cell_type": "markdown",
   "metadata": {
    "deletable": true,
    "editable": true,
    "purpose": "solution"
   },
   "source": [
    "*Provide your answer and reasoning in this Markdown cell.*"
   ]
  },
  {
   "cell_type": "markdown",
   "metadata": {
    "deletable": true,
    "editable": true
   },
   "source": [
    "#### b) ####\n",
    "Our usual calculation of the TVD is\n",
    "$$\n",
    "\\frac{1}{2} \\sum_{i \\in S} \\lvert b_i - g_i \\rvert\n",
    "$$\n",
    "\n",
    "Partition the sum into two pieces to show that\n",
    "\n",
    "$$\n",
    "\\frac{1}{2} \\sum_{i \\in S} \\lvert b_i - g_i \\rvert ~ = ~\n",
    "\\sum_{i \\in B} (b_i - g_i) ~ = ~ \\sum_{i \\in G} (g_i - b_i)\n",
    "$$\n",
    "\n",
    "This proves another statement we made in Data 8: \"The TVD is the amount by which the blue bars exceed the gold.\""
   ]
  },
  {
   "cell_type": "markdown",
   "metadata": {
    "deletable": true,
    "editable": true,
    "purpose": "solution"
   },
   "source": [
    "*Provide your answer and reasoning in this Markdown cell.*"
   ]
  },
  {
   "cell_type": "markdown",
   "metadata": {
    "deletable": true,
    "editable": true
   },
   "source": [
    "#### c) ####\n",
    "Now let $A$ be any event. Show that \n",
    "$$\n",
    "P_{blue}(A) - P_{gold}(A) ~ = ~ \n",
    "\\sum_{i \\in AB} (b_i - g_i) ~ - ~ \\sum_{i \\in AG} (g_i - b_i)\n",
    "$$\n",
    "\n",
    "Hence show that\n",
    "$$\n",
    "P_{blue}(A) - P_{gold}(A) ~ \\le ~ \n",
    "\\sum_{i \\in AB} (b_i - g_i) ~~~~~~ \\text{and} ~~~~~~\n",
    "P_{gold}(A) - P_{blue}(A) ~ \\le ~ \n",
    "\\sum_{i \\in AG} (g_i - b_i)\n",
    "$$"
   ]
  },
  {
   "cell_type": "markdown",
   "metadata": {
    "deletable": true,
    "editable": true,
    "purpose": "solution"
   },
   "source": [
    "*Provide your answer and reasoning in this Markdown cell.*"
   ]
  },
  {
   "cell_type": "markdown",
   "metadata": {
    "deletable": true,
    "editable": true
   },
   "source": [
    "#### d) ####\n",
    "Use the first of the two inequalities in (c) to show that if $P_{blue}(A) - P_{gold}(A) > 0$ then\n",
    "\n",
    "$$\n",
    "\\lvert P_{blue}(A) - P_{gold}(A) \\rvert ~ \\le ~ \\sum_{i \\in B} (b_i - g_i)\n",
    "$$\n",
    "\n",
    "Use the second of the two inequalities in (c) to show that if $P_{blue}(A) - P_{gold}(A) < 0$ then\n",
    "\n",
    "$$\n",
    "\\lvert P_{blue}(A) - P_{gold}(A) \\rvert ~ \\le ~ \\sum_{i \\in G} (g_i - b_i)\n",
    "$$"
   ]
  },
  {
   "cell_type": "markdown",
   "metadata": {
    "deletable": true,
    "editable": true,
    "purpose": "solution"
   },
   "source": [
    "*Provide your answer and reasoning in this Markdown cell.*"
   ]
  },
  {
   "cell_type": "markdown",
   "metadata": {
    "deletable": true,
    "editable": true
   },
   "source": [
    "#### e) ####\n",
    "Identify an event for which one of the inequalities in (d) is an equality.\n",
    "\n",
    "Explain why you now have a complete proof of\n",
    "\n",
    "$$\n",
    "\\max\\{ \\lvert P_{blue}(A) - P_{gold}(A) \\rvert : A \\subseteq S\\} ~ = ~ \n",
    "\\frac{1}{2} \\sum_{i \\in S} \\lvert b_i - g_i \\rvert\n",
    "$$\n",
    "\n",
    "That is, our usual calculation of the TVD is equivalent to finding the biggest difference between probabilities assigned by the two distributions to any event."
   ]
  },
  {
   "cell_type": "markdown",
   "metadata": {
    "collapsed": true,
    "deletable": true,
    "editable": true,
    "purpose": "solution"
   },
   "source": [
    "*Provide your answer and reasoning in this Markdown cell.*"
   ]
  },
  {
   "cell_type": "code",
   "execution_count": null,
   "metadata": {
    "collapsed": false,
    "deletable": true,
    "editable": true
   },
   "outputs": [],
   "source": [
    "# For your convenience, you can run this cell to run all the tests at once!\n",
    "import os\n",
    "_ = [autograder.grade(q[:-3]) for q in os.listdir(\"tests\") if q.startswith('q')]"
   ]
  },
  {
   "cell_type": "code",
   "execution_count": null,
   "metadata": {
    "collapsed": false,
    "deletable": true,
    "editable": true
   },
   "outputs": [],
   "source": [
    "import gsExport\n",
    "gsExport.generateSubmission()"
   ]
  }
 ],
 "metadata": {
  "anaconda-cloud": {},
  "kernelspec": {
   "display_name": "Python 3",
   "language": "python",
   "name": "python3"
  },
  "language_info": {
   "codemirror_mode": {
    "name": "ipython",
    "version": 3
   },
   "file_extension": ".py",
   "mimetype": "text/x-python",
   "name": "python",
   "nbconvert_exporter": "python",
   "pygments_lexer": "ipython3",
   "version": "3.5.2"
  }
 },
 "nbformat": 4,
 "nbformat_minor": 0
}

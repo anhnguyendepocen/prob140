{
 "cells": [
  {
   "cell_type": "code",
   "execution_count": 1,
   "metadata": {
    "collapsed": false,
    "scrolled": true,
    "specialcell_type": "setup"
   },
   "outputs": [],
   "source": [
    "# SETUP\n",
    "\n",
    "# These lines import the Numpy and Datascience modules.\n",
    "import numpy as np\n",
    "from datascience import *\n",
    "from prob140 import *\n",
    "\n",
    "# These lines do some fancy plotting magic\n",
    "import matplotlib\n",
    "%matplotlib inline\n",
    "import matplotlib.pyplot as plt\n",
    "plt.style.use('fivethirtyeight')\n",
    "import warnings\n",
    "warnings.simplefilter('ignore', FutureWarning)\n",
    "from client.api.assignment import load_assignment\n",
    "autograder = load_assignment('main.ok')"
   ]
  },
  {
   "cell_type": "markdown",
   "metadata": {},
   "source": [
    "# Probability 140 -- Lab 1: The Birthday Problem, Remastered "
   ]
  },
  {
   "cell_type": "markdown",
   "metadata": {},
   "source": [
    "## Introduction"
   ]
  },
  {
   "cell_type": "markdown",
   "metadata": {},
   "source": [
    "In class, we discussed the classical [birthday problem](https://textbook.prob140.org/ch1/Birthday_Problem.html). \n",
    "\n",
    "This lab will be concerned with finding the probability distribution of the number of people until the first and second matching birthdays in a group of N people. The coding exercises in this lab are not hard. The focus in this lab is writing probability functions by inspecting sequences of events. We'll be using the `Prob140` library, which is an extension of the datascience library. You can find tutorials and [documentation here](http://probability.gitlab.io/prob140/html/)\n",
    "\n",
    "We start with a relevant code review from the datascience library (optional). We will then move on to a small example, and then to a larger outcome space.\n",
    "\n",
    "Read through the following code and make sure you understand what each cell does. This will be review: consider it a memory jogger. If you have trouble please consult staff or the lab instructor [datascience documentation](http://data8.org/datascience/tables.html). \n",
    "\n",
    "Since we will be manipulating numpy arrays throughout this lab, you may want to refer to [Section 4.4 of the Data8 textbook](https://www.inferentialthinking.com/chapters/04/4/arrays.html) to review functions involving arrays.\n",
    "\n",
    "You may also find `np.append()` useful:\n",
    "\n",
    "```python\n",
    ">>> np.append(1, np.array([2, 3, 4]))\n",
    "array([1, 2, 3, 4])\n",
    "```"
   ]
  },
  {
   "cell_type": "markdown",
   "metadata": {},
   "source": [
    "## A Die Example "
   ]
  },
  {
   "cell_type": "markdown",
   "metadata": {},
   "source": [
    "We will walk through a die example that is closely related to the birthday problem. Keep that in mind when reading this section. Elements of this example will help you with the calculations in Part 1 and Part 2.\n",
    "\n",
    "In this section, we will also familiarize ourselves with the [prob140 library](https://probability.gitlab.io/prob140/html/).\n",
    "\n",
    "Imagine we have a six-sided die, and we roll until we witness our first repeat; then we stop. We want to know how long we will have to wait until we observe the first repeated side.\n",
    "\n",
    "Let $X = \\text{number of rolls until the first repeated side appears} $. \n",
    "\n",
    "For example, if the sequence is 24134, then $X = 5$.\n",
    "\n",
    "We will find the probability distribution of X, as follows."
   ]
  },
  {
   "cell_type": "markdown",
   "metadata": {},
   "source": [
    "&zwnj;\n",
    "### Question I.1\n",
    "\n",
    "When working with a random variable, its best practice to be aqcuianted with its possible values (its range). What are the possible values for X in terms of N? Instantiate the array `my_values` using `np.arange`"
   ]
  },
  {
   "cell_type": "code",
   "execution_count": 3,
   "metadata": {
    "collapsed": true,
    "purpose": "solution"
   },
   "outputs": [],
   "source": [
    "N = 6\n",
    "my_values = ..."
   ]
  },
  {
   "cell_type": "code",
   "execution_count": 5,
   "metadata": {
    "collapsed": true
   },
   "outputs": [],
   "source": [
    "_ = autograder.grade('q1')"
   ]
  },
  {
   "cell_type": "markdown",
   "metadata": {},
   "source": [
    "Below we start a new probability distribution, ``dist_X``, to begin inspection of the probability distribution of the number of times we roll until we stop."
   ]
  },
  {
   "cell_type": "code",
   "execution_count": 5,
   "metadata": {
    "collapsed": false
   },
   "outputs": [],
   "source": [
    "dist_X = Table().with_column('n', my_values)"
   ]
  },
  {
   "cell_type": "markdown",
   "metadata": {
    "purpose": "solution"
   },
   "source": [
    "\n",
    "### Question I.2"
   ]
  },
  {
   "cell_type": "markdown",
   "metadata": {},
   "source": [
    "\n",
    "With the possible values of $X$ in mind, we need a way to calculate the distribution of the first roll such that we see a repeated side. \n",
    "\n",
    "One way to do this, as seen in discussion, is to subtract \"tail probabilities\" to find the desired probability distribution.  \n",
    "\n",
    "We can do this with the following formula:\n",
    "\n",
    "$P(X = k) = P(X > k-1) - P(X > k)$\n",
    "\n",
    "That is, the probability of the first repeated side on the $k$th roll is the probability that the first repeated side occurs after the $(k-1)$th roll minus the the probability of the first repeat occurring after the $k$th roll. \n",
    "\n",
    "The following function ``no_matches`` returns the probability that there are no repeated faces in $k$ rolls of the die. The value returned by ``no_matches`` is equal to $P(X > k)$, since no matches in $k$ rolls means that the first match must occur after the $k$th roll. "
   ]
  },
  {
   "cell_type": "code",
   "execution_count": 7,
   "metadata": {
    "collapsed": false,
    "purpose": "solution"
   },
   "outputs": [],
   "source": [
    "lower_bound = ...\n",
    "upper_bound = ...\n",
    "\n",
    "def no_matches(k):\n",
    "    if k >= lower_bound and k < upper_bound:\n",
    "        return np.prod(np.arange(N, N - k, -1) / N)\n",
    "    else:\n",
    "        return 0"
   ]
  },
  {
   "cell_type": "code",
   "execution_count": 9,
   "metadata": {
    "collapsed": false
   },
   "outputs": [],
   "source": [
    "_ = autograder.grade('q2')"
   ]
  },
  {
   "cell_type": "markdown",
   "metadata": {
    "purpose": "solution"
   },
   "source": [
    "\n",
    "### Question I.3\n",
    "In order to find $P(X = k)$, We need an array of the probabilities $P(X > k)$ for $k = 2 \\cdots 7$. \n",
    "\n",
    "Let's calculate a $P(X = 2)$ and $P(X = 3)$ without using our defined function."
   ]
  },
  {
   "cell_type": "code",
   "execution_count": 10,
   "metadata": {
    "collapsed": false,
    "purpose": "solution"
   },
   "outputs": [],
   "source": [
    "p_x_2 = (N / N) * (1 / N)\n",
    "p_x_3 = ...\n",
    "print(\"Probability of first repeat on 2nd and 3rd rolls, respectively is:\", p_x_2, p_x_3)"
   ]
  },
  {
   "cell_type": "markdown",
   "metadata": {},
   "source": [
    "\n",
    "We have the table ``dist_X`` with the possible values of $X$. To apply ``no_matches`` across the column, we use the `apply` function, which returns an array of the values of ``no_matches`` across all possible values of $X$. Verify that the first couple of values of ``first repeat`` correspond to those found in I.3. "
   ]
  },
  {
   "cell_type": "code",
   "execution_count": 12,
   "metadata": {
    "collapsed": true
   },
   "outputs": [],
   "source": [
    "def p_first_match(p_different):\n",
    "    return -1 * np.diff(np.append(1, p_different))"
   ]
  },
  {
   "cell_type": "code",
   "execution_count": 13,
   "metadata": {
    "collapsed": false
   },
   "outputs": [],
   "source": [
    "different = dist_X.apply(no_matches, 'n')\n",
    "\n",
    "first_repeat = p_first_match(different)\n",
    "\n",
    "dist_X = dist_X.with_column('P(X = n)', first_repeat)\n",
    "dist_X"
   ]
  },
  {
   "cell_type": "markdown",
   "metadata": {},
   "source": [
    "### Using The Prob140 library "
   ]
  },
  {
   "cell_type": "markdown",
   "metadata": {},
   "source": [
    "Using the prob140 library we could have done this in one line of code:"
   ]
  },
  {
   "cell_type": "code",
   "execution_count": 14,
   "metadata": {
    "collapsed": false
   },
   "outputs": [],
   "source": [
    "dist = Table().values(my_values).probability(first_repeat)"
   ]
  },
  {
   "cell_type": "markdown",
   "metadata": {},
   "source": [
    "Let's break this down:\n",
    "\n",
    "1. Table() -- creates a new Table object.\n",
    "2. values(my_values) -- populates Table with column ``Value`` with my_values.\n",
    "3. probability(first_repeat) -- inserts array of values ``Probability``."
   ]
  },
  {
   "cell_type": "markdown",
   "metadata": {},
   "source": [
    "Run the cell below and see for yourself that ``dist`` and ``dist_X`` are equivalent"
   ]
  },
  {
   "cell_type": "code",
   "execution_count": 15,
   "metadata": {
    "collapsed": false
   },
   "outputs": [],
   "source": [
    "dist"
   ]
  },
  {
   "cell_type": "markdown",
   "metadata": {},
   "source": [
    "Run the cell below, which uses out ``Plot`` method. Plot formats the bins automatically! No need for the ``hist`` method, here."
   ]
  },
  {
   "cell_type": "code",
   "execution_count": 16,
   "metadata": {
    "collapsed": false
   },
   "outputs": [],
   "source": [
    "Plot(dist_X)"
   ]
  },
  {
   "cell_type": "markdown",
   "metadata": {},
   "source": [
    "## A Host's Guide to the Birthday Problem"
   ]
  },
  {
   "cell_type": "markdown",
   "metadata": {},
   "source": [
    "Imagine you are hosting a large birthday party for your friend. You expect at least 400 people to attend because you're really popular and made a lot of friends in Prob140. \n",
    "\n",
    "Suppose your job is to greet the guests at the door and record their birthdays. Unlike before, we will approach the Birthday Problem as if people and their birthdays arrive to us in sequence, like faces of a die in a sequence of rolls.\n",
    "\n",
    "Let $M_1$ denote the ``hitting time`` of the first matching birthday among the guests who have arrived, ignoring your friend's birthday and your own. That is, $M_1$ is how many people you greet at the door until (and including) the first person with a birthday you recorded earlier. \n",
    "\n",
    "Note the similarities between this and the die example."
   ]
  },
  {
   "cell_type": "markdown",
   "metadata": {},
   "source": [
    "&zwnj;\n",
    "\n",
    "## Part 1\n",
    "\n",
    "We will investigate the distribution of the $M_1$, the trial on which we have the first match. \n",
    "\n"
   ]
  },
  {
   "cell_type": "markdown",
   "metadata": {},
   "source": [
    "### Question 1.1\n",
    "\n",
    "Using `np.arange`, create an array `m1_values` that contains the values of $M_1$."
   ]
  },
  {
   "cell_type": "code",
   "execution_count": 17,
   "metadata": {
    "collapsed": true,
    "purpose": "solution"
   },
   "outputs": [],
   "source": [
    "N = 365\n",
    "m1_values = ..."
   ]
  },
  {
   "cell_type": "code",
   "execution_count": 19,
   "metadata": {
    "collapsed": false
   },
   "outputs": [],
   "source": [
    "_ = autograder.grade('q3')"
   ]
  },
  {
   "cell_type": "markdown",
   "metadata": {},
   "source": [
    "In the following cell, start a new probability distribution with the possible values defined above. Make sure the table looks how you expected.\n",
    "\n",
    "Note that when calling the `prob140` functions `.values()` and `.probability()`, you don't need to call them together at the same time."
   ]
  },
  {
   "cell_type": "code",
   "execution_count": 9,
   "metadata": {
    "collapsed": false,
    "purpose": "solution"
   },
   "outputs": [],
   "source": [
    "match1 = ...\n",
    "match1"
   ]
  },
  {
   "cell_type": "markdown",
   "metadata": {},
   "source": [
    "&zwnj;\n",
    "\n",
    "### Question 1.2\n",
    "\n",
    "Compute $P(M_1=2)$ and $P(M_1=3)$"
   ]
  },
  {
   "cell_type": "code",
   "execution_count": 22,
   "metadata": {
    "collapsed": false,
    "purpose": "solution"
   },
   "outputs": [],
   "source": [
    "p_m1_2 = ...\n",
    "p_m1_3 = ...\n",
    "print(\"Probability of first match is at second person\", p_m1_2)\n",
    "print(\"Probability of first match is at third person\", p_m1_3)"
   ]
  },
  {
   "cell_type": "code",
   "execution_count": 24,
   "metadata": {
    "collapsed": false
   },
   "outputs": [],
   "source": [
    "_ = autograder.grade('q4')"
   ]
  },
  {
   "cell_type": "markdown",
   "metadata": {
    "purpose": "solution"
   },
   "source": [
    "\n",
    "### Question 1.3\n",
    "\n",
    "Create an array `first_match` that contains the probabilities $P(M_1=k)$ for all $k$ over the possible values specified in 1.1. When you are finished, you should see the values you calculated in 1.2.\n",
    "\n",
    "You should follow the steps you did in I.2 and I.3. Don't forget about `p_first_match`!"
   ]
  },
  {
   "cell_type": "code",
   "execution_count": 25,
   "metadata": {
    "collapsed": true,
    "purpose": "solution"
   },
   "outputs": [],
   "source": [
    "def no_matches(k):\n",
    "    return ...\n",
    "different = ...\n",
    "\n",
    "first_match = ..."
   ]
  },
  {
   "cell_type": "code",
   "execution_count": 27,
   "metadata": {
    "collapsed": false
   },
   "outputs": [],
   "source": [
    "_ = autograder.grade('q5')"
   ]
  },
  {
   "cell_type": "markdown",
   "metadata": {},
   "source": [
    "Now run the cell below to see the first 10 elements of `first_match`. Make sure you see the values of `p_m1_2` and `p_m1_3` that you calculated in Question 1.2"
   ]
  },
  {
   "cell_type": "code",
   "execution_count": 28,
   "metadata": {
    "collapsed": false
   },
   "outputs": [],
   "source": [
    "first_match[:10]"
   ]
  },
  {
   "cell_type": "markdown",
   "metadata": {},
   "source": [
    "&zwnj;\n",
    "\n",
    "### Question 1.4\n",
    "\n",
    "Using the prob140 library, add the probabilites of ``first_match`` to the probability distribution ``match 1``. Make sure ``first_match`` and ``match1`` have the same number of values. Check that the first few values correspond to your answers in 1.2."
   ]
  },
  {
   "cell_type": "code",
   "execution_count": 29,
   "metadata": {
    "collapsed": false,
    "purpose": "solution"
   },
   "outputs": [],
   "source": [
    "match1 = ...\n",
    "match1"
   ]
  },
  {
   "cell_type": "markdown",
   "metadata": {},
   "source": [
    "Finally, plot ``match1`` in the cell below."
   ]
  },
  {
   "cell_type": "code",
   "execution_count": 31,
   "metadata": {
    "collapsed": false,
    "purpose": "solution"
   },
   "outputs": [],
   "source": [
    "####\n",
    "# Your code here\n",
    "####\n",
    "\n",
    "# This sets the limits of the x-axis\n",
    "# Feel free to play around with the values\n",
    "plt.xlim(0, 100);"
   ]
  },
  {
   "cell_type": "markdown",
   "metadata": {},
   "source": [
    "&zwnj;\n",
    "\n",
    "## Part 2\n",
    "\n",
    "After your calculations in Part 1, you become curious about the second match.\n",
    "\n",
    "Let $M_2$ be the number of guests you greet until your second match."
   ]
  },
  {
   "cell_type": "markdown",
   "metadata": {
    "purpose": "solution"
   },
   "source": [
    "\n",
    "### Question 2.1\n",
    "\n",
    "Analogously to what you did before, let `m2_values` represent the possible values of $M_2$. Use `np.arange` in terms of $N$"
   ]
  },
  {
   "cell_type": "code",
   "execution_count": 33,
   "metadata": {
    "collapsed": true,
    "purpose": "solution"
   },
   "outputs": [],
   "source": [
    "m2_values = ..."
   ]
  },
  {
   "cell_type": "code",
   "execution_count": 35,
   "metadata": {
    "collapsed": true
   },
   "outputs": [],
   "source": [
    "_ = autograder.grade('q6')"
   ]
  },
  {
   "cell_type": "markdown",
   "metadata": {},
   "source": [
    "In lecture yesterday, we learned about joint distributions. For every pair of values of two random variables X and Y, the joint distribution of X and Y contains the probability of X and Y taking on those values.\n",
    "\n",
    "If we can find the joint distribution of the first match and the second match, we can calculate the distribution of the second match by taking the marginal distribution of the second match.\n",
    "\n"
   ]
  },
  {
   "cell_type": "markdown",
   "metadata": {
    "purpose": "solution"
   },
   "source": [
    "\n",
    "### Question 2.2a\n",
    "\n",
    "Explicitly calculate the probability that $M_1 = 2$ and $M_2 = 4$\n"
   ]
  },
  {
   "cell_type": "markdown",
   "metadata": {
    "purpose": "solution"
   },
   "source": [
    "*Provide your answer and reasoning in this Markdown cell.*"
   ]
  },
  {
   "cell_type": "markdown",
   "metadata": {},
   "source": [
    "\n",
    "#QUESTION\n",
    "\n",
    "### Question 2.2b\n",
    "Define a function `joint_func` that takes in `m1` and `m2` and returns the probability of the first match being at m1 and the second match being at m2. Think about what values are impossible and thus have a probability of zero. There's some start code, but you don't have to use it.\n",
    "\n",
    "Don't try writing the code for this right away. Use a notebook and pencil first!\n",
    "\n",
    "Tip: Test your function by passing in values of `m1` and `m2` that you know"
   ]
  },
  {
   "cell_type": "code",
   "execution_count": 36,
   "metadata": {
    "collapsed": true,
    "purpose": "solution"
   },
   "outputs": [],
   "source": [
    "\n",
    "def joint_func(m1, m2):\n",
    "    \n",
    "    if ...:\n",
    "        return 0\n",
    "    \n",
    "    p_so_far = match1.prob_event(m1) # P(M1=m1)\n",
    "    \n",
    "    unique_values_seen = ...\n",
    "    \n",
    "    for i in np.arange(..., ...):\n",
    "        if ...:\n",
    "            p_so_far *= ...\n",
    "        else:\n",
    "            ...    \n",
    "    \n",
    "    return ..."
   ]
  },
  {
   "cell_type": "code",
   "execution_count": 38,
   "metadata": {
    "collapsed": false
   },
   "outputs": [],
   "source": [
    "_ = autograder.grade('q7')"
   ]
  },
  {
   "cell_type": "markdown",
   "metadata": {},
   "source": [
    "&zwnj;\n",
    "\n",
    "### Question 2.3\n",
    "\n",
    "We can construct a joint probability table of 2 random variables using the `prob140` library by calling `Table().values(\"Name_of_RV1\", values_of_RV1, \"Name_of_RV2\", values_of_RV2).probability_function(joint_func)`. Construct a joint distribution table called `joint_table` that contains the joint distribution table of $M_1$ and $M_2$\n",
    "\n",
    "Note that this make take a bit of time to run. How many possible values are there in the domain of this table?"
   ]
  },
  {
   "cell_type": "code",
   "execution_count": 39,
   "metadata": {
    "collapsed": false,
    "purpose": "solution"
   },
   "outputs": [],
   "source": [
    "joint_table = ...\n",
    "joint_table"
   ]
  },
  {
   "cell_type": "markdown",
   "metadata": {
    "purpose": "solution"
   },
   "source": [
    "\n",
    "### Question 2.4\n",
    "\n",
    "To convert our table into a JointDistribution object, we can call `joint_table.toJoint(reverse=False)`. Once we have the JointDistribution object, call `.both_marginals()` on it to view the marginal distribution of $M_1$ and $M_2$. (You might have to scroll down a lot.) Make sure the marginal distribution of $M_1$ is what you saw from before"
   ]
  },
  {
   "cell_type": "code",
   "execution_count": 41,
   "metadata": {
    "collapsed": true,
    "purpose": "solution"
   },
   "outputs": [],
   "source": [
    "joint_dist = ..."
   ]
  },
  {
   "cell_type": "code",
   "execution_count": null,
   "metadata": {
    "collapsed": true
   },
   "outputs": [],
   "source": [
    "joint_dist.both_marginals()"
   ]
  },
  {
   "cell_type": "markdown",
   "metadata": {},
   "source": [
    "&zwnj;\n",
    "\n",
    "### Question 2.5\n",
    "\n",
    "We can calculate the marginal distributions by calling `joint_distribution.marginal_dist(\"name_of_RV\")`. Set `match1_marginal` to be the marginal distribution of $M_1$ and `match2_marginal` to be the marginal distribution of $M_2$. Make sure `match1_marginal` contains the values you calculated in Part 1"
   ]
  },
  {
   "cell_type": "code",
   "execution_count": 43,
   "metadata": {
    "collapsed": false,
    "purpose": "solution"
   },
   "outputs": [],
   "source": [
    "match1_marginal = ...\n",
    "match1_marginal"
   ]
  },
  {
   "cell_type": "code",
   "execution_count": 45,
   "metadata": {
    "collapsed": false,
    "purpose": "solution"
   },
   "outputs": [],
   "source": [
    "match2_marginal = ...\n",
    "match2_marginal"
   ]
  },
  {
   "cell_type": "markdown",
   "metadata": {},
   "source": [
    "&zwnj;\n",
    "\n",
    "### Question 2.6\n",
    "\n",
    "Plot both $M_1$ and $M_2$ together using `Plots`. The syntax is `Plots(\"Name of RV1\", RV1, \"Name of RV2\", RV2, ...)`"
   ]
  },
  {
   "cell_type": "code",
   "execution_count": 47,
   "metadata": {
    "collapsed": false,
    "purpose": "solution"
   },
   "outputs": [],
   "source": [
    "\n",
    "# Again, feel free to play around with the limits of the x-axis\n",
    "plt.xlim(0,100);"
   ]
  },
  {
   "cell_type": "code",
   "execution_count": 49,
   "metadata": {
    "collapsed": false
   },
   "outputs": [],
   "source": [
    "_ = autograder.grade('q8')"
   ]
  },
  {
   "cell_type": "markdown",
   "metadata": {
    "purpose": "solution"
   },
   "source": [
    "\n",
    "### Question 2.7\n",
    "\n",
    "Which distribution has a lower peak? Why?\n",
    "\n",
    "*your answer here*"
   ]
  },
  {
   "cell_type": "markdown",
   "metadata": {},
   "source": [
    "You are now finished with the required portion of the lab! See the lab instructor to get checked off."
   ]
  },
  {
   "cell_type": "markdown",
   "metadata": {},
   "source": [
    "&zwnj;\n",
    "\n",
    "## Part 3 (OPTIONAL, EXTRA CREDIT!)"
   ]
  },
  {
   "cell_type": "markdown",
   "metadata": {},
   "source": [
    "As before, let $M_2$ be the number of guests you greet until the second match. In this part, you will calculate the distribution of $M_2$ in a different way. \n",
    "\n",
    "You can then code up your answer and check that it agrees with the distribution you found above, but you don't need to do the coding to get the extra credit.\n",
    "\n",
    "Let $D_n$ be the event that $n$ people all have different birthdays. In Part 1 you created the array `different` that contains $P(D_n)$ for all $n$ for which $D_n$ is possible."
   ]
  },
  {
   "cell_type": "markdown",
   "metadata": {
    "purpose": "solution"
   },
   "source": [
    "\n",
    "### Question 3.1\n",
    "Find the $x$ that makes the following statement true. Your answer will be in terms of $k$, which you can assume is a possible value of $M_2$.\n",
    "\n",
    "$$\n",
    "P(M_2 = k) = P(\\text{exactly 1 match through k-1 trials}) \\cdot \\frac{x}{365}\n",
    "$$"
   ]
  },
  {
   "cell_type": "markdown",
   "metadata": {
    "purpose": "solution"
   },
   "source": [
    "*Provide your answer and reasoning in this Markdown cell.*"
   ]
  },
  {
   "cell_type": "markdown",
   "metadata": {
    "purpose": "solution"
   },
   "source": [
    "\n",
    "### Question 3.2\n",
    "Suppose there are $n \\le 365$ people. Let $j$ be an integer such that $1 < j \\le n$. Let $E_{j,n}$ be the event \"matching birthday at person $j$, no other matches\".\n",
    "\n",
    "True or false: For fixed $n$, the $n-1$ events $E_{j,n}$ are mutually exclusive.\n",
    "\n"
   ]
  },
  {
   "cell_type": "markdown",
   "metadata": {
    "purpose": "solution"
   },
   "source": [
    "*Provide your answer and reasoning in this Markdown cell.*"
   ]
  },
  {
   "cell_type": "markdown",
   "metadata": {
    "purpose": "solution"
   },
   "source": [
    "\n",
    "### Question 3.3\n",
    "Show that $P(E_{j,n}) = P(D_{n-1}) \\cdot \\frac{j-1}{365}$\n",
    "\n",
    "[Hint: If you have trouble thinking about the event, find $P(E_{j,5})$ for each $j = 2, 3, 4, 5$. Don't simplify the fractions or products. Look at all four products. What similarities do you notice?]"
   ]
  },
  {
   "cell_type": "markdown",
   "metadata": {
    "purpose": "solution"
   },
   "source": [
    "*Provide your answer and reasoning in this Markdown cell.*"
   ]
  },
  {
   "cell_type": "markdown",
   "metadata": {
    "purpose": "solution"
   },
   "source": [
    "\n",
    "### Question 3.4\n",
    "Use 3.2 and 3.3 to show that\n",
    "$$\n",
    "P(\\text{exactly 1 match through n trials}) = \n",
    "P(D_{n-1}) \\cdot \\frac{(n-1)n}{2 \\times 365}\n",
    "$$\n",
    "\n",
    "Hint: You will need to use the arithmetic series formula: $$\\sum_{i=1}^na_i=\\frac{n(a_1+a_n)}{2}$$\n"
   ]
  },
  {
   "cell_type": "markdown",
   "metadata": {
    "purpose": "solution"
   },
   "source": [
    "*Provide your answer and reasoning in this Markdown cell.*"
   ]
  },
  {
   "cell_type": "markdown",
   "metadata": {
    "purpose": "solution"
   },
   "source": [
    "\n",
    "### Question 3.5\n",
    "\n",
    "Put 3.4 and 3.1 together to find the distribution of $M_2$. It's fine to leave your answers in terms of $P(D_n)$ for $2 \\le n \\le 365$."
   ]
  },
  {
   "cell_type": "markdown",
   "metadata": {
    "purpose": "solution"
   },
   "source": [
    "*Provide your answer and reasoning in this Markdown cell.*"
   ]
  },
  {
   "cell_type": "markdown",
   "metadata": {},
   "source": [
    "&zwnj;\n",
    "\n",
    "### Question 3.6 (OPTIONAL, UNGRADED)"
   ]
  },
  {
   "cell_type": "markdown",
   "metadata": {},
   "source": [
    "Use 3.1 - 3.5 to finish this code block to see if the distribution of $M_{2}$ visually agrees with what you found in 2.6."
   ]
  },
  {
   "cell_type": "code",
   "execution_count": 50,
   "metadata": {
    "collapsed": false,
    "purpose": "solution",
    "scrolled": true
   },
   "outputs": [],
   "source": [
    "\n",
    "match2 = Table().values(np.arange(1, 368))\n",
    "\n",
    "def p_all_different(n):\n",
    "    if (n < ...):\n",
    "        return ...\n",
    "    individuals_array = np.arange(n)\n",
    "    return np.prod((N - individuals_array)/N)\n",
    "\n",
    "different = match2.apply(p_all_different, 'Value')\n",
    "\n",
    "def p_exactly_one_match(j):\n",
    "    return different.item(...) * ...\n",
    "def prob_func_M2(i):\n",
    "    return ...\n",
    "    \n",
    "match2 = Table().values(...).probability_function(prob_func_M2)\n",
    "Plot(match2)\n",
    "plt.xlim(0, 100);"
   ]
  },
  {
   "cell_type": "code",
   "execution_count": 52,
   "metadata": {
    "collapsed": false,
    "scrolled": true
   },
   "outputs": [],
   "source": [
    "match2"
   ]
  },
  {
   "cell_type": "markdown",
   "metadata": {
    "collapsed": true
   },
   "source": [
    "## Submitting to Gradescope\n",
    "\n",
    "This semester, we will be grading Jupyter assignments using Gradescope and an export tool called `gsExport`. If you aren't enrolled in Prob140 on Gradescope, use entry code `9DRY49`. In order to submit your HW, \n",
    "\n",
    "1. Save the notebook using File->\"Save and Checkpoint\" (a keyboard shortcut is Control-S / Command-S )\n",
    "2. Run the 2 cells below\n",
    "3. If all went well, there should be a link called **Download this and submit to gradescope!**\n",
    "4. Download that PDF and submit to the Gradescope assignment: HW1\n",
    "\n",
    "If you are getting errors with this process, first double check that your LaTeX is correct, and if problems persist, please post on Piazza."
   ]
  },
  {
   "cell_type": "code",
   "execution_count": null,
   "metadata": {
    "collapsed": false
   },
   "outputs": [],
   "source": [
    "# For your convenience, you can run this cell to run all the tests at once!\n",
    "import os\n",
    "_ = [autograder.grade(q[:-3]) for q in os.listdir(\"tests\") if q.startswith('q')]"
   ]
  },
  {
   "cell_type": "code",
   "execution_count": null,
   "metadata": {
    "collapsed": true
   },
   "outputs": [],
   "source": [
    "import gsExport\n",
    "gsExport.generateSubmission()"
   ]
  }
 ],
 "metadata": {
  "anaconda-cloud": {},
  "kernelspec": {
   "display_name": "Python 3",
   "language": "python",
   "name": "python3"
  },
  "language_info": {
   "codemirror_mode": {
    "name": "ipython",
    "version": 3
   },
   "file_extension": ".py",
   "mimetype": "text/x-python",
   "name": "python",
   "nbconvert_exporter": "python",
   "pygments_lexer": "ipython3",
   "version": "3.6.0"
  }
 },
 "nbformat": 4,
 "nbformat_minor": 0
}
